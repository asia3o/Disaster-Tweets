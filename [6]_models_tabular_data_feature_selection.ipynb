{
 "cells": [
  {
   "cell_type": "code",
   "execution_count": 1,
   "metadata": {},
   "outputs": [],
   "source": [
    "import os\n",
    "from pathlib import Path\n",
    "import numpy as np\n",
    "import pandas as pd\n",
    "from collections import Counter\n",
    "\n",
    "pd.set_option(\"display.max_rows\", 500)\n",
    "pd.set_option(\"display.max_columns\", 500)\n",
    "pd.set_option(\"display.width\", 1000)\n",
    "pd.set_option(\"display.max_colwidth\", 1000)\n",
    "\n",
    "from sklearn.linear_model import LogisticRegression\n",
    "from sklearn.metrics import (\n",
    "    f1_score,\n",
    "    accuracy_score,\n",
    "    precision_score,\n",
    "    recall_score,\n",
    "    roc_auc_score,\n",
    ")\n",
    "from sklearn.model_selection import (\n",
    "    cross_val_score,\n",
    "    GridSearchCV,\n",
    "    StratifiedKFold,\n",
    "    train_test_split,\n",
    "    validation_curve,\n",
    ")\n",
    "from sklearn.preprocessing import StandardScaler, MinMaxScaler\n",
    "from xgboost.sklearn import XGBClassifier\n",
    "\n",
    "import matplotlib.pyplot as plt\n",
    "import seaborn as sns\n",
    "\n",
    "%matplotlib inline\n",
    "sns.set(rc={\"figure.figsize\":(15,7)}, style=\"whitegrid\")"
   ]
  },
  {
   "cell_type": "code",
   "execution_count": 2,
   "metadata": {},
   "outputs": [],
   "source": [
    "DATA_PATH = \"data/\"\n",
    "TRAIN_FEATURES = os.path.join(DATA_PATH, \"train_new_features.csv\")"
   ]
  },
  {
   "cell_type": "code",
   "execution_count": 3,
   "metadata": {},
   "outputs": [],
   "source": [
    "train_df = pd.read_csv(TRAIN_FEATURES, index_col=0, encoding=\"utf-8\")"
   ]
  },
  {
   "cell_type": "code",
   "execution_count": 4,
   "metadata": {
    "scrolled": false
   },
   "outputs": [
    {
     "data": {
      "text/html": [
       "<div>\n",
       "<style scoped>\n",
       "    .dataframe tbody tr th:only-of-type {\n",
       "        vertical-align: middle;\n",
       "    }\n",
       "\n",
       "    .dataframe tbody tr th {\n",
       "        vertical-align: top;\n",
       "    }\n",
       "\n",
       "    .dataframe thead th {\n",
       "        text-align: right;\n",
       "    }\n",
       "</style>\n",
       "<table border=\"1\" class=\"dataframe\">\n",
       "  <thead>\n",
       "    <tr style=\"text-align: right;\">\n",
       "      <th></th>\n",
       "      <th>text</th>\n",
       "      <th>target</th>\n",
       "      <th>text_cleaned</th>\n",
       "      <th>preprocessed_text</th>\n",
       "      <th>sentence_count</th>\n",
       "      <th>word_count</th>\n",
       "      <th>stop_word_count</th>\n",
       "      <th>stop_word_share</th>\n",
       "      <th>url_count</th>\n",
       "      <th>mean_word_length</th>\n",
       "      <th>char_count</th>\n",
       "      <th>punctuation_count</th>\n",
       "      <th>hashtag_count</th>\n",
       "      <th>mention_count</th>\n",
       "      <th>polarity_raw</th>\n",
       "      <th>subjectivity_raw</th>\n",
       "      <th>unique_word_count</th>\n",
       "      <th>unique_word_share</th>\n",
       "      <th>polarity</th>\n",
       "      <th>subjectivity</th>\n",
       "      <th>DT</th>\n",
       "      <th>NN</th>\n",
       "      <th>PRP$</th>\n",
       "      <th>NNS</th>\n",
       "      <th>VBP</th>\n",
       "      <th>IN</th>\n",
       "      <th>MD</th>\n",
       "      <th>VB</th>\n",
       "      <th>JJ</th>\n",
       "      <th>PRP</th>\n",
       "      <th>JJS</th>\n",
       "      <th>VBN</th>\n",
       "      <th>VBD</th>\n",
       "      <th>TO</th>\n",
       "      <th>VBG</th>\n",
       "      <th>CC</th>\n",
       "      <th>RB</th>\n",
       "      <th>EX</th>\n",
       "      <th>VBZ</th>\n",
       "      <th>CD</th>\n",
       "      <th>WP</th>\n",
       "      <th>RP</th>\n",
       "      <th>JJR</th>\n",
       "      <th>WRB</th>\n",
       "      <th>FW</th>\n",
       "      <th>WDT</th>\n",
       "      <th>NNP</th>\n",
       "      <th>RBR</th>\n",
       "      <th>RBS</th>\n",
       "      <th>PDT</th>\n",
       "      <th>SYM</th>\n",
       "      <th>UH</th>\n",
       "      <th>WP$</th>\n",
       "    </tr>\n",
       "  </thead>\n",
       "  <tbody>\n",
       "    <tr>\n",
       "      <th>0</th>\n",
       "      <td>Our Deeds are the Reason of this #earthquake May ALLAH Forgive us all</td>\n",
       "      <td>1</td>\n",
       "      <td>our deeds are the reason of this earthquake may allah forgive us all</td>\n",
       "      <td>deed reason earthquake allah forgive</td>\n",
       "      <td>1</td>\n",
       "      <td>13</td>\n",
       "      <td>6</td>\n",
       "      <td>0.461538</td>\n",
       "      <td>0</td>\n",
       "      <td>4.384615</td>\n",
       "      <td>69</td>\n",
       "      <td>1</td>\n",
       "      <td>1</td>\n",
       "      <td>0</td>\n",
       "      <td>0.0</td>\n",
       "      <td>0.0</td>\n",
       "      <td>5</td>\n",
       "      <td>1.0</td>\n",
       "      <td>0.0</td>\n",
       "      <td>0.0</td>\n",
       "      <td>3.0</td>\n",
       "      <td>2.0</td>\n",
       "      <td>1.0</td>\n",
       "      <td>1.0</td>\n",
       "      <td>1.0</td>\n",
       "      <td>1.0</td>\n",
       "      <td>1.0</td>\n",
       "      <td>1.0</td>\n",
       "      <td>1.0</td>\n",
       "      <td>1.0</td>\n",
       "      <td>0.0</td>\n",
       "      <td>0.0</td>\n",
       "      <td>0.0</td>\n",
       "      <td>0.0</td>\n",
       "      <td>0.0</td>\n",
       "      <td>0.0</td>\n",
       "      <td>0.0</td>\n",
       "      <td>0.0</td>\n",
       "      <td>0.0</td>\n",
       "      <td>0.0</td>\n",
       "      <td>0.0</td>\n",
       "      <td>0.0</td>\n",
       "      <td>0.0</td>\n",
       "      <td>0.0</td>\n",
       "      <td>0.0</td>\n",
       "      <td>0.0</td>\n",
       "      <td>0.0</td>\n",
       "      <td>0.0</td>\n",
       "      <td>0.0</td>\n",
       "      <td>0.0</td>\n",
       "      <td>0.0</td>\n",
       "      <td>0.0</td>\n",
       "      <td>0.0</td>\n",
       "    </tr>\n",
       "    <tr>\n",
       "      <th>1</th>\n",
       "      <td>Forest fire near La Ronge Sask. Canada</td>\n",
       "      <td>1</td>\n",
       "      <td>forest fire near la ronge sask canada</td>\n",
       "      <td>forest fire near la ronge sask canada</td>\n",
       "      <td>1</td>\n",
       "      <td>7</td>\n",
       "      <td>0</td>\n",
       "      <td>0.000000</td>\n",
       "      <td>0</td>\n",
       "      <td>4.571429</td>\n",
       "      <td>38</td>\n",
       "      <td>1</td>\n",
       "      <td>0</td>\n",
       "      <td>0</td>\n",
       "      <td>0.1</td>\n",
       "      <td>0.4</td>\n",
       "      <td>7</td>\n",
       "      <td>1.0</td>\n",
       "      <td>0.1</td>\n",
       "      <td>0.4</td>\n",
       "      <td>0.0</td>\n",
       "      <td>4.0</td>\n",
       "      <td>0.0</td>\n",
       "      <td>0.0</td>\n",
       "      <td>0.0</td>\n",
       "      <td>1.0</td>\n",
       "      <td>0.0</td>\n",
       "      <td>0.0</td>\n",
       "      <td>1.0</td>\n",
       "      <td>0.0</td>\n",
       "      <td>1.0</td>\n",
       "      <td>0.0</td>\n",
       "      <td>0.0</td>\n",
       "      <td>0.0</td>\n",
       "      <td>0.0</td>\n",
       "      <td>0.0</td>\n",
       "      <td>0.0</td>\n",
       "      <td>0.0</td>\n",
       "      <td>0.0</td>\n",
       "      <td>0.0</td>\n",
       "      <td>0.0</td>\n",
       "      <td>0.0</td>\n",
       "      <td>0.0</td>\n",
       "      <td>0.0</td>\n",
       "      <td>0.0</td>\n",
       "      <td>0.0</td>\n",
       "      <td>0.0</td>\n",
       "      <td>0.0</td>\n",
       "      <td>0.0</td>\n",
       "      <td>0.0</td>\n",
       "      <td>0.0</td>\n",
       "      <td>0.0</td>\n",
       "      <td>0.0</td>\n",
       "    </tr>\n",
       "  </tbody>\n",
       "</table>\n",
       "</div>"
      ],
      "text/plain": [
       "                                                                    text  target                                                          text_cleaned                      preprocessed_text  sentence_count  word_count  stop_word_count  stop_word_share  url_count  mean_word_length  char_count  punctuation_count  hashtag_count  mention_count  polarity_raw  subjectivity_raw  unique_word_count  unique_word_share  polarity  subjectivity   DT   NN  PRP$  NNS  VBP   IN   MD   VB   JJ  PRP  JJS  VBN  VBD   TO  VBG   CC   RB   EX  VBZ   CD   WP   RP  JJR  WRB   FW  WDT  NNP  RBR  RBS  PDT  SYM   UH  WP$\n",
       "0  Our Deeds are the Reason of this #earthquake May ALLAH Forgive us all       1  our deeds are the reason of this earthquake may allah forgive us all   deed reason earthquake allah forgive               1          13                6         0.461538          0          4.384615          69                  1              1              0           0.0               0.0                  5                1.0       0.0           0.0  3.0  2.0   1.0  1.0  1.0  1.0  1.0  1.0  1.0  1.0  0.0  0.0  0.0  0.0  0.0  0.0  0.0  0.0  0.0  0.0  0.0  0.0  0.0  0.0  0.0  0.0  0.0  0.0  0.0  0.0  0.0  0.0  0.0\n",
       "1                                 Forest fire near La Ronge Sask. Canada       1                                 forest fire near la ronge sask canada  forest fire near la ronge sask canada               1           7                0         0.000000          0          4.571429          38                  1              0              0           0.1               0.4                  7                1.0       0.1           0.4  0.0  4.0   0.0  0.0  0.0  1.0  0.0  0.0  1.0  0.0  1.0  0.0  0.0  0.0  0.0  0.0  0.0  0.0  0.0  0.0  0.0  0.0  0.0  0.0  0.0  0.0  0.0  0.0  0.0  0.0  0.0  0.0  0.0"
      ]
     },
     "execution_count": 4,
     "metadata": {},
     "output_type": "execute_result"
    }
   ],
   "source": [
    "train_df.head(2)"
   ]
  },
  {
   "cell_type": "markdown",
   "metadata": {},
   "source": [
    "## Data preparation"
   ]
  },
  {
   "cell_type": "markdown",
   "metadata": {},
   "source": [
    "We can drop features that we selected before.\n",
    "Features that are linearly dependent might have caused troubles in training linear models such as Logistic Regression."
   ]
  },
  {
   "cell_type": "code",
   "execution_count": 5,
   "metadata": {},
   "outputs": [],
   "source": [
    "drop_low_varience = [\n",
    "    \"SYM\",\n",
    "    \"WP$\",\n",
    "    \"UH\",\n",
    "    \"FW\",\n",
    "    \"RBS\",\n",
    "    \"NNP\",\n",
    "    \"sentence_count\",\n",
    "    \"unique_word_share\",\n",
    "    \"EX\",\n",
    "    \"punctuation_count\",\n",
    "    \"WP\",\n",
    "    \"CD\",\n",
    "    \"PRP$\",\n",
    "    \"hashtag_count\",\n",
    "    \"mention_count\",\n",
    "]\n",
    "drop_high_corr = [\"char_count\", \"stop_word_count\", \"unique_word_count\"]"
   ]
  },
  {
   "cell_type": "code",
   "execution_count": 6,
   "metadata": {},
   "outputs": [
    {
     "name": "stdout",
     "output_type": "stream",
     "text": [
      "Number of columns in train set: 32\n"
     ]
    }
   ],
   "source": [
    "train_df.drop([\"text\", \"text_cleaned\", \"preprocessed_text\"], axis=1, inplace=True)\n",
    "train_df.drop(drop_low_varience, axis=1, inplace=True)\n",
    "train_df.drop(drop_high_corr, axis=1, inplace=True)\n",
    "\n",
    "print(\"Number of columns in train set: {}\".format(len(list(train_df))))"
   ]
  },
  {
   "cell_type": "code",
   "execution_count": 7,
   "metadata": {},
   "outputs": [
    {
     "name": "stdout",
     "output_type": "stream",
     "text": [
      "No missing values in data\n"
     ]
    }
   ],
   "source": [
    "if train_df.isnull().any().any():\n",
    "    print(\"Found missing values in data\")\n",
    "else:\n",
    "    print(\"No missing values in data\")"
   ]
  },
  {
   "cell_type": "code",
   "execution_count": 8,
   "metadata": {},
   "outputs": [],
   "source": [
    "train = train_df.drop(\"target\", axis=1)\n",
    "y = train_df[\"target\"]\n",
    "X_train, X_test, y_train, y_test = train_test_split(\n",
    "    train, y, test_size=0.3, random_state=13, stratify=y\n",
    ")"
   ]
  },
  {
   "cell_type": "code",
   "execution_count": 9,
   "metadata": {},
   "outputs": [
    {
     "data": {
      "text/plain": [
       "((5264, 31), (2256, 31))"
      ]
     },
     "execution_count": 9,
     "metadata": {},
     "output_type": "execute_result"
    }
   ],
   "source": [
    "X_train.shape, X_test.shape"
   ]
  },
  {
   "cell_type": "code",
   "execution_count": 10,
   "metadata": {},
   "outputs": [],
   "source": [
    "sc = StandardScaler()\n",
    "X_train_scaled = X_train.copy()\n",
    "X_train_scaled.loc[:, list(X_train_scaled)] = sc.fit_transform(\n",
    "    X_train_scaled[list(X_train_scaled)]\n",
    ")\n",
    "X_test_scaled = X_test.copy()\n",
    "X_test_scaled.loc[:, list(X_test_scaled)] = sc.transform(\n",
    "    X_test_scaled[list(X_test_scaled)]\n",
    ")"
   ]
  },
  {
   "cell_type": "markdown",
   "metadata": {},
   "source": [
    "## Approaches\n",
    " - linear model (Logistic Regression),\n",
    " - boosting (XGBoost)"
   ]
  },
  {
   "cell_type": "markdown",
   "metadata": {},
   "source": [
    "**Define evaluation procedure.**\n",
    "\n",
    "We will use repeated cross-validation to evaluate the model, with 5-fold cross-validation."
   ]
  },
  {
   "cell_type": "code",
   "execution_count": 11,
   "metadata": {},
   "outputs": [],
   "source": [
    "kf = StratifiedKFold(n_splits=5, random_state=13, shuffle=True)"
   ]
  },
  {
   "cell_type": "markdown",
   "metadata": {},
   "source": [
    "**Define functions for reports with numbers and plots.**"
   ]
  },
  {
   "cell_type": "markdown",
   "metadata": {},
   "source": [
    "```The leaderboard is based on Mean F-Score which can be implemented with Macro Average F1 Score.```"
   ]
  },
  {
   "cell_type": "code",
   "execution_count": 12,
   "metadata": {},
   "outputs": [],
   "source": [
    "def plot_cv_with_err(model, data_X, data_y, parameter_name, params, cv_score, **kwargs):\n",
    "\n",
    "    \"\"\"Plot results of cv_output_all\"\"\"\n",
    "\n",
    "    val_train, val_test = validation_curve(\n",
    "        model,\n",
    "        data_X,\n",
    "        data_y,\n",
    "        param_name=parameter_name,\n",
    "        param_range=params,\n",
    "        cv=kf,\n",
    "        scoring=cv_score,\n",
    "    )\n",
    "\n",
    "    means_train = np.mean(val_train, axis=1)\n",
    "    stds_train = np.std(val_train, axis=1)\n",
    "    means_test = np.mean(val_test, axis=1)\n",
    "    stds_test = np.std(val_test, axis=1)\n",
    "\n",
    "    lines_train = plt.plot(\n",
    "        params, means_train, \"-\", label=\"CV training scores on train set\", **kwargs\n",
    "    )\n",
    "    lines_test = plt.plot(\n",
    "        params, means_test, \"-\", label=\"CV validation scores on train set\", **kwargs\n",
    "    )\n",
    "\n",
    "    plt.fill_between(\n",
    "        params,\n",
    "        means_train - stds_train,\n",
    "        means_train + stds_train,\n",
    "        edgecolor=\"none\",\n",
    "        facecolor=lines_train[0].get_color(),\n",
    "        alpha=0.2,\n",
    "    )\n",
    "    plt.fill_between(\n",
    "        params,\n",
    "        means_test - stds_test,\n",
    "        means_test + stds_test,\n",
    "        edgecolor=\"none\",\n",
    "        facecolor=lines_test[0].get_color(),\n",
    "        alpha=0.2,\n",
    "    )"
   ]
  },
  {
   "cell_type": "code",
   "execution_count": 13,
   "metadata": {},
   "outputs": [],
   "source": [
    "def cv_output_all(model, data_X, data_y, parameter_name, params, cv_score):\n",
    "\n",
    "    \"\"\"Same as plot_cv_with_err\"\"\"\n",
    "\n",
    "    val_train, val_test = validation_curve(\n",
    "        model,\n",
    "        data_X,\n",
    "        data_y,\n",
    "        param_name=parameter_name,\n",
    "        param_range=params,\n",
    "        cv=kf,\n",
    "        scoring=cv_score,\n",
    "    )\n",
    "    means_train = np.mean(val_train, axis=1)\n",
    "    stds_train = np.std(val_train, axis=1)\n",
    "    means_test = np.mean(val_test, axis=1)\n",
    "    stds_test = np.std(val_test, axis=1)\n",
    "\n",
    "    print(\"                                    CV scores on Train set\")\n",
    "    print(\n",
    "        \"================================================================================================\"\n",
    "    )\n",
    "    print(\n",
    "        \"  mean_train_score (std_train_score) | mean_valid_score (std_valid_score) |      parameter\"\n",
    "    )\n",
    "    print(\n",
    "        \"================================================================================================\"\n",
    "    )\n",
    "    for mean_tr, stdev_tr, mean_te, stdev_te, param in zip(\n",
    "        means_train, stds_train, means_test, stds_test, params\n",
    "    ):\n",
    "        print(\n",
    "            \"    {:^{width}.{prec}}  ({:^{width}.{prec}}) |   {:^{width}.{prec}}  ({:^{width}.{prec}}) | {:{align}} = {:{align}.{prec}}\".format(\n",
    "                mean_tr,\n",
    "                stdev_tr,\n",
    "                mean_te,\n",
    "                stdev_te,\n",
    "                parameter_name,\n",
    "                param,\n",
    "                align=\"<\",\n",
    "                width=\"14\",\n",
    "                prec=5,\n",
    "            )\n",
    "        )"
   ]
  },
  {
   "cell_type": "markdown",
   "metadata": {},
   "source": [
    "## Logistic Regression"
   ]
  },
  {
   "cell_type": "markdown",
   "metadata": {},
   "source": [
    "### Baseline model."
   ]
  },
  {
   "cell_type": "markdown",
   "metadata": {},
   "source": [
    "**Define model.**"
   ]
  },
  {
   "cell_type": "code",
   "execution_count": 14,
   "metadata": {},
   "outputs": [],
   "source": [
    "lr = LogisticRegression(\n",
    "    solver=\"liblinear\", penalty=\"l2\", C=1e5, class_weight=\"balanced\", random_state=13\n",
    ")"
   ]
  },
  {
   "cell_type": "code",
   "execution_count": 15,
   "metadata": {},
   "outputs": [
    {
     "data": {
      "text/plain": [
       "LogisticRegression(C=100000.0, class_weight='balanced', random_state=13,\n",
       "                   solver='liblinear')"
      ]
     },
     "execution_count": 15,
     "metadata": {},
     "output_type": "execute_result"
    }
   ],
   "source": [
    "lr.fit(X_train_scaled, y_train)"
   ]
  },
  {
   "cell_type": "markdown",
   "metadata": {},
   "source": [
    "**Evaluate model, establish a baseline.**"
   ]
  },
  {
   "cell_type": "code",
   "execution_count": 16,
   "metadata": {},
   "outputs": [
    {
     "name": "stdout",
     "output_type": "stream",
     "text": [
      "f1_score (train set): 0.67459\n",
      "\n",
      "f1_score (test set):  0.64585\n"
     ]
    }
   ],
   "source": [
    "print(\n",
    "    \"f1_score (train set): {:.5}\".format(\n",
    "        f1_score(y_train, lr.predict(X_train_scaled), average=\"macro\")\n",
    "    )\n",
    ")\n",
    "\n",
    "print(\n",
    "    \"\\nf1_score (test set):  {:.5}\".format(\n",
    "        f1_score(y_test, lr.predict(X_test_scaled), average=\"macro\")\n",
    "    )\n",
    ")"
   ]
  },
  {
   "cell_type": "code",
   "execution_count": 17,
   "metadata": {},
   "outputs": [
    {
     "data": {
      "image/png": "[encoded data removed]",
      "text/plain": [
       "<Figure size 1080x504 with 1 Axes>"
      ]
     },
     "metadata": {},
     "output_type": "display_data"
    }
   ],
   "source": [
    "plot_cv_with_err(\n",
    "    model=lr,\n",
    "    data_X=X_train_scaled,\n",
    "    data_y=y_train,\n",
    "    parameter_name=\"C\",\n",
    "    params=np.logspace(-2, 2, 10),\n",
    "    cv_score=\"f1_macro\",\n",
    ")\n",
    "\n",
    "plt.xlabel(\"$C$ - coefficient of regularization\")\n",
    "plt.ylabel(\"F1-score\")\n",
    "plt.legend(loc=\"best\")\n",
    "plt.grid(True)"
   ]
  },
  {
   "cell_type": "markdown",
   "metadata": {},
   "source": [
    "### Hyperparameter optimization."
   ]
  },
  {
   "cell_type": "code",
   "execution_count": 18,
   "metadata": {},
   "outputs": [
    {
     "name": "stdout",
     "output_type": "stream",
     "text": [
      "Fitting 5 folds for each of 20 candidates, totalling 100 fits\n"
     ]
    },
    {
     "name": "stderr",
     "output_type": "stream",
     "text": [
      "[Parallel(n_jobs=1)]: Using backend SequentialBackend with 1 concurrent workers.\n"
     ]
    },
    {
     "name": "stdout",
     "output_type": "stream",
     "text": [
      "CPU times: user 11.8 s, sys: 452 ms, total: 12.2 s\n",
      "Wall time: 6.23 s\n",
      "\n",
      "Best_params: {'C': 0.21544346900318834, 'penalty': 'l2'}, best_score: 0.67115\n"
     ]
    },
    {
     "name": "stderr",
     "output_type": "stream",
     "text": [
      "[Parallel(n_jobs=1)]: Done 100 out of 100 | elapsed:    6.2s finished\n"
     ]
    }
   ],
   "source": [
    "lr_1 = LogisticRegression(solver=\"liblinear\", class_weight=\"balanced\", random_state=13)\n",
    "\n",
    "lr_param_grid_1 = {\"penalty\": [\"l1\", \"l2\"], \"C\": np.logspace(-2, 2, 10)}\n",
    "\n",
    "lr_clf_1 = GridSearchCV(\n",
    "    estimator=lr_1, cv=kf, param_grid=lr_param_grid_1, scoring=\"f1_macro\", verbose=1\n",
    ")\n",
    "\n",
    "%time  lr_clf_1.fit(X_train_scaled, y_train)\n",
    "\n",
    "print(\n",
    "    \"\\nBest_params: {}, best_score: {:.5}\".format(\n",
    "        lr_clf_1.best_params_, lr_clf_1.best_score_\n",
    "    )\n",
    ")"
   ]
  },
  {
   "cell_type": "code",
   "execution_count": 19,
   "metadata": {},
   "outputs": [
    {
     "name": "stderr",
     "output_type": "stream",
     "text": [
      "[Parallel(n_jobs=1)]: Using backend SequentialBackend with 1 concurrent workers.\n"
     ]
    },
    {
     "name": "stdout",
     "output_type": "stream",
     "text": [
      "Fitting 5 folds for each of 40 candidates, totalling 200 fits\n",
      "CPU times: user 14.8 s, sys: 472 ms, total: 15.3 s\n",
      "Wall time: 7.67 s\n",
      "\n",
      "Best_params: {'C': 0.2573846153846154, 'penalty': 'l2'}, best_score: 0.67153\n"
     ]
    },
    {
     "name": "stderr",
     "output_type": "stream",
     "text": [
      "[Parallel(n_jobs=1)]: Done 200 out of 200 | elapsed:    7.6s finished\n"
     ]
    }
   ],
   "source": [
    "lr_2 = LogisticRegression(solver=\"liblinear\", class_weight=\"balanced\", random_state=13)\n",
    "\n",
    "lr_param_grid_2 = {\"penalty\": [\"l2\"], \"C\": np.linspace(0.001, 10, 40)}\n",
    "\n",
    "lr_clf_2 = GridSearchCV(\n",
    "    estimator=lr_2, cv=kf, param_grid=lr_param_grid_2, scoring=\"f1_macro\", verbose=1\n",
    ")\n",
    "\n",
    "%time  lr_clf_2.fit(X_train_scaled, y_train)\n",
    "\n",
    "print(\n",
    "    \"\\nBest_params: {}, best_score: {:.5}\".format(\n",
    "        lr_clf_2.best_params_, lr_clf_2.best_score_\n",
    "    )\n",
    ")"
   ]
  },
  {
   "cell_type": "markdown",
   "metadata": {},
   "source": [
    "### Final model."
   ]
  },
  {
   "cell_type": "code",
   "execution_count": 20,
   "metadata": {},
   "outputs": [
    {
     "name": "stdout",
     "output_type": "stream",
     "text": [
      "CPU times: user 136 ms, sys: 8.02 ms, total: 144 ms\n",
      "Wall time: 72.7 ms\n"
     ]
    },
    {
     "data": {
      "text/plain": [
       "LogisticRegression(C=1.8, class_weight='balanced', random_state=13,\n",
       "                   solver='liblinear')"
      ]
     },
     "execution_count": 20,
     "metadata": {},
     "output_type": "execute_result"
    }
   ],
   "source": [
    "lr_final = LogisticRegression(\n",
    "    C=1.8, penalty=\"l2\", solver=\"liblinear\", class_weight=\"balanced\", random_state=13\n",
    ")\n",
    "\n",
    "%time lr_final.fit(X_train_scaled, y_train)"
   ]
  },
  {
   "cell_type": "markdown",
   "metadata": {},
   "source": [
    "**Evaluate model.**"
   ]
  },
  {
   "cell_type": "code",
   "execution_count": 21,
   "metadata": {},
   "outputs": [
    {
     "name": "stdout",
     "output_type": "stream",
     "text": [
      "f1_score (train set): 0.67476\n",
      "\n",
      "f1_score (test set):  0.64542\n"
     ]
    }
   ],
   "source": [
    "print(\n",
    "    \"f1_score (train set): {:.5}\".format(\n",
    "        f1_score(y_train, lr_final.predict(X_train_scaled), average=\"macro\")\n",
    "    )\n",
    ")\n",
    "\n",
    "print(\n",
    "    \"\\nf1_score (test set):  {:.5}\".format(\n",
    "        f1_score(y_test, lr_final.predict(X_test_scaled), average=\"macro\")\n",
    "    )\n",
    ")"
   ]
  },
  {
   "cell_type": "code",
   "execution_count": 22,
   "metadata": {},
   "outputs": [
    {
     "data": {
      "image/png": "[encoded data removed]",
      "text/plain": [
       "<Figure size 1080x504 with 1 Axes>"
      ]
     },
     "metadata": {},
     "output_type": "display_data"
    }
   ],
   "source": [
    "plot_cv_with_err(\n",
    "    model=lr_final,\n",
    "    data_X=X_train_scaled,\n",
    "    data_y=y_train,\n",
    "    parameter_name=\"C\",\n",
    "    params=np.logspace(-2, 2, 10),\n",
    "    cv_score=\"f1_macro\",\n",
    ")\n",
    "\n",
    "plt.xlabel(\"$C$ - coefficient of regularization\")\n",
    "plt.ylabel(\"F1-score\")\n",
    "plt.legend(loc=\"best\")\n",
    "plt.grid(True)"
   ]
  },
  {
   "cell_type": "markdown",
   "metadata": {},
   "source": [
    "The trend is quite visible.\n",
    "\n",
    "Training and validation errors differ significantly. This can be explained by **overfitting**. When there are too many parameters or regularization is not strict enough, the algorithm can be \"distracted\" by the noise in the data and lose track of the overall trend."
   ]
  },
  {
   "cell_type": "markdown",
   "metadata": {},
   "source": [
    "Our model tend to be overfitted."
   ]
  },
  {
   "cell_type": "code",
   "execution_count": 23,
   "metadata": {},
   "outputs": [
    {
     "name": "stdout",
     "output_type": "stream",
     "text": [
      "                                    CV scores on Train set\n",
      "================================================================================================\n",
      "  mean_train_score (std_train_score) | mean_valid_score (std_valid_score) |      parameter\n",
      "================================================================================================\n",
      "       0.67152      (   0.001734   ) |      0.66919      (   0.006967   ) | C = 0.001\n",
      "       0.67614      (  0.0019721   ) |      0.67101      (  0.0081786   ) | C = 0.12918\n",
      "        0.6761      (  0.0020126   ) |      0.67153      (  0.0088489   ) | C = 0.25736\n",
      "       0.67648      (    0.0023    ) |      0.67039      (  0.0085871   ) | C = 0.38554\n",
      "       0.67628      (  0.0022031   ) |      0.67093      (  0.0083304   ) | C = 0.51372\n",
      "       0.67642      (  0.0022355   ) |      0.67095      (   0.008097   ) | C = 0.6419\n",
      "       0.67633      (  0.0021838   ) |      0.67077      (  0.0083319   ) | C = 0.77008\n",
      "       0.67633      (  0.0020785   ) |      0.67113      (  0.0081857   ) | C = 0.89826\n",
      "       0.67638      (  0.0022368   ) |      0.67095      (  0.0084221   ) | C = 1.0264\n",
      "       0.67638      (   0.002293   ) |      0.67059      (  0.0082567   ) | C = 1.1546\n",
      "       0.67648      (  0.0024419   ) |      0.67059      (  0.0082567   ) | C = 1.2828\n",
      "       0.67652      (  0.0025117   ) |      0.67077      (  0.0085643   ) | C = 1.411\n",
      "       0.67652      (  0.0025117   ) |      0.67077      (  0.0085643   ) | C = 1.5392\n",
      "       0.67652      (  0.0025117   ) |      0.67077      (  0.0085643   ) | C = 1.6673\n",
      "       0.67652      (   0.002642   ) |      0.67077      (  0.0085643   ) | C = 1.7955\n",
      "       0.67652      (   0.002642   ) |      0.67077      (  0.0085643   ) | C = 1.9237\n",
      "       0.67656      (  0.0026344   ) |      0.67077      (  0.0085643   ) | C = 2.0519\n",
      "       0.67656      (  0.0026344   ) |      0.67077      (  0.0085643   ) | C = 2.1801\n",
      "       0.67656      (  0.0026344   ) |      0.67077      (  0.0085643   ) | C = 2.3082\n",
      "       0.67661      (  0.0025796   ) |      0.67096      (   0.008318   ) | C = 2.4364\n",
      "       0.67665      (  0.0026095   ) |      0.67096      (   0.008318   ) | C = 2.5646\n",
      "        0.6767      (  0.0026033   ) |      0.67096      (   0.008318   ) | C = 2.6928\n",
      "        0.6767      (  0.0026033   ) |      0.67096      (   0.008318   ) | C = 2.8209\n",
      "       0.67675      (  0.0026802   ) |      0.67096      (   0.008318   ) | C = 2.9491\n",
      "       0.67675      (  0.0026802   ) |      0.67096      (   0.008318   ) | C = 3.0773\n",
      "       0.67675      (  0.0026802   ) |      0.67096      (   0.008318   ) | C = 3.2055\n",
      "       0.67675      (  0.0026802   ) |      0.67096      (   0.008318   ) | C = 3.3337\n",
      "       0.67675      (  0.0026802   ) |      0.67096      (   0.008318   ) | C = 3.4618\n",
      "        0.6767      (  0.0026528   ) |      0.67096      (   0.008318   ) | C = 3.59\n",
      "       0.67675      (  0.0026496   ) |      0.67096      (   0.008318   ) | C = 3.7182\n",
      "       0.67675      (  0.0026496   ) |      0.67096      (   0.008318   ) | C = 3.8464\n",
      "       0.67675      (  0.0026496   ) |      0.67096      (   0.008318   ) | C = 3.9746\n",
      "       0.67675      (  0.0026496   ) |      0.67096      (   0.008318   ) | C = 4.1027\n",
      "       0.67675      (  0.0026496   ) |      0.67096      (   0.008318   ) | C = 4.2309\n",
      "       0.67675      (  0.0026496   ) |      0.67096      (   0.008318   ) | C = 4.3591\n",
      "       0.67675      (  0.0026496   ) |      0.67078      (   0.008404   ) | C = 4.4873\n",
      "       0.67675      (  0.0026496   ) |      0.67078      (   0.008404   ) | C = 4.6155\n",
      "       0.67675      (  0.0026496   ) |      0.67078      (   0.008404   ) | C = 4.7436\n",
      "       0.67675      (  0.0026496   ) |      0.67078      (   0.008404   ) | C = 4.8718\n",
      "       0.67675      (  0.0026496   ) |      0.67078      (   0.008404   ) | C = 5.0\n"
     ]
    }
   ],
   "source": [
    "cv_output_all(\n",
    "    model=lr_final,\n",
    "    data_X=X_train_scaled,\n",
    "    data_y=y_train,\n",
    "    parameter_name=\"C\",\n",
    "    params=np.linspace(0.001, 5, 40),\n",
    "    cv_score=\"f1_macro\",\n",
    ")"
   ]
  },
  {
   "cell_type": "markdown",
   "metadata": {},
   "source": [
    "## XGBoost Classifier"
   ]
  },
  {
   "cell_type": "markdown",
   "metadata": {},
   "source": [
    "### Baseline model."
   ]
  },
  {
   "cell_type": "markdown",
   "metadata": {},
   "source": [
    "Before any modification or tuning is made to the XGBoost algorithm for imbalanced classification, it is important to test the default XGBoost model and **establish a baseline in performance**."
   ]
  },
  {
   "cell_type": "markdown",
   "metadata": {},
   "source": [
    "**Define model.**"
   ]
  },
  {
   "cell_type": "code",
   "execution_count": 24,
   "metadata": {},
   "outputs": [],
   "source": [
    "xgb = XGBClassifier(objective=\"binary:logistic\", booster=\"gbtree\", random_state=13)"
   ]
  },
  {
   "cell_type": "markdown",
   "metadata": {},
   "source": [
    "**Fit model (optimize model loss function).**"
   ]
  },
  {
   "cell_type": "code",
   "execution_count": 25,
   "metadata": {},
   "outputs": [
    {
     "data": {
      "text/plain": [
       "XGBClassifier(base_score=0.5, booster='gbtree', colsample_bylevel=1,\n",
       "              colsample_bynode=1, colsample_bytree=1, gamma=0, gpu_id=-1,\n",
       "              importance_type='gain', interaction_constraints='',\n",
       "              learning_rate=0.300000012, max_delta_step=0, max_depth=6,\n",
       "              min_child_weight=1, missing=nan, monotone_constraints='()',\n",
       "              n_estimators=100, n_jobs=0, num_parallel_tree=1, random_state=13,\n",
       "              reg_alpha=0, reg_lambda=1, scale_pos_weight=1, subsample=1,\n",
       "              tree_method='exact', validate_parameters=1, verbosity=None)"
      ]
     },
     "execution_count": 25,
     "metadata": {},
     "output_type": "execute_result"
    }
   ],
   "source": [
    "xgb.fit(X_train, y_train)"
   ]
  },
  {
   "cell_type": "markdown",
   "metadata": {},
   "source": [
    "**Evaluate model, establish a baseline.**"
   ]
  },
  {
   "cell_type": "code",
   "execution_count": 26,
   "metadata": {},
   "outputs": [
    {
     "name": "stdout",
     "output_type": "stream",
     "text": [
      "f1_score (train set): 0.94174\n",
      "\n",
      "f1_score (test set):  0.68562\n"
     ]
    }
   ],
   "source": [
    "print(\n",
    "    \"f1_score (train set): {:.5}\".format(\n",
    "        f1_score(y_train, xgb.predict(X_train), average=\"macro\")\n",
    "    )\n",
    ")\n",
    "\n",
    "print(\n",
    "    \"\\nf1_score (test set):  {:.5}\".format(\n",
    "        f1_score(y_test, xgb.predict(X_test), average=\"macro\")\n",
    "    )\n",
    ")"
   ]
  },
  {
   "cell_type": "markdown",
   "metadata": {},
   "source": [
    "### Hyperparameter optimization."
   ]
  },
  {
   "cell_type": "markdown",
   "metadata": {},
   "source": [
    "**Imbalanced Classification.**\n",
    "\n",
    "The *scale_pos_weight* can be used to train a class-weighted or cost-sensitive version of XGBoost for imbalanced classification.\n",
    "\n",
    "- scale_pos_weight = total_negative_examples / total_positive_examples"
   ]
  },
  {
   "cell_type": "code",
   "execution_count": 27,
   "metadata": {},
   "outputs": [
    {
     "name": "stdout",
     "output_type": "stream",
     "text": [
      "scale_pos_weight: 1.336\n"
     ]
    }
   ],
   "source": [
    "counter = Counter(y_train)\n",
    "estimate = counter[0] / counter[1]\n",
    "print(\"scale_pos_weight: %.3f\" % estimate)"
   ]
  },
  {
   "cell_type": "code",
   "execution_count": 28,
   "metadata": {},
   "outputs": [
    {
     "data": {
      "text/plain": [
       "XGBClassifier(base_score=0.5, booster='gbtree', colsample_bylevel=1,\n",
       "              colsample_bynode=1, colsample_bytree=0.55, gamma=0.1, gpu_id=-1,\n",
       "              importance_type='gain', interaction_constraints='',\n",
       "              learning_rate=0.3, max_delta_step=0, max_depth=8,\n",
       "              min_child_weight=94, missing=nan, monotone_constraints='()',\n",
       "              n_estimators=100, n_jobs=0, num_parallel_tree=1, random_state=13,\n",
       "              reg_alpha=1e-05, reg_lambda=1, scale_pos_weight=1.336,\n",
       "              subsample=0.9, tree_method='exact', validate_parameters=1,\n",
       "              verbosity=None)"
      ]
     },
     "execution_count": 28,
     "metadata": {},
     "output_type": "execute_result"
    }
   ],
   "source": [
    "xgb_1 = XGBClassifier(\n",
    "    scale_pos_weight=1.336,\n",
    "    learning_rate=0.3,\n",
    "    max_depth=8,\n",
    "    min_child_weight=94,\n",
    "    gamma=0.1,\n",
    "    colsample_bytree=0.55,\n",
    "    subsample=0.9,\n",
    "    reg_alpha=1e-05,\n",
    "    reg_lambda=1,\n",
    "    objective=\"binary:logistic\",\n",
    "    booster=\"gbtree\",\n",
    "    random_state=13,\n",
    ")\n",
    "\n",
    "xgb_1.fit(X_train, y_train)"
   ]
  },
  {
   "cell_type": "code",
   "execution_count": 29,
   "metadata": {},
   "outputs": [
    {
     "name": "stdout",
     "output_type": "stream",
     "text": [
      "f1_score (train set): 0.74918\n",
      "\n",
      "f1_score (test set):  0.68072\n"
     ]
    }
   ],
   "source": [
    "print(\n",
    "    \"f1_score (train set): {:.5}\".format(\n",
    "        f1_score(y_train, xgb_1.predict(X_train), average=\"macro\")\n",
    "    )\n",
    ")\n",
    "\n",
    "print(\n",
    "    \"\\nf1_score (test set):  {:.5}\".format(\n",
    "        f1_score(y_test, xgb_1.predict(X_test), average=\"macro\")\n",
    "    )\n",
    ")"
   ]
  },
  {
   "cell_type": "markdown",
   "metadata": {},
   "source": [
    "**Early Stopping to Avoid Overfitting.**\n",
    "\n",
    "It avoids overfitting by attempting to automatically select the inflection point where **performance on the test dataset starts to decrease** while **performance on the training dataset continues to improve** as the model starts to overfit."
   ]
  },
  {
   "cell_type": "code",
   "execution_count": 30,
   "metadata": {},
   "outputs": [
    {
     "name": "stdout",
     "output_type": "stream",
     "text": [
      "[0]\tvalidation_0-error:0.37635\tvalidation_0-logloss:0.67136\tvalidation_1-error:0.36364\tvalidation_1-logloss:0.66813\n",
      "[1]\tvalidation_0-error:0.34260\tvalidation_0-logloss:0.65068\tvalidation_1-error:0.34695\tvalidation_1-logloss:0.64620\n",
      "[2]\tvalidation_0-error:0.33721\tvalidation_0-logloss:0.63848\tvalidation_1-error:0.32739\tvalidation_1-logloss:0.63184\n",
      "[3]\tvalidation_0-error:0.32303\tvalidation_0-logloss:0.62474\tvalidation_1-error:0.31876\tvalidation_1-logloss:0.61864\n",
      "[4]\tvalidation_0-error:0.31764\tvalidation_0-logloss:0.61590\tvalidation_1-error:0.30898\tvalidation_1-logloss:0.60975\n",
      "[5]\tvalidation_0-error:0.31509\tvalidation_0-logloss:0.60944\tvalidation_1-error:0.30610\tvalidation_1-logloss:0.60520\n",
      "[6]\tvalidation_0-error:0.31622\tvalidation_0-logloss:0.60529\tvalidation_1-error:0.30898\tvalidation_1-logloss:0.60024\n",
      "[7]\tvalidation_0-error:0.31452\tvalidation_0-logloss:0.60138\tvalidation_1-error:0.30840\tvalidation_1-logloss:0.59984\n",
      "[8]\tvalidation_0-error:0.31424\tvalidation_0-logloss:0.59833\tvalidation_1-error:0.31300\tvalidation_1-logloss:0.59753\n",
      "[9]\tvalidation_0-error:0.30771\tvalidation_0-logloss:0.59585\tvalidation_1-error:0.31473\tvalidation_1-logloss:0.59566\n",
      "[10]\tvalidation_0-error:0.30233\tvalidation_0-logloss:0.59335\tvalidation_1-error:0.30898\tvalidation_1-logloss:0.59329\n",
      "[11]\tvalidation_0-error:0.30147\tvalidation_0-logloss:0.59116\tvalidation_1-error:0.30783\tvalidation_1-logloss:0.59152\n",
      "[12]\tvalidation_0-error:0.30459\tvalidation_0-logloss:0.58905\tvalidation_1-error:0.30380\tvalidation_1-logloss:0.59052\n",
      "[13]\tvalidation_0-error:0.30630\tvalidation_0-logloss:0.58739\tvalidation_1-error:0.30898\tvalidation_1-logloss:0.58984\n",
      "[14]\tvalidation_0-error:0.30431\tvalidation_0-logloss:0.58614\tvalidation_1-error:0.30898\tvalidation_1-logloss:0.58987\n",
      "[15]\tvalidation_0-error:0.30261\tvalidation_0-logloss:0.58497\tvalidation_1-error:0.30783\tvalidation_1-logloss:0.58945\n",
      "[16]\tvalidation_0-error:0.30346\tvalidation_0-logloss:0.58359\tvalidation_1-error:0.30783\tvalidation_1-logloss:0.58908\n",
      "[17]\tvalidation_0-error:0.30913\tvalidation_0-logloss:0.58235\tvalidation_1-error:0.31243\tvalidation_1-logloss:0.58872\n",
      "[18]\tvalidation_0-error:0.30431\tvalidation_0-logloss:0.58118\tvalidation_1-error:0.31415\tvalidation_1-logloss:0.58847\n",
      "[19]\tvalidation_0-error:0.29864\tvalidation_0-logloss:0.57991\tvalidation_1-error:0.31300\tvalidation_1-logloss:0.58760\n",
      "[20]\tvalidation_0-error:0.30091\tvalidation_0-logloss:0.57829\tvalidation_1-error:0.31013\tvalidation_1-logloss:0.58742\n",
      "[21]\tvalidation_0-error:0.30062\tvalidation_0-logloss:0.57729\tvalidation_1-error:0.31531\tvalidation_1-logloss:0.58820\n",
      "[22]\tvalidation_0-error:0.30062\tvalidation_0-logloss:0.57664\tvalidation_1-error:0.31128\tvalidation_1-logloss:0.58847\n",
      "[23]\tvalidation_0-error:0.30147\tvalidation_0-logloss:0.57589\tvalidation_1-error:0.31300\tvalidation_1-logloss:0.58806\n",
      "[24]\tvalidation_0-error:0.30204\tvalidation_0-logloss:0.57488\tvalidation_1-error:0.31588\tvalidation_1-logloss:0.58854\n",
      "[25]\tvalidation_0-error:0.29949\tvalidation_0-logloss:0.57375\tvalidation_1-error:0.31300\tvalidation_1-logloss:0.58745\n",
      "[26]\tvalidation_0-error:0.29694\tvalidation_0-logloss:0.57280\tvalidation_1-error:0.31300\tvalidation_1-logloss:0.58799\n",
      "[27]\tvalidation_0-error:0.29495\tvalidation_0-logloss:0.57207\tvalidation_1-error:0.31473\tvalidation_1-logloss:0.58764\n",
      "[28]\tvalidation_0-error:0.29268\tvalidation_0-logloss:0.57139\tvalidation_1-error:0.31128\tvalidation_1-logloss:0.58749\n",
      "[29]\tvalidation_0-error:0.29353\tvalidation_0-logloss:0.57093\tvalidation_1-error:0.31243\tvalidation_1-logloss:0.58744\n",
      "[30]\tvalidation_0-error:0.29552\tvalidation_0-logloss:0.57017\tvalidation_1-error:0.31128\tvalidation_1-logloss:0.58678\n",
      "[31]\tvalidation_0-error:0.29495\tvalidation_0-logloss:0.56898\tvalidation_1-error:0.31300\tvalidation_1-logloss:0.58631\n",
      "[32]\tvalidation_0-error:0.29580\tvalidation_0-logloss:0.56844\tvalidation_1-error:0.31013\tvalidation_1-logloss:0.58670\n",
      "[33]\tvalidation_0-error:0.29495\tvalidation_0-logloss:0.56732\tvalidation_1-error:0.31243\tvalidation_1-logloss:0.58710\n",
      "[34]\tvalidation_0-error:0.29467\tvalidation_0-logloss:0.56656\tvalidation_1-error:0.31070\tvalidation_1-logloss:0.58669\n",
      "[35]\tvalidation_0-error:0.29410\tvalidation_0-logloss:0.56576\tvalidation_1-error:0.30552\tvalidation_1-logloss:0.58648\n",
      "[36]\tvalidation_0-error:0.29524\tvalidation_0-logloss:0.56488\tvalidation_1-error:0.30667\tvalidation_1-logloss:0.58659\n",
      "[37]\tvalidation_0-error:0.29439\tvalidation_0-logloss:0.56409\tvalidation_1-error:0.30667\tvalidation_1-logloss:0.58512\n",
      "[38]\tvalidation_0-error:0.29439\tvalidation_0-logloss:0.56341\tvalidation_1-error:0.31013\tvalidation_1-logloss:0.58492\n",
      "[39]\tvalidation_0-error:0.29467\tvalidation_0-logloss:0.56254\tvalidation_1-error:0.31128\tvalidation_1-logloss:0.58564\n",
      "[40]\tvalidation_0-error:0.29325\tvalidation_0-logloss:0.56191\tvalidation_1-error:0.31415\tvalidation_1-logloss:0.58625\n",
      "[41]\tvalidation_0-error:0.29410\tvalidation_0-logloss:0.56134\tvalidation_1-error:0.31473\tvalidation_1-logloss:0.58681\n",
      "[42]\tvalidation_0-error:0.29779\tvalidation_0-logloss:0.56126\tvalidation_1-error:0.31473\tvalidation_1-logloss:0.58737\n",
      "[43]\tvalidation_0-error:0.29325\tvalidation_0-logloss:0.56040\tvalidation_1-error:0.31243\tvalidation_1-logloss:0.58707\n",
      "[44]\tvalidation_0-error:0.29524\tvalidation_0-logloss:0.55988\tvalidation_1-error:0.31358\tvalidation_1-logloss:0.58665\n",
      "[45]\tvalidation_0-error:0.29126\tvalidation_0-logloss:0.55936\tvalidation_1-error:0.30955\tvalidation_1-logloss:0.58642\n",
      "[46]\tvalidation_0-error:0.29297\tvalidation_0-logloss:0.55826\tvalidation_1-error:0.31013\tvalidation_1-logloss:0.58566\n",
      "[47]\tvalidation_0-error:0.29212\tvalidation_0-logloss:0.55771\tvalidation_1-error:0.31243\tvalidation_1-logloss:0.58581\n",
      "[48]\tvalidation_0-error:0.29098\tvalidation_0-logloss:0.55761\tvalidation_1-error:0.31300\tvalidation_1-logloss:0.58630\n",
      "[49]\tvalidation_0-error:0.29212\tvalidation_0-logloss:0.55712\tvalidation_1-error:0.31473\tvalidation_1-logloss:0.58676\n",
      "[50]\tvalidation_0-error:0.28843\tvalidation_0-logloss:0.55674\tvalidation_1-error:0.31358\tvalidation_1-logloss:0.58687\n",
      "[51]\tvalidation_0-error:0.28985\tvalidation_0-logloss:0.55596\tvalidation_1-error:0.31128\tvalidation_1-logloss:0.58635\n",
      "[52]\tvalidation_0-error:0.28729\tvalidation_0-logloss:0.55585\tvalidation_1-error:0.31646\tvalidation_1-logloss:0.58759\n",
      "[53]\tvalidation_0-error:0.28701\tvalidation_0-logloss:0.55524\tvalidation_1-error:0.31300\tvalidation_1-logloss:0.58784\n",
      "[54]\tvalidation_0-error:0.28474\tvalidation_0-logloss:0.55498\tvalidation_1-error:0.31300\tvalidation_1-logloss:0.58788\n",
      "[55]\tvalidation_0-error:0.28559\tvalidation_0-logloss:0.55402\tvalidation_1-error:0.31013\tvalidation_1-logloss:0.58713\n",
      "[56]\tvalidation_0-error:0.28588\tvalidation_0-logloss:0.55352\tvalidation_1-error:0.31300\tvalidation_1-logloss:0.58706\n",
      "[57]\tvalidation_0-error:0.28191\tvalidation_0-logloss:0.55273\tvalidation_1-error:0.31415\tvalidation_1-logloss:0.58665\n",
      "[58]\tvalidation_0-error:0.28247\tvalidation_0-logloss:0.55236\tvalidation_1-error:0.31300\tvalidation_1-logloss:0.58719\n",
      "[59]\tvalidation_0-error:0.28191\tvalidation_0-logloss:0.55196\tvalidation_1-error:0.30840\tvalidation_1-logloss:0.58652\n",
      "[60]\tvalidation_0-error:0.28049\tvalidation_0-logloss:0.55143\tvalidation_1-error:0.31128\tvalidation_1-logloss:0.58706\n",
      "[61]\tvalidation_0-error:0.28304\tvalidation_0-logloss:0.55143\tvalidation_1-error:0.31300\tvalidation_1-logloss:0.58883\n",
      "[62]\tvalidation_0-error:0.28191\tvalidation_0-logloss:0.55071\tvalidation_1-error:0.31415\tvalidation_1-logloss:0.58852\n",
      "[63]\tvalidation_0-error:0.27879\tvalidation_0-logloss:0.55034\tvalidation_1-error:0.31588\tvalidation_1-logloss:0.58919\n",
      "[64]\tvalidation_0-error:0.27907\tvalidation_0-logloss:0.54984\tvalidation_1-error:0.31415\tvalidation_1-logloss:0.58896\n",
      "[65]\tvalidation_0-error:0.27992\tvalidation_0-logloss:0.54952\tvalidation_1-error:0.31588\tvalidation_1-logloss:0.58901\n",
      "[66]\tvalidation_0-error:0.27992\tvalidation_0-logloss:0.54903\tvalidation_1-error:0.31358\tvalidation_1-logloss:0.58957\n",
      "[67]\tvalidation_0-error:0.27793\tvalidation_0-logloss:0.54868\tvalidation_1-error:0.31473\tvalidation_1-logloss:0.58831\n",
      "[68]\tvalidation_0-error:0.27623\tvalidation_0-logloss:0.54819\tvalidation_1-error:0.30955\tvalidation_1-logloss:0.58798\n",
      "[69]\tvalidation_0-error:0.27737\tvalidation_0-logloss:0.54792\tvalidation_1-error:0.30955\tvalidation_1-logloss:0.58826\n",
      "[70]\tvalidation_0-error:0.27623\tvalidation_0-logloss:0.54788\tvalidation_1-error:0.31415\tvalidation_1-logloss:0.58887\n"
     ]
    },
    {
     "name": "stdout",
     "output_type": "stream",
     "text": [
      "[71]\tvalidation_0-error:0.27709\tvalidation_0-logloss:0.54756\tvalidation_1-error:0.31243\tvalidation_1-logloss:0.58861\n",
      "[72]\tvalidation_0-error:0.27567\tvalidation_0-logloss:0.54724\tvalidation_1-error:0.31128\tvalidation_1-logloss:0.58878\n",
      "[73]\tvalidation_0-error:0.27595\tvalidation_0-logloss:0.54684\tvalidation_1-error:0.31646\tvalidation_1-logloss:0.58917\n",
      "[74]\tvalidation_0-error:0.27709\tvalidation_0-logloss:0.54610\tvalidation_1-error:0.31185\tvalidation_1-logloss:0.58849\n",
      "[75]\tvalidation_0-error:0.27623\tvalidation_0-logloss:0.54566\tvalidation_1-error:0.31415\tvalidation_1-logloss:0.58860\n",
      "[76]\tvalidation_0-error:0.27425\tvalidation_0-logloss:0.54525\tvalidation_1-error:0.31358\tvalidation_1-logloss:0.58766\n",
      "[77]\tvalidation_0-error:0.27567\tvalidation_0-logloss:0.54514\tvalidation_1-error:0.31300\tvalidation_1-logloss:0.58751\n",
      "[78]\tvalidation_0-error:0.27453\tvalidation_0-logloss:0.54475\tvalidation_1-error:0.31128\tvalidation_1-logloss:0.58812\n",
      "[79]\tvalidation_0-error:0.27709\tvalidation_0-logloss:0.54478\tvalidation_1-error:0.31358\tvalidation_1-logloss:0.58872\n",
      "[80]\tvalidation_0-error:0.27793\tvalidation_0-logloss:0.54445\tvalidation_1-error:0.31588\tvalidation_1-logloss:0.58895\n",
      "[81]\tvalidation_0-error:0.27737\tvalidation_0-logloss:0.54395\tvalidation_1-error:0.31300\tvalidation_1-logloss:0.58871\n",
      "[82]\tvalidation_0-error:0.27510\tvalidation_0-logloss:0.54322\tvalidation_1-error:0.31185\tvalidation_1-logloss:0.58776\n",
      "[83]\tvalidation_0-error:0.27538\tvalidation_0-logloss:0.54290\tvalidation_1-error:0.31473\tvalidation_1-logloss:0.58730\n",
      "[84]\tvalidation_0-error:0.27595\tvalidation_0-logloss:0.54212\tvalidation_1-error:0.31185\tvalidation_1-logloss:0.58739\n",
      "[85]\tvalidation_0-error:0.27085\tvalidation_0-logloss:0.54163\tvalidation_1-error:0.31300\tvalidation_1-logloss:0.58694\n",
      "[86]\tvalidation_0-error:0.27255\tvalidation_0-logloss:0.54122\tvalidation_1-error:0.31358\tvalidation_1-logloss:0.58693\n",
      "[87]\tvalidation_0-error:0.27425\tvalidation_0-logloss:0.54073\tvalidation_1-error:0.31185\tvalidation_1-logloss:0.58693\n",
      "[88]\tvalidation_0-error:0.27255\tvalidation_0-logloss:0.54062\tvalidation_1-error:0.31185\tvalidation_1-logloss:0.58764\n",
      "[89]\tvalidation_0-error:0.27340\tvalidation_0-logloss:0.54052\tvalidation_1-error:0.31185\tvalidation_1-logloss:0.58795\n",
      "[90]\tvalidation_0-error:0.27397\tvalidation_0-logloss:0.54023\tvalidation_1-error:0.31415\tvalidation_1-logloss:0.58789\n",
      "[91]\tvalidation_0-error:0.27255\tvalidation_0-logloss:0.53955\tvalidation_1-error:0.31070\tvalidation_1-logloss:0.58722\n",
      "[92]\tvalidation_0-error:0.27085\tvalidation_0-logloss:0.53949\tvalidation_1-error:0.31128\tvalidation_1-logloss:0.58744\n",
      "[93]\tvalidation_0-error:0.26971\tvalidation_0-logloss:0.53877\tvalidation_1-error:0.31415\tvalidation_1-logloss:0.58727\n",
      "[94]\tvalidation_0-error:0.27056\tvalidation_0-logloss:0.53843\tvalidation_1-error:0.31358\tvalidation_1-logloss:0.58705\n",
      "[95]\tvalidation_0-error:0.27028\tvalidation_0-logloss:0.53757\tvalidation_1-error:0.31013\tvalidation_1-logloss:0.58652\n",
      "[96]\tvalidation_0-error:0.26631\tvalidation_0-logloss:0.53721\tvalidation_1-error:0.31013\tvalidation_1-logloss:0.58644\n",
      "[97]\tvalidation_0-error:0.26716\tvalidation_0-logloss:0.53692\tvalidation_1-error:0.31185\tvalidation_1-logloss:0.58625\n",
      "[98]\tvalidation_0-error:0.26914\tvalidation_0-logloss:0.53616\tvalidation_1-error:0.31128\tvalidation_1-logloss:0.58613\n",
      "[99]\tvalidation_0-error:0.26971\tvalidation_0-logloss:0.53582\tvalidation_1-error:0.31070\tvalidation_1-logloss:0.58648\n"
     ]
    },
    {
     "data": {
      "text/plain": [
       "XGBClassifier(base_score=0.5, booster='gbtree', colsample_bylevel=1,\n",
       "              colsample_bynode=1, colsample_bytree=0.55, gamma=0.1, gpu_id=-1,\n",
       "              importance_type='gain', interaction_constraints='',\n",
       "              learning_rate=0.3, max_delta_step=0, max_depth=8,\n",
       "              min_child_weight=94, missing=nan, monotone_constraints='()',\n",
       "              n_estimators=100, n_jobs=0, num_parallel_tree=1, random_state=13,\n",
       "              reg_alpha=1e-05, reg_lambda=1, scale_pos_weight=1.336,\n",
       "              subsample=0.9, tree_method='exact', validate_parameters=1,\n",
       "              verbosity=None)"
      ]
     },
     "execution_count": 30,
     "metadata": {},
     "output_type": "execute_result"
    }
   ],
   "source": [
    "X_tr, X_val, y_tr, y_val = train_test_split(\n",
    "    X_train, y_train, test_size=0.33, random_state=7\n",
    ")\n",
    "\n",
    "xgb_2 = XGBClassifier(\n",
    "    scale_pos_weight=1.336,\n",
    "    learning_rate=0.3,\n",
    "    max_depth=8,\n",
    "    min_child_weight=94,\n",
    "    gamma=0.1,\n",
    "    colsample_bytree=0.55,\n",
    "    subsample=0.9,\n",
    "    reg_alpha=1e-05,\n",
    "    reg_lambda=1,\n",
    "    objective=\"binary:logistic\",\n",
    "    booster=\"gbtree\",\n",
    "    random_state=13,\n",
    ")\n",
    "\n",
    "eval_set = [(X_tr, y_tr), (X_val, y_val)]\n",
    "\n",
    "xgb_2.fit(X_tr, y_tr, eval_metric=[\"error\", \"logloss\"], eval_set=eval_set, verbose=True)"
   ]
  },
  {
   "cell_type": "markdown",
   "metadata": {},
   "source": [
    "By default for XGBClassifier *eval_metric = 'error'*."
   ]
  },
  {
   "cell_type": "code",
   "execution_count": 31,
   "metadata": {},
   "outputs": [
    {
     "name": "stdout",
     "output_type": "stream",
     "text": [
      "f1_score (train set): 0.71373\n",
      "\n",
      "f1_score (test set):  0.6668\n"
     ]
    }
   ],
   "source": [
    "print(\n",
    "    \"f1_score (train set): {:.5}\".format(\n",
    "        f1_score(y_train, xgb_2.predict(X_train), average=\"macro\")\n",
    "    )\n",
    ")\n",
    "\n",
    "print(\n",
    "    \"\\nf1_score (test set):  {:.5}\".format(\n",
    "        f1_score(y_test, xgb_2.predict(X_test), average=\"macro\")\n",
    "    )\n",
    ")"
   ]
  },
  {
   "cell_type": "markdown",
   "metadata": {},
   "source": [
    "**Plot performance metrics.**"
   ]
  },
  {
   "cell_type": "code",
   "execution_count": 32,
   "metadata": {},
   "outputs": [
    {
     "data": {
      "image/png": "[encoded data removed]",
      "text/plain": [
       "<Figure size 1080x504 with 1 Axes>"
      ]
     },
     "metadata": {},
     "output_type": "display_data"
    },
    {
     "data": {
      "image/png": "[encoded data removed]",
      "text/plain": [
       "<Figure size 1080x504 with 1 Axes>"
      ]
     },
     "metadata": {},
     "output_type": "display_data"
    }
   ],
   "source": [
    "results = xgb_2.evals_result()\n",
    "epochs = len(results[\"validation_0\"][\"error\"])\n",
    "x_axis = range(0, epochs)\n",
    "\n",
    "fig, ax = plt.subplots()\n",
    "ax.plot(x_axis, results[\"validation_0\"][\"logloss\"], label=\"Train\")\n",
    "ax.plot(x_axis, results[\"validation_1\"][\"logloss\"], label=\"Validation\")\n",
    "ax.legend()\n",
    "plt.ylabel(\"Log Loss\")\n",
    "plt.title(\"XGBoost Log Loss\")\n",
    "plt.show()\n",
    "\n",
    "fig, ax = plt.subplots()\n",
    "ax.plot(x_axis, results[\"validation_0\"][\"error\"], label=\"Train\")\n",
    "ax.plot(x_axis, results[\"validation_1\"][\"error\"], label=\"Validation\")\n",
    "ax.legend()\n",
    "plt.ylabel(\"Classification Error\")\n",
    "plt.title(\"XGBoost Classification Error\")\n",
    "plt.show()"
   ]
  },
  {
   "cell_type": "markdown",
   "metadata": {},
   "source": [
    "The first plot shows the logarithmic loss of the XGBoost model for each epoch on the training and test datasets.\n",
    "\n",
    "The second plot shows the classification error of the XGBoost model for each epoch on the training and test datasets.\n",
    "\n",
    "From reviewing the logloss plot, it looks like there is an opportunity to stop the learning early, perhaps somewhere around epoch 80 to epoch 100.\n",
    "\n",
    "We see a similar story for classification error, where error appears to go back up at around epoch 30."
   ]
  },
  {
   "cell_type": "markdown",
   "metadata": {},
   "source": [
    "### Final model."
   ]
  },
  {
   "cell_type": "code",
   "execution_count": 33,
   "metadata": {
    "scrolled": true
   },
   "outputs": [
    {
     "name": "stdout",
     "output_type": "stream",
     "text": [
      "[0]\tvalidation_0-error:0.38262\n",
      "Will train until validation_0-error hasn't improved in 10 rounds.\n",
      "[1]\tvalidation_0-error:0.33487\n",
      "[2]\tvalidation_0-error:0.34120\n",
      "[3]\tvalidation_0-error:0.32739\n",
      "[4]\tvalidation_0-error:0.31818\n",
      "[5]\tvalidation_0-error:0.31761\n",
      "[6]\tvalidation_0-error:0.31473\n",
      "[7]\tvalidation_0-error:0.31761\n",
      "[8]\tvalidation_0-error:0.31473\n",
      "[9]\tvalidation_0-error:0.31818\n",
      "[10]\tvalidation_0-error:0.31243\n",
      "[11]\tvalidation_0-error:0.31415\n",
      "[12]\tvalidation_0-error:0.31415\n",
      "[13]\tvalidation_0-error:0.31300\n",
      "[14]\tvalidation_0-error:0.31531\n",
      "[15]\tvalidation_0-error:0.31473\n",
      "[16]\tvalidation_0-error:0.31646\n",
      "[17]\tvalidation_0-error:0.31876\n",
      "[18]\tvalidation_0-error:0.31646\n",
      "[19]\tvalidation_0-error:0.32106\n",
      "[20]\tvalidation_0-error:0.32394\n",
      "Stopping. Best iteration:\n",
      "[10]\tvalidation_0-error:0.31243\n",
      "\n"
     ]
    },
    {
     "data": {
      "text/plain": [
       "XGBClassifier(base_score=0.5, booster='gbtree', colsample_bylevel=1,\n",
       "              colsample_bynode=1, colsample_bytree=0.55, gamma=0.1, gpu_id=-1,\n",
       "              importance_type='gain', interaction_constraints='',\n",
       "              learning_rate=0.3, max_delta_step=0, max_depth=8,\n",
       "              min_child_weight=94, missing=nan, monotone_constraints='()',\n",
       "              n_estimators=100, n_jobs=0, num_parallel_tree=1, random_state=13,\n",
       "              reg_alpha=1e-05, reg_lambda=1, scale_pos_weight=1.336,\n",
       "              subsample=0.9, tree_method='exact', validate_parameters=1,\n",
       "              verbosity=None)"
      ]
     },
     "execution_count": 33,
     "metadata": {},
     "output_type": "execute_result"
    }
   ],
   "source": [
    "X_tr, X_val, y_tr, y_val = train_test_split(\n",
    "    X_train, y_train, test_size=0.33, random_state=13\n",
    ")\n",
    "\n",
    "xgb_final = XGBClassifier(\n",
    "    scale_pos_weight=1.336,\n",
    "    learning_rate=0.3,\n",
    "    max_depth=8,\n",
    "    min_child_weight=94,\n",
    "    gamma=0.1,\n",
    "    colsample_bytree=0.55,\n",
    "    subsample=0.9,\n",
    "    reg_alpha=1e-05,\n",
    "    reg_lambda=1,\n",
    "    objective=\"binary:logistic\",\n",
    "    booster=\"gbtree\",\n",
    "    random_state=13,\n",
    ")\n",
    "\n",
    "eval_set = [(X_val, y_val)]\n",
    "xgb_final.fit(\n",
    "    X_tr,\n",
    "    y_tr,\n",
    "    early_stopping_rounds=10,\n",
    "    eval_metric=\"error\",\n",
    "    eval_set=eval_set,\n",
    "    verbose=True,\n",
    ")"
   ]
  },
  {
   "cell_type": "markdown",
   "metadata": {},
   "source": [
    "**Evaluate model.**"
   ]
  },
  {
   "cell_type": "code",
   "execution_count": 34,
   "metadata": {},
   "outputs": [
    {
     "name": "stdout",
     "output_type": "stream",
     "text": [
      "f1_score (train set): 0.68599\n",
      "\n",
      "f1_score (test set):  0.67301\n"
     ]
    }
   ],
   "source": [
    "print(\n",
    "    \"f1_score (train set): {:.5}\".format(\n",
    "        f1_score(y_train, xgb_final.predict(X_train), average=\"macro\")\n",
    "    )\n",
    ")\n",
    "\n",
    "print(\n",
    "    \"\\nf1_score (test set):  {:.5}\".format(\n",
    "        f1_score(y_test, xgb_final.predict(X_test), average=\"macro\")\n",
    "    )\n",
    ")"
   ]
  },
  {
   "cell_type": "markdown",
   "metadata": {},
   "source": [
    "We can see that **the model stopped training at epoch 36** (close to what we expected by our manual judgment of learning curves) and that the model with **the best loss was observed at epoch 26**."
   ]
  },
  {
   "cell_type": "code",
   "execution_count": 35,
   "metadata": {},
   "outputs": [
    {
     "data": {
      "image/png": "[encoded data removed]",
      "text/plain": [
       "<Figure size 1080x504 with 1 Axes>"
      ]
     },
     "metadata": {},
     "output_type": "display_data"
    }
   ],
   "source": [
    "plot_cv_with_err(\n",
    "    model=xgb_final,\n",
    "    data_X=X_train,\n",
    "    data_y=y_train,\n",
    "    parameter_name=\"learning_rate\",\n",
    "    params=[i / 100.0 for i in range(1, 101, 10)],\n",
    "    cv_score=\"f1_macro\",\n",
    ")\n",
    "\n",
    "plt.xlabel(\"Learning rate\")\n",
    "plt.ylabel(\"F1-score\")\n",
    "plt.legend(loc=\"best\")\n",
    "plt.grid(True)"
   ]
  },
  {
   "cell_type": "code",
   "execution_count": 36,
   "metadata": {},
   "outputs": [
    {
     "name": "stdout",
     "output_type": "stream",
     "text": [
      "                                    CV scores on Train set\n",
      "================================================================================================\n",
      "  mean_train_score (std_train_score) | mean_valid_score (std_valid_score) |      parameter\n",
      "================================================================================================\n",
      "       0.68918      (  0.0018335   ) |      0.67274      (  0.0091582   ) | learning_rate = 0.01\n",
      "       0.71372      (  0.0032078   ) |      0.68354      (  0.0089775   ) | learning_rate = 0.11\n",
      "       0.73092      (  0.0037325   ) |      0.68631      (  0.0099689   ) | learning_rate = 0.21\n",
      "       0.74067      (   0.003925   ) |      0.68758      (  0.0091416   ) | learning_rate = 0.31\n",
      "       0.74941      (  0.0029172   ) |      0.68059      (  0.0074207   ) | learning_rate = 0.41\n",
      "       0.75326      (  0.0034518   ) |      0.67955      (  0.0046495   ) | learning_rate = 0.51\n",
      "       0.75778      (  0.0034491   ) |      0.67964      (   0.010078   ) | learning_rate = 0.61\n",
      "       0.76281      (  0.0043786   ) |      0.67506      (   0.015686   ) | learning_rate = 0.71\n",
      "       0.76385      (  0.0049964   ) |      0.67364      (  0.0080173   ) | learning_rate = 0.81\n",
      "       0.76956      (   0.004882   ) |      0.66306      (   0.010283   ) | learning_rate = 0.91\n"
     ]
    }
   ],
   "source": [
    "cv_output_all(\n",
    "    model=xgb_final,\n",
    "    data_X=X_train,\n",
    "    data_y=y_train,\n",
    "    parameter_name=\"learning_rate\",\n",
    "    params=[i / 100.0 for i in range(1, 101, 10)],\n",
    "    cv_score=\"f1_macro\",\n",
    ")"
   ]
  },
  {
   "cell_type": "code",
   "execution_count": 37,
   "metadata": {},
   "outputs": [
    {
     "data": {
      "image/png": "[encoded data removed]",
      "text/plain": [
       "<Figure size 1080x504 with 1 Axes>"
      ]
     },
     "metadata": {},
     "output_type": "display_data"
    }
   ],
   "source": [
    "fi = pd.Series(xgb_final.feature_importances_, index=X_train.columns)\n",
    "fi.sort_values(ascending=False).plot(kind=\"bar\", width=0.8)\n",
    "plt.title(\"Feature importances (XGBoost)\")\n",
    "plt.show()"
   ]
  },
  {
   "cell_type": "markdown",
   "metadata": {},
   "source": [
    "## Results"
   ]
  },
  {
   "cell_type": "code",
   "execution_count": 38,
   "metadata": {},
   "outputs": [],
   "source": [
    "def get_scores(estimator, X, y, name):\n",
    "    y_pred = estimator.predict(X)\n",
    "    y_pred_proba = estimator.predict_proba(X)[:, 1]\n",
    "\n",
    "    accuracy = accuracy_score(y_test, y_pred)\n",
    "    precision = precision_score(y_test, y_pred)\n",
    "    recall = recall_score(y_test, y_pred)\n",
    "    f1 = f1_score(y_test, y_pred, average=\"macro\")\n",
    "    roc_auc = roc_auc_score(y_test, y_pred_proba)\n",
    "\n",
    "    columns = [\"accuracy\", \"precision\", \"recall\", \"F1-macro\", \"AUC-ROC\"]\n",
    "    results = pd.DataFrame(\n",
    "        [accuracy, precision, recall, f1, roc_auc], index=columns, columns=[name]\n",
    "    ).T\n",
    "\n",
    "    return results"
   ]
  },
  {
   "cell_type": "code",
   "execution_count": 39,
   "metadata": {},
   "outputs": [],
   "source": [
    "results_lr = get_scores(lr_final, X=X_test_scaled, y=y_test, name=\"LR\")\n",
    "results_xgb = get_scores(xgb_final, X=X_test, y=y_test, name=\"XGB\")"
   ]
  },
  {
   "cell_type": "code",
   "execution_count": 40,
   "metadata": {},
   "outputs": [
    {
     "data": {
      "text/html": [
       "<div>\n",
       "<style scoped>\n",
       "    .dataframe tbody tr th:only-of-type {\n",
       "        vertical-align: middle;\n",
       "    }\n",
       "\n",
       "    .dataframe tbody tr th {\n",
       "        vertical-align: top;\n",
       "    }\n",
       "\n",
       "    .dataframe thead th {\n",
       "        text-align: right;\n",
       "    }\n",
       "</style>\n",
       "<table border=\"1\" class=\"dataframe\">\n",
       "  <thead>\n",
       "    <tr style=\"text-align: right;\">\n",
       "      <th></th>\n",
       "      <th>accuracy</th>\n",
       "      <th>precision</th>\n",
       "      <th>recall</th>\n",
       "      <th>F1-macro</th>\n",
       "      <th>AUC-ROC</th>\n",
       "    </tr>\n",
       "  </thead>\n",
       "  <tbody>\n",
       "    <tr>\n",
       "      <th>LR</th>\n",
       "      <td>0.647163</td>\n",
       "      <td>0.574581</td>\n",
       "      <td>0.674611</td>\n",
       "      <td>0.645424</td>\n",
       "      <td>0.710652</td>\n",
       "    </tr>\n",
       "    <tr>\n",
       "      <th>XGB</th>\n",
       "      <td>0.675975</td>\n",
       "      <td>0.608736</td>\n",
       "      <td>0.678756</td>\n",
       "      <td>0.673005</td>\n",
       "      <td>0.729693</td>\n",
       "    </tr>\n",
       "  </tbody>\n",
       "</table>\n",
       "</div>"
      ],
      "text/plain": [
       "     accuracy  precision    recall  F1-macro   AUC-ROC\n",
       "LR   0.647163   0.574581  0.674611  0.645424  0.710652\n",
       "XGB  0.675975   0.608736  0.678756  0.673005  0.729693"
      ]
     },
     "execution_count": 40,
     "metadata": {},
     "output_type": "execute_result"
    }
   ],
   "source": [
    "results_lr.append(results_xgb)"
   ]
  },
  {
   "cell_type": "markdown",
   "metadata": {},
   "source": [
    "## Conclusions\n",
    "\n",
    "1. Logistic Regression and XGBoost machine learning models with tuned hyperparameters were applied to the tabular data."
   ]
  },
  {
   "cell_type": "code",
   "execution_count": null,
   "metadata": {},
   "outputs": [],
   "source": []
  }
 ],
 "metadata": {
  "kernelspec": {
   "display_name": "Python 3",
   "language": "python",
   "name": "python3"
  },
  "language_info": {
   "codemirror_mode": {
    "name": "ipython",
    "version": 3
   },
   "file_extension": ".py",
   "mimetype": "text/x-python",
   "name": "python",
   "nbconvert_exporter": "python",
   "pygments_lexer": "ipython3",
   "version": "3.7.6"
  },
  "toc": {
   "base_numbering": 1,
   "nav_menu": {},
   "number_sections": true,
   "sideBar": true,
   "skip_h1_title": false,
   "title_cell": "Table of Contents",
   "title_sidebar": "Contents",
   "toc_cell": false,
   "toc_position": {},
   "toc_section_display": true,
   "toc_window_display": true
  }
 },
 "nbformat": 4,
 "nbformat_minor": 2
}
