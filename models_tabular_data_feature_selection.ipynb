{
 "cells": [
  {
   "cell_type": "code",
   "execution_count": 1,
   "metadata": {},
   "outputs": [],
   "source": [
    "import os\n",
    "from pathlib import Path\n",
    "\n",
    "import numpy as np\n",
    "import pandas as pd\n",
    "from collections import Counter\n",
    "pd.set_option('display.max_rows', 500)\n",
    "pd.set_option('display.max_columns', 500)\n",
    "pd.set_option('display.width', 1000)\n",
    "pd.set_option('display.max_colwidth', 1000)\n",
    "\n",
    "from sklearn.preprocessing import StandardScaler, MinMaxScaler\n",
    "from sklearn.linear_model import LogisticRegression\n",
    "from sklearn.metrics import f1_score, accuracy_score, precision_score, recall_score, roc_auc_score\n",
    "from sklearn.model_selection import cross_val_score, GridSearchCV, StratifiedKFold, \\\n",
    "train_test_split, validation_curve\n",
    "from xgboost.sklearn import XGBClassifier\n",
    "\n",
    "import matplotlib.pyplot as plt\n",
    "import seaborn as sns\n",
    "\n",
    "%matplotlib inline\n",
    "sns.set(rc={'figure.figsize':(15,7)}, style='whitegrid')\n",
    "plt.rcParams['figure.figsize'] = (15,7)"
   ]
  },
  {
   "cell_type": "code",
   "execution_count": 2,
   "metadata": {},
   "outputs": [],
   "source": [
    "DATA_PATH = 'data/'\n",
    "\n",
    "TRAIN_FEATURES = os.path.join(DATA_PATH, 'train_new_features.csv')"
   ]
  },
  {
   "cell_type": "code",
   "execution_count": 3,
   "metadata": {},
   "outputs": [],
   "source": [
    "train_df = pd.read_csv(TRAIN_FEATURES, index_col=0, encoding='utf-8')"
   ]
  },
  {
   "cell_type": "code",
   "execution_count": 4,
   "metadata": {
    "scrolled": false
   },
   "outputs": [
    {
     "data": {
      "text/html": [
       "<div>\n",
       "<style scoped>\n",
       "    .dataframe tbody tr th:only-of-type {\n",
       "        vertical-align: middle;\n",
       "    }\n",
       "\n",
       "    .dataframe tbody tr th {\n",
       "        vertical-align: top;\n",
       "    }\n",
       "\n",
       "    .dataframe thead th {\n",
       "        text-align: right;\n",
       "    }\n",
       "</style>\n",
       "<table border=\"1\" class=\"dataframe\">\n",
       "  <thead>\n",
       "    <tr style=\"text-align: right;\">\n",
       "      <th></th>\n",
       "      <th>text</th>\n",
       "      <th>target</th>\n",
       "      <th>text_cleaned</th>\n",
       "      <th>preprocessed_text</th>\n",
       "      <th>sentence_count</th>\n",
       "      <th>word_count</th>\n",
       "      <th>stop_word_count</th>\n",
       "      <th>stop_word_share</th>\n",
       "      <th>url_count</th>\n",
       "      <th>mean_word_length</th>\n",
       "      <th>char_count</th>\n",
       "      <th>punctuation_count</th>\n",
       "      <th>hashtag_count</th>\n",
       "      <th>mention_count</th>\n",
       "      <th>polarity_raw</th>\n",
       "      <th>subjectivity_raw</th>\n",
       "      <th>unique_word_count</th>\n",
       "      <th>unique_word_share</th>\n",
       "      <th>polarity</th>\n",
       "      <th>subjectivity</th>\n",
       "      <th>DT</th>\n",
       "      <th>NN</th>\n",
       "      <th>PRP$</th>\n",
       "      <th>NNS</th>\n",
       "      <th>VBP</th>\n",
       "      <th>IN</th>\n",
       "      <th>MD</th>\n",
       "      <th>VB</th>\n",
       "      <th>JJ</th>\n",
       "      <th>PRP</th>\n",
       "      <th>JJS</th>\n",
       "      <th>VBN</th>\n",
       "      <th>VBD</th>\n",
       "      <th>TO</th>\n",
       "      <th>VBG</th>\n",
       "      <th>CC</th>\n",
       "      <th>RB</th>\n",
       "      <th>EX</th>\n",
       "      <th>VBZ</th>\n",
       "      <th>CD</th>\n",
       "      <th>WP</th>\n",
       "      <th>RP</th>\n",
       "      <th>JJR</th>\n",
       "      <th>WRB</th>\n",
       "      <th>FW</th>\n",
       "      <th>WDT</th>\n",
       "      <th>NNP</th>\n",
       "      <th>RBR</th>\n",
       "      <th>RBS</th>\n",
       "      <th>PDT</th>\n",
       "      <th>SYM</th>\n",
       "      <th>UH</th>\n",
       "      <th>WP$</th>\n",
       "    </tr>\n",
       "  </thead>\n",
       "  <tbody>\n",
       "    <tr>\n",
       "      <th>0</th>\n",
       "      <td>Our Deeds are the Reason of this #earthquake May ALLAH Forgive us all</td>\n",
       "      <td>1</td>\n",
       "      <td>our deeds are the reason of this earthquake may allah forgive us all</td>\n",
       "      <td>deed reason earthquak may allah forgiv us</td>\n",
       "      <td>1</td>\n",
       "      <td>13</td>\n",
       "      <td>6</td>\n",
       "      <td>0.461538</td>\n",
       "      <td>0</td>\n",
       "      <td>4.384615</td>\n",
       "      <td>69</td>\n",
       "      <td>1</td>\n",
       "      <td>1</td>\n",
       "      <td>0</td>\n",
       "      <td>0.0</td>\n",
       "      <td>0.0</td>\n",
       "      <td>7</td>\n",
       "      <td>1.0</td>\n",
       "      <td>0.0</td>\n",
       "      <td>0.0</td>\n",
       "      <td>3.0</td>\n",
       "      <td>2.0</td>\n",
       "      <td>1.0</td>\n",
       "      <td>1.0</td>\n",
       "      <td>1.0</td>\n",
       "      <td>1.0</td>\n",
       "      <td>1.0</td>\n",
       "      <td>1.0</td>\n",
       "      <td>1.0</td>\n",
       "      <td>1.0</td>\n",
       "      <td>0.0</td>\n",
       "      <td>0.0</td>\n",
       "      <td>0.0</td>\n",
       "      <td>0.0</td>\n",
       "      <td>0.0</td>\n",
       "      <td>0.0</td>\n",
       "      <td>0.0</td>\n",
       "      <td>0.0</td>\n",
       "      <td>0.0</td>\n",
       "      <td>0.0</td>\n",
       "      <td>0.0</td>\n",
       "      <td>0.0</td>\n",
       "      <td>0.0</td>\n",
       "      <td>0.0</td>\n",
       "      <td>0.0</td>\n",
       "      <td>0.0</td>\n",
       "      <td>0.0</td>\n",
       "      <td>0.0</td>\n",
       "      <td>0.0</td>\n",
       "      <td>0.0</td>\n",
       "      <td>0.0</td>\n",
       "      <td>0.0</td>\n",
       "      <td>0.0</td>\n",
       "    </tr>\n",
       "    <tr>\n",
       "      <th>1</th>\n",
       "      <td>Forest fire near La Ronge Sask. Canada</td>\n",
       "      <td>1</td>\n",
       "      <td>forest fire near la ronge sask canada</td>\n",
       "      <td>forest fire near la rong sask canada</td>\n",
       "      <td>1</td>\n",
       "      <td>7</td>\n",
       "      <td>0</td>\n",
       "      <td>0.000000</td>\n",
       "      <td>0</td>\n",
       "      <td>4.571429</td>\n",
       "      <td>38</td>\n",
       "      <td>1</td>\n",
       "      <td>0</td>\n",
       "      <td>0</td>\n",
       "      <td>0.1</td>\n",
       "      <td>0.4</td>\n",
       "      <td>7</td>\n",
       "      <td>1.0</td>\n",
       "      <td>0.1</td>\n",
       "      <td>0.4</td>\n",
       "      <td>0.0</td>\n",
       "      <td>4.0</td>\n",
       "      <td>0.0</td>\n",
       "      <td>0.0</td>\n",
       "      <td>0.0</td>\n",
       "      <td>1.0</td>\n",
       "      <td>0.0</td>\n",
       "      <td>0.0</td>\n",
       "      <td>1.0</td>\n",
       "      <td>0.0</td>\n",
       "      <td>1.0</td>\n",
       "      <td>0.0</td>\n",
       "      <td>0.0</td>\n",
       "      <td>0.0</td>\n",
       "      <td>0.0</td>\n",
       "      <td>0.0</td>\n",
       "      <td>0.0</td>\n",
       "      <td>0.0</td>\n",
       "      <td>0.0</td>\n",
       "      <td>0.0</td>\n",
       "      <td>0.0</td>\n",
       "      <td>0.0</td>\n",
       "      <td>0.0</td>\n",
       "      <td>0.0</td>\n",
       "      <td>0.0</td>\n",
       "      <td>0.0</td>\n",
       "      <td>0.0</td>\n",
       "      <td>0.0</td>\n",
       "      <td>0.0</td>\n",
       "      <td>0.0</td>\n",
       "      <td>0.0</td>\n",
       "      <td>0.0</td>\n",
       "      <td>0.0</td>\n",
       "    </tr>\n",
       "  </tbody>\n",
       "</table>\n",
       "</div>"
      ],
      "text/plain": [
       "                                                                    text  target                                                          text_cleaned                          preprocessed_text  sentence_count  word_count  stop_word_count  stop_word_share  url_count  mean_word_length  char_count  punctuation_count  hashtag_count  mention_count  polarity_raw  subjectivity_raw  unique_word_count  unique_word_share  polarity  subjectivity   DT   NN  PRP$  NNS  VBP   IN   MD   VB   JJ  PRP  JJS  VBN  VBD   TO  VBG   CC   RB   EX  VBZ   CD   WP   RP  JJR  WRB   FW  WDT  NNP  RBR  RBS  PDT  SYM   UH  WP$\n",
       "0  Our Deeds are the Reason of this #earthquake May ALLAH Forgive us all       1  our deeds are the reason of this earthquake may allah forgive us all  deed reason earthquak may allah forgiv us               1          13                6         0.461538          0          4.384615          69                  1              1              0           0.0               0.0                  7                1.0       0.0           0.0  3.0  2.0   1.0  1.0  1.0  1.0  1.0  1.0  1.0  1.0  0.0  0.0  0.0  0.0  0.0  0.0  0.0  0.0  0.0  0.0  0.0  0.0  0.0  0.0  0.0  0.0  0.0  0.0  0.0  0.0  0.0  0.0  0.0\n",
       "1                                 Forest fire near La Ronge Sask. Canada       1                                 forest fire near la ronge sask canada       forest fire near la rong sask canada               1           7                0         0.000000          0          4.571429          38                  1              0              0           0.1               0.4                  7                1.0       0.1           0.4  0.0  4.0   0.0  0.0  0.0  1.0  0.0  0.0  1.0  0.0  1.0  0.0  0.0  0.0  0.0  0.0  0.0  0.0  0.0  0.0  0.0  0.0  0.0  0.0  0.0  0.0  0.0  0.0  0.0  0.0  0.0  0.0  0.0"
      ]
     },
     "execution_count": 4,
     "metadata": {},
     "output_type": "execute_result"
    }
   ],
   "source": [
    "train_df.head(2)"
   ]
  },
  {
   "cell_type": "markdown",
   "metadata": {},
   "source": [
    "## Data preparation"
   ]
  },
  {
   "cell_type": "markdown",
   "metadata": {},
   "source": [
    "We can drop features that we selected before.\n",
    "Features that are linearly dependent might have caused troubles in training linear models such as Logistic Regression."
   ]
  },
  {
   "cell_type": "code",
   "execution_count": 5,
   "metadata": {},
   "outputs": [],
   "source": [
    "drop_low_varience = ['SYM', 'WP$', 'UH', 'FW', 'RBS', 'NNP', 'sentence_count', 'unique_word_share', 'EX', 'punctuation_count', 'WP', 'CD', 'PRP$', 'hashtag_count', 'mention_count']\n",
    "drop_high_corr = ['char_count', 'stop_word_share', 'unique_word_count']"
   ]
  },
  {
   "cell_type": "code",
   "execution_count": 6,
   "metadata": {},
   "outputs": [
    {
     "name": "stdout",
     "output_type": "stream",
     "text": [
      "Number of columns in train set: 32\n"
     ]
    }
   ],
   "source": [
    "train_df.drop(['text', 'text_cleaned', 'preprocessed_text'], axis=1, inplace=True)\n",
    "train_df.drop(drop_low_varience, axis=1, inplace=True)\n",
    "train_df.drop(drop_high_corr, axis=1, inplace=True)\n",
    "\n",
    "print(\"Number of columns in train set: {}\".format(len(list(train_df))))"
   ]
  },
  {
   "cell_type": "code",
   "execution_count": 7,
   "metadata": {},
   "outputs": [
    {
     "name": "stdout",
     "output_type": "stream",
     "text": [
      "No missing values in data\n"
     ]
    }
   ],
   "source": [
    "if train_df.isnull().any().any():\n",
    "    print('Found missing values in data')\n",
    "else:\n",
    "    print('No missing values in data')"
   ]
  },
  {
   "cell_type": "code",
   "execution_count": 8,
   "metadata": {},
   "outputs": [],
   "source": [
    "train = train_df.drop('target', axis=1)\n",
    "y = train_df['target']\n",
    "\n",
    "X_train, X_test, y_train, y_test = train_test_split(train, y, test_size=0.3, random_state=13, stratify=y)"
   ]
  },
  {
   "cell_type": "code",
   "execution_count": 9,
   "metadata": {},
   "outputs": [
    {
     "data": {
      "text/plain": [
       "((5264, 31), (2256, 31))"
      ]
     },
     "execution_count": 9,
     "metadata": {},
     "output_type": "execute_result"
    }
   ],
   "source": [
    "X_train.shape, X_test.shape"
   ]
  },
  {
   "cell_type": "code",
   "execution_count": 10,
   "metadata": {},
   "outputs": [],
   "source": [
    "sc = StandardScaler()\n",
    "\n",
    "X_train_scaled = X_train.copy()\n",
    "X_train_scaled.loc[:, list(X_train_scaled)] = sc.fit_transform(X_train_scaled[list(X_train_scaled)])\n",
    "\n",
    "X_test_scaled = X_test.copy()\n",
    "X_test_scaled.loc[:, list(X_test_scaled)] = sc.transform(X_test_scaled[list(X_test_scaled)])"
   ]
  },
  {
   "cell_type": "markdown",
   "metadata": {},
   "source": [
    "### APPROACHES:\n",
    " - linear model (Logistic Regression),\n",
    " - boosting (XGBoost)"
   ]
  },
  {
   "cell_type": "markdown",
   "metadata": {},
   "source": [
    "**Define evaluation procedure.**\n",
    "\n",
    "We will use repeated cross-validation to evaluate the model, with 5-fold cross-validation."
   ]
  },
  {
   "cell_type": "code",
   "execution_count": 11,
   "metadata": {},
   "outputs": [],
   "source": [
    "kf = StratifiedKFold(n_splits=5, random_state=13, shuffle=True)"
   ]
  },
  {
   "cell_type": "markdown",
   "metadata": {},
   "source": [
    "**Define functions for reports with numbers and plots.**"
   ]
  },
  {
   "cell_type": "markdown",
   "metadata": {},
   "source": [
    "```The leaderboard is based on Mean F-Score which can be implemented with Macro Average F1 Score.```"
   ]
  },
  {
   "cell_type": "code",
   "execution_count": 12,
   "metadata": {},
   "outputs": [],
   "source": [
    "def plot_cv_with_err(model,\n",
    "                     data_X,\n",
    "                     data_y,\n",
    "                     parameter_name, \n",
    "                     params,\n",
    "                     cv_score,\n",
    "                     **kwargs):\n",
    "    \n",
    "    \"\"\"Plot results of cv_output_all\"\"\"\n",
    "    \n",
    "    val_train, val_test = validation_curve(model,\n",
    "                                           data_X,\n",
    "                                           data_y,\n",
    "                                           param_name=parameter_name,\n",
    "                                           param_range=params,\n",
    "                                           cv=kf,\n",
    "                                           scoring=cv_score)\n",
    "    \n",
    "    means_train = np.mean(val_train, axis=1)\n",
    "    stds_train = np.std(val_train, axis=1)\n",
    "    means_test = np.mean(val_test, axis=1)\n",
    "    stds_test = np.std(val_test, axis=1)\n",
    "\n",
    "    lines_train = plt.plot(params, means_train,\n",
    "                           '-', label='CV training scores on train set', **kwargs)\n",
    "    lines_test = plt.plot(params, means_test,\n",
    "                          '-', label='CV validation scores on train set', **kwargs)\n",
    "    \n",
    "    plt.fill_between(params, means_train - stds_train, means_train + stds_train,\n",
    "                     edgecolor='none', facecolor=lines_train[0].get_color(), alpha=0.2)\n",
    "    plt.fill_between(params, means_test - stds_test, means_test + stds_test,\n",
    "                     edgecolor='none', facecolor=lines_test[0].get_color(), alpha=0.2)"
   ]
  },
  {
   "cell_type": "code",
   "execution_count": 13,
   "metadata": {},
   "outputs": [],
   "source": [
    "def cv_output_all(model,\n",
    "                  data_X,\n",
    "                  data_y,\n",
    "                  parameter_name, \n",
    "                  params,\n",
    "                  cv_score):\n",
    "    \n",
    "    \"\"\"Same as plot_cv_with_err\"\"\"\n",
    "    \n",
    "    val_train, val_test = validation_curve(model,\n",
    "                                           data_X,\n",
    "                                           data_y,\n",
    "                                           param_name=parameter_name,\n",
    "                                           param_range=params,\n",
    "                                           cv=kf,\n",
    "                                           scoring=cv_score)\n",
    "    means_train = np.mean(val_train, axis=1)\n",
    "    stds_train = np.std(val_train, axis=1)\n",
    "    means_test = np.mean(val_test, axis=1)\n",
    "    stds_test = np.std(val_test, axis=1)\n",
    "    \n",
    "    print(\"                                    CV scores on Train set\")\n",
    "    print(\"================================================================================================\")\n",
    "    print(\"  mean_train_score (std_train_score) | mean_valid_score (std_valid_score) |      parameter\")\n",
    "    print(\"================================================================================================\")\n",
    "    for mean_tr, stdev_tr, mean_te, stdev_te, param \\\n",
    "            in zip(means_train, stds_train, means_test, stds_test, params):\n",
    "        print(\"    {:^{width}.{prec}}  ({:^{width}.{prec}}) |   {:^{width}.{prec}}  ({:^{width}.{prec}}) | {:{align}} = {:{align}.{prec}}\"\n",
    "              .format(mean_tr, stdev_tr,\n",
    "                      mean_te, stdev_te,\n",
    "                      parameter_name, param,\n",
    "                      align='<', width='14', prec=5))"
   ]
  },
  {
   "cell_type": "markdown",
   "metadata": {},
   "source": [
    "\n",
    "## LOGISTIC REGRESSION "
   ]
  },
  {
   "cell_type": "markdown",
   "metadata": {},
   "source": [
    "**Define model.**"
   ]
  },
  {
   "cell_type": "code",
   "execution_count": 14,
   "metadata": {},
   "outputs": [],
   "source": [
    "lr = LogisticRegression(solver='liblinear', penalty='l2', C=1e5,\n",
    "                        class_weight='balanced', random_state=13)"
   ]
  },
  {
   "cell_type": "code",
   "execution_count": 15,
   "metadata": {},
   "outputs": [
    {
     "data": {
      "text/plain": [
       "LogisticRegression(C=100000.0, class_weight='balanced', dual=False,\n",
       "                   fit_intercept=True, intercept_scaling=1, l1_ratio=None,\n",
       "                   max_iter=100, multi_class='auto', n_jobs=None, penalty='l2',\n",
       "                   random_state=13, solver='liblinear', tol=0.0001, verbose=0,\n",
       "                   warm_start=False)"
      ]
     },
     "execution_count": 15,
     "metadata": {},
     "output_type": "execute_result"
    }
   ],
   "source": [
    "lr.fit(X_train_scaled, y_train)"
   ]
  },
  {
   "cell_type": "markdown",
   "metadata": {},
   "source": [
    "**Evaluate model, establish a baseline.**"
   ]
  },
  {
   "cell_type": "code",
   "execution_count": 16,
   "metadata": {},
   "outputs": [
    {
     "name": "stdout",
     "output_type": "stream",
     "text": [
      "f1_score (train set): 0.67769\n",
      "\n",
      "f1_score (test set):  0.64907\n"
     ]
    }
   ],
   "source": [
    "print(\"f1_score (train set): {:.5}\".format(\n",
    "            f1_score(y_train, lr.predict(X_train_scaled), average='macro')\n",
    "))\n",
    "\n",
    "print(\"\\nf1_score (test set):  {:.5}\".format(\n",
    "            f1_score(y_test, lr.predict(X_test_scaled), average='macro')\n",
    "))"
   ]
  },
  {
   "cell_type": "code",
   "execution_count": 17,
   "metadata": {},
   "outputs": [
    {
     "data": {
      "image/png": "[encoded data removed]",
      "text/plain": [
       "<Figure size 1080x504 with 1 Axes>"
      ]
     },
     "metadata": {},
     "output_type": "display_data"
    }
   ],
   "source": [
    "plot_cv_with_err(model = lr,\n",
    "                 data_X = X_train_scaled,\n",
    "                 data_y = y_train,\n",
    "                 parameter_name = 'C', \n",
    "                 params = np.logspace(-2, 2, 10),\n",
    "                 cv_score = 'f1_macro')\n",
    "\n",
    "plt.xlabel(\"$C$ - coefficient of regularization\")\n",
    "plt.ylabel(\"F1-score\")\n",
    "plt.legend(loc='best')\n",
    "plt.grid(True)"
   ]
  },
  {
   "cell_type": "code",
   "execution_count": 18,
   "metadata": {},
   "outputs": [
    {
     "name": "stdout",
     "output_type": "stream",
     "text": [
      "Fitting 5 folds for each of 20 candidates, totalling 100 fits\n"
     ]
    },
    {
     "name": "stderr",
     "output_type": "stream",
     "text": [
      "[Parallel(n_jobs=1)]: Using backend SequentialBackend with 1 concurrent workers.\n"
     ]
    },
    {
     "name": "stdout",
     "output_type": "stream",
     "text": [
      "CPU times: user 8.22 s, sys: 300 ms, total: 8.52 s\n",
      "Wall time: 4.31 s\n",
      "\n",
      "Best_params: {'C': 0.01, 'penalty': 'l2'}, best_score: 0.67296\n"
     ]
    },
    {
     "name": "stderr",
     "output_type": "stream",
     "text": [
      "[Parallel(n_jobs=1)]: Done 100 out of 100 | elapsed:    4.3s finished\n"
     ]
    }
   ],
   "source": [
    "lr_1 = LogisticRegression(solver='liblinear', class_weight='balanced', random_state=13)\n",
    "\n",
    "lr_param_grid_1 = {'penalty': ['l1', 'l2'],\n",
    "                   'C': np.logspace(-2, 2, 10)}\n",
    "\n",
    "lr_clf_1 = GridSearchCV(estimator=lr_1, cv=kf, param_grid=lr_param_grid_1, scoring='f1_macro', verbose=1)\n",
    "\n",
    "%time  lr_clf_1.fit(X_train_scaled, y_train)\n",
    "\n",
    "print(\"\\nBest_params: {}, best_score: {:.5}\".format(lr_clf_1.best_params_, lr_clf_1.best_score_))"
   ]
  },
  {
   "cell_type": "code",
   "execution_count": 19,
   "metadata": {},
   "outputs": [
    {
     "name": "stderr",
     "output_type": "stream",
     "text": [
      "[Parallel(n_jobs=1)]: Using backend SequentialBackend with 1 concurrent workers.\n"
     ]
    },
    {
     "name": "stdout",
     "output_type": "stream",
     "text": [
      "Fitting 5 folds for each of 40 candidates, totalling 200 fits\n",
      "CPU times: user 13.3 s, sys: 481 ms, total: 13.7 s\n",
      "Wall time: 6.91 s\n",
      "\n",
      "Best_params: {'C': 5.897846153846154, 'penalty': 'l2'}, best_score: 0.67186\n"
     ]
    },
    {
     "name": "stderr",
     "output_type": "stream",
     "text": [
      "[Parallel(n_jobs=1)]: Done 200 out of 200 | elapsed:    6.9s finished\n"
     ]
    }
   ],
   "source": [
    "lr_2 = LogisticRegression(solver='liblinear', class_weight='balanced', random_state=13)\n",
    "\n",
    "lr_param_grid_2 = {'penalty': ['l2'],\n",
    "                   'C': np.linspace(0.001, 10, 40)}\n",
    "\n",
    "lr_clf_2 = GridSearchCV(estimator=lr_2, cv=kf, param_grid=lr_param_grid_2, scoring='f1_macro', verbose=1)\n",
    "\n",
    "%time  lr_clf_2.fit(X_train_scaled, y_train)\n",
    "\n",
    "print(\"\\nBest_params: {}, best_score: {:.5}\".format(lr_clf_2.best_params_, lr_clf_2.best_score_))"
   ]
  },
  {
   "cell_type": "markdown",
   "metadata": {},
   "source": [
    "**Final model.**"
   ]
  },
  {
   "cell_type": "code",
   "execution_count": 20,
   "metadata": {},
   "outputs": [
    {
     "name": "stdout",
     "output_type": "stream",
     "text": [
      "CPU times: user 106 ms, sys: 3.9 ms, total: 109 ms\n",
      "Wall time: 54.9 ms\n"
     ]
    },
    {
     "data": {
      "text/plain": [
       "LogisticRegression(C=1.8, class_weight='balanced', dual=False,\n",
       "                   fit_intercept=True, intercept_scaling=1, l1_ratio=None,\n",
       "                   max_iter=100, multi_class='auto', n_jobs=None, penalty='l2',\n",
       "                   random_state=13, solver='liblinear', tol=0.0001, verbose=0,\n",
       "                   warm_start=False)"
      ]
     },
     "execution_count": 20,
     "metadata": {},
     "output_type": "execute_result"
    }
   ],
   "source": [
    "lr_final = LogisticRegression(C=1.8, penalty='l2', solver='liblinear', class_weight='balanced', random_state=13)\n",
    "\n",
    "%time lr_final.fit(X_train_scaled, y_train)"
   ]
  },
  {
   "cell_type": "markdown",
   "metadata": {},
   "source": [
    "**Evaluate model.**"
   ]
  },
  {
   "cell_type": "code",
   "execution_count": 21,
   "metadata": {},
   "outputs": [
    {
     "name": "stdout",
     "output_type": "stream",
     "text": [
      "f1_score (train set): 0.67731\n",
      "\n",
      "f1_score (test set):  0.64865\n"
     ]
    }
   ],
   "source": [
    "print(\"f1_score (train set): {:.5}\".format(\n",
    "            f1_score(y_train, lr_final.predict(X_train_scaled), average='macro')\n",
    "))\n",
    "\n",
    "print(\"\\nf1_score (test set):  {:.5}\".format(\n",
    "            f1_score(y_test, lr_final.predict(X_test_scaled), average='macro')\n",
    "))"
   ]
  },
  {
   "cell_type": "code",
   "execution_count": 22,
   "metadata": {},
   "outputs": [
    {
     "data": {
      "image/png": "[encoded data removed]",
      "text/plain": [
       "<Figure size 1080x504 with 1 Axes>"
      ]
     },
     "metadata": {},
     "output_type": "display_data"
    }
   ],
   "source": [
    "plot_cv_with_err(model = lr_final,\n",
    "                 data_X = X_train_scaled,\n",
    "                 data_y = y_train,\n",
    "                 parameter_name = 'C', \n",
    "                 params = np.logspace(-2, 2, 10),\n",
    "                 cv_score = 'f1_macro')\n",
    "\n",
    "plt.xlabel(\"$C$ - coefficient of regularization\")\n",
    "plt.ylabel(\"F1-score\")\n",
    "plt.legend(loc='best')\n",
    "plt.grid(True)"
   ]
  },
  {
   "cell_type": "markdown",
   "metadata": {},
   "source": [
    "The trend is quite visible.\n",
    "\n",
    "Training and validation errors differ significantly. This can be explained by **overfitting**. When there are too many parameters or regularization is not strict enough, the algorithm can be \"distracted\" by the noise in the data and lose track of the overall trend."
   ]
  },
  {
   "cell_type": "markdown",
   "metadata": {},
   "source": [
    "Our model tend to be overfitted."
   ]
  },
  {
   "cell_type": "code",
   "execution_count": 23,
   "metadata": {},
   "outputs": [
    {
     "name": "stdout",
     "output_type": "stream",
     "text": [
      "                                    CV scores on Train set\n",
      "================================================================================================\n",
      "  mean_train_score (std_train_score) | mean_valid_score (std_valid_score) |      parameter\n",
      "================================================================================================\n",
      "       0.67058      (  0.0023077   ) |      0.67056      (  0.0030847   ) | C = 0.001\n",
      "       0.67777      (  0.0014303   ) |      0.67189      (  0.0019908   ) | C = 0.12918\n",
      "       0.67821      (  0.0016942   ) |      0.67071      (  0.0012415   ) | C = 0.25736\n",
      "       0.67804      (  0.0013944   ) |      0.67089      (   0.001246   ) | C = 0.38554\n",
      "       0.67846      (  0.0011577   ) |      0.67071      (  0.00099017  ) | C = 0.51372\n",
      "       0.67887      (  0.0011056   ) |      0.67109      (  0.0011508   ) | C = 0.6419\n",
      "       0.67877      (   0.001149   ) |      0.67091      (  0.0014706   ) | C = 0.77008\n",
      "       0.67872      (  0.0011805   ) |      0.67111      (  0.0014969   ) | C = 0.89826\n",
      "       0.67872      (  0.0011779   ) |      0.67111      (  0.0015383   ) | C = 1.0264\n",
      "       0.67882      (  0.0013544   ) |      0.67131      (  0.0015579   ) | C = 1.1546\n",
      "       0.67881      (  0.0013449   ) |      0.67131      (  0.0015579   ) | C = 1.2828\n",
      "       0.67876      (  0.0013852   ) |      0.67149      (  0.0016946   ) | C = 1.411\n",
      "       0.67876      (  0.0013852   ) |      0.67149      (  0.0016946   ) | C = 1.5392\n",
      "       0.67876      (  0.0013852   ) |      0.67149      (  0.0016946   ) | C = 1.6673\n",
      "       0.67881      (  0.0013572   ) |      0.67149      (  0.0016946   ) | C = 1.7955\n",
      "       0.67881      (  0.0013572   ) |      0.67168      (   0.001349   ) | C = 1.9237\n",
      "       0.67881      (  0.0013572   ) |      0.67168      (   0.001349   ) | C = 2.0519\n",
      "       0.67881      (  0.0013572   ) |      0.67168      (   0.001349   ) | C = 2.1801\n",
      "       0.67881      (  0.0013572   ) |      0.67168      (   0.001349   ) | C = 2.3082\n",
      "       0.67881      (  0.0013572   ) |      0.67168      (   0.001349   ) | C = 2.4364\n",
      "       0.67885      (  0.0013348   ) |      0.67168      (   0.001349   ) | C = 2.5646\n",
      "       0.67885      (  0.0013348   ) |      0.67168      (   0.001349   ) | C = 2.6928\n",
      "       0.67885      (  0.0013348   ) |      0.67168      (   0.001349   ) | C = 2.8209\n",
      "       0.67885      (  0.0013348   ) |      0.67168      (   0.001349   ) | C = 2.9491\n",
      "       0.67885      (  0.0013348   ) |      0.67168      (   0.001349   ) | C = 3.0773\n",
      "       0.67885      (  0.0013348   ) |      0.67168      (   0.001349   ) | C = 3.2055\n",
      "       0.67885      (  0.0013348   ) |      0.67168      (   0.001349   ) | C = 3.3337\n",
      "       0.67885      (  0.0013348   ) |      0.67168      (   0.001349   ) | C = 3.4618\n",
      "       0.67885      (  0.0013348   ) |      0.67168      (   0.001349   ) | C = 3.59\n",
      "       0.67881      (  0.0013572   ) |      0.67168      (   0.001349   ) | C = 3.7182\n",
      "       0.67881      (  0.0013572   ) |      0.67168      (   0.001349   ) | C = 3.8464\n",
      "       0.67881      (  0.0013572   ) |      0.67168      (   0.001349   ) | C = 3.9746\n",
      "       0.67881      (  0.0013572   ) |      0.67168      (   0.001349   ) | C = 4.1027\n",
      "       0.67881      (  0.0013572   ) |      0.67168      (   0.001349   ) | C = 4.2309\n",
      "       0.67881      (  0.0013572   ) |      0.67168      (   0.001349   ) | C = 4.3591\n",
      "       0.67881      (  0.0013572   ) |      0.67168      (   0.001349   ) | C = 4.4873\n",
      "       0.67881      (  0.0013572   ) |      0.67168      (   0.001349   ) | C = 4.6155\n",
      "       0.67881      (  0.0013572   ) |      0.67168      (   0.001349   ) | C = 4.7436\n",
      "       0.67881      (  0.0013572   ) |      0.67168      (   0.001349   ) | C = 4.8718\n",
      "       0.67881      (  0.0013572   ) |      0.67168      (   0.001349   ) | C = 5.0\n"
     ]
    }
   ],
   "source": [
    "cv_output_all(model = lr_final,\n",
    "              data_X = X_train_scaled,\n",
    "              data_y = y_train,\n",
    "              parameter_name = 'C', \n",
    "              params = np.linspace(0.001, 5, 40),\n",
    "              cv_score = 'f1_macro'\n",
    "             )"
   ]
  },
  {
   "cell_type": "markdown",
   "metadata": {},
   "source": [
    "\n",
    "## XGBoost Classifier"
   ]
  },
  {
   "cell_type": "markdown",
   "metadata": {},
   "source": [
    "Before any modification or tuning is made to the XGBoost algorithm for imbalanced classification, it is important to test the default XGBoost model and **establish a baseline in performance**."
   ]
  },
  {
   "cell_type": "markdown",
   "metadata": {},
   "source": [
    "**Define model.**"
   ]
  },
  {
   "cell_type": "code",
   "execution_count": 24,
   "metadata": {},
   "outputs": [],
   "source": [
    "xgb = XGBClassifier(objective='binary:logistic', booster='gbtree', random_state=13)"
   ]
  },
  {
   "cell_type": "markdown",
   "metadata": {},
   "source": [
    "**Fit model (optimize model loss function).**"
   ]
  },
  {
   "cell_type": "code",
   "execution_count": 25,
   "metadata": {},
   "outputs": [
    {
     "data": {
      "text/plain": [
       "XGBClassifier(base_score=0.5, booster='gbtree', colsample_bylevel=1,\n",
       "              colsample_bynode=1, colsample_bytree=1, gamma=0, gpu_id=-1,\n",
       "              importance_type='gain', interaction_constraints='',\n",
       "              learning_rate=0.300000012, max_delta_step=0, max_depth=6,\n",
       "              min_child_weight=1, missing=nan, monotone_constraints='()',\n",
       "              n_estimators=100, n_jobs=0, num_parallel_tree=1,\n",
       "              objective='binary:logistic', random_state=13, reg_alpha=0,\n",
       "              reg_lambda=1, scale_pos_weight=1, subsample=1,\n",
       "              tree_method='exact', validate_parameters=1, verbosity=None)"
      ]
     },
     "execution_count": 25,
     "metadata": {},
     "output_type": "execute_result"
    }
   ],
   "source": [
    "xgb.fit(X_train, y_train)"
   ]
  },
  {
   "cell_type": "markdown",
   "metadata": {},
   "source": [
    "**Evaluate model, establish a baseline.**"
   ]
  },
  {
   "cell_type": "code",
   "execution_count": 26,
   "metadata": {},
   "outputs": [
    {
     "name": "stdout",
     "output_type": "stream",
     "text": [
      "f1_score (train set): 0.93235\n",
      "\n",
      "f1_score (test set):  0.68137\n"
     ]
    }
   ],
   "source": [
    "print(\"f1_score (train set): {:.5}\".format(\n",
    "            f1_score(y_train, xgb.predict(X_train), average='macro')\n",
    "))\n",
    "\n",
    "print(\"\\nf1_score (test set):  {:.5}\".format(\n",
    "            f1_score(y_test, xgb.predict(X_test), average='macro')\n",
    "))"
   ]
  },
  {
   "cell_type": "markdown",
   "metadata": {},
   "source": [
    "**Imbalanced Classification.**\n",
    "\n",
    "The *scale_pos_weight* can be used to train a class-weighted or cost-sensitive version of XGBoost for imbalanced classification.\n",
    "\n",
    "- #### scale_pos_weight = total_negative_examples / total_positive_examples"
   ]
  },
  {
   "cell_type": "code",
   "execution_count": 27,
   "metadata": {},
   "outputs": [
    {
     "name": "stdout",
     "output_type": "stream",
     "text": [
      "scale_pos_weight: 1.336\n"
     ]
    }
   ],
   "source": [
    "counter = Counter(y_train)\n",
    "estimate = counter[0] / counter[1]\n",
    "print('scale_pos_weight: %.3f' % estimate)"
   ]
  },
  {
   "cell_type": "markdown",
   "metadata": {},
   "source": [
    "**Hyperparameter optimization.**"
   ]
  },
  {
   "cell_type": "code",
   "execution_count": 28,
   "metadata": {},
   "outputs": [
    {
     "data": {
      "text/plain": [
       "XGBClassifier(base_score=0.5, booster='gbtree', colsample_bylevel=1,\n",
       "              colsample_bynode=1, colsample_bytree=0.55, gamma=0.1, gpu_id=-1,\n",
       "              importance_type='gain', interaction_constraints='',\n",
       "              learning_rate=0.3, max_delta_step=0, max_depth=8,\n",
       "              min_child_weight=94, missing=nan, monotone_constraints='()',\n",
       "              n_estimators=100, n_jobs=0, num_parallel_tree=1,\n",
       "              objective='binary:logistic', random_state=13, reg_alpha=1e-05,\n",
       "              reg_lambda=1, scale_pos_weight=1.336, subsample=0.9,\n",
       "              tree_method='exact', validate_parameters=1, verbosity=None)"
      ]
     },
     "execution_count": 28,
     "metadata": {},
     "output_type": "execute_result"
    }
   ],
   "source": [
    "xgb_1 = XGBClassifier(scale_pos_weight=1.336, learning_rate=0.3,\n",
    "                      max_depth=8, min_child_weight=94, gamma=0.1,\n",
    "                      colsample_bytree=0.55, subsample=0.9,\n",
    "                      reg_alpha=1e-05, reg_lambda=1,\n",
    "                      objective='binary:logistic', booster='gbtree', random_state=13)\n",
    "\n",
    "xgb_1.fit(X_train, y_train)"
   ]
  },
  {
   "cell_type": "code",
   "execution_count": 29,
   "metadata": {},
   "outputs": [
    {
     "name": "stdout",
     "output_type": "stream",
     "text": [
      "f1_score (train set): 0.74607\n",
      "\n",
      "f1_score (test set):  0.68832\n"
     ]
    }
   ],
   "source": [
    "print(\"f1_score (train set): {:.5}\".format(\n",
    "            f1_score(y_train, xgb_1.predict(X_train), average='macro')\n",
    "))\n",
    "\n",
    "print(\"\\nf1_score (test set):  {:.5}\".format(\n",
    "            f1_score(y_test, xgb_1.predict(X_test), average='macro')\n",
    "))"
   ]
  },
  {
   "cell_type": "markdown",
   "metadata": {},
   "source": [
    "**Early Stopping to Avoid Overfitting.**\n",
    "\n",
    "It avoids overfitting by attempting to automatically select the inflection point where **performance on the test dataset starts to decrease** while **performance on the training dataset continues to improve** as the model starts to overfit."
   ]
  },
  {
   "cell_type": "code",
   "execution_count": 30,
   "metadata": {},
   "outputs": [
    {
     "name": "stdout",
     "output_type": "stream",
     "text": [
      "[0]\tvalidation_0-error:0.37635\tvalidation_0-logloss:0.67097\tvalidation_1-error:0.36364\tvalidation_1-logloss:0.66702\n",
      "[1]\tvalidation_0-error:0.33920\tvalidation_0-logloss:0.65062\tvalidation_1-error:0.33084\tvalidation_1-logloss:0.64534\n",
      "[2]\tvalidation_0-error:0.33664\tvalidation_0-logloss:0.63863\tvalidation_1-error:0.32278\tvalidation_1-logloss:0.63157\n",
      "[3]\tvalidation_0-error:0.32246\tvalidation_0-logloss:0.62526\tvalidation_1-error:0.31473\tvalidation_1-logloss:0.61873\n",
      "[4]\tvalidation_0-error:0.32133\tvalidation_0-logloss:0.61740\tvalidation_1-error:0.31128\tvalidation_1-logloss:0.61035\n",
      "[5]\tvalidation_0-error:0.32048\tvalidation_0-logloss:0.61157\tvalidation_1-error:0.30725\tvalidation_1-logloss:0.60488\n",
      "[6]\tvalidation_0-error:0.32303\tvalidation_0-logloss:0.60781\tvalidation_1-error:0.31128\tvalidation_1-logloss:0.60251\n",
      "[7]\tvalidation_0-error:0.31821\tvalidation_0-logloss:0.60359\tvalidation_1-error:0.31646\tvalidation_1-logloss:0.60176\n",
      "[8]\tvalidation_0-error:0.31339\tvalidation_0-logloss:0.60049\tvalidation_1-error:0.30955\tvalidation_1-logloss:0.59880\n",
      "[9]\tvalidation_0-error:0.31254\tvalidation_0-logloss:0.59793\tvalidation_1-error:0.31300\tvalidation_1-logloss:0.59608\n",
      "[10]\tvalidation_0-error:0.31310\tvalidation_0-logloss:0.59607\tvalidation_1-error:0.31243\tvalidation_1-logloss:0.59509\n",
      "[11]\tvalidation_0-error:0.31027\tvalidation_0-logloss:0.59360\tvalidation_1-error:0.30840\tvalidation_1-logloss:0.59257\n",
      "[12]\tvalidation_0-error:0.30998\tvalidation_0-logloss:0.59172\tvalidation_1-error:0.31013\tvalidation_1-logloss:0.59227\n",
      "[13]\tvalidation_0-error:0.31027\tvalidation_0-logloss:0.59059\tvalidation_1-error:0.30840\tvalidation_1-logloss:0.59133\n",
      "[14]\tvalidation_0-error:0.30998\tvalidation_0-logloss:0.58947\tvalidation_1-error:0.30725\tvalidation_1-logloss:0.59149\n",
      "[15]\tvalidation_0-error:0.31140\tvalidation_0-logloss:0.58851\tvalidation_1-error:0.30898\tvalidation_1-logloss:0.59132\n",
      "[16]\tvalidation_0-error:0.30998\tvalidation_0-logloss:0.58711\tvalidation_1-error:0.31128\tvalidation_1-logloss:0.59193\n",
      "[17]\tvalidation_0-error:0.31083\tvalidation_0-logloss:0.58543\tvalidation_1-error:0.31415\tvalidation_1-logloss:0.59183\n",
      "[18]\tvalidation_0-error:0.30686\tvalidation_0-logloss:0.58416\tvalidation_1-error:0.31588\tvalidation_1-logloss:0.59197\n",
      "[19]\tvalidation_0-error:0.30516\tvalidation_0-logloss:0.58304\tvalidation_1-error:0.31588\tvalidation_1-logloss:0.59204\n",
      "[20]\tvalidation_0-error:0.30828\tvalidation_0-logloss:0.58101\tvalidation_1-error:0.31588\tvalidation_1-logloss:0.59125\n",
      "[21]\tvalidation_0-error:0.30686\tvalidation_0-logloss:0.58004\tvalidation_1-error:0.31243\tvalidation_1-logloss:0.59073\n",
      "[22]\tvalidation_0-error:0.30346\tvalidation_0-logloss:0.57929\tvalidation_1-error:0.31531\tvalidation_1-logloss:0.59014\n",
      "[23]\tvalidation_0-error:0.30630\tvalidation_0-logloss:0.57882\tvalidation_1-error:0.31761\tvalidation_1-logloss:0.59013\n",
      "[24]\tvalidation_0-error:0.30715\tvalidation_0-logloss:0.57778\tvalidation_1-error:0.31588\tvalidation_1-logloss:0.59045\n",
      "[25]\tvalidation_0-error:0.30743\tvalidation_0-logloss:0.57712\tvalidation_1-error:0.31415\tvalidation_1-logloss:0.58920\n",
      "[26]\tvalidation_0-error:0.30658\tvalidation_0-logloss:0.57608\tvalidation_1-error:0.31300\tvalidation_1-logloss:0.58909\n",
      "[27]\tvalidation_0-error:0.30431\tvalidation_0-logloss:0.57566\tvalidation_1-error:0.31531\tvalidation_1-logloss:0.58907\n",
      "[28]\tvalidation_0-error:0.30856\tvalidation_0-logloss:0.57478\tvalidation_1-error:0.31243\tvalidation_1-logloss:0.58890\n",
      "[29]\tvalidation_0-error:0.30573\tvalidation_0-logloss:0.57437\tvalidation_1-error:0.31243\tvalidation_1-logloss:0.58902\n",
      "[30]\tvalidation_0-error:0.30715\tvalidation_0-logloss:0.57370\tvalidation_1-error:0.31531\tvalidation_1-logloss:0.58867\n",
      "[31]\tvalidation_0-error:0.30658\tvalidation_0-logloss:0.57311\tvalidation_1-error:0.31473\tvalidation_1-logloss:0.58802\n",
      "[32]\tvalidation_0-error:0.30403\tvalidation_0-logloss:0.57247\tvalidation_1-error:0.31818\tvalidation_1-logloss:0.58794\n",
      "[33]\tvalidation_0-error:0.30715\tvalidation_0-logloss:0.57198\tvalidation_1-error:0.31761\tvalidation_1-logloss:0.58764\n",
      "[34]\tvalidation_0-error:0.30119\tvalidation_0-logloss:0.57100\tvalidation_1-error:0.31243\tvalidation_1-logloss:0.58780\n",
      "[35]\tvalidation_0-error:0.29949\tvalidation_0-logloss:0.56972\tvalidation_1-error:0.31415\tvalidation_1-logloss:0.58809\n",
      "[36]\tvalidation_0-error:0.30261\tvalidation_0-logloss:0.56922\tvalidation_1-error:0.31415\tvalidation_1-logloss:0.58887\n",
      "[37]\tvalidation_0-error:0.29750\tvalidation_0-logloss:0.56825\tvalidation_1-error:0.31531\tvalidation_1-logloss:0.58778\n",
      "[38]\tvalidation_0-error:0.29609\tvalidation_0-logloss:0.56753\tvalidation_1-error:0.31185\tvalidation_1-logloss:0.58725\n",
      "[39]\tvalidation_0-error:0.29609\tvalidation_0-logloss:0.56609\tvalidation_1-error:0.31818\tvalidation_1-logloss:0.58681\n",
      "[40]\tvalidation_0-error:0.29835\tvalidation_0-logloss:0.56565\tvalidation_1-error:0.31473\tvalidation_1-logloss:0.58754\n",
      "[41]\tvalidation_0-error:0.29694\tvalidation_0-logloss:0.56523\tvalidation_1-error:0.31185\tvalidation_1-logloss:0.58829\n",
      "[42]\tvalidation_0-error:0.29410\tvalidation_0-logloss:0.56500\tvalidation_1-error:0.31128\tvalidation_1-logloss:0.58744\n",
      "[43]\tvalidation_0-error:0.29637\tvalidation_0-logloss:0.56410\tvalidation_1-error:0.30840\tvalidation_1-logloss:0.58724\n",
      "[44]\tvalidation_0-error:0.29212\tvalidation_0-logloss:0.56345\tvalidation_1-error:0.31243\tvalidation_1-logloss:0.58713\n",
      "[45]\tvalidation_0-error:0.28985\tvalidation_0-logloss:0.56309\tvalidation_1-error:0.31300\tvalidation_1-logloss:0.58766\n",
      "[46]\tvalidation_0-error:0.28985\tvalidation_0-logloss:0.56198\tvalidation_1-error:0.31473\tvalidation_1-logloss:0.58708\n",
      "[47]\tvalidation_0-error:0.29070\tvalidation_0-logloss:0.56156\tvalidation_1-error:0.30955\tvalidation_1-logloss:0.58667\n",
      "[48]\tvalidation_0-error:0.28843\tvalidation_0-logloss:0.56149\tvalidation_1-error:0.31070\tvalidation_1-logloss:0.58783\n",
      "[49]\tvalidation_0-error:0.28956\tvalidation_0-logloss:0.56100\tvalidation_1-error:0.31243\tvalidation_1-logloss:0.58791\n",
      "[50]\tvalidation_0-error:0.28644\tvalidation_0-logloss:0.56031\tvalidation_1-error:0.31473\tvalidation_1-logloss:0.58773\n",
      "[51]\tvalidation_0-error:0.28616\tvalidation_0-logloss:0.55989\tvalidation_1-error:0.31588\tvalidation_1-logloss:0.58784\n",
      "[52]\tvalidation_0-error:0.28616\tvalidation_0-logloss:0.55944\tvalidation_1-error:0.31300\tvalidation_1-logloss:0.58746\n",
      "[53]\tvalidation_0-error:0.28701\tvalidation_0-logloss:0.55890\tvalidation_1-error:0.31531\tvalidation_1-logloss:0.58781\n",
      "[54]\tvalidation_0-error:0.28729\tvalidation_0-logloss:0.55850\tvalidation_1-error:0.31703\tvalidation_1-logloss:0.58853\n",
      "[55]\tvalidation_0-error:0.28559\tvalidation_0-logloss:0.55756\tvalidation_1-error:0.31415\tvalidation_1-logloss:0.58814\n",
      "[56]\tvalidation_0-error:0.28446\tvalidation_0-logloss:0.55675\tvalidation_1-error:0.31358\tvalidation_1-logloss:0.58756\n",
      "[57]\tvalidation_0-error:0.28247\tvalidation_0-logloss:0.55591\tvalidation_1-error:0.30840\tvalidation_1-logloss:0.58705\n",
      "[58]\tvalidation_0-error:0.28361\tvalidation_0-logloss:0.55564\tvalidation_1-error:0.31128\tvalidation_1-logloss:0.58724\n",
      "[59]\tvalidation_0-error:0.28389\tvalidation_0-logloss:0.55518\tvalidation_1-error:0.31300\tvalidation_1-logloss:0.58665\n",
      "[60]\tvalidation_0-error:0.28418\tvalidation_0-logloss:0.55485\tvalidation_1-error:0.31013\tvalidation_1-logloss:0.58663\n",
      "[61]\tvalidation_0-error:0.28588\tvalidation_0-logloss:0.55476\tvalidation_1-error:0.31300\tvalidation_1-logloss:0.58752\n",
      "[62]\tvalidation_0-error:0.28474\tvalidation_0-logloss:0.55398\tvalidation_1-error:0.31300\tvalidation_1-logloss:0.58818\n",
      "[63]\tvalidation_0-error:0.28389\tvalidation_0-logloss:0.55360\tvalidation_1-error:0.31531\tvalidation_1-logloss:0.58806\n",
      "[64]\tvalidation_0-error:0.28446\tvalidation_0-logloss:0.55230\tvalidation_1-error:0.31300\tvalidation_1-logloss:0.58736\n",
      "[65]\tvalidation_0-error:0.28332\tvalidation_0-logloss:0.55186\tvalidation_1-error:0.31358\tvalidation_1-logloss:0.58696\n",
      "[66]\tvalidation_0-error:0.28446\tvalidation_0-logloss:0.55153\tvalidation_1-error:0.31473\tvalidation_1-logloss:0.58656\n",
      "[67]\tvalidation_0-error:0.28191\tvalidation_0-logloss:0.55135\tvalidation_1-error:0.31531\tvalidation_1-logloss:0.58634\n",
      "[68]\tvalidation_0-error:0.28134\tvalidation_0-logloss:0.55067\tvalidation_1-error:0.31588\tvalidation_1-logloss:0.58587\n",
      "[69]\tvalidation_0-error:0.28049\tvalidation_0-logloss:0.55020\tvalidation_1-error:0.31185\tvalidation_1-logloss:0.58635\n",
      "[70]\tvalidation_0-error:0.28105\tvalidation_0-logloss:0.55009\tvalidation_1-error:0.31415\tvalidation_1-logloss:0.58644\n"
     ]
    },
    {
     "name": "stdout",
     "output_type": "stream",
     "text": [
      "[71]\tvalidation_0-error:0.28020\tvalidation_0-logloss:0.54977\tvalidation_1-error:0.31300\tvalidation_1-logloss:0.58690\n",
      "[72]\tvalidation_0-error:0.28020\tvalidation_0-logloss:0.54940\tvalidation_1-error:0.31588\tvalidation_1-logloss:0.58704\n",
      "[73]\tvalidation_0-error:0.27992\tvalidation_0-logloss:0.54914\tvalidation_1-error:0.31703\tvalidation_1-logloss:0.58749\n",
      "[74]\tvalidation_0-error:0.27964\tvalidation_0-logloss:0.54827\tvalidation_1-error:0.31876\tvalidation_1-logloss:0.58743\n",
      "[75]\tvalidation_0-error:0.27680\tvalidation_0-logloss:0.54792\tvalidation_1-error:0.31818\tvalidation_1-logloss:0.58816\n",
      "[76]\tvalidation_0-error:0.27623\tvalidation_0-logloss:0.54760\tvalidation_1-error:0.31933\tvalidation_1-logloss:0.58870\n",
      "[77]\tvalidation_0-error:0.27850\tvalidation_0-logloss:0.54751\tvalidation_1-error:0.31818\tvalidation_1-logloss:0.58933\n",
      "[78]\tvalidation_0-error:0.27623\tvalidation_0-logloss:0.54721\tvalidation_1-error:0.31933\tvalidation_1-logloss:0.58900\n",
      "[79]\tvalidation_0-error:0.27567\tvalidation_0-logloss:0.54726\tvalidation_1-error:0.31531\tvalidation_1-logloss:0.58899\n",
      "[80]\tvalidation_0-error:0.27793\tvalidation_0-logloss:0.54685\tvalidation_1-error:0.31588\tvalidation_1-logloss:0.58866\n",
      "[81]\tvalidation_0-error:0.27595\tvalidation_0-logloss:0.54635\tvalidation_1-error:0.31646\tvalidation_1-logloss:0.58864\n",
      "[82]\tvalidation_0-error:0.27567\tvalidation_0-logloss:0.54576\tvalidation_1-error:0.31761\tvalidation_1-logloss:0.58818\n",
      "[83]\tvalidation_0-error:0.27765\tvalidation_0-logloss:0.54562\tvalidation_1-error:0.31818\tvalidation_1-logloss:0.58826\n",
      "[84]\tvalidation_0-error:0.27652\tvalidation_0-logloss:0.54499\tvalidation_1-error:0.31818\tvalidation_1-logloss:0.58823\n",
      "[85]\tvalidation_0-error:0.27567\tvalidation_0-logloss:0.54472\tvalidation_1-error:0.31531\tvalidation_1-logloss:0.58827\n",
      "[86]\tvalidation_0-error:0.27652\tvalidation_0-logloss:0.54438\tvalidation_1-error:0.31761\tvalidation_1-logloss:0.58840\n",
      "[87]\tvalidation_0-error:0.27482\tvalidation_0-logloss:0.54403\tvalidation_1-error:0.31588\tvalidation_1-logloss:0.58795\n",
      "[88]\tvalidation_0-error:0.27340\tvalidation_0-logloss:0.54387\tvalidation_1-error:0.31300\tvalidation_1-logloss:0.58807\n",
      "[89]\tvalidation_0-error:0.27255\tvalidation_0-logloss:0.54388\tvalidation_1-error:0.31473\tvalidation_1-logloss:0.58870\n",
      "[90]\tvalidation_0-error:0.27255\tvalidation_0-logloss:0.54344\tvalidation_1-error:0.31300\tvalidation_1-logloss:0.58822\n",
      "[91]\tvalidation_0-error:0.27085\tvalidation_0-logloss:0.54260\tvalidation_1-error:0.31415\tvalidation_1-logloss:0.58705\n",
      "[92]\tvalidation_0-error:0.27198\tvalidation_0-logloss:0.54214\tvalidation_1-error:0.31646\tvalidation_1-logloss:0.58774\n",
      "[93]\tvalidation_0-error:0.27113\tvalidation_0-logloss:0.54136\tvalidation_1-error:0.31531\tvalidation_1-logloss:0.58796\n",
      "[94]\tvalidation_0-error:0.27085\tvalidation_0-logloss:0.54095\tvalidation_1-error:0.31415\tvalidation_1-logloss:0.58817\n",
      "[95]\tvalidation_0-error:0.27311\tvalidation_0-logloss:0.54053\tvalidation_1-error:0.31415\tvalidation_1-logloss:0.58773\n",
      "[96]\tvalidation_0-error:0.27255\tvalidation_0-logloss:0.54012\tvalidation_1-error:0.31243\tvalidation_1-logloss:0.58771\n",
      "[97]\tvalidation_0-error:0.26943\tvalidation_0-logloss:0.53969\tvalidation_1-error:0.31243\tvalidation_1-logloss:0.58736\n",
      "[98]\tvalidation_0-error:0.26801\tvalidation_0-logloss:0.53924\tvalidation_1-error:0.31128\tvalidation_1-logloss:0.58652\n",
      "[99]\tvalidation_0-error:0.26801\tvalidation_0-logloss:0.53888\tvalidation_1-error:0.31128\tvalidation_1-logloss:0.58646\n"
     ]
    },
    {
     "data": {
      "text/plain": [
       "XGBClassifier(base_score=0.5, booster='gbtree', colsample_bylevel=1,\n",
       "              colsample_bynode=1, colsample_bytree=0.55, gamma=0.1, gpu_id=-1,\n",
       "              importance_type='gain', interaction_constraints='',\n",
       "              learning_rate=0.3, max_delta_step=0, max_depth=8,\n",
       "              min_child_weight=94, missing=nan, monotone_constraints='()',\n",
       "              n_estimators=100, n_jobs=0, num_parallel_tree=1,\n",
       "              objective='binary:logistic', random_state=13, reg_alpha=1e-05,\n",
       "              reg_lambda=1, scale_pos_weight=1.336, subsample=0.9,\n",
       "              tree_method='exact', validate_parameters=1, verbosity=None)"
      ]
     },
     "execution_count": 30,
     "metadata": {},
     "output_type": "execute_result"
    }
   ],
   "source": [
    "X_tr, X_val, y_tr, y_val = train_test_split(X_train, y_train,\n",
    "                                            test_size=0.33, random_state=7)\n",
    "\n",
    "xgb_2 = XGBClassifier(scale_pos_weight=1.336, learning_rate=0.3,\n",
    "                      max_depth=8, min_child_weight=94, gamma=0.1,\n",
    "                      colsample_bytree=0.55, subsample=0.9,\n",
    "                      reg_alpha=1e-05, reg_lambda=1,\n",
    "                      objective='binary:logistic', booster='gbtree', random_state=13)\n",
    "\n",
    "eval_set = [(X_tr, y_tr), (X_val, y_val)]\n",
    "\n",
    "xgb_2.fit(X_tr, y_tr, eval_metric=['error', 'logloss'], eval_set=eval_set, verbose=True)"
   ]
  },
  {
   "cell_type": "markdown",
   "metadata": {},
   "source": [
    "By default for XGBClassifier *eval_metric = 'error'*."
   ]
  },
  {
   "cell_type": "code",
   "execution_count": 31,
   "metadata": {},
   "outputs": [
    {
     "name": "stdout",
     "output_type": "stream",
     "text": [
      "f1_score (train set): 0.71447\n",
      "\n",
      "f1_score (test set):  0.66896\n"
     ]
    }
   ],
   "source": [
    "print(\"f1_score (train set): {:.5}\".format(\n",
    "            f1_score(y_train, xgb_2.predict(X_train), average='macro')\n",
    "))\n",
    "\n",
    "print(\"\\nf1_score (test set):  {:.5}\".format(\n",
    "            f1_score(y_test, xgb_2.predict(X_test), average='macro')\n",
    "))"
   ]
  },
  {
   "cell_type": "markdown",
   "metadata": {},
   "source": [
    "**Plot performance metrics.**"
   ]
  },
  {
   "cell_type": "code",
   "execution_count": 32,
   "metadata": {},
   "outputs": [
    {
     "data": {
      "image/png": "[encoded data removed]",
      "text/plain": [
       "<Figure size 1080x504 with 1 Axes>"
      ]
     },
     "metadata": {},
     "output_type": "display_data"
    },
    {
     "data": {
      "image/png": "[encoded data removed]",
      "text/plain": [
       "<Figure size 1080x504 with 1 Axes>"
      ]
     },
     "metadata": {},
     "output_type": "display_data"
    }
   ],
   "source": [
    "results = xgb_2.evals_result()\n",
    "epochs = len(results['validation_0']['error'])\n",
    "x_axis = range(0, epochs)\n",
    "\n",
    "fig, ax = plt.subplots()\n",
    "ax.plot(x_axis, results['validation_0']['logloss'], label='Train')\n",
    "ax.plot(x_axis, results['validation_1']['logloss'], label='Validation')\n",
    "ax.legend()\n",
    "plt.ylabel('Log Loss')\n",
    "plt.title('XGBoost Log Loss')\n",
    "plt.show()\n",
    "\n",
    "fig, ax = plt.subplots()\n",
    "ax.plot(x_axis, results['validation_0']['error'], label='Train')\n",
    "ax.plot(x_axis, results['validation_1']['error'], label='Validation')\n",
    "ax.legend()\n",
    "plt.ylabel('Classification Error')\n",
    "plt.title('XGBoost Classification Error')\n",
    "plt.show()"
   ]
  },
  {
   "cell_type": "markdown",
   "metadata": {},
   "source": [
    "The first plot shows the logarithmic loss of the XGBoost model for each epoch on the training and test datasets.\n",
    "\n",
    "The second plot shows the classification error of the XGBoost model for each epoch on the training and test datasets.\n",
    "\n",
    "From reviewing the logloss plot, it looks like there is an opportunity to stop the learning early, perhaps somewhere around epoch 80 to epoch 100.\n",
    "\n",
    "We see a similar story for classification error, where error appears to go back up at around epoch 30."
   ]
  },
  {
   "cell_type": "markdown",
   "metadata": {},
   "source": [
    "### Final model."
   ]
  },
  {
   "cell_type": "code",
   "execution_count": 33,
   "metadata": {
    "scrolled": true
   },
   "outputs": [
    {
     "name": "stdout",
     "output_type": "stream",
     "text": [
      "[0]\tvalidation_0-error:0.39701\n",
      "Will train until validation_0-error hasn't improved in 10 rounds.\n",
      "[1]\tvalidation_0-error:0.34983\n",
      "[2]\tvalidation_0-error:0.34810\n",
      "[3]\tvalidation_0-error:0.32509\n",
      "[4]\tvalidation_0-error:0.32681\n",
      "[5]\tvalidation_0-error:0.32566\n",
      "[6]\tvalidation_0-error:0.32106\n",
      "[7]\tvalidation_0-error:0.31473\n",
      "[8]\tvalidation_0-error:0.30898\n",
      "[9]\tvalidation_0-error:0.31473\n",
      "[10]\tvalidation_0-error:0.31358\n",
      "[11]\tvalidation_0-error:0.31933\n",
      "[12]\tvalidation_0-error:0.31876\n",
      "[13]\tvalidation_0-error:0.31991\n",
      "[14]\tvalidation_0-error:0.32336\n",
      "[15]\tvalidation_0-error:0.31991\n",
      "[16]\tvalidation_0-error:0.32394\n",
      "[17]\tvalidation_0-error:0.32624\n",
      "[18]\tvalidation_0-error:0.32221\n",
      "Stopping. Best iteration:\n",
      "[8]\tvalidation_0-error:0.30898\n",
      "\n"
     ]
    },
    {
     "data": {
      "text/plain": [
       "XGBClassifier(base_score=0.5, booster='gbtree', colsample_bylevel=1,\n",
       "              colsample_bynode=1, colsample_bytree=0.55, gamma=0.1, gpu_id=-1,\n",
       "              importance_type='gain', interaction_constraints='',\n",
       "              learning_rate=0.3, max_delta_step=0, max_depth=8,\n",
       "              min_child_weight=94, missing=nan, monotone_constraints='()',\n",
       "              n_estimators=100, n_jobs=0, num_parallel_tree=1,\n",
       "              objective='binary:logistic', random_state=13, reg_alpha=1e-05,\n",
       "              reg_lambda=1, scale_pos_weight=1.336, subsample=0.9,\n",
       "              tree_method='exact', validate_parameters=1, verbosity=None)"
      ]
     },
     "execution_count": 33,
     "metadata": {},
     "output_type": "execute_result"
    }
   ],
   "source": [
    "X_tr, X_val, y_tr, y_val = train_test_split(X_train, y_train,\n",
    "                                            test_size=0.33, random_state=13)\n",
    "\n",
    "xgb_final = XGBClassifier(scale_pos_weight=1.336, learning_rate=0.3,\n",
    "                          max_depth=8, min_child_weight=94, gamma=0.1,\n",
    "                          colsample_bytree=0.55, subsample=0.9,\n",
    "                          reg_alpha=1e-05, reg_lambda=1,\n",
    "                          objective='binary:logistic', booster='gbtree', random_state=13)\n",
    "\n",
    "eval_set = [(X_val, y_val)]\n",
    "xgb_final.fit(X_tr, y_tr, early_stopping_rounds=10, eval_metric='error', eval_set=eval_set, verbose=True)"
   ]
  },
  {
   "cell_type": "markdown",
   "metadata": {},
   "source": [
    "**Evaluate model.**"
   ]
  },
  {
   "cell_type": "code",
   "execution_count": 34,
   "metadata": {},
   "outputs": [
    {
     "name": "stdout",
     "output_type": "stream",
     "text": [
      "f1_score (train set): 0.68035\n",
      "\n",
      "f1_score (test set):  0.65844\n"
     ]
    }
   ],
   "source": [
    "print(\"f1_score (train set): {:.5}\".format(\n",
    "            f1_score(y_train, xgb_final.predict(X_train), average='macro')\n",
    "))\n",
    "\n",
    "print(\"\\nf1_score (test set):  {:.5}\".format(\n",
    "            f1_score(y_test, xgb_final.predict(X_test), average='macro')\n",
    "))"
   ]
  },
  {
   "cell_type": "markdown",
   "metadata": {},
   "source": [
    "We can see that **the model stopped training at epoch 36** (close to what we expected by our manual judgment of learning curves) and that the model with **the best loss was observed at epoch 26**."
   ]
  },
  {
   "cell_type": "code",
   "execution_count": 35,
   "metadata": {},
   "outputs": [
    {
     "data": {
      "image/png": "[encoded data removed]",
      "text/plain": [
       "<Figure size 1080x504 with 1 Axes>"
      ]
     },
     "metadata": {},
     "output_type": "display_data"
    }
   ],
   "source": [
    "plot_cv_with_err(model = xgb_final,\n",
    "                 data_X = X_train,\n",
    "                 data_y = y_train,\n",
    "                 parameter_name = 'learning_rate',\n",
    "                 params = [i/100.0 for i in range(1,101,10)],\n",
    "                 cv_score = 'f1_macro')\n",
    "\n",
    "plt.xlabel(\"Learning rate\")\n",
    "plt.ylabel(\"F1-score\")\n",
    "plt.legend(loc='best')\n",
    "plt.grid(True)"
   ]
  },
  {
   "cell_type": "code",
   "execution_count": 36,
   "metadata": {},
   "outputs": [
    {
     "name": "stdout",
     "output_type": "stream",
     "text": [
      "                                    CV scores on Train set\n",
      "================================================================================================\n",
      "  mean_train_score (std_train_score) | mean_valid_score (std_valid_score) |      parameter\n",
      "================================================================================================\n",
      "       0.68501      (  0.0018318   ) |      0.66776      (  0.0053577   ) | learning_rate = 0.01\n",
      "       0.71399      (  0.0046599   ) |      0.68178      (   0.010706   ) | learning_rate = 0.11\n",
      "       0.72749      (  0.0031637   ) |      0.67987      (  0.0064253   ) | learning_rate = 0.21\n",
      "       0.73799      (  0.0032225   ) |      0.68447      (  0.0082484   ) | learning_rate = 0.31\n",
      "       0.74228      (   0.004982   ) |      0.68529      (  0.0099951   ) | learning_rate = 0.41\n",
      "       0.74539      (  0.0014908   ) |      0.68438      (  0.0088966   ) | learning_rate = 0.51\n",
      "       0.75137      (  0.0032301   ) |      0.67434      (  0.0053486   ) | learning_rate = 0.61\n",
      "       0.75743      (  0.0016619   ) |      0.67786      (   0.005462   ) | learning_rate = 0.71\n",
      "       0.75638      (  0.0052563   ) |      0.67602      (   0.014792   ) | learning_rate = 0.81\n",
      "       0.75941      (  0.0062497   ) |      0.67434      (  0.0080951   ) | learning_rate = 0.91\n"
     ]
    }
   ],
   "source": [
    "cv_output_all(model = xgb_final,\n",
    "              data_X = X_train,\n",
    "              data_y = y_train,\n",
    "              parameter_name = 'learning_rate', \n",
    "              params = [i/100.0 for i in range(1,101,10)],\n",
    "              cv_score = 'f1_macro'\n",
    "             )"
   ]
  },
  {
   "cell_type": "code",
   "execution_count": 37,
   "metadata": {},
   "outputs": [
    {
     "data": {
      "image/png": "[encoded data removed]",
      "text/plain": [
       "<Figure size 1080x504 with 1 Axes>"
      ]
     },
     "metadata": {},
     "output_type": "display_data"
    }
   ],
   "source": [
    "fi = pd.Series(xgb_final.feature_importances_, index=X_train.columns)\n",
    "fi.sort_values(ascending=False).plot(kind='bar', width=0.8)\n",
    "plt.title(\"Feature importances (XGBoost)\")\n",
    "plt.show()"
   ]
  },
  {
   "cell_type": "markdown",
   "metadata": {},
   "source": [
    "## Results"
   ]
  },
  {
   "cell_type": "code",
   "execution_count": 38,
   "metadata": {},
   "outputs": [],
   "source": [
    "def get_scores(estimator, X, y, name):\n",
    "    y_pred = estimator.predict(X)\n",
    "    y_pred_proba = estimator.predict_proba(X)[:, 1]\n",
    "\n",
    "    accuracy = accuracy_score(y_test, y_pred)\n",
    "    precision = precision_score(y_test, y_pred)\n",
    "    recall = recall_score(y_test, y_pred)\n",
    "    f1 = f1_score(y_test, y_pred, average='macro')\n",
    "    roc_auc = roc_auc_score(y_test, y_pred_proba)\n",
    "    \n",
    "    columns = ['accuracy', 'precision', 'recall', 'F1-macro', 'AUC-ROC']\n",
    "    results = pd.DataFrame([accuracy, precision, recall, f1, roc_auc], index=columns, columns=[name]).T\n",
    "\n",
    "    return results"
   ]
  },
  {
   "cell_type": "code",
   "execution_count": 39,
   "metadata": {},
   "outputs": [],
   "source": [
    "results_lr = get_scores(lr_final, X = X_test_scaled, y = y_test, name = 'LR')\n",
    "results_xgb = get_scores(xgb_final, X = X_test, y = y_test, name = 'XGB')"
   ]
  },
  {
   "cell_type": "code",
   "execution_count": 40,
   "metadata": {},
   "outputs": [
    {
     "data": {
      "text/html": [
       "<div>\n",
       "<style scoped>\n",
       "    .dataframe tbody tr th:only-of-type {\n",
       "        vertical-align: middle;\n",
       "    }\n",
       "\n",
       "    .dataframe tbody tr th {\n",
       "        vertical-align: top;\n",
       "    }\n",
       "\n",
       "    .dataframe thead th {\n",
       "        text-align: right;\n",
       "    }\n",
       "</style>\n",
       "<table border=\"1\" class=\"dataframe\">\n",
       "  <thead>\n",
       "    <tr style=\"text-align: right;\">\n",
       "      <th></th>\n",
       "      <th>accuracy</th>\n",
       "      <th>precision</th>\n",
       "      <th>recall</th>\n",
       "      <th>F1-macro</th>\n",
       "      <th>AUC-ROC</th>\n",
       "    </tr>\n",
       "  </thead>\n",
       "  <tbody>\n",
       "    <tr>\n",
       "      <th>LR</th>\n",
       "      <td>0.650266</td>\n",
       "      <td>0.577329</td>\n",
       "      <td>0.680829</td>\n",
       "      <td>0.648650</td>\n",
       "      <td>0.710887</td>\n",
       "    </tr>\n",
       "    <tr>\n",
       "      <th>XGB</th>\n",
       "      <td>0.661348</td>\n",
       "      <td>0.592798</td>\n",
       "      <td>0.665285</td>\n",
       "      <td>0.658444</td>\n",
       "      <td>0.720214</td>\n",
       "    </tr>\n",
       "  </tbody>\n",
       "</table>\n",
       "</div>"
      ],
      "text/plain": [
       "     accuracy  precision    recall  F1-macro   AUC-ROC\n",
       "LR   0.650266   0.577329  0.680829  0.648650  0.710887\n",
       "XGB  0.661348   0.592798  0.665285  0.658444  0.720214"
      ]
     },
     "execution_count": 40,
     "metadata": {},
     "output_type": "execute_result"
    }
   ],
   "source": [
    "results_lr.append(results_xgb)"
   ]
  },
  {
   "cell_type": "markdown",
   "metadata": {},
   "source": [
    "## CONCLUSIONS\n",
    "\n",
    "1. Logistic Regression and XGBoost machine learning models with tuned hyperparameters were applied to the tabular data."
   ]
  },
  {
   "cell_type": "code",
   "execution_count": null,
   "metadata": {},
   "outputs": [],
   "source": []
  }
 ],
 "metadata": {
  "kernelspec": {
   "display_name": "Python 3",
   "language": "python",
   "name": "python3"
  },
  "language_info": {
   "codemirror_mode": {
    "name": "ipython",
    "version": 3
   },
   "file_extension": ".py",
   "mimetype": "text/x-python",
   "name": "python",
   "nbconvert_exporter": "python",
   "pygments_lexer": "ipython3",
   "version": "3.7.6"
  }
 },
 "nbformat": 4,
 "nbformat_minor": 2
}
