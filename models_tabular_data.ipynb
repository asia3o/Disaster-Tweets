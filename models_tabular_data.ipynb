{
 "cells": [
  {
   "cell_type": "code",
   "execution_count": 1,
   "metadata": {},
   "outputs": [],
   "source": [
    "import os\n",
    "from pathlib import Path\n",
    "\n",
    "import numpy as np\n",
    "import pandas as pd\n",
    "from collections import Counter\n",
    "pd.set_option('display.max_rows', 500)\n",
    "pd.set_option('display.max_columns', 500)\n",
    "pd.set_option('display.width', 1000)\n",
    "pd.set_option('display.max_colwidth', 1000)\n",
    "\n",
    "from sklearn.preprocessing import StandardScaler, MinMaxScaler\n",
    "from sklearn.linear_model import LogisticRegression\n",
    "from sklearn.metrics import f1_score, accuracy_score, precision_score, recall_score, roc_auc_score\n",
    "from sklearn.model_selection import cross_val_score, GridSearchCV, StratifiedKFold, \\\n",
    "train_test_split, validation_curve\n",
    "from xgboost.sklearn import XGBClassifier\n",
    "\n",
    "import matplotlib.pyplot as plt\n",
    "import seaborn as sns\n",
    "\n",
    "%matplotlib inline\n",
    "sns.set(rc={'figure.figsize':(15,7)}, style='whitegrid')\n",
    "plt.rcParams['figure.figsize'] = (15,7)"
   ]
  },
  {
   "cell_type": "code",
   "execution_count": 2,
   "metadata": {},
   "outputs": [],
   "source": [
    "DATA_PATH = 'data/'\n",
    "\n",
    "TRAIN_FEATURES = os.path.join(DATA_PATH, 'train_new_features.csv')"
   ]
  },
  {
   "cell_type": "code",
   "execution_count": 3,
   "metadata": {},
   "outputs": [],
   "source": [
    "train_df = pd.read_csv(TRAIN_FEATURES, index_col=0, encoding='utf-8')"
   ]
  },
  {
   "cell_type": "code",
   "execution_count": 4,
   "metadata": {
    "scrolled": false
   },
   "outputs": [
    {
     "data": {
      "text/html": [
       "<div>\n",
       "<style scoped>\n",
       "    .dataframe tbody tr th:only-of-type {\n",
       "        vertical-align: middle;\n",
       "    }\n",
       "\n",
       "    .dataframe tbody tr th {\n",
       "        vertical-align: top;\n",
       "    }\n",
       "\n",
       "    .dataframe thead th {\n",
       "        text-align: right;\n",
       "    }\n",
       "</style>\n",
       "<table border=\"1\" class=\"dataframe\">\n",
       "  <thead>\n",
       "    <tr style=\"text-align: right;\">\n",
       "      <th></th>\n",
       "      <th>text</th>\n",
       "      <th>target</th>\n",
       "      <th>text_cleaned</th>\n",
       "      <th>preprocessed_text</th>\n",
       "      <th>sentence_count</th>\n",
       "      <th>word_count</th>\n",
       "      <th>stop_word_count</th>\n",
       "      <th>stop_word_share</th>\n",
       "      <th>url_count</th>\n",
       "      <th>mean_word_length</th>\n",
       "      <th>char_count</th>\n",
       "      <th>punctuation_count</th>\n",
       "      <th>hashtag_count</th>\n",
       "      <th>mention_count</th>\n",
       "      <th>polarity_raw</th>\n",
       "      <th>subjectivity_raw</th>\n",
       "      <th>unique_word_count</th>\n",
       "      <th>unique_word_share</th>\n",
       "      <th>polarity</th>\n",
       "      <th>subjectivity</th>\n",
       "      <th>DT</th>\n",
       "      <th>NN</th>\n",
       "      <th>PRP$</th>\n",
       "      <th>NNS</th>\n",
       "      <th>VBP</th>\n",
       "      <th>IN</th>\n",
       "      <th>MD</th>\n",
       "      <th>VB</th>\n",
       "      <th>JJ</th>\n",
       "      <th>PRP</th>\n",
       "      <th>JJS</th>\n",
       "      <th>VBN</th>\n",
       "      <th>VBD</th>\n",
       "      <th>TO</th>\n",
       "      <th>VBG</th>\n",
       "      <th>CC</th>\n",
       "      <th>RB</th>\n",
       "      <th>EX</th>\n",
       "      <th>VBZ</th>\n",
       "      <th>CD</th>\n",
       "      <th>WP</th>\n",
       "      <th>RP</th>\n",
       "      <th>JJR</th>\n",
       "      <th>WRB</th>\n",
       "      <th>FW</th>\n",
       "      <th>WDT</th>\n",
       "      <th>NNP</th>\n",
       "      <th>RBR</th>\n",
       "      <th>RBS</th>\n",
       "      <th>PDT</th>\n",
       "      <th>SYM</th>\n",
       "      <th>UH</th>\n",
       "      <th>WP$</th>\n",
       "    </tr>\n",
       "  </thead>\n",
       "  <tbody>\n",
       "    <tr>\n",
       "      <th>0</th>\n",
       "      <td>Our Deeds are the Reason of this #earthquake May ALLAH Forgive us all</td>\n",
       "      <td>1</td>\n",
       "      <td>our deeds are the reason of this earthquake may allah forgive us all</td>\n",
       "      <td>deed reason earthquak may allah forgiv us</td>\n",
       "      <td>1</td>\n",
       "      <td>13</td>\n",
       "      <td>6</td>\n",
       "      <td>0.461538</td>\n",
       "      <td>0</td>\n",
       "      <td>4.384615</td>\n",
       "      <td>69</td>\n",
       "      <td>1</td>\n",
       "      <td>1</td>\n",
       "      <td>0</td>\n",
       "      <td>0.0</td>\n",
       "      <td>0.0</td>\n",
       "      <td>7</td>\n",
       "      <td>1.0</td>\n",
       "      <td>0.0</td>\n",
       "      <td>0.0</td>\n",
       "      <td>3.0</td>\n",
       "      <td>2.0</td>\n",
       "      <td>1.0</td>\n",
       "      <td>1.0</td>\n",
       "      <td>1.0</td>\n",
       "      <td>1.0</td>\n",
       "      <td>1.0</td>\n",
       "      <td>1.0</td>\n",
       "      <td>1.0</td>\n",
       "      <td>1.0</td>\n",
       "      <td>0.0</td>\n",
       "      <td>0.0</td>\n",
       "      <td>0.0</td>\n",
       "      <td>0.0</td>\n",
       "      <td>0.0</td>\n",
       "      <td>0.0</td>\n",
       "      <td>0.0</td>\n",
       "      <td>0.0</td>\n",
       "      <td>0.0</td>\n",
       "      <td>0.0</td>\n",
       "      <td>0.0</td>\n",
       "      <td>0.0</td>\n",
       "      <td>0.0</td>\n",
       "      <td>0.0</td>\n",
       "      <td>0.0</td>\n",
       "      <td>0.0</td>\n",
       "      <td>0.0</td>\n",
       "      <td>0.0</td>\n",
       "      <td>0.0</td>\n",
       "      <td>0.0</td>\n",
       "      <td>0.0</td>\n",
       "      <td>0.0</td>\n",
       "      <td>0.0</td>\n",
       "    </tr>\n",
       "    <tr>\n",
       "      <th>1</th>\n",
       "      <td>Forest fire near La Ronge Sask. Canada</td>\n",
       "      <td>1</td>\n",
       "      <td>forest fire near la ronge sask canada</td>\n",
       "      <td>forest fire near la rong sask canada</td>\n",
       "      <td>1</td>\n",
       "      <td>7</td>\n",
       "      <td>0</td>\n",
       "      <td>0.000000</td>\n",
       "      <td>0</td>\n",
       "      <td>4.571429</td>\n",
       "      <td>38</td>\n",
       "      <td>1</td>\n",
       "      <td>0</td>\n",
       "      <td>0</td>\n",
       "      <td>0.1</td>\n",
       "      <td>0.4</td>\n",
       "      <td>7</td>\n",
       "      <td>1.0</td>\n",
       "      <td>0.1</td>\n",
       "      <td>0.4</td>\n",
       "      <td>0.0</td>\n",
       "      <td>4.0</td>\n",
       "      <td>0.0</td>\n",
       "      <td>0.0</td>\n",
       "      <td>0.0</td>\n",
       "      <td>1.0</td>\n",
       "      <td>0.0</td>\n",
       "      <td>0.0</td>\n",
       "      <td>1.0</td>\n",
       "      <td>0.0</td>\n",
       "      <td>1.0</td>\n",
       "      <td>0.0</td>\n",
       "      <td>0.0</td>\n",
       "      <td>0.0</td>\n",
       "      <td>0.0</td>\n",
       "      <td>0.0</td>\n",
       "      <td>0.0</td>\n",
       "      <td>0.0</td>\n",
       "      <td>0.0</td>\n",
       "      <td>0.0</td>\n",
       "      <td>0.0</td>\n",
       "      <td>0.0</td>\n",
       "      <td>0.0</td>\n",
       "      <td>0.0</td>\n",
       "      <td>0.0</td>\n",
       "      <td>0.0</td>\n",
       "      <td>0.0</td>\n",
       "      <td>0.0</td>\n",
       "      <td>0.0</td>\n",
       "      <td>0.0</td>\n",
       "      <td>0.0</td>\n",
       "      <td>0.0</td>\n",
       "      <td>0.0</td>\n",
       "    </tr>\n",
       "  </tbody>\n",
       "</table>\n",
       "</div>"
      ],
      "text/plain": [
       "                                                                    text  target                                                          text_cleaned                          preprocessed_text  sentence_count  word_count  stop_word_count  stop_word_share  url_count  mean_word_length  char_count  punctuation_count  hashtag_count  mention_count  polarity_raw  subjectivity_raw  unique_word_count  unique_word_share  polarity  subjectivity   DT   NN  PRP$  NNS  VBP   IN   MD   VB   JJ  PRP  JJS  VBN  VBD   TO  VBG   CC   RB   EX  VBZ   CD   WP   RP  JJR  WRB   FW  WDT  NNP  RBR  RBS  PDT  SYM   UH  WP$\n",
       "0  Our Deeds are the Reason of this #earthquake May ALLAH Forgive us all       1  our deeds are the reason of this earthquake may allah forgive us all  deed reason earthquak may allah forgiv us               1          13                6         0.461538          0          4.384615          69                  1              1              0           0.0               0.0                  7                1.0       0.0           0.0  3.0  2.0   1.0  1.0  1.0  1.0  1.0  1.0  1.0  1.0  0.0  0.0  0.0  0.0  0.0  0.0  0.0  0.0  0.0  0.0  0.0  0.0  0.0  0.0  0.0  0.0  0.0  0.0  0.0  0.0  0.0  0.0  0.0\n",
       "1                                 Forest fire near La Ronge Sask. Canada       1                                 forest fire near la ronge sask canada       forest fire near la rong sask canada               1           7                0         0.000000          0          4.571429          38                  1              0              0           0.1               0.4                  7                1.0       0.1           0.4  0.0  4.0   0.0  0.0  0.0  1.0  0.0  0.0  1.0  0.0  1.0  0.0  0.0  0.0  0.0  0.0  0.0  0.0  0.0  0.0  0.0  0.0  0.0  0.0  0.0  0.0  0.0  0.0  0.0  0.0  0.0  0.0  0.0"
      ]
     },
     "execution_count": 4,
     "metadata": {},
     "output_type": "execute_result"
    }
   ],
   "source": [
    "train_df.head(2)"
   ]
  },
  {
   "cell_type": "markdown",
   "metadata": {},
   "source": [
    "## Data preparation"
   ]
  },
  {
   "cell_type": "code",
   "execution_count": 5,
   "metadata": {},
   "outputs": [
    {
     "name": "stdout",
     "output_type": "stream",
     "text": [
      "Number of columns in train set: 50\n"
     ]
    }
   ],
   "source": [
    "train_df.drop(['text', 'text_cleaned', 'preprocessed_text'], axis=1, inplace=True)\n",
    "print(\"Number of columns in train set: {}\".format(len(list(train_df))))"
   ]
  },
  {
   "cell_type": "code",
   "execution_count": 6,
   "metadata": {},
   "outputs": [
    {
     "name": "stdout",
     "output_type": "stream",
     "text": [
      "No missing values in data\n"
     ]
    }
   ],
   "source": [
    "if train_df.isnull().any().any():\n",
    "    print('Found missing values in data')\n",
    "else:\n",
    "    print('No missing values in data')"
   ]
  },
  {
   "cell_type": "code",
   "execution_count": 7,
   "metadata": {},
   "outputs": [],
   "source": [
    "train = train_df.drop('target', axis=1)\n",
    "y = train_df['target']\n",
    "\n",
    "X_train, X_test, y_train, y_test = train_test_split(train, y, test_size=0.3, random_state=13, stratify=y)"
   ]
  },
  {
   "cell_type": "code",
   "execution_count": 8,
   "metadata": {},
   "outputs": [
    {
     "data": {
      "text/plain": [
       "((5264, 49), (2256, 49))"
      ]
     },
     "execution_count": 8,
     "metadata": {},
     "output_type": "execute_result"
    }
   ],
   "source": [
    "X_train.shape, X_test.shape"
   ]
  },
  {
   "cell_type": "code",
   "execution_count": 9,
   "metadata": {},
   "outputs": [],
   "source": [
    "sc = StandardScaler()\n",
    "\n",
    "X_train_scaled = X_train.copy()\n",
    "X_train_scaled.loc[:, list(X_train_scaled)] = sc.fit_transform(X_train_scaled[list(X_train_scaled)])\n",
    "\n",
    "X_test_scaled = X_test.copy()\n",
    "X_test_scaled.loc[:, list(X_test_scaled)] = sc.transform(X_test_scaled[list(X_test_scaled)])"
   ]
  },
  {
   "cell_type": "markdown",
   "metadata": {},
   "source": [
    "### APPROACHES:\n",
    " - linear model (Logistic Regression),\n",
    " - boosting (XGBoost)"
   ]
  },
  {
   "cell_type": "markdown",
   "metadata": {},
   "source": [
    "**Define evaluation procedure.**\n",
    "\n",
    "We will use repeated cross-validation to evaluate the model, with 5-fold cross-validation."
   ]
  },
  {
   "cell_type": "code",
   "execution_count": 10,
   "metadata": {},
   "outputs": [],
   "source": [
    "kf = StratifiedKFold(n_splits=5, random_state=13, shuffle=True)"
   ]
  },
  {
   "cell_type": "markdown",
   "metadata": {},
   "source": [
    "**Define functions for reports with numbers and plots.**"
   ]
  },
  {
   "cell_type": "markdown",
   "metadata": {},
   "source": [
    "```The leaderboard is based on Mean F-Score which can be implemented with Macro Average F1 Score.```"
   ]
  },
  {
   "cell_type": "code",
   "execution_count": 11,
   "metadata": {},
   "outputs": [],
   "source": [
    "def plot_cv_with_err(model,\n",
    "                     data_X,\n",
    "                     data_y,\n",
    "                     parameter_name, \n",
    "                     params,\n",
    "                     cv_score,\n",
    "                     **kwargs):\n",
    "    \n",
    "    \"\"\"Plot results of cv_output_all\"\"\"\n",
    "    \n",
    "    val_train, val_test = validation_curve(model,\n",
    "                                           data_X,\n",
    "                                           data_y,\n",
    "                                           param_name=parameter_name,\n",
    "                                           param_range=params,\n",
    "                                           cv=kf,\n",
    "                                           scoring=cv_score)\n",
    "    \n",
    "    means_train = np.mean(val_train, axis=1)\n",
    "    stds_train = np.std(val_train, axis=1)\n",
    "    means_test = np.mean(val_test, axis=1)\n",
    "    stds_test = np.std(val_test, axis=1)\n",
    "\n",
    "    lines_train = plt.plot(params, means_train,\n",
    "                           '-', label='CV training scores on train set', **kwargs)\n",
    "    lines_test = plt.plot(params, means_test,\n",
    "                          '-', label='CV validation scores on train set', **kwargs)\n",
    "    \n",
    "    plt.fill_between(params, means_train - stds_train, means_train + stds_train,\n",
    "                     edgecolor='none', facecolor=lines_train[0].get_color(), alpha=0.2)\n",
    "    plt.fill_between(params, means_test - stds_test, means_test + stds_test,\n",
    "                     edgecolor='none', facecolor=lines_test[0].get_color(), alpha=0.2)"
   ]
  },
  {
   "cell_type": "code",
   "execution_count": 12,
   "metadata": {},
   "outputs": [],
   "source": [
    "def cv_output_all(model,\n",
    "                  data_X,\n",
    "                  data_y,\n",
    "                  parameter_name, \n",
    "                  params,\n",
    "                  cv_score):\n",
    "    \n",
    "    \"\"\"Same as plot_cv_with_err\"\"\"\n",
    "    \n",
    "    val_train, val_test = validation_curve(model,\n",
    "                                           data_X,\n",
    "                                           data_y,\n",
    "                                           param_name=parameter_name,\n",
    "                                           param_range=params,\n",
    "                                           cv=kf,\n",
    "                                           scoring=cv_score)\n",
    "    means_train = np.mean(val_train, axis=1)\n",
    "    stds_train = np.std(val_train, axis=1)\n",
    "    means_test = np.mean(val_test, axis=1)\n",
    "    stds_test = np.std(val_test, axis=1)\n",
    "    \n",
    "    print(\"                                    CV scores on Train set\")\n",
    "    print(\"================================================================================================\")\n",
    "    print(\"  mean_train_score (std_train_score) | mean_valid_score (std_valid_score) |      parameter\")\n",
    "    print(\"================================================================================================\")\n",
    "    for mean_tr, stdev_tr, mean_te, stdev_te, param \\\n",
    "            in zip(means_train, stds_train, means_test, stds_test, params):\n",
    "        print(\"    {:^{width}.{prec}}  ({:^{width}.{prec}}) |   {:^{width}.{prec}}  ({:^{width}.{prec}}) | {:{align}} = {:{align}.{prec}}\"\n",
    "              .format(mean_tr, stdev_tr,\n",
    "                      mean_te, stdev_te,\n",
    "                      parameter_name, param,\n",
    "                      align='<', width='14', prec=5))"
   ]
  },
  {
   "cell_type": "markdown",
   "metadata": {},
   "source": [
    "\n",
    "## LOGISTIC REGRESSION "
   ]
  },
  {
   "cell_type": "markdown",
   "metadata": {},
   "source": [
    "**Define model.**"
   ]
  },
  {
   "cell_type": "code",
   "execution_count": 13,
   "metadata": {},
   "outputs": [],
   "source": [
    "lr = LogisticRegression(solver='liblinear', penalty='l2', C=1e5,\n",
    "                        class_weight='balanced', random_state=13)"
   ]
  },
  {
   "cell_type": "code",
   "execution_count": 14,
   "metadata": {},
   "outputs": [
    {
     "data": {
      "text/plain": [
       "LogisticRegression(C=100000.0, class_weight='balanced', dual=False,\n",
       "                   fit_intercept=True, intercept_scaling=1, l1_ratio=None,\n",
       "                   max_iter=100, multi_class='auto', n_jobs=None, penalty='l2',\n",
       "                   random_state=13, solver='liblinear', tol=0.0001, verbose=0,\n",
       "                   warm_start=False)"
      ]
     },
     "execution_count": 14,
     "metadata": {},
     "output_type": "execute_result"
    }
   ],
   "source": [
    "lr.fit(X_train_scaled, y_train)"
   ]
  },
  {
   "cell_type": "markdown",
   "metadata": {},
   "source": [
    "**Evaluate model, establish a baseline.**"
   ]
  },
  {
   "cell_type": "code",
   "execution_count": 15,
   "metadata": {},
   "outputs": [
    {
     "name": "stdout",
     "output_type": "stream",
     "text": [
      "f1_score (train set): 0.69018\n",
      "\n",
      "f1_score (test set):  0.67222\n"
     ]
    }
   ],
   "source": [
    "print(\"f1_score (train set): {:.5}\".format(\n",
    "            f1_score(y_train, lr.predict(X_train_scaled), average='macro')\n",
    "))\n",
    "\n",
    "print(\"\\nf1_score (test set):  {:.5}\".format(\n",
    "            f1_score(y_test, lr.predict(X_test_scaled), average='macro')\n",
    "))"
   ]
  },
  {
   "cell_type": "code",
   "execution_count": 16,
   "metadata": {},
   "outputs": [
    {
     "data": {
      "image/png": "[encoded data removed]",
      "text/plain": [
       "<Figure size 1080x504 with 1 Axes>"
      ]
     },
     "metadata": {},
     "output_type": "display_data"
    }
   ],
   "source": [
    "plot_cv_with_err(model = lr,\n",
    "                 data_X = X_train_scaled,\n",
    "                 data_y = y_train,\n",
    "                 parameter_name = 'C', \n",
    "                 params = np.logspace(-2, 2, 10),\n",
    "                 cv_score = 'f1_macro')\n",
    "\n",
    "plt.xlabel(\"$C$ - coefficient of regularization\")\n",
    "plt.ylabel(\"F1-score\")\n",
    "plt.legend(loc='best')\n",
    "plt.grid(True)"
   ]
  },
  {
   "cell_type": "markdown",
   "metadata": {},
   "source": [
    "It seems possible that our data simply can't be fit by a logistic model."
   ]
  },
  {
   "cell_type": "code",
   "execution_count": 17,
   "metadata": {},
   "outputs": [
    {
     "name": "stdout",
     "output_type": "stream",
     "text": [
      "Fitting 5 folds for each of 20 candidates, totalling 100 fits\n"
     ]
    },
    {
     "name": "stderr",
     "output_type": "stream",
     "text": [
      "[Parallel(n_jobs=1)]: Using backend SequentialBackend with 1 concurrent workers.\n",
      "[Parallel(n_jobs=1)]: Done 100 out of 100 | elapsed:   17.8s finished\n"
     ]
    },
    {
     "name": "stdout",
     "output_type": "stream",
     "text": [
      "CPU times: user 30 s, sys: 978 ms, total: 30.9 s\n",
      "Wall time: 18.3 s\n",
      "\n",
      "Best_params: {'C': 0.5994842503189409, 'penalty': 'l1'}, best_score: 0.68193\n"
     ]
    }
   ],
   "source": [
    "lr_1 = LogisticRegression(solver='liblinear', class_weight='balanced', random_state=13)\n",
    "\n",
    "lr_param_grid_1 = {'penalty': ['l1', 'l2'],\n",
    "                   'C': np.logspace(-2, 2, 10)}\n",
    "\n",
    "lr_clf_1 = GridSearchCV(estimator=lr_1, cv=kf, param_grid=lr_param_grid_1, scoring='f1_macro', verbose=1)\n",
    "\n",
    "%time  lr_clf_1.fit(X_train_scaled, y_train)\n",
    "\n",
    "print(\"\\nBest_params: {}, best_score: {:.5}\".format(lr_clf_1.best_params_, lr_clf_1.best_score_))"
   ]
  },
  {
   "cell_type": "code",
   "execution_count": 18,
   "metadata": {},
   "outputs": [
    {
     "name": "stdout",
     "output_type": "stream",
     "text": [
      "Fitting 5 folds for each of 40 candidates, totalling 200 fits\n"
     ]
    },
    {
     "name": "stderr",
     "output_type": "stream",
     "text": [
      "[Parallel(n_jobs=1)]: Using backend SequentialBackend with 1 concurrent workers.\n"
     ]
    },
    {
     "name": "stdout",
     "output_type": "stream",
     "text": [
      "CPU times: user 43.3 s, sys: 1.72 s, total: 45 s\n",
      "Wall time: 22.5 s\n",
      "\n",
      "Best_params: {'C': 0.7701538461538461, 'penalty': 'l2'}, best_score: 0.68149\n"
     ]
    },
    {
     "name": "stderr",
     "output_type": "stream",
     "text": [
      "[Parallel(n_jobs=1)]: Done 200 out of 200 | elapsed:   22.4s finished\n"
     ]
    }
   ],
   "source": [
    "lr_2 = LogisticRegression(solver='liblinear', class_weight='balanced', random_state=13)\n",
    "\n",
    "lr_param_grid_2 = {'penalty': ['l2'],\n",
    "                   'C': np.linspace(0.001, 10, 40)}\n",
    "\n",
    "lr_clf_2 = GridSearchCV(estimator=lr_2, cv=kf, param_grid=lr_param_grid_2, scoring='f1_macro', verbose=1)\n",
    "\n",
    "%time  lr_clf_2.fit(X_train_scaled, y_train)\n",
    "\n",
    "print(\"\\nBest_params: {}, best_score: {:.5}\".format(lr_clf_2.best_params_, lr_clf_2.best_score_))"
   ]
  },
  {
   "cell_type": "markdown",
   "metadata": {},
   "source": [
    "**Final model.**"
   ]
  },
  {
   "cell_type": "code",
   "execution_count": 19,
   "metadata": {},
   "outputs": [
    {
     "name": "stdout",
     "output_type": "stream",
     "text": [
      "CPU times: user 200 ms, sys: 8.31 ms, total: 208 ms\n",
      "Wall time: 158 ms\n"
     ]
    },
    {
     "data": {
      "text/plain": [
       "LogisticRegression(C=0.8, class_weight='balanced', dual=False,\n",
       "                   fit_intercept=True, intercept_scaling=1, l1_ratio=None,\n",
       "                   max_iter=100, multi_class='auto', n_jobs=None, penalty='l2',\n",
       "                   random_state=13, solver='liblinear', tol=0.0001, verbose=0,\n",
       "                   warm_start=False)"
      ]
     },
     "execution_count": 19,
     "metadata": {},
     "output_type": "execute_result"
    }
   ],
   "source": [
    "lr_final = LogisticRegression(C=0.8, penalty='l2', solver='liblinear', class_weight='balanced', random_state=13)\n",
    "\n",
    "%time lr_final.fit(X_train_scaled, y_train)"
   ]
  },
  {
   "cell_type": "markdown",
   "metadata": {},
   "source": [
    "**Evaluate model.**"
   ]
  },
  {
   "cell_type": "code",
   "execution_count": 20,
   "metadata": {},
   "outputs": [
    {
     "name": "stdout",
     "output_type": "stream",
     "text": [
      "f1_score (train set): 0.69077\n",
      "\n",
      "f1_score (test set):  0.67222\n"
     ]
    }
   ],
   "source": [
    "print(\"f1_score (train set): {:.5}\".format(\n",
    "            f1_score(y_train, lr_final.predict(X_train_scaled), average='macro')\n",
    "))\n",
    "\n",
    "print(\"\\nf1_score (test set):  {:.5}\".format(\n",
    "            f1_score(y_test, lr_final.predict(X_test_scaled), average='macro')\n",
    "))"
   ]
  },
  {
   "cell_type": "code",
   "execution_count": 21,
   "metadata": {},
   "outputs": [
    {
     "data": {
      "image/png": "[encoded data removed]",
      "text/plain": [
       "<Figure size 1080x504 with 1 Axes>"
      ]
     },
     "metadata": {},
     "output_type": "display_data"
    }
   ],
   "source": [
    "plot_cv_with_err(model = lr_final,\n",
    "                 data_X = X_train_scaled,\n",
    "                 data_y = y_train,\n",
    "                 parameter_name = 'C', \n",
    "                 params = np.logspace(-2, 2, 10),\n",
    "                 cv_score = 'f1_macro')\n",
    "\n",
    "plt.xlabel(\"$C$ - coefficient of regularization\")\n",
    "plt.ylabel(\"F1-score\")\n",
    "plt.legend(loc='best')\n",
    "plt.grid(True)"
   ]
  },
  {
   "cell_type": "markdown",
   "metadata": {},
   "source": [
    "The trend is quite visible.\n",
    "\n",
    "Training and validation errors differ significantly. This can be explained by **overfitting**. When there are too many parameters or regularization is not strict enough, the algorithm can be \"distracted\" by the noise in the data and lose track of the overall trend."
   ]
  },
  {
   "cell_type": "markdown",
   "metadata": {},
   "source": [
    "Our model tend to be overfitted."
   ]
  },
  {
   "cell_type": "code",
   "execution_count": 22,
   "metadata": {},
   "outputs": [
    {
     "name": "stdout",
     "output_type": "stream",
     "text": [
      "                                    CV scores on Train set\n",
      "================================================================================================\n",
      "  mean_train_score (std_train_score) | mean_valid_score (std_valid_score) |      parameter\n",
      "================================================================================================\n",
      "        0.6763      (  0.0019172   ) |       0.6697      (   0.004288   ) | C = 0.001\n",
      "       0.68924      (  0.0034757   ) |      0.68086      (  0.0046784   ) | C = 0.12918\n",
      "       0.68976      (  0.0029582   ) |      0.68028      (  0.0044737   ) | C = 0.25736\n",
      "       0.69016      (  0.0033843   ) |      0.68099      (  0.0052145   ) | C = 0.38554\n",
      "       0.69022      (  0.0029857   ) |      0.68131      (  0.0043643   ) | C = 0.51372\n",
      "       0.69045      (  0.0030565   ) |      0.68149      (  0.0043104   ) | C = 0.6419\n",
      "        0.6903      (  0.0030391   ) |      0.68149      (  0.0039902   ) | C = 0.77008\n",
      "        0.6902      (   0.002809   ) |      0.68149      (  0.0039902   ) | C = 0.89826\n",
      "       0.68996      (   0.002742   ) |      0.68149      (  0.0039902   ) | C = 1.0264\n",
      "       0.69006      (  0.0027128   ) |      0.68149      (  0.0039902   ) | C = 1.1546\n",
      "       0.68996      (  0.0028729   ) |      0.68149      (  0.0039902   ) | C = 1.2828\n",
      "       0.69016      (  0.0028181   ) |      0.68149      (  0.0039902   ) | C = 1.411\n",
      "       0.69015      (  0.0029538   ) |      0.68149      (  0.0039902   ) | C = 1.5392\n",
      "       0.69026      (  0.0029995   ) |      0.68129      (  0.0040786   ) | C = 1.6673\n",
      "       0.69015      (  0.0032078   ) |      0.68129      (  0.0040786   ) | C = 1.7955\n",
      "       0.69011      (  0.0032867   ) |      0.68129      (  0.0040786   ) | C = 1.9237\n",
      "       0.69006      (  0.0032923   ) |      0.68111      (  0.0040479   ) | C = 2.0519\n",
      "       0.69005      (  0.0031596   ) |      0.68111      (  0.0040479   ) | C = 2.1801\n",
      "       0.68995      (  0.0030624   ) |       0.6805      (  0.0035003   ) | C = 2.3082\n",
      "       0.68995      (  0.0030067   ) |      0.68068      (  0.0037282   ) | C = 2.4364\n",
      "        0.6899      (  0.0029628   ) |      0.68068      (  0.0037282   ) | C = 2.5646\n",
      "       0.68985      (  0.0030442   ) |      0.68068      (  0.0037282   ) | C = 2.6928\n",
      "        0.6899      (  0.0030343   ) |      0.68087      (  0.0036684   ) | C = 2.8209\n",
      "       0.68985      (  0.0030373   ) |      0.68087      (  0.0036684   ) | C = 2.9491\n",
      "       0.68985      (  0.0030373   ) |      0.68087      (  0.0036684   ) | C = 3.0773\n",
      "        0.6899      (  0.0030809   ) |      0.68087      (  0.0036684   ) | C = 3.2055\n",
      "       0.68995      (  0.0030001   ) |      0.68087      (  0.0036684   ) | C = 3.3337\n",
      "       0.68995      (  0.0030001   ) |      0.68087      (  0.0036684   ) | C = 3.4618\n",
      "       0.68994      (  0.0029954   ) |      0.68087      (  0.0036684   ) | C = 3.59\n",
      "       0.68994      (  0.0030727   ) |      0.68087      (  0.0036684   ) | C = 3.7182\n",
      "        0.6899      (  0.0031549   ) |      0.68087      (  0.0036684   ) | C = 3.8464\n",
      "        0.6899      (  0.0031549   ) |      0.68087      (  0.0036684   ) | C = 3.9746\n",
      "        0.6899      (  0.0031549   ) |      0.68087      (  0.0036684   ) | C = 4.1027\n",
      "        0.6899      (  0.0031549   ) |      0.68087      (  0.0036684   ) | C = 4.2309\n",
      "        0.6899      (  0.0031549   ) |      0.68087      (  0.0036684   ) | C = 4.3591\n",
      "       0.68994      (  0.0030727   ) |      0.68087      (  0.0036684   ) | C = 4.4873\n",
      "       0.68994      (  0.0030727   ) |      0.68087      (  0.0036684   ) | C = 4.6155\n",
      "        0.6899      (   0.003034   ) |      0.68087      (  0.0036684   ) | C = 4.7436\n",
      "        0.6899      (   0.003034   ) |      0.68105      (  0.0033607   ) | C = 4.8718\n",
      "        0.6899      (   0.003034   ) |      0.68105      (  0.0033607   ) | C = 5.0\n"
     ]
    }
   ],
   "source": [
    "cv_output_all(model = lr_final,\n",
    "              data_X = X_train_scaled,\n",
    "              data_y = y_train,\n",
    "              parameter_name = 'C', \n",
    "              params = np.linspace(0.001, 5, 40),\n",
    "              cv_score = 'f1_macro'\n",
    "             )"
   ]
  },
  {
   "cell_type": "markdown",
   "metadata": {},
   "source": [
    "\n",
    "## XGBoost Classifier"
   ]
  },
  {
   "cell_type": "markdown",
   "metadata": {},
   "source": [
    "Before any modification or tuning is made to the XGBoost algorithm for imbalanced classification, it is important to test the default XGBoost model and **establish a baseline in performance**."
   ]
  },
  {
   "cell_type": "markdown",
   "metadata": {},
   "source": [
    "**Define model.**"
   ]
  },
  {
   "cell_type": "code",
   "execution_count": 23,
   "metadata": {},
   "outputs": [],
   "source": [
    "xgb = XGBClassifier(objective='binary:logistic', booster='gbtree', random_state=13)"
   ]
  },
  {
   "cell_type": "markdown",
   "metadata": {},
   "source": [
    "**Fit model (optimize model loss function).**"
   ]
  },
  {
   "cell_type": "code",
   "execution_count": 24,
   "metadata": {},
   "outputs": [
    {
     "data": {
      "text/plain": [
       "XGBClassifier(base_score=0.5, booster='gbtree', colsample_bylevel=1,\n",
       "              colsample_bynode=1, colsample_bytree=1, gamma=0, gpu_id=-1,\n",
       "              importance_type='gain', interaction_constraints='',\n",
       "              learning_rate=0.300000012, max_delta_step=0, max_depth=6,\n",
       "              min_child_weight=1, missing=nan, monotone_constraints='()',\n",
       "              n_estimators=100, n_jobs=0, num_parallel_tree=1,\n",
       "              objective='binary:logistic', random_state=13, reg_alpha=0,\n",
       "              reg_lambda=1, scale_pos_weight=1, subsample=1,\n",
       "              tree_method='exact', validate_parameters=1, verbosity=None)"
      ]
     },
     "execution_count": 24,
     "metadata": {},
     "output_type": "execute_result"
    }
   ],
   "source": [
    "xgb.fit(X_train, y_train)"
   ]
  },
  {
   "cell_type": "markdown",
   "metadata": {},
   "source": [
    "**Evaluate model, establish a baseline.**"
   ]
  },
  {
   "cell_type": "code",
   "execution_count": 25,
   "metadata": {},
   "outputs": [
    {
     "name": "stdout",
     "output_type": "stream",
     "text": [
      "f1_score (train set): 0.94357\n",
      "\n",
      "f1_score (test set):  0.68889\n"
     ]
    }
   ],
   "source": [
    "print(\"f1_score (train set): {:.5}\".format(\n",
    "            f1_score(y_train, xgb.predict(X_train), average='macro')\n",
    "))\n",
    "\n",
    "print(\"\\nf1_score (test set):  {:.5}\".format(\n",
    "            f1_score(y_test, xgb.predict(X_test), average='macro')\n",
    "))"
   ]
  },
  {
   "cell_type": "markdown",
   "metadata": {},
   "source": [
    "**Imbalanced Classification.**\n",
    "\n",
    "The *scale_pos_weight* can be used to train a class-weighted or cost-sensitive version of XGBoost for imbalanced classification.\n",
    "\n",
    "- #### scale_pos_weight = total_negative_examples / total_positive_examples"
   ]
  },
  {
   "cell_type": "code",
   "execution_count": 26,
   "metadata": {},
   "outputs": [
    {
     "name": "stdout",
     "output_type": "stream",
     "text": [
      "scale_pos_weight: 1.336\n"
     ]
    }
   ],
   "source": [
    "counter = Counter(y_train)\n",
    "estimate = counter[0] / counter[1]\n",
    "print('scale_pos_weight: %.3f' % estimate)"
   ]
  },
  {
   "cell_type": "markdown",
   "metadata": {},
   "source": [
    "**Hyperparameter optimization.**"
   ]
  },
  {
   "cell_type": "code",
   "execution_count": 27,
   "metadata": {},
   "outputs": [
    {
     "data": {
      "text/plain": [
       "XGBClassifier(base_score=0.5, booster='gbtree', colsample_bylevel=1,\n",
       "              colsample_bynode=1, colsample_bytree=0.9, gamma=0, gpu_id=-1,\n",
       "              importance_type='gain', interaction_constraints='',\n",
       "              learning_rate=0.12, max_delta_step=0, max_depth=6,\n",
       "              min_child_weight=42, missing=nan, monotone_constraints='()',\n",
       "              n_estimators=100, n_jobs=0, num_parallel_tree=1,\n",
       "              objective='binary:logistic', random_state=13, reg_alpha=0.1,\n",
       "              reg_lambda=1e-05, scale_pos_weight=1.336, subsample=0.6,\n",
       "              tree_method='exact', validate_parameters=1, verbosity=None)"
      ]
     },
     "execution_count": 27,
     "metadata": {},
     "output_type": "execute_result"
    }
   ],
   "source": [
    "xgb_1 = XGBClassifier(scale_pos_weight=1.336, learning_rate=0.12,\n",
    "                      max_depth=6, min_child_weight=42, gamma=0,\n",
    "                      colsample_bytree=0.9, subsample=0.6,\n",
    "                      reg_alpha=0.1, reg_lambda=1e-05,\n",
    "                      objective='binary:logistic', booster='gbtree', random_state=13)\n",
    "\n",
    "xgb_1.fit(X_train, y_train)"
   ]
  },
  {
   "cell_type": "code",
   "execution_count": 28,
   "metadata": {},
   "outputs": [
    {
     "name": "stdout",
     "output_type": "stream",
     "text": [
      "f1_score (train set): 0.75616\n",
      "\n",
      "f1_score (test set):  0.68447\n"
     ]
    }
   ],
   "source": [
    "print(\"f1_score (train set): {:.5}\".format(\n",
    "            f1_score(y_train, xgb_1.predict(X_train), average='macro')\n",
    "))\n",
    "\n",
    "print(\"\\nf1_score (test set):  {:.5}\".format(\n",
    "            f1_score(y_test, xgb_1.predict(X_test), average='macro')\n",
    "))"
   ]
  },
  {
   "cell_type": "markdown",
   "metadata": {},
   "source": [
    "**Early Stopping to Avoid Overfitting.**\n",
    "\n",
    "It avoids overfitting by attempting to automatically select the inflection point where **performance on the test dataset starts to decrease** while **performance on the training dataset continues to improve** as the model starts to overfit."
   ]
  },
  {
   "cell_type": "code",
   "execution_count": 29,
   "metadata": {},
   "outputs": [
    {
     "name": "stdout",
     "output_type": "stream",
     "text": [
      "[0]\tvalidation_0-error:0.34203\tvalidation_0-logloss:0.67680\tvalidation_1-error:0.31991\tvalidation_1-logloss:0.67572\n",
      "[1]\tvalidation_0-error:0.32019\tvalidation_0-logloss:0.66386\tvalidation_1-error:0.30667\tvalidation_1-logloss:0.66207\n",
      "[2]\tvalidation_0-error:0.32473\tvalidation_0-logloss:0.65290\tvalidation_1-error:0.29689\tvalidation_1-logloss:0.64914\n",
      "[3]\tvalidation_0-error:0.32757\tvalidation_0-logloss:0.64401\tvalidation_1-error:0.30437\tvalidation_1-logloss:0.64017\n",
      "[4]\tvalidation_0-error:0.32445\tvalidation_0-logloss:0.63632\tvalidation_1-error:0.31128\tvalidation_1-logloss:0.63264\n",
      "[5]\tvalidation_0-error:0.31480\tvalidation_0-logloss:0.62768\tvalidation_1-error:0.30034\tvalidation_1-logloss:0.62449\n",
      "[6]\tvalidation_0-error:0.30885\tvalidation_0-logloss:0.62173\tvalidation_1-error:0.30322\tvalidation_1-logloss:0.61898\n",
      "[7]\tvalidation_0-error:0.31197\tvalidation_0-logloss:0.61635\tvalidation_1-error:0.30034\tvalidation_1-logloss:0.61327\n",
      "[8]\tvalidation_0-error:0.31168\tvalidation_0-logloss:0.61227\tvalidation_1-error:0.29862\tvalidation_1-logloss:0.60989\n",
      "[9]\tvalidation_0-error:0.30686\tvalidation_0-logloss:0.60737\tvalidation_1-error:0.29517\tvalidation_1-logloss:0.60526\n",
      "[10]\tvalidation_0-error:0.30289\tvalidation_0-logloss:0.60198\tvalidation_1-error:0.29229\tvalidation_1-logloss:0.60047\n",
      "[11]\tvalidation_0-error:0.30062\tvalidation_0-logloss:0.59857\tvalidation_1-error:0.28999\tvalidation_1-logloss:0.59608\n",
      "[12]\tvalidation_0-error:0.30374\tvalidation_0-logloss:0.59552\tvalidation_1-error:0.28596\tvalidation_1-logloss:0.59376\n",
      "[13]\tvalidation_0-error:0.30459\tvalidation_0-logloss:0.59251\tvalidation_1-error:0.28826\tvalidation_1-logloss:0.59052\n",
      "[14]\tvalidation_0-error:0.30289\tvalidation_0-logloss:0.58900\tvalidation_1-error:0.29114\tvalidation_1-logloss:0.58824\n",
      "[15]\tvalidation_0-error:0.29835\tvalidation_0-logloss:0.58657\tvalidation_1-error:0.29229\tvalidation_1-logloss:0.58706\n",
      "[16]\tvalidation_0-error:0.29609\tvalidation_0-logloss:0.58451\tvalidation_1-error:0.29286\tvalidation_1-logloss:0.58639\n",
      "[17]\tvalidation_0-error:0.29524\tvalidation_0-logloss:0.58287\tvalidation_1-error:0.28941\tvalidation_1-logloss:0.58517\n",
      "[18]\tvalidation_0-error:0.29353\tvalidation_0-logloss:0.58086\tvalidation_1-error:0.29286\tvalidation_1-logloss:0.58407\n",
      "[19]\tvalidation_0-error:0.29353\tvalidation_0-logloss:0.57881\tvalidation_1-error:0.29459\tvalidation_1-logloss:0.58225\n",
      "[20]\tvalidation_0-error:0.29041\tvalidation_0-logloss:0.57736\tvalidation_1-error:0.29286\tvalidation_1-logloss:0.58149\n",
      "[21]\tvalidation_0-error:0.29041\tvalidation_0-logloss:0.57519\tvalidation_1-error:0.29402\tvalidation_1-logloss:0.57962\n",
      "[22]\tvalidation_0-error:0.29212\tvalidation_0-logloss:0.57350\tvalidation_1-error:0.29459\tvalidation_1-logloss:0.57845\n",
      "[23]\tvalidation_0-error:0.29041\tvalidation_0-logloss:0.57208\tvalidation_1-error:0.29229\tvalidation_1-logloss:0.57742\n",
      "[24]\tvalidation_0-error:0.29126\tvalidation_0-logloss:0.57039\tvalidation_1-error:0.29517\tvalidation_1-logloss:0.57591\n",
      "[25]\tvalidation_0-error:0.28644\tvalidation_0-logloss:0.56900\tvalidation_1-error:0.29632\tvalidation_1-logloss:0.57560\n",
      "[26]\tvalidation_0-error:0.28786\tvalidation_0-logloss:0.56731\tvalidation_1-error:0.29344\tvalidation_1-logloss:0.57435\n",
      "[27]\tvalidation_0-error:0.28616\tvalidation_0-logloss:0.56572\tvalidation_1-error:0.29229\tvalidation_1-logloss:0.57327\n",
      "[28]\tvalidation_0-error:0.28418\tvalidation_0-logloss:0.56445\tvalidation_1-error:0.29229\tvalidation_1-logloss:0.57220\n",
      "[29]\tvalidation_0-error:0.28219\tvalidation_0-logloss:0.56319\tvalidation_1-error:0.29286\tvalidation_1-logloss:0.57176\n",
      "[30]\tvalidation_0-error:0.28049\tvalidation_0-logloss:0.56156\tvalidation_1-error:0.29056\tvalidation_1-logloss:0.57075\n",
      "[31]\tvalidation_0-error:0.28162\tvalidation_0-logloss:0.56075\tvalidation_1-error:0.28826\tvalidation_1-logloss:0.57025\n",
      "[32]\tvalidation_0-error:0.28304\tvalidation_0-logloss:0.55940\tvalidation_1-error:0.29172\tvalidation_1-logloss:0.57009\n",
      "[33]\tvalidation_0-error:0.28418\tvalidation_0-logloss:0.55856\tvalidation_1-error:0.28999\tvalidation_1-logloss:0.56952\n",
      "[34]\tvalidation_0-error:0.28191\tvalidation_0-logloss:0.55807\tvalidation_1-error:0.28711\tvalidation_1-logloss:0.56974\n",
      "[35]\tvalidation_0-error:0.27793\tvalidation_0-logloss:0.55645\tvalidation_1-error:0.28769\tvalidation_1-logloss:0.56904\n",
      "[36]\tvalidation_0-error:0.27623\tvalidation_0-logloss:0.55538\tvalidation_1-error:0.29114\tvalidation_1-logloss:0.56884\n",
      "[37]\tvalidation_0-error:0.27623\tvalidation_0-logloss:0.55455\tvalidation_1-error:0.29172\tvalidation_1-logloss:0.56852\n",
      "[38]\tvalidation_0-error:0.27425\tvalidation_0-logloss:0.55339\tvalidation_1-error:0.29056\tvalidation_1-logloss:0.56810\n",
      "[39]\tvalidation_0-error:0.27283\tvalidation_0-logloss:0.55256\tvalidation_1-error:0.29172\tvalidation_1-logloss:0.56844\n",
      "[40]\tvalidation_0-error:0.27482\tvalidation_0-logloss:0.55177\tvalidation_1-error:0.29229\tvalidation_1-logloss:0.56818\n",
      "[41]\tvalidation_0-error:0.27453\tvalidation_0-logloss:0.55078\tvalidation_1-error:0.29344\tvalidation_1-logloss:0.56807\n",
      "[42]\tvalidation_0-error:0.27255\tvalidation_0-logloss:0.54975\tvalidation_1-error:0.29459\tvalidation_1-logloss:0.56818\n",
      "[43]\tvalidation_0-error:0.27226\tvalidation_0-logloss:0.54872\tvalidation_1-error:0.29804\tvalidation_1-logloss:0.56793\n",
      "[44]\tvalidation_0-error:0.26999\tvalidation_0-logloss:0.54812\tvalidation_1-error:0.29862\tvalidation_1-logloss:0.56850\n",
      "[45]\tvalidation_0-error:0.26829\tvalidation_0-logloss:0.54687\tvalidation_1-error:0.29574\tvalidation_1-logloss:0.56742\n",
      "[46]\tvalidation_0-error:0.26971\tvalidation_0-logloss:0.54605\tvalidation_1-error:0.29517\tvalidation_1-logloss:0.56755\n",
      "[47]\tvalidation_0-error:0.26602\tvalidation_0-logloss:0.54467\tvalidation_1-error:0.29229\tvalidation_1-logloss:0.56755\n",
      "[48]\tvalidation_0-error:0.26517\tvalidation_0-logloss:0.54373\tvalidation_1-error:0.29344\tvalidation_1-logloss:0.56722\n",
      "[49]\tvalidation_0-error:0.26546\tvalidation_0-logloss:0.54353\tvalidation_1-error:0.29574\tvalidation_1-logloss:0.56836\n",
      "[50]\tvalidation_0-error:0.26517\tvalidation_0-logloss:0.54283\tvalidation_1-error:0.29344\tvalidation_1-logloss:0.56827\n",
      "[51]\tvalidation_0-error:0.26772\tvalidation_0-logloss:0.54214\tvalidation_1-error:0.29517\tvalidation_1-logloss:0.56834\n",
      "[52]\tvalidation_0-error:0.26602\tvalidation_0-logloss:0.54153\tvalidation_1-error:0.29344\tvalidation_1-logloss:0.56769\n",
      "[53]\tvalidation_0-error:0.26574\tvalidation_0-logloss:0.54071\tvalidation_1-error:0.29459\tvalidation_1-logloss:0.56778\n",
      "[54]\tvalidation_0-error:0.26744\tvalidation_0-logloss:0.54025\tvalidation_1-error:0.29402\tvalidation_1-logloss:0.56794\n",
      "[55]\tvalidation_0-error:0.26744\tvalidation_0-logloss:0.53910\tvalidation_1-error:0.29229\tvalidation_1-logloss:0.56671\n",
      "[56]\tvalidation_0-error:0.26659\tvalidation_0-logloss:0.53841\tvalidation_1-error:0.29229\tvalidation_1-logloss:0.56708\n",
      "[57]\tvalidation_0-error:0.26631\tvalidation_0-logloss:0.53723\tvalidation_1-error:0.29344\tvalidation_1-logloss:0.56638\n",
      "[58]\tvalidation_0-error:0.26489\tvalidation_0-logloss:0.53631\tvalidation_1-error:0.29056\tvalidation_1-logloss:0.56566\n",
      "[59]\tvalidation_0-error:0.26461\tvalidation_0-logloss:0.53595\tvalidation_1-error:0.28999\tvalidation_1-logloss:0.56535\n",
      "[60]\tvalidation_0-error:0.26432\tvalidation_0-logloss:0.53558\tvalidation_1-error:0.28769\tvalidation_1-logloss:0.56581\n",
      "[61]\tvalidation_0-error:0.26205\tvalidation_0-logloss:0.53464\tvalidation_1-error:0.28424\tvalidation_1-logloss:0.56567\n",
      "[62]\tvalidation_0-error:0.26205\tvalidation_0-logloss:0.53377\tvalidation_1-error:0.28596\tvalidation_1-logloss:0.56577\n",
      "[63]\tvalidation_0-error:0.26120\tvalidation_0-logloss:0.53304\tvalidation_1-error:0.28596\tvalidation_1-logloss:0.56567\n",
      "[64]\tvalidation_0-error:0.26120\tvalidation_0-logloss:0.53206\tvalidation_1-error:0.28596\tvalidation_1-logloss:0.56494\n",
      "[65]\tvalidation_0-error:0.25950\tvalidation_0-logloss:0.53144\tvalidation_1-error:0.28654\tvalidation_1-logloss:0.56452\n",
      "[66]\tvalidation_0-error:0.25950\tvalidation_0-logloss:0.53107\tvalidation_1-error:0.29056\tvalidation_1-logloss:0.56420\n",
      "[67]\tvalidation_0-error:0.25950\tvalidation_0-logloss:0.53075\tvalidation_1-error:0.29114\tvalidation_1-logloss:0.56444\n",
      "[68]\tvalidation_0-error:0.26007\tvalidation_0-logloss:0.52981\tvalidation_1-error:0.28711\tvalidation_1-logloss:0.56451\n",
      "[69]\tvalidation_0-error:0.26064\tvalidation_0-logloss:0.52973\tvalidation_1-error:0.28654\tvalidation_1-logloss:0.56451\n",
      "[70]\tvalidation_0-error:0.25837\tvalidation_0-logloss:0.52935\tvalidation_1-error:0.28596\tvalidation_1-logloss:0.56433\n"
     ]
    },
    {
     "name": "stdout",
     "output_type": "stream",
     "text": [
      "[71]\tvalidation_0-error:0.26064\tvalidation_0-logloss:0.52885\tvalidation_1-error:0.28884\tvalidation_1-logloss:0.56461\n",
      "[72]\tvalidation_0-error:0.25723\tvalidation_0-logloss:0.52768\tvalidation_1-error:0.28596\tvalidation_1-logloss:0.56459\n",
      "[73]\tvalidation_0-error:0.25978\tvalidation_0-logloss:0.52762\tvalidation_1-error:0.28884\tvalidation_1-logloss:0.56491\n",
      "[74]\tvalidation_0-error:0.25695\tvalidation_0-logloss:0.52704\tvalidation_1-error:0.28711\tvalidation_1-logloss:0.56467\n",
      "[75]\tvalidation_0-error:0.25752\tvalidation_0-logloss:0.52602\tvalidation_1-error:0.28596\tvalidation_1-logloss:0.56408\n",
      "[76]\tvalidation_0-error:0.25553\tvalidation_0-logloss:0.52506\tvalidation_1-error:0.28769\tvalidation_1-logloss:0.56398\n",
      "[77]\tvalidation_0-error:0.25581\tvalidation_0-logloss:0.52472\tvalidation_1-error:0.28711\tvalidation_1-logloss:0.56463\n",
      "[78]\tvalidation_0-error:0.25298\tvalidation_0-logloss:0.52418\tvalidation_1-error:0.28596\tvalidation_1-logloss:0.56407\n",
      "[79]\tvalidation_0-error:0.24957\tvalidation_0-logloss:0.52346\tvalidation_1-error:0.28654\tvalidation_1-logloss:0.56347\n",
      "[80]\tvalidation_0-error:0.25128\tvalidation_0-logloss:0.52341\tvalidation_1-error:0.28826\tvalidation_1-logloss:0.56368\n",
      "[81]\tvalidation_0-error:0.24986\tvalidation_0-logloss:0.52342\tvalidation_1-error:0.28711\tvalidation_1-logloss:0.56330\n",
      "[82]\tvalidation_0-error:0.24957\tvalidation_0-logloss:0.52262\tvalidation_1-error:0.29172\tvalidation_1-logloss:0.56353\n",
      "[83]\tvalidation_0-error:0.24986\tvalidation_0-logloss:0.52180\tvalidation_1-error:0.28884\tvalidation_1-logloss:0.56262\n",
      "[84]\tvalidation_0-error:0.24759\tvalidation_0-logloss:0.52113\tvalidation_1-error:0.28596\tvalidation_1-logloss:0.56231\n",
      "[85]\tvalidation_0-error:0.24929\tvalidation_0-logloss:0.52052\tvalidation_1-error:0.28538\tvalidation_1-logloss:0.56255\n",
      "[86]\tvalidation_0-error:0.25071\tvalidation_0-logloss:0.52028\tvalidation_1-error:0.28654\tvalidation_1-logloss:0.56223\n",
      "[87]\tvalidation_0-error:0.24957\tvalidation_0-logloss:0.51969\tvalidation_1-error:0.28596\tvalidation_1-logloss:0.56193\n",
      "[88]\tvalidation_0-error:0.24986\tvalidation_0-logloss:0.51927\tvalidation_1-error:0.28596\tvalidation_1-logloss:0.56229\n",
      "[89]\tvalidation_0-error:0.24957\tvalidation_0-logloss:0.51902\tvalidation_1-error:0.28596\tvalidation_1-logloss:0.56210\n",
      "[90]\tvalidation_0-error:0.24986\tvalidation_0-logloss:0.51836\tvalidation_1-error:0.28596\tvalidation_1-logloss:0.56234\n",
      "[91]\tvalidation_0-error:0.25043\tvalidation_0-logloss:0.51781\tvalidation_1-error:0.28884\tvalidation_1-logloss:0.56263\n",
      "[92]\tvalidation_0-error:0.25014\tvalidation_0-logloss:0.51718\tvalidation_1-error:0.28654\tvalidation_1-logloss:0.56242\n",
      "[93]\tvalidation_0-error:0.24702\tvalidation_0-logloss:0.51669\tvalidation_1-error:0.28826\tvalidation_1-logloss:0.56302\n",
      "[94]\tvalidation_0-error:0.24816\tvalidation_0-logloss:0.51644\tvalidation_1-error:0.28711\tvalidation_1-logloss:0.56294\n",
      "[95]\tvalidation_0-error:0.24731\tvalidation_0-logloss:0.51610\tvalidation_1-error:0.28884\tvalidation_1-logloss:0.56252\n",
      "[96]\tvalidation_0-error:0.24674\tvalidation_0-logloss:0.51547\tvalidation_1-error:0.29056\tvalidation_1-logloss:0.56261\n",
      "[97]\tvalidation_0-error:0.24759\tvalidation_0-logloss:0.51509\tvalidation_1-error:0.29114\tvalidation_1-logloss:0.56291\n",
      "[98]\tvalidation_0-error:0.24589\tvalidation_0-logloss:0.51406\tvalidation_1-error:0.29459\tvalidation_1-logloss:0.56247\n",
      "[99]\tvalidation_0-error:0.24560\tvalidation_0-logloss:0.51377\tvalidation_1-error:0.29056\tvalidation_1-logloss:0.56187\n"
     ]
    },
    {
     "data": {
      "text/plain": [
       "XGBClassifier(base_score=0.5, booster='gbtree', colsample_bylevel=1,\n",
       "              colsample_bynode=1, colsample_bytree=0.9, gamma=0, gpu_id=-1,\n",
       "              importance_type='gain', interaction_constraints='',\n",
       "              learning_rate=0.12, max_delta_step=0, max_depth=6,\n",
       "              min_child_weight=42, missing=nan, monotone_constraints='()',\n",
       "              n_estimators=100, n_jobs=0, num_parallel_tree=1,\n",
       "              objective='binary:logistic', random_state=13, reg_alpha=0.1,\n",
       "              reg_lambda=1e-05, scale_pos_weight=1.336, subsample=0.6,\n",
       "              tree_method='exact', validate_parameters=1, verbosity=None)"
      ]
     },
     "execution_count": 29,
     "metadata": {},
     "output_type": "execute_result"
    }
   ],
   "source": [
    "X_tr, X_val, y_tr, y_val = train_test_split(X_train, y_train,\n",
    "                                            test_size=0.33, random_state=7)\n",
    "\n",
    "xgb_2 = XGBClassifier(scale_pos_weight=1.336, learning_rate=0.12,\n",
    "                      max_depth=6, min_child_weight=42, gamma=0,\n",
    "                      colsample_bytree=0.9, subsample=0.6,\n",
    "                      reg_alpha=0.1, reg_lambda=1e-05,\n",
    "                      objective='binary:logistic', booster='gbtree', random_state=13)\n",
    "\n",
    "eval_set = [(X_tr, y_tr), (X_val, y_val)]\n",
    "\n",
    "xgb_2.fit(X_tr, y_tr, eval_metric=['error', 'logloss'], eval_set=eval_set, verbose=True)"
   ]
  },
  {
   "cell_type": "code",
   "execution_count": 30,
   "metadata": {},
   "outputs": [
    {
     "name": "stdout",
     "output_type": "stream",
     "text": [
      "f1_score (train set): 0.73551\n",
      "\n",
      "f1_score (test set):  0.68249\n"
     ]
    }
   ],
   "source": [
    "print(\"f1_score (train set): {:.5}\".format(\n",
    "            f1_score(y_train, xgb_2.predict(X_train), average='macro')\n",
    "))\n",
    "\n",
    "print(\"\\nf1_score (test set):  {:.5}\".format(\n",
    "            f1_score(y_test, xgb_2.predict(X_test), average='macro')\n",
    "))"
   ]
  },
  {
   "cell_type": "markdown",
   "metadata": {},
   "source": [
    "**Plot performance metrics.**"
   ]
  },
  {
   "cell_type": "code",
   "execution_count": 31,
   "metadata": {},
   "outputs": [
    {
     "data": {
      "image/png": "[encoded data removed]",
      "text/plain": [
       "<Figure size 1080x504 with 1 Axes>"
      ]
     },
     "metadata": {},
     "output_type": "display_data"
    },
    {
     "data": {
      "image/png": "[encoded data removed]",
      "text/plain": [
       "<Figure size 1080x504 with 1 Axes>"
      ]
     },
     "metadata": {},
     "output_type": "display_data"
    }
   ],
   "source": [
    "results = xgb_2.evals_result()\n",
    "epochs = len(results['validation_0']['error'])\n",
    "x_axis = range(0, epochs)\n",
    "\n",
    "fig, ax = plt.subplots()\n",
    "ax.plot(x_axis, results['validation_0']['logloss'], label='Train')\n",
    "ax.plot(x_axis, results['validation_1']['logloss'], label='Validation')\n",
    "ax.legend()\n",
    "plt.ylabel('Log Loss')\n",
    "plt.title('XGBoost Log Loss')\n",
    "plt.show()\n",
    "\n",
    "fig, ax = plt.subplots()\n",
    "ax.plot(x_axis, results['validation_0']['error'], label='Train')\n",
    "ax.plot(x_axis, results['validation_1']['error'], label='Validation')\n",
    "ax.legend()\n",
    "plt.ylabel('Classification Error')\n",
    "plt.title('XGBoost Classification Error')\n",
    "plt.show()"
   ]
  },
  {
   "cell_type": "markdown",
   "metadata": {},
   "source": [
    "The first plot shows the logarithmic loss of the XGBoost model for each epoch on the training and test datasets.\n",
    "\n",
    "The second plot shows the classification error of the XGBoost model for each epoch on the training and test datasets.\n",
    "\n",
    "From reviewing the logloss plot, it looks like there is an opportunity to stop the learning early, perhaps somewhere around epoch 80 to epoch 100.\n",
    "\n",
    "We see a similar story for classification error, where error appears to go back up at around epoch 5."
   ]
  },
  {
   "cell_type": "markdown",
   "metadata": {},
   "source": [
    "### Final model."
   ]
  },
  {
   "cell_type": "code",
   "execution_count": 32,
   "metadata": {
    "scrolled": true
   },
   "outputs": [
    {
     "name": "stdout",
     "output_type": "stream",
     "text": [
      "[0]\tvalidation_0-error:0.35788\n",
      "Will train until validation_0-error hasn't improved in 10 rounds.\n",
      "[1]\tvalidation_0-error:0.32566\n",
      "[2]\tvalidation_0-error:0.32163\n",
      "[3]\tvalidation_0-error:0.31991\n",
      "[4]\tvalidation_0-error:0.32394\n",
      "[5]\tvalidation_0-error:0.32336\n",
      "[6]\tvalidation_0-error:0.31933\n",
      "[7]\tvalidation_0-error:0.32624\n",
      "[8]\tvalidation_0-error:0.32394\n",
      "[9]\tvalidation_0-error:0.31818\n",
      "[10]\tvalidation_0-error:0.32163\n",
      "[11]\tvalidation_0-error:0.31991\n",
      "[12]\tvalidation_0-error:0.31358\n",
      "[13]\tvalidation_0-error:0.31300\n",
      "[14]\tvalidation_0-error:0.31358\n",
      "[15]\tvalidation_0-error:0.31646\n",
      "[16]\tvalidation_0-error:0.31300\n",
      "[17]\tvalidation_0-error:0.31415\n",
      "[18]\tvalidation_0-error:0.31415\n",
      "[19]\tvalidation_0-error:0.31358\n",
      "[20]\tvalidation_0-error:0.31588\n",
      "[21]\tvalidation_0-error:0.31070\n",
      "[22]\tvalidation_0-error:0.31185\n",
      "[23]\tvalidation_0-error:0.31013\n",
      "[24]\tvalidation_0-error:0.30955\n",
      "[25]\tvalidation_0-error:0.30783\n",
      "[26]\tvalidation_0-error:0.30667\n",
      "[27]\tvalidation_0-error:0.30783\n",
      "[28]\tvalidation_0-error:0.30552\n",
      "[29]\tvalidation_0-error:0.30092\n",
      "[30]\tvalidation_0-error:0.29689\n",
      "[31]\tvalidation_0-error:0.29632\n",
      "[32]\tvalidation_0-error:0.29574\n",
      "[33]\tvalidation_0-error:0.29689\n",
      "[34]\tvalidation_0-error:0.29286\n",
      "[35]\tvalidation_0-error:0.29574\n",
      "[36]\tvalidation_0-error:0.29632\n",
      "[37]\tvalidation_0-error:0.29632\n",
      "[38]\tvalidation_0-error:0.29689\n",
      "[39]\tvalidation_0-error:0.29747\n",
      "[40]\tvalidation_0-error:0.29689\n",
      "[41]\tvalidation_0-error:0.29632\n",
      "[42]\tvalidation_0-error:0.29632\n",
      "[43]\tvalidation_0-error:0.29747\n",
      "[44]\tvalidation_0-error:0.29919\n",
      "Stopping. Best iteration:\n",
      "[34]\tvalidation_0-error:0.29286\n",
      "\n"
     ]
    },
    {
     "data": {
      "text/plain": [
       "XGBClassifier(base_score=0.5, booster='gbtree', colsample_bylevel=1,\n",
       "              colsample_bynode=1, colsample_bytree=0.9, gamma=0, gpu_id=-1,\n",
       "              importance_type='gain', interaction_constraints='',\n",
       "              learning_rate=0.12, max_delta_step=0, max_depth=6,\n",
       "              min_child_weight=42, missing=nan, monotone_constraints='()',\n",
       "              n_estimators=100, n_jobs=0, num_parallel_tree=1,\n",
       "              objective='binary:logistic', random_state=13, reg_alpha=0.1,\n",
       "              reg_lambda=1e-05, scale_pos_weight=1.336, subsample=0.6,\n",
       "              tree_method='exact', validate_parameters=1, verbosity=None)"
      ]
     },
     "execution_count": 32,
     "metadata": {},
     "output_type": "execute_result"
    }
   ],
   "source": [
    "X_tr, X_val, y_tr, y_val = train_test_split(X_train, y_train,\n",
    "                                            test_size=0.33, random_state=13)\n",
    "\n",
    "xgb_final = XGBClassifier(scale_pos_weight=1.336, learning_rate=0.12,\n",
    "                          max_depth=6, min_child_weight=42, gamma=0,\n",
    "                          colsample_bytree=0.9, subsample=0.6,\n",
    "                          reg_alpha=0.1, reg_lambda=1e-05,\n",
    "                          objective='binary:logistic', booster='gbtree', random_state=13)\n",
    "\n",
    "eval_set = [(X_val, y_val)]\n",
    "xgb_final.fit(X_tr, y_tr, early_stopping_rounds=10, eval_metric='error', eval_set=eval_set, verbose=True)"
   ]
  },
  {
   "cell_type": "markdown",
   "metadata": {},
   "source": [
    "**Evaluate model.**"
   ]
  },
  {
   "cell_type": "code",
   "execution_count": 33,
   "metadata": {},
   "outputs": [
    {
     "name": "stdout",
     "output_type": "stream",
     "text": [
      "f1_score (train set): 0.71186\n",
      "\n",
      "f1_score (test set):  0.68424\n"
     ]
    }
   ],
   "source": [
    "print(\"f1_score (train set): {:.5}\".format(\n",
    "            f1_score(y_train, xgb_final.predict(X_train), average='macro')\n",
    "))\n",
    "\n",
    "print(\"\\nf1_score (test set):  {:.5}\".format(\n",
    "            f1_score(y_test, xgb_final.predict(X_test), average='macro')\n",
    "))"
   ]
  },
  {
   "cell_type": "markdown",
   "metadata": {},
   "source": [
    "We can see that **the model stopped training at epoch 36** (close to what we expected by our manual judgment of learning curves) and that the model with **the best loss was observed at epoch 26**."
   ]
  },
  {
   "cell_type": "code",
   "execution_count": 34,
   "metadata": {},
   "outputs": [
    {
     "data": {
      "image/png": "[encoded data removed]",
      "text/plain": [
       "<Figure size 1080x504 with 1 Axes>"
      ]
     },
     "metadata": {},
     "output_type": "display_data"
    }
   ],
   "source": [
    "plot_cv_with_err(model = xgb_final,\n",
    "                 data_X = X_train,\n",
    "                 data_y = y_train,\n",
    "                 parameter_name = 'learning_rate',\n",
    "                 params = [i/100.0 for i in range(1,101,10)],\n",
    "                 cv_score = 'f1_macro')\n",
    "\n",
    "plt.xlabel(\"Learning rate\")\n",
    "plt.ylabel(\"F1-score\")\n",
    "plt.legend(loc='best')\n",
    "plt.grid(True)"
   ]
  },
  {
   "cell_type": "code",
   "execution_count": 35,
   "metadata": {},
   "outputs": [
    {
     "name": "stdout",
     "output_type": "stream",
     "text": [
      "                                    CV scores on Train set\n",
      "================================================================================================\n",
      "  mean_train_score (std_train_score) | mean_valid_score (std_valid_score) |      parameter\n",
      "================================================================================================\n",
      "        0.7041      (  0.0017019   ) |      0.68401      (  0.0086095   ) | learning_rate = 0.01\n",
      "       0.75236      (  0.0012629   ) |      0.70091      (   0.007657   ) | learning_rate = 0.11\n",
      "       0.77475      (   0.002194   ) |      0.69315      (  0.0050365   ) | learning_rate = 0.21\n",
      "        0.7856      (  0.0013074   ) |      0.68988      (    0.0115    ) | learning_rate = 0.31\n",
      "       0.79413      (  0.0030159   ) |      0.67731      (   0.010684   ) | learning_rate = 0.41\n",
      "       0.79958      (  0.0030457   ) |      0.67623      (   0.011016   ) | learning_rate = 0.51\n",
      "       0.79946      (  0.0013436   ) |      0.66755      (   0.012678   ) | learning_rate = 0.61\n",
      "       0.79662      (  0.0047443   ) |      0.67203      (  0.0052827   ) | learning_rate = 0.71\n",
      "       0.79622      (  0.0020389   ) |      0.66593      (   0.010297   ) | learning_rate = 0.81\n",
      "       0.79118      (  0.0025245   ) |      0.65736      (   0.013596   ) | learning_rate = 0.91\n"
     ]
    }
   ],
   "source": [
    "cv_output_all(model = xgb_final,\n",
    "              data_X = X_train,\n",
    "              data_y = y_train,\n",
    "              parameter_name = 'learning_rate', \n",
    "              params = [i/100.0 for i in range(1,101,10)],\n",
    "              cv_score = 'f1_macro'\n",
    "             )"
   ]
  },
  {
   "cell_type": "code",
   "execution_count": 36,
   "metadata": {},
   "outputs": [
    {
     "data": {
      "image/png": "[encoded data removed]",
      "text/plain": [
       "<Figure size 1080x504 with 1 Axes>"
      ]
     },
     "metadata": {},
     "output_type": "display_data"
    }
   ],
   "source": [
    "fi = pd.Series(xgb_final.feature_importances_, index=X_train.columns)\n",
    "fi.sort_values(ascending=False).plot(kind='bar', width=0.8)\n",
    "plt.title(\"Feature importances (XGBoost)\")\n",
    "plt.show()"
   ]
  },
  {
   "cell_type": "markdown",
   "metadata": {},
   "source": [
    "It seems that feature extraction from tweets gave us at least one golden feature - url_count. It seems interpretable, because in not disaster tweets there are rarely links on internet pages. Also it could be because of greate part of disaster tweets are written by news agences."
   ]
  },
  {
   "cell_type": "markdown",
   "metadata": {},
   "source": [
    "## Results"
   ]
  },
  {
   "cell_type": "code",
   "execution_count": 37,
   "metadata": {},
   "outputs": [],
   "source": [
    "def get_scores(estimator, X, y, name):\n",
    "    y_pred = estimator.predict(X)\n",
    "    y_pred_proba = estimator.predict_proba(X)[:, 1]\n",
    "\n",
    "    accuracy = accuracy_score(y_test, y_pred)\n",
    "    precision = precision_score(y_test, y_pred)\n",
    "    recall = recall_score(y_test, y_pred)\n",
    "    f1 = f1_score(y_test, y_pred, average='macro')\n",
    "    roc_auc = roc_auc_score(y_test, y_pred_proba)\n",
    "    \n",
    "    columns = ['accuracy', 'precision', 'recall', 'F1-macro', 'AUC-ROC']\n",
    "    results = pd.DataFrame([accuracy, precision, recall, f1, roc_auc], index=columns, columns=[name]).T\n",
    "\n",
    "    return results"
   ]
  },
  {
   "cell_type": "code",
   "execution_count": 38,
   "metadata": {},
   "outputs": [],
   "source": [
    "results_lr = get_scores(lr_final, X = X_test_scaled, y = y_test, name = 'LR')\n",
    "results_xgb = get_scores(xgb_final, X = X_test, y = y_test, name = 'XGB')"
   ]
  },
  {
   "cell_type": "code",
   "execution_count": 39,
   "metadata": {},
   "outputs": [
    {
     "data": {
      "text/html": [
       "<div>\n",
       "<style scoped>\n",
       "    .dataframe tbody tr th:only-of-type {\n",
       "        vertical-align: middle;\n",
       "    }\n",
       "\n",
       "    .dataframe tbody tr th {\n",
       "        vertical-align: top;\n",
       "    }\n",
       "\n",
       "    .dataframe thead th {\n",
       "        text-align: right;\n",
       "    }\n",
       "</style>\n",
       "<table border=\"1\" class=\"dataframe\">\n",
       "  <thead>\n",
       "    <tr style=\"text-align: right;\">\n",
       "      <th></th>\n",
       "      <th>accuracy</th>\n",
       "      <th>precision</th>\n",
       "      <th>recall</th>\n",
       "      <th>F1-macro</th>\n",
       "      <th>AUC-ROC</th>\n",
       "    </tr>\n",
       "  </thead>\n",
       "  <tbody>\n",
       "    <tr>\n",
       "      <th>LR</th>\n",
       "      <td>0.674645</td>\n",
       "      <td>0.605287</td>\n",
       "      <td>0.688083</td>\n",
       "      <td>0.672222</td>\n",
       "      <td>0.724727</td>\n",
       "    </tr>\n",
       "    <tr>\n",
       "      <th>XGB</th>\n",
       "      <td>0.688830</td>\n",
       "      <td>0.629048</td>\n",
       "      <td>0.664249</td>\n",
       "      <td>0.684240</td>\n",
       "      <td>0.738768</td>\n",
       "    </tr>\n",
       "  </tbody>\n",
       "</table>\n",
       "</div>"
      ],
      "text/plain": [
       "     accuracy  precision    recall  F1-macro   AUC-ROC\n",
       "LR   0.674645   0.605287  0.688083  0.672222  0.724727\n",
       "XGB  0.688830   0.629048  0.664249  0.684240  0.738768"
      ]
     },
     "execution_count": 39,
     "metadata": {},
     "output_type": "execute_result"
    }
   ],
   "source": [
    "results_lr.append(results_xgb)"
   ]
  },
  {
   "cell_type": "markdown",
   "metadata": {},
   "source": [
    "## CONCLUSIONS\n",
    "\n",
    "1. Logistic Regression and XGBoost machine learning models with tuned hyperparameters were applied to the tabular data.\n",
    "2. It was shown that feature extraction from texts provided a golden feature - number of url adresses in a tweet.\n",
    "3. In this approaches XGBoost proved to be the best.\n",
    "4. Two different approaches were compared. Firstly, different machine learning models were applied to the TF-IDF matrix obtained from the preprocessed texts. Finally, the same machine learning methods (but with different hyperparameters) were applied to the tabular data. On tabular data XGBoost proved to be the best, but the best F1-score was acived with Logistic regression on TF-IDF data."
   ]
  },
  {
   "cell_type": "code",
   "execution_count": null,
   "metadata": {},
   "outputs": [],
   "source": []
  }
 ],
 "metadata": {
  "kernelspec": {
   "display_name": "Python 3",
   "language": "python",
   "name": "python3"
  },
  "language_info": {
   "codemirror_mode": {
    "name": "ipython",
    "version": 3
   },
   "file_extension": ".py",
   "mimetype": "text/x-python",
   "name": "python",
   "nbconvert_exporter": "python",
   "pygments_lexer": "ipython3",
   "version": "3.7.6"
  }
 },
 "nbformat": 4,
 "nbformat_minor": 2
}
