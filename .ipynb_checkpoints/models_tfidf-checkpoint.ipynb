{
 "cells": [
  {
   "cell_type": "code",
   "execution_count": 1,
   "metadata": {},
   "outputs": [],
   "source": [
    "import os\n",
    "from pathlib import Path\n",
    "\n",
    "import numpy as np\n",
    "import pandas as pd\n",
    "from collections import Counter\n",
    "pd.set_option('display.max_rows', 500)\n",
    "pd.set_option('display.max_columns', 500)\n",
    "pd.set_option('display.width', 1000)\n",
    "pd.set_option('display.max_colwidth', 1000)\n",
    "\n",
    "from sklearn.feature_extraction.text import TfidfVectorizer\n",
    "\n",
    "from sklearn.linear_model import LogisticRegression\n",
    "from sklearn.metrics import f1_score, accuracy_score, precision_score, recall_score, roc_auc_score\n",
    "from sklearn.model_selection import cross_val_score, GridSearchCV, StratifiedKFold, \\\n",
    "train_test_split, validation_curve\n",
    "from xgboost.sklearn import XGBClassifier\n",
    "\n",
    "import matplotlib.pyplot as plt\n",
    "import seaborn as sns\n",
    "\n",
    "%matplotlib inline\n",
    "sns.set(rc={'figure.figsize':(15,7)}, style='whitegrid')\n",
    "plt.rcParams['figure.figsize'] = (15,7)"
   ]
  },
  {
   "cell_type": "code",
   "execution_count": 2,
   "metadata": {},
   "outputs": [],
   "source": [
    "DATA_PATH = 'data/'\n",
    "\n",
    "TRAIN_FEATURES = os.path.join(DATA_PATH, 'train_new_features.csv')"
   ]
  },
  {
   "cell_type": "code",
   "execution_count": 3,
   "metadata": {},
   "outputs": [],
   "source": [
    "train_df = pd.read_csv(TRAIN_FEATURES, index_col=0, encoding='utf-8')"
   ]
  },
  {
   "cell_type": "code",
   "execution_count": 4,
   "metadata": {
    "scrolled": false
   },
   "outputs": [
    {
     "data": {
      "text/html": [
       "<div>\n",
       "<style scoped>\n",
       "    .dataframe tbody tr th:only-of-type {\n",
       "        vertical-align: middle;\n",
       "    }\n",
       "\n",
       "    .dataframe tbody tr th {\n",
       "        vertical-align: top;\n",
       "    }\n",
       "\n",
       "    .dataframe thead th {\n",
       "        text-align: right;\n",
       "    }\n",
       "</style>\n",
       "<table border=\"1\" class=\"dataframe\">\n",
       "  <thead>\n",
       "    <tr style=\"text-align: right;\">\n",
       "      <th></th>\n",
       "      <th>text</th>\n",
       "      <th>target</th>\n",
       "      <th>text_cleaned</th>\n",
       "      <th>preprocessed_text</th>\n",
       "      <th>sentence_count</th>\n",
       "      <th>word_count</th>\n",
       "      <th>stop_word_count</th>\n",
       "      <th>stop_word_share</th>\n",
       "      <th>url_count</th>\n",
       "      <th>mean_word_length</th>\n",
       "      <th>char_count</th>\n",
       "      <th>punctuation_count</th>\n",
       "      <th>hashtag_count</th>\n",
       "      <th>mention_count</th>\n",
       "      <th>polarity_raw</th>\n",
       "      <th>subjectivity_raw</th>\n",
       "      <th>unique_word_count</th>\n",
       "      <th>unique_word_share</th>\n",
       "      <th>polarity</th>\n",
       "      <th>subjectivity</th>\n",
       "      <th>DT</th>\n",
       "      <th>NN</th>\n",
       "      <th>PRP$</th>\n",
       "      <th>NNS</th>\n",
       "      <th>VBP</th>\n",
       "      <th>IN</th>\n",
       "      <th>MD</th>\n",
       "      <th>VB</th>\n",
       "      <th>JJ</th>\n",
       "      <th>PRP</th>\n",
       "      <th>JJS</th>\n",
       "      <th>VBN</th>\n",
       "      <th>VBD</th>\n",
       "      <th>TO</th>\n",
       "      <th>VBG</th>\n",
       "      <th>CC</th>\n",
       "      <th>RB</th>\n",
       "      <th>EX</th>\n",
       "      <th>VBZ</th>\n",
       "      <th>CD</th>\n",
       "      <th>WP</th>\n",
       "      <th>RP</th>\n",
       "      <th>JJR</th>\n",
       "      <th>WRB</th>\n",
       "      <th>FW</th>\n",
       "      <th>WDT</th>\n",
       "      <th>NNP</th>\n",
       "      <th>RBR</th>\n",
       "      <th>RBS</th>\n",
       "      <th>PDT</th>\n",
       "      <th>SYM</th>\n",
       "      <th>UH</th>\n",
       "      <th>WP$</th>\n",
       "    </tr>\n",
       "  </thead>\n",
       "  <tbody>\n",
       "    <tr>\n",
       "      <th>0</th>\n",
       "      <td>Our Deeds are the Reason of this #earthquake May ALLAH Forgive us all</td>\n",
       "      <td>1</td>\n",
       "      <td>our deeds are the reason of this earthquake may allah forgive us all</td>\n",
       "      <td>deed reason earthquak may allah forgiv us</td>\n",
       "      <td>1</td>\n",
       "      <td>13</td>\n",
       "      <td>6</td>\n",
       "      <td>0.461538</td>\n",
       "      <td>0</td>\n",
       "      <td>4.384615</td>\n",
       "      <td>69</td>\n",
       "      <td>1</td>\n",
       "      <td>1</td>\n",
       "      <td>0</td>\n",
       "      <td>0.0</td>\n",
       "      <td>0.0</td>\n",
       "      <td>7</td>\n",
       "      <td>1.0</td>\n",
       "      <td>0.0</td>\n",
       "      <td>0.0</td>\n",
       "      <td>3.0</td>\n",
       "      <td>2.0</td>\n",
       "      <td>1.0</td>\n",
       "      <td>1.0</td>\n",
       "      <td>1.0</td>\n",
       "      <td>1.0</td>\n",
       "      <td>1.0</td>\n",
       "      <td>1.0</td>\n",
       "      <td>1.0</td>\n",
       "      <td>1.0</td>\n",
       "      <td>0.0</td>\n",
       "      <td>0.0</td>\n",
       "      <td>0.0</td>\n",
       "      <td>0.0</td>\n",
       "      <td>0.0</td>\n",
       "      <td>0.0</td>\n",
       "      <td>0.0</td>\n",
       "      <td>0.0</td>\n",
       "      <td>0.0</td>\n",
       "      <td>0.0</td>\n",
       "      <td>0.0</td>\n",
       "      <td>0.0</td>\n",
       "      <td>0.0</td>\n",
       "      <td>0.0</td>\n",
       "      <td>0.0</td>\n",
       "      <td>0.0</td>\n",
       "      <td>0.0</td>\n",
       "      <td>0.0</td>\n",
       "      <td>0.0</td>\n",
       "      <td>0.0</td>\n",
       "      <td>0.0</td>\n",
       "      <td>0.0</td>\n",
       "      <td>0.0</td>\n",
       "    </tr>\n",
       "    <tr>\n",
       "      <th>1</th>\n",
       "      <td>Forest fire near La Ronge Sask. Canada</td>\n",
       "      <td>1</td>\n",
       "      <td>forest fire near la ronge sask canada</td>\n",
       "      <td>forest fire near la rong sask canada</td>\n",
       "      <td>1</td>\n",
       "      <td>7</td>\n",
       "      <td>0</td>\n",
       "      <td>0.000000</td>\n",
       "      <td>0</td>\n",
       "      <td>4.571429</td>\n",
       "      <td>38</td>\n",
       "      <td>1</td>\n",
       "      <td>0</td>\n",
       "      <td>0</td>\n",
       "      <td>0.1</td>\n",
       "      <td>0.4</td>\n",
       "      <td>7</td>\n",
       "      <td>1.0</td>\n",
       "      <td>0.1</td>\n",
       "      <td>0.4</td>\n",
       "      <td>0.0</td>\n",
       "      <td>4.0</td>\n",
       "      <td>0.0</td>\n",
       "      <td>0.0</td>\n",
       "      <td>0.0</td>\n",
       "      <td>1.0</td>\n",
       "      <td>0.0</td>\n",
       "      <td>0.0</td>\n",
       "      <td>1.0</td>\n",
       "      <td>0.0</td>\n",
       "      <td>1.0</td>\n",
       "      <td>0.0</td>\n",
       "      <td>0.0</td>\n",
       "      <td>0.0</td>\n",
       "      <td>0.0</td>\n",
       "      <td>0.0</td>\n",
       "      <td>0.0</td>\n",
       "      <td>0.0</td>\n",
       "      <td>0.0</td>\n",
       "      <td>0.0</td>\n",
       "      <td>0.0</td>\n",
       "      <td>0.0</td>\n",
       "      <td>0.0</td>\n",
       "      <td>0.0</td>\n",
       "      <td>0.0</td>\n",
       "      <td>0.0</td>\n",
       "      <td>0.0</td>\n",
       "      <td>0.0</td>\n",
       "      <td>0.0</td>\n",
       "      <td>0.0</td>\n",
       "      <td>0.0</td>\n",
       "      <td>0.0</td>\n",
       "      <td>0.0</td>\n",
       "    </tr>\n",
       "  </tbody>\n",
       "</table>\n",
       "</div>"
      ],
      "text/plain": [
       "                                                                    text  target                                                          text_cleaned                          preprocessed_text  sentence_count  word_count  stop_word_count  stop_word_share  url_count  mean_word_length  char_count  punctuation_count  hashtag_count  mention_count  polarity_raw  subjectivity_raw  unique_word_count  unique_word_share  polarity  subjectivity   DT   NN  PRP$  NNS  VBP   IN   MD   VB   JJ  PRP  JJS  VBN  VBD   TO  VBG   CC   RB   EX  VBZ   CD   WP   RP  JJR  WRB   FW  WDT  NNP  RBR  RBS  PDT  SYM   UH  WP$\n",
       "0  Our Deeds are the Reason of this #earthquake May ALLAH Forgive us all       1  our deeds are the reason of this earthquake may allah forgive us all  deed reason earthquak may allah forgiv us               1          13                6         0.461538          0          4.384615          69                  1              1              0           0.0               0.0                  7                1.0       0.0           0.0  3.0  2.0   1.0  1.0  1.0  1.0  1.0  1.0  1.0  1.0  0.0  0.0  0.0  0.0  0.0  0.0  0.0  0.0  0.0  0.0  0.0  0.0  0.0  0.0  0.0  0.0  0.0  0.0  0.0  0.0  0.0  0.0  0.0\n",
       "1                                 Forest fire near La Ronge Sask. Canada       1                                 forest fire near la ronge sask canada       forest fire near la rong sask canada               1           7                0         0.000000          0          4.571429          38                  1              0              0           0.1               0.4                  7                1.0       0.1           0.4  0.0  4.0   0.0  0.0  0.0  1.0  0.0  0.0  1.0  0.0  1.0  0.0  0.0  0.0  0.0  0.0  0.0  0.0  0.0  0.0  0.0  0.0  0.0  0.0  0.0  0.0  0.0  0.0  0.0  0.0  0.0  0.0  0.0"
      ]
     },
     "execution_count": 4,
     "metadata": {},
     "output_type": "execute_result"
    }
   ],
   "source": [
    "train_df.head(2)"
   ]
  },
  {
   "cell_type": "markdown",
   "metadata": {},
   "source": [
    "## Data preparation"
   ]
  },
  {
   "cell_type": "markdown",
   "metadata": {},
   "source": [
    "Check for null values and fill in them."
   ]
  },
  {
   "cell_type": "code",
   "execution_count": 5,
   "metadata": {},
   "outputs": [
    {
     "name": "stdout",
     "output_type": "stream",
     "text": [
      "Found missing values in data\n"
     ]
    }
   ],
   "source": [
    "if train_df.isnull().any().any():\n",
    "    print('Found missing values in data')\n",
    "else:\n",
    "    print('No missing values in data')"
   ]
  },
  {
   "cell_type": "code",
   "execution_count": 6,
   "metadata": {},
   "outputs": [
    {
     "data": {
      "text/html": [
       "<div>\n",
       "<style scoped>\n",
       "    .dataframe tbody tr th:only-of-type {\n",
       "        vertical-align: middle;\n",
       "    }\n",
       "\n",
       "    .dataframe tbody tr th {\n",
       "        vertical-align: top;\n",
       "    }\n",
       "\n",
       "    .dataframe thead th {\n",
       "        text-align: right;\n",
       "    }\n",
       "</style>\n",
       "<table border=\"1\" class=\"dataframe\">\n",
       "  <thead>\n",
       "    <tr style=\"text-align: right;\">\n",
       "      <th></th>\n",
       "      <th>text</th>\n",
       "      <th>target</th>\n",
       "      <th>text_cleaned</th>\n",
       "      <th>preprocessed_text</th>\n",
       "      <th>sentence_count</th>\n",
       "      <th>word_count</th>\n",
       "      <th>stop_word_count</th>\n",
       "      <th>stop_word_share</th>\n",
       "      <th>url_count</th>\n",
       "      <th>mean_word_length</th>\n",
       "      <th>char_count</th>\n",
       "      <th>punctuation_count</th>\n",
       "      <th>hashtag_count</th>\n",
       "      <th>mention_count</th>\n",
       "      <th>polarity_raw</th>\n",
       "      <th>subjectivity_raw</th>\n",
       "      <th>unique_word_count</th>\n",
       "      <th>unique_word_share</th>\n",
       "      <th>polarity</th>\n",
       "      <th>subjectivity</th>\n",
       "      <th>DT</th>\n",
       "      <th>NN</th>\n",
       "      <th>PRP$</th>\n",
       "      <th>NNS</th>\n",
       "      <th>VBP</th>\n",
       "      <th>IN</th>\n",
       "      <th>MD</th>\n",
       "      <th>VB</th>\n",
       "      <th>JJ</th>\n",
       "      <th>PRP</th>\n",
       "      <th>JJS</th>\n",
       "      <th>VBN</th>\n",
       "      <th>VBD</th>\n",
       "      <th>TO</th>\n",
       "      <th>VBG</th>\n",
       "      <th>CC</th>\n",
       "      <th>RB</th>\n",
       "      <th>EX</th>\n",
       "      <th>VBZ</th>\n",
       "      <th>CD</th>\n",
       "      <th>WP</th>\n",
       "      <th>RP</th>\n",
       "      <th>JJR</th>\n",
       "      <th>WRB</th>\n",
       "      <th>FW</th>\n",
       "      <th>WDT</th>\n",
       "      <th>NNP</th>\n",
       "      <th>RBR</th>\n",
       "      <th>RBS</th>\n",
       "      <th>PDT</th>\n",
       "      <th>SYM</th>\n",
       "      <th>UH</th>\n",
       "      <th>WP$</th>\n",
       "    </tr>\n",
       "  </thead>\n",
       "  <tbody>\n",
       "    <tr>\n",
       "      <th>0</th>\n",
       "      <td>0</td>\n",
       "      <td>0</td>\n",
       "      <td>0</td>\n",
       "      <td>2</td>\n",
       "      <td>0</td>\n",
       "      <td>0</td>\n",
       "      <td>0</td>\n",
       "      <td>0</td>\n",
       "      <td>0</td>\n",
       "      <td>0</td>\n",
       "      <td>0</td>\n",
       "      <td>0</td>\n",
       "      <td>0</td>\n",
       "      <td>0</td>\n",
       "      <td>0</td>\n",
       "      <td>0</td>\n",
       "      <td>0</td>\n",
       "      <td>0</td>\n",
       "      <td>0</td>\n",
       "      <td>0</td>\n",
       "      <td>0</td>\n",
       "      <td>0</td>\n",
       "      <td>0</td>\n",
       "      <td>0</td>\n",
       "      <td>0</td>\n",
       "      <td>0</td>\n",
       "      <td>0</td>\n",
       "      <td>0</td>\n",
       "      <td>0</td>\n",
       "      <td>0</td>\n",
       "      <td>0</td>\n",
       "      <td>0</td>\n",
       "      <td>0</td>\n",
       "      <td>0</td>\n",
       "      <td>0</td>\n",
       "      <td>0</td>\n",
       "      <td>0</td>\n",
       "      <td>0</td>\n",
       "      <td>0</td>\n",
       "      <td>0</td>\n",
       "      <td>0</td>\n",
       "      <td>0</td>\n",
       "      <td>0</td>\n",
       "      <td>0</td>\n",
       "      <td>0</td>\n",
       "      <td>0</td>\n",
       "      <td>0</td>\n",
       "      <td>0</td>\n",
       "      <td>0</td>\n",
       "      <td>0</td>\n",
       "      <td>0</td>\n",
       "      <td>0</td>\n",
       "      <td>0</td>\n",
       "    </tr>\n",
       "  </tbody>\n",
       "</table>\n",
       "</div>"
      ],
      "text/plain": [
       "   text  target  text_cleaned  preprocessed_text  sentence_count  word_count  stop_word_count  stop_word_share  url_count  mean_word_length  char_count  punctuation_count  hashtag_count  mention_count  polarity_raw  subjectivity_raw  unique_word_count  unique_word_share  polarity  subjectivity  DT  NN  PRP$  NNS  VBP  IN  MD  VB  JJ  PRP  JJS  VBN  VBD  TO  VBG  CC  RB  EX  VBZ  CD  WP  RP  JJR  WRB  FW  WDT  NNP  RBR  RBS  PDT  SYM  UH  WP$\n",
       "0     0       0             0                  2               0           0                0                0          0                 0           0                  0              0              0             0                 0                  0                  0         0             0   0   0     0    0    0   0   0   0   0    0    0    0    0   0    0   0   0   0    0   0   0   0    0    0   0    0    0    0    0    0    0   0    0"
      ]
     },
     "execution_count": 6,
     "metadata": {},
     "output_type": "execute_result"
    }
   ],
   "source": [
    "train_isnull_count = pd.DataFrame(train_df.isnull().sum()).T\n",
    "train_isnull_count"
   ]
  },
  {
   "cell_type": "code",
   "execution_count": 7,
   "metadata": {},
   "outputs": [],
   "source": [
    "train_df.fillna('', inplace = True)"
   ]
  },
  {
   "cell_type": "code",
   "execution_count": 8,
   "metadata": {},
   "outputs": [
    {
     "name": "stdout",
     "output_type": "stream",
     "text": [
      "No missing values in data\n"
     ]
    }
   ],
   "source": [
    "if train_df.isnull().any().any():\n",
    "    print('Found missing values in data')\n",
    "else:\n",
    "    print('No missing values in data')"
   ]
  },
  {
   "cell_type": "code",
   "execution_count": 9,
   "metadata": {},
   "outputs": [],
   "source": [
    "train = train_df['preprocessed_text']\n",
    "y = train_df['target']\n",
    "\n",
    "X_train, X_test, y_train, y_test = train_test_split(train, y, test_size=0.3, random_state=13, stratify=y)"
   ]
  },
  {
   "cell_type": "code",
   "execution_count": 10,
   "metadata": {},
   "outputs": [
    {
     "data": {
      "text/plain": [
       "((5264,), (2256,))"
      ]
     },
     "execution_count": 10,
     "metadata": {},
     "output_type": "execute_result"
    }
   ],
   "source": [
    "X_train.shape, X_test.shape"
   ]
  },
  {
   "cell_type": "markdown",
   "metadata": {},
   "source": [
    "## Convert a collection of tweets to a matrix of TF-IDF features"
   ]
  },
  {
   "cell_type": "markdown",
   "metadata": {},
   "source": [
    "First, we will create a dictionary of all the words using TfidfVectorizer.\n",
    "\n",
    "Secondly, we are encoding the sentences from the training set texts with the indices of incoming words. We'll use the sparse format.\n",
    "\n",
    "Third, we will apply the same operations to the test set**"
   ]
  },
  {
   "cell_type": "code",
   "execution_count": 11,
   "metadata": {},
   "outputs": [],
   "source": [
    "vectorizer = TfidfVectorizer(min_df=5, max_features=20000, ngram_range=(1, 1)) # only unigrams\n",
    "\n",
    "X_train_tfidf = vectorizer.fit_transform(X_train)\n",
    "\n",
    "X_test_tfidf = vectorizer.transform(X_test)"
   ]
  },
  {
   "cell_type": "markdown",
   "metadata": {},
   "source": [
    "### APPROACHES:\n",
    " - linear model (Logistic Regression),\n",
    " - boosting (XGBoost)"
   ]
  },
  {
   "cell_type": "markdown",
   "metadata": {},
   "source": [
    "**Define evaluation procedure.**\n",
    "\n",
    "We will use repeated cross-validation to evaluate the model, with 5-fold cross-validation."
   ]
  },
  {
   "cell_type": "code",
   "execution_count": 12,
   "metadata": {},
   "outputs": [],
   "source": [
    "kf = StratifiedKFold(n_splits=5, random_state=13, shuffle=True)"
   ]
  },
  {
   "cell_type": "markdown",
   "metadata": {},
   "source": [
    "**Define functions for reports with numbers and plots.**"
   ]
  },
  {
   "cell_type": "markdown",
   "metadata": {},
   "source": [
    "```The leaderboard is based on Mean F-Score which can be implemented with Macro Average F1 Score.```"
   ]
  },
  {
   "cell_type": "code",
   "execution_count": 13,
   "metadata": {},
   "outputs": [],
   "source": [
    "def plot_cv_with_err(model,\n",
    "                     data_X,\n",
    "                     data_y,\n",
    "                     parameter_name, \n",
    "                     params,\n",
    "                     cv_score,\n",
    "                     **kwargs):\n",
    "    \n",
    "    \"\"\"Plot results of cv_output_all\"\"\"\n",
    "    \n",
    "    val_train, val_test = validation_curve(model,\n",
    "                                           data_X,\n",
    "                                           data_y,\n",
    "                                           param_name=parameter_name,\n",
    "                                           param_range=params,\n",
    "                                           cv=kf,\n",
    "                                           scoring=cv_score)\n",
    "    \n",
    "    means_train = np.mean(val_train, axis=1)\n",
    "    stds_train = np.std(val_train, axis=1)\n",
    "    means_test = np.mean(val_test, axis=1)\n",
    "    stds_test = np.std(val_test, axis=1)\n",
    "\n",
    "    lines_train = plt.plot(params, means_train,\n",
    "                           '-', label='CV training scores on train set', **kwargs)\n",
    "    lines_test = plt.plot(params, means_test,\n",
    "                          '-', label='CV validation scores on train set', **kwargs)\n",
    "    \n",
    "    plt.fill_between(params, means_train - stds_train, means_train + stds_train,\n",
    "                     edgecolor='none', facecolor=lines_train[0].get_color(), alpha=0.2)\n",
    "    plt.fill_between(params, means_test - stds_test, means_test + stds_test,\n",
    "                     edgecolor='none', facecolor=lines_test[0].get_color(), alpha=0.2)"
   ]
  },
  {
   "cell_type": "code",
   "execution_count": 14,
   "metadata": {},
   "outputs": [],
   "source": [
    "def cv_output_all(model,\n",
    "                  data_X,\n",
    "                  data_y,\n",
    "                  parameter_name, \n",
    "                  params,\n",
    "                  cv_score):\n",
    "    \n",
    "    \"\"\"Same as plot_cv_with_err\"\"\"\n",
    "    \n",
    "    val_train, val_test = validation_curve(model,\n",
    "                                           data_X,\n",
    "                                           data_y,\n",
    "                                           param_name=parameter_name,\n",
    "                                           param_range=params,\n",
    "                                           cv=kf,\n",
    "                                           scoring=cv_score)\n",
    "    means_train = np.mean(val_train, axis=1)\n",
    "    stds_train = np.std(val_train, axis=1)\n",
    "    means_test = np.mean(val_test, axis=1)\n",
    "    stds_test = np.std(val_test, axis=1)\n",
    "    \n",
    "    print(\"                                    CV scores on Train set\")\n",
    "    print(\"================================================================================================\")\n",
    "    print(\"  mean_train_score (std_train_score) | mean_valid_score (std_valid_score) |      parameter\")\n",
    "    print(\"================================================================================================\")\n",
    "    for mean_tr, stdev_tr, mean_te, stdev_te, param \\\n",
    "            in zip(means_train, stds_train, means_test, stds_test, params):\n",
    "        print(\"    {:^{width}.{prec}}  ({:^{width}.{prec}}) |   {:^{width}.{prec}}  ({:^{width}.{prec}}) | {:{align}} = {:{align}.{prec}}\"\n",
    "              .format(mean_tr, stdev_tr,\n",
    "                      mean_te, stdev_te,\n",
    "                      parameter_name, param,\n",
    "                      align='<', width='14', prec=5))"
   ]
  },
  {
   "cell_type": "markdown",
   "metadata": {},
   "source": [
    "\n",
    "## LOGISTIC REGRESSION "
   ]
  },
  {
   "cell_type": "markdown",
   "metadata": {},
   "source": [
    "**Define model.**"
   ]
  },
  {
   "cell_type": "code",
   "execution_count": 15,
   "metadata": {},
   "outputs": [],
   "source": [
    "lr = LogisticRegression(solver='liblinear', penalty='l1', C=1e5,\n",
    "                        class_weight='balanced', random_state=13)"
   ]
  },
  {
   "cell_type": "code",
   "execution_count": 16,
   "metadata": {},
   "outputs": [
    {
     "data": {
      "text/plain": [
       "LogisticRegression(C=100000.0, class_weight='balanced', dual=False,\n",
       "                   fit_intercept=True, intercept_scaling=1, l1_ratio=None,\n",
       "                   max_iter=100, multi_class='auto', n_jobs=None, penalty='l2',\n",
       "                   random_state=13, solver='liblinear', tol=0.0001, verbose=0,\n",
       "                   warm_start=False)"
      ]
     },
     "execution_count": 16,
     "metadata": {},
     "output_type": "execute_result"
    }
   ],
   "source": [
    "lr.fit(X_train_tfidf, y_train)"
   ]
  },
  {
   "cell_type": "markdown",
   "metadata": {},
   "source": [
    "**Evaluate model, establish a baseline.**"
   ]
  },
  {
   "cell_type": "code",
   "execution_count": 17,
   "metadata": {},
   "outputs": [
    {
     "name": "stdout",
     "output_type": "stream",
     "text": [
      "f1_score (train set): 0.96496\n",
      "\n",
      "f1_score (test set):  0.71884\n"
     ]
    }
   ],
   "source": [
    "print(\"f1_score (train set): {:.5}\".format(\n",
    "            f1_score(y_train, lr.predict(X_train_tfidf), average='macro')\n",
    "))\n",
    "\n",
    "print(\"\\nf1_score (test set):  {:.5}\".format(\n",
    "            f1_score(y_test, lr.predict(X_test_tfidf), average='macro')\n",
    "))"
   ]
  },
  {
   "cell_type": "code",
   "execution_count": 18,
   "metadata": {},
   "outputs": [
    {
     "data": {
      "image/png": "[encoded data removed]",
      "text/plain": [
       "<Figure size 1080x504 with 1 Axes>"
      ]
     },
     "metadata": {},
     "output_type": "display_data"
    }
   ],
   "source": [
    "plot_cv_with_err(model = lr,\n",
    "                 data_X = X_train_tfidf,\n",
    "                 data_y = y_train,\n",
    "                 parameter_name = 'C', \n",
    "                 params = np.logspace(-2, 2, 10),\n",
    "                 cv_score = 'f1_macro')\n",
    "\n",
    "plt.xlabel(\"$C$ - coefficient of regularization\")\n",
    "plt.ylabel(\"F1-score\")\n",
    "plt.legend(loc='best')\n",
    "plt.grid(True)"
   ]
  },
  {
   "cell_type": "code",
   "execution_count": 19,
   "metadata": {},
   "outputs": [
    {
     "name": "stdout",
     "output_type": "stream",
     "text": [
      "Fitting 5 folds for each of 20 candidates, totalling 100 fits\n"
     ]
    },
    {
     "name": "stderr",
     "output_type": "stream",
     "text": [
      "[Parallel(n_jobs=1)]: Using backend SequentialBackend with 1 concurrent workers.\n"
     ]
    },
    {
     "name": "stdout",
     "output_type": "stream",
     "text": [
      "CPU times: user 5.34 s, sys: 16.5 ms, total: 5.36 s\n",
      "Wall time: 5.36 s\n",
      "\n",
      "Best_params: {'C': 0.5994842503189409, 'penalty': 'l2'}, best_score: 0.78447\n"
     ]
    },
    {
     "name": "stderr",
     "output_type": "stream",
     "text": [
      "[Parallel(n_jobs=1)]: Done 100 out of 100 | elapsed:    5.3s finished\n"
     ]
    }
   ],
   "source": [
    "lr_1 = LogisticRegression(solver='liblinear', class_weight='balanced', random_state=13)\n",
    "\n",
    "lr_param_grid_1 = {'penalty': ['l1', 'l2'],\n",
    "                   'C': np.logspace(-2, 2, 10)}\n",
    "\n",
    "lr_clf_1 = GridSearchCV(estimator=lr_1, cv=kf, param_grid=lr_param_grid_1, scoring='f1_macro', verbose=1)\n",
    "\n",
    "%time  lr_clf_1.fit(X_train_tfidf, y_train)\n",
    "\n",
    "print(\"\\nBest_params: {}, best_score: {:.5}\".format(lr_clf_1.best_params_, lr_clf_1.best_score_))"
   ]
  },
  {
   "cell_type": "code",
   "execution_count": 20,
   "metadata": {},
   "outputs": [
    {
     "name": "stderr",
     "output_type": "stream",
     "text": [
      "[Parallel(n_jobs=1)]: Using backend SequentialBackend with 1 concurrent workers.\n"
     ]
    },
    {
     "name": "stdout",
     "output_type": "stream",
     "text": [
      "Fitting 5 folds for each of 40 candidates, totalling 200 fits\n",
      "CPU times: user 3.58 s, sys: 3.94 ms, total: 3.59 s\n",
      "Wall time: 3.59 s\n",
      "\n",
      "Best_params: {'C': 0.7701538461538461, 'penalty': 'l2'}, best_score: 0.78487\n"
     ]
    },
    {
     "name": "stderr",
     "output_type": "stream",
     "text": [
      "[Parallel(n_jobs=1)]: Done 200 out of 200 | elapsed:    3.6s finished\n"
     ]
    }
   ],
   "source": [
    "lr_2 = LogisticRegression(solver='liblinear', class_weight='balanced', random_state=13)\n",
    "\n",
    "lr_param_grid_2 = {'penalty': ['l2'],\n",
    "                   'C': np.linspace(0.001, 10, 40)}\n",
    "\n",
    "lr_clf_2 = GridSearchCV(estimator=lr_2, cv=kf, param_grid=lr_param_grid_2, scoring='f1_macro', verbose=1)\n",
    "\n",
    "%time  lr_clf_2.fit(X_train_tfidf, y_train)\n",
    "\n",
    "print(\"\\nBest_params: {}, best_score: {:.5}\".format(lr_clf_2.best_params_, lr_clf_2.best_score_))"
   ]
  },
  {
   "cell_type": "markdown",
   "metadata": {},
   "source": [
    "**Final model.**"
   ]
  },
  {
   "cell_type": "code",
   "execution_count": 21,
   "metadata": {},
   "outputs": [
    {
     "name": "stdout",
     "output_type": "stream",
     "text": [
      "CPU times: user 16 ms, sys: 0 ns, total: 16 ms\n",
      "Wall time: 15.3 ms\n"
     ]
    },
    {
     "data": {
      "text/plain": [
       "LogisticRegression(C=0.8, class_weight='balanced', dual=False,\n",
       "                   fit_intercept=True, intercept_scaling=1, l1_ratio=None,\n",
       "                   max_iter=100, multi_class='auto', n_jobs=None, penalty='l2',\n",
       "                   random_state=13, solver='liblinear', tol=0.0001, verbose=0,\n",
       "                   warm_start=False)"
      ]
     },
     "execution_count": 21,
     "metadata": {},
     "output_type": "execute_result"
    }
   ],
   "source": [
    "lr_final = LogisticRegression(C=0.8, penalty='l2', solver='liblinear', class_weight='balanced', random_state=13)\n",
    "\n",
    "%time lr_final.fit(X_train_tfidf, y_train)"
   ]
  },
  {
   "cell_type": "markdown",
   "metadata": {},
   "source": [
    "**Evaluate model.**"
   ]
  },
  {
   "cell_type": "code",
   "execution_count": 22,
   "metadata": {},
   "outputs": [
    {
     "name": "stdout",
     "output_type": "stream",
     "text": [
      "f1_score (train set): 0.85192\n",
      "\n",
      "f1_score (test set):  0.7918\n"
     ]
    }
   ],
   "source": [
    "print(\"f1_score (train set): {:.5}\".format(\n",
    "            f1_score(y_train, lr_final.predict(X_train_tfidf), average='macro')\n",
    "))\n",
    "\n",
    "print(\"\\nf1_score (test set):  {:.5}\".format(\n",
    "            f1_score(y_test, lr_final.predict(X_test_tfidf), average='macro')\n",
    "))"
   ]
  },
  {
   "cell_type": "code",
   "execution_count": 23,
   "metadata": {},
   "outputs": [
    {
     "data": {
      "image/png": "[encoded data removed]",
      "text/plain": [
       "<Figure size 1080x504 with 1 Axes>"
      ]
     },
     "metadata": {},
     "output_type": "display_data"
    }
   ],
   "source": [
    "plot_cv_with_err(model = lr_final,\n",
    "                 data_X = X_train_tfidf,\n",
    "                 data_y = y_train,\n",
    "                 parameter_name = 'C', \n",
    "                 params = np.logspace(-2, 2, 10),\n",
    "                 cv_score = 'f1_macro')\n",
    "\n",
    "plt.xlabel(\"$C$ - coefficient of regularization\")\n",
    "plt.ylabel(\"F1-score\")\n",
    "plt.legend(loc='best')\n",
    "plt.grid(True)"
   ]
  },
  {
   "cell_type": "markdown",
   "metadata": {},
   "source": [
    "The trend is quite visible.\n",
    "\n",
    "Training and validation errors differ significantly. This can be explained by **overfitting**. When there are too many parameters or regularization is not strict enough, the algorithm can be \"distracted\" by the noise in the data and lose track of the overall trend."
   ]
  },
  {
   "cell_type": "markdown",
   "metadata": {},
   "source": [
    "Our model tend to be overfitted."
   ]
  },
  {
   "cell_type": "code",
   "execution_count": 24,
   "metadata": {},
   "outputs": [
    {
     "name": "stdout",
     "output_type": "stream",
     "text": [
      "                                    CV scores on Train set\n",
      "================================================================================================\n",
      "  mean_train_score (std_train_score) | mean_valid_score (std_valid_score) |      parameter\n",
      "================================================================================================\n",
      "       0.81222      (  0.0045836   ) |      0.76797      (   0.010147   ) | C = 0.001\n",
      "       0.83159      (  0.0034191   ) |      0.77979      (   0.011282   ) | C = 0.12918\n",
      "        0.839       (   0.004083   ) |      0.78099      (   0.008219   ) | C = 0.25736\n",
      "       0.84476      (  0.0039076   ) |      0.78078      (  0.0087805   ) | C = 0.38554\n",
      "       0.84921      (  0.0039964   ) |      0.78366      (  0.0084972   ) | C = 0.51372\n",
      "       0.85325      (  0.0041069   ) |      0.78465      (  0.0078636   ) | C = 0.6419\n",
      "       0.85725      (  0.0045816   ) |      0.78487      (  0.0086915   ) | C = 0.77008\n",
      "       0.86044      (  0.0045669   ) |      0.78354      (  0.0091081   ) | C = 0.89826\n",
      "       0.86397      (   0.005171   ) |      0.78414      (  0.0094493   ) | C = 1.0264\n",
      "       0.86639      (  0.0052582   ) |      0.78427      (  0.0086132   ) | C = 1.1546\n",
      "       0.86893      (  0.0055495   ) |      0.78275      (  0.0089788   ) | C = 1.2828\n",
      "       0.87132      (  0.0051055   ) |      0.78277      (   0.010267   ) | C = 1.411\n",
      "        0.873       (  0.0048822   ) |      0.78141      (   0.011076   ) | C = 1.5392\n",
      "       0.87493      (  0.0043741   ) |      0.78124      (   0.010634   ) | C = 1.6673\n",
      "       0.87673      (  0.0044941   ) |      0.78186      (  0.0098557   ) | C = 1.7955\n",
      "        0.8781      (   0.004787   ) |      0.78117      (  0.0094607   ) | C = 1.9237\n",
      "       0.87946      (   0.004892   ) |      0.78065      (  0.0092756   ) | C = 2.0519\n",
      "       0.88098      (  0.0049532   ) |      0.77949      (  0.0094805   ) | C = 2.1801\n",
      "       0.88229      (  0.0043675   ) |      0.77835      (  0.0092408   ) | C = 2.3082\n",
      "       0.88356      (  0.0037003   ) |      0.77877      (  0.0089817   ) | C = 2.4364\n",
      "       0.88519      (   0.003402   ) |       0.7776      (  0.0090501   ) | C = 2.5646\n",
      "       0.88611      (  0.0034966   ) |      0.77762      (  0.0094861   ) | C = 2.6928\n",
      "        0.8876      (  0.0040797   ) |      0.77744      (  0.0083979   ) | C = 2.8209\n",
      "       0.88898      (  0.0038108   ) |      0.77667      (  0.0088368   ) | C = 2.9491\n",
      "       0.88995      (  0.0038009   ) |      0.77664      (  0.0080732   ) | C = 3.0773\n",
      "       0.89111      (   0.003881   ) |      0.77623      (  0.0084759   ) | C = 3.2055\n",
      "       0.89161      (  0.0038959   ) |      0.77633      (  0.0083162   ) | C = 3.3337\n",
      "       0.89264      (  0.0041193   ) |      0.77636      (  0.0087869   ) | C = 3.4618\n",
      "       0.89376      (   0.004137   ) |      0.77576      (  0.0097023   ) | C = 3.59\n",
      "       0.89416      (  0.0042867   ) |      0.77516      (  0.0097534   ) | C = 3.7182\n",
      "       0.89474      (  0.0043252   ) |      0.77475      (   0.010012   ) | C = 3.8464\n",
      "       0.89519      (   0.004275   ) |      0.77434      (   0.010064   ) | C = 3.9746\n",
      "       0.89602      (  0.0040882   ) |      0.77376      (   0.01041    ) | C = 4.1027\n",
      "       0.89694      (  0.0035623   ) |      0.77343      (   0.010823   ) | C = 4.2309\n",
      "       0.89762      (  0.0037382   ) |      0.77265      (   0.010969   ) | C = 4.3591\n",
      "       0.89835      (  0.0036147   ) |      0.77208      (   0.010609   ) | C = 4.4873\n",
      "       0.89908      (  0.0038079   ) |      0.77221      (   0.01052    ) | C = 4.6155\n",
      "       0.89952      (  0.0036742   ) |      0.77182      (   0.010321   ) | C = 4.7436\n",
      "       0.90016      (  0.0036713   ) |      0.77206      (  0.0099301   ) | C = 4.8718\n",
      "        0.9006      (  0.0035179   ) |      0.77266      (  0.0094576   ) | C = 5.0\n"
     ]
    }
   ],
   "source": [
    "cv_output_all(model = lr_final,\n",
    "              data_X = X_train_tfidf,\n",
    "              data_y = y_train,\n",
    "              parameter_name = 'C', \n",
    "              params = np.linspace(0.001, 5, 40),\n",
    "              cv_score = 'f1_macro'\n",
    "             )"
   ]
  },
  {
   "cell_type": "markdown",
   "metadata": {},
   "source": [
    "\n",
    "## XGBoost Classifier"
   ]
  },
  {
   "cell_type": "markdown",
   "metadata": {},
   "source": [
    "Before any modification or tuning is made to the XGBoost algorithm for imbalanced classification, it is important to test the default XGBoost model and **establish a baseline in performance**."
   ]
  },
  {
   "cell_type": "markdown",
   "metadata": {},
   "source": [
    "**Define model.**"
   ]
  },
  {
   "cell_type": "code",
   "execution_count": 25,
   "metadata": {},
   "outputs": [],
   "source": [
    "xgb = XGBClassifier(objective='binary:logistic', booster='gbtree', random_state=13)"
   ]
  },
  {
   "cell_type": "markdown",
   "metadata": {},
   "source": [
    "**Fit model (optimize model loss function).**"
   ]
  },
  {
   "cell_type": "code",
   "execution_count": 26,
   "metadata": {},
   "outputs": [
    {
     "data": {
      "text/plain": [
       "XGBClassifier(base_score=0.5, booster='gbtree', colsample_bylevel=1,\n",
       "              colsample_bynode=1, colsample_bytree=1, gamma=0, gpu_id=-1,\n",
       "              importance_type='gain', interaction_constraints='',\n",
       "              learning_rate=0.300000012, max_delta_step=0, max_depth=6,\n",
       "              min_child_weight=1, missing=nan, monotone_constraints='()',\n",
       "              n_estimators=100, n_jobs=0, num_parallel_tree=1,\n",
       "              objective='binary:logistic', random_state=13, reg_alpha=0,\n",
       "              reg_lambda=1, scale_pos_weight=1, subsample=1,\n",
       "              tree_method='exact', validate_parameters=1, verbosity=None)"
      ]
     },
     "execution_count": 26,
     "metadata": {},
     "output_type": "execute_result"
    }
   ],
   "source": [
    "xgb.fit(X_train_tfidf, y_train)"
   ]
  },
  {
   "cell_type": "markdown",
   "metadata": {},
   "source": [
    "**Evaluate model, establish a baseline.**"
   ]
  },
  {
   "cell_type": "code",
   "execution_count": 27,
   "metadata": {},
   "outputs": [
    {
     "name": "stdout",
     "output_type": "stream",
     "text": [
      "f1_score (train set): 0.86301\n",
      "\n",
      "f1_score (test set):  0.77271\n"
     ]
    }
   ],
   "source": [
    "print(\"f1_score (train set): {:.5}\".format(\n",
    "            f1_score(y_train, xgb.predict(X_train_tfidf), average='macro')\n",
    "))\n",
    "\n",
    "print(\"\\nf1_score (test set):  {:.5}\".format(\n",
    "            f1_score(y_test, xgb.predict(X_test_tfidf), average='macro')\n",
    "))"
   ]
  },
  {
   "cell_type": "markdown",
   "metadata": {},
   "source": [
    "**Imbalanced Classification.**\n",
    "\n",
    "The *scale_pos_weight* can be used to train a class-weighted or cost-sensitive version of XGBoost for imbalanced classification.\n",
    "\n",
    "- #### scale_pos_weight = total_negative_examples / total_positive_examples"
   ]
  },
  {
   "cell_type": "code",
   "execution_count": 28,
   "metadata": {},
   "outputs": [
    {
     "name": "stdout",
     "output_type": "stream",
     "text": [
      "scale_pos_weight: 1.336\n"
     ]
    }
   ],
   "source": [
    "counter = Counter(y_train)\n",
    "estimate = counter[0] / counter[1]\n",
    "print('scale_pos_weight: %.3f' % estimate)"
   ]
  },
  {
   "cell_type": "markdown",
   "metadata": {},
   "source": [
    "**Hyperparameter optimization.**"
   ]
  },
  {
   "cell_type": "code",
   "execution_count": 29,
   "metadata": {},
   "outputs": [
    {
     "data": {
      "text/plain": [
       "XGBClassifier(base_score=0.5, booster='gbtree', colsample_bylevel=1,\n",
       "              colsample_bynode=1, colsample_bytree=0.9, gamma=0, gpu_id=-1,\n",
       "              importance_type='gain', interaction_constraints='',\n",
       "              learning_rate=0.26, max_delta_step=0, max_depth=7,\n",
       "              min_child_weight=1, missing=nan, monotone_constraints='()',\n",
       "              n_estimators=100, n_jobs=0, num_parallel_tree=1,\n",
       "              objective='binary:logistic', random_state=13, reg_alpha=0.1,\n",
       "              reg_lambda=0.01, scale_pos_weight=1.336, subsample=0.85,\n",
       "              tree_method='exact', validate_parameters=1, verbosity=None)"
      ]
     },
     "execution_count": 29,
     "metadata": {},
     "output_type": "execute_result"
    }
   ],
   "source": [
    "xgb_1 = XGBClassifier(scale_pos_weight=1.336, learning_rate=0.26,\n",
    "                      max_depth=7, min_child_weight=1, gamma=0,\n",
    "                      colsample_bytree=0.9, subsample=0.85,\n",
    "                      reg_alpha=0.1, reg_lambda=0.01,\n",
    "                      objective='binary:logistic', booster='gbtree', random_state=13)\n",
    "\n",
    "xgb_1.fit(X_train_tfidf, y_train)"
   ]
  },
  {
   "cell_type": "code",
   "execution_count": 30,
   "metadata": {},
   "outputs": [
    {
     "name": "stdout",
     "output_type": "stream",
     "text": [
      "f1_score (train set): 0.89407\n",
      "\n",
      "f1_score (test set):  0.77927\n"
     ]
    }
   ],
   "source": [
    "print(\"f1_score (train set): {:.5}\".format(\n",
    "            f1_score(y_train, xgb_1.predict(X_train_tfidf), average='macro')\n",
    "))\n",
    "\n",
    "print(\"\\nf1_score (test set):  {:.5}\".format(\n",
    "            f1_score(y_test, xgb_1.predict(X_test_tfidf), average='macro')\n",
    "))"
   ]
  },
  {
   "cell_type": "markdown",
   "metadata": {},
   "source": [
    "**Early Stopping to Avoid Overfitting.**\n",
    "\n",
    "It avoids overfitting by attempting to automatically select the inflection point where **performance on the test dataset starts to decrease** while **performance on the training dataset continues to improve** as the model starts to overfit."
   ]
  },
  {
   "cell_type": "code",
   "execution_count": 31,
   "metadata": {},
   "outputs": [
    {
     "name": "stdout",
     "output_type": "stream",
     "text": [
      "[0]\tvalidation_0-error:0.34912\tvalidation_0-logloss:0.66866\tvalidation_1-error:0.35788\tvalidation_1-logloss:0.67441\n",
      "[1]\tvalidation_0-error:0.32218\tvalidation_0-logloss:0.65155\tvalidation_1-error:0.33775\tvalidation_1-logloss:0.66113\n",
      "[2]\tvalidation_0-error:0.30601\tvalidation_0-logloss:0.63815\tvalidation_1-error:0.31933\tvalidation_1-logloss:0.64766\n",
      "[3]\tvalidation_0-error:0.28616\tvalidation_0-logloss:0.62562\tvalidation_1-error:0.29689\tvalidation_1-logloss:0.63890\n",
      "[4]\tvalidation_0-error:0.25752\tvalidation_0-logloss:0.61345\tvalidation_1-error:0.28136\tvalidation_1-logloss:0.62931\n",
      "[5]\tvalidation_0-error:0.24702\tvalidation_0-logloss:0.60320\tvalidation_1-error:0.27330\tvalidation_1-logloss:0.61971\n",
      "[6]\tvalidation_0-error:0.24560\tvalidation_0-logloss:0.59541\tvalidation_1-error:0.27158\tvalidation_1-logloss:0.61488\n",
      "[7]\tvalidation_0-error:0.23568\tvalidation_0-logloss:0.58595\tvalidation_1-error:0.27273\tvalidation_1-logloss:0.60857\n",
      "[8]\tvalidation_0-error:0.22717\tvalidation_0-logloss:0.57776\tvalidation_1-error:0.27100\tvalidation_1-logloss:0.60517\n",
      "[9]\tvalidation_0-error:0.21724\tvalidation_0-logloss:0.56948\tvalidation_1-error:0.26179\tvalidation_1-logloss:0.59845\n",
      "[10]\tvalidation_0-error:0.21185\tvalidation_0-logloss:0.56246\tvalidation_1-error:0.25892\tvalidation_1-logloss:0.59388\n",
      "[11]\tvalidation_0-error:0.20391\tvalidation_0-logloss:0.55571\tvalidation_1-error:0.26064\tvalidation_1-logloss:0.59142\n",
      "[12]\tvalidation_0-error:0.20306\tvalidation_0-logloss:0.54959\tvalidation_1-error:0.25777\tvalidation_1-logloss:0.58633\n",
      "[13]\tvalidation_0-error:0.19966\tvalidation_0-logloss:0.54352\tvalidation_1-error:0.25662\tvalidation_1-logloss:0.58360\n",
      "[14]\tvalidation_0-error:0.19541\tvalidation_0-logloss:0.53747\tvalidation_1-error:0.25719\tvalidation_1-logloss:0.58202\n",
      "[15]\tvalidation_0-error:0.19257\tvalidation_0-logloss:0.53128\tvalidation_1-error:0.25777\tvalidation_1-logloss:0.57851\n",
      "[16]\tvalidation_0-error:0.18945\tvalidation_0-logloss:0.52584\tvalidation_1-error:0.25489\tvalidation_1-logloss:0.57530\n",
      "[17]\tvalidation_0-error:0.17952\tvalidation_0-logloss:0.52007\tvalidation_1-error:0.25086\tvalidation_1-logloss:0.57100\n",
      "[18]\tvalidation_0-error:0.17669\tvalidation_0-logloss:0.51377\tvalidation_1-error:0.25201\tvalidation_1-logloss:0.56806\n",
      "[19]\tvalidation_0-error:0.17414\tvalidation_0-logloss:0.50878\tvalidation_1-error:0.25201\tvalidation_1-logloss:0.56496\n",
      "[20]\tvalidation_0-error:0.16960\tvalidation_0-logloss:0.50306\tvalidation_1-error:0.25259\tvalidation_1-logloss:0.56309\n",
      "[21]\tvalidation_0-error:0.16733\tvalidation_0-logloss:0.49703\tvalidation_1-error:0.25259\tvalidation_1-logloss:0.56106\n",
      "[22]\tvalidation_0-error:0.16648\tvalidation_0-logloss:0.49355\tvalidation_1-error:0.24799\tvalidation_1-logloss:0.55855\n",
      "[23]\tvalidation_0-error:0.16392\tvalidation_0-logloss:0.48958\tvalidation_1-error:0.24281\tvalidation_1-logloss:0.55803\n",
      "[24]\tvalidation_0-error:0.16307\tvalidation_0-logloss:0.48590\tvalidation_1-error:0.24166\tvalidation_1-logloss:0.55511\n",
      "[25]\tvalidation_0-error:0.16137\tvalidation_0-logloss:0.48051\tvalidation_1-error:0.23936\tvalidation_1-logloss:0.55317\n",
      "[26]\tvalidation_0-error:0.16166\tvalidation_0-logloss:0.47703\tvalidation_1-error:0.24051\tvalidation_1-logloss:0.55118\n",
      "[27]\tvalidation_0-error:0.15797\tvalidation_0-logloss:0.47315\tvalidation_1-error:0.23418\tvalidation_1-logloss:0.54647\n",
      "[28]\tvalidation_0-error:0.15712\tvalidation_0-logloss:0.46956\tvalidation_1-error:0.22957\tvalidation_1-logloss:0.54437\n",
      "[29]\tvalidation_0-error:0.15485\tvalidation_0-logloss:0.46564\tvalidation_1-error:0.23073\tvalidation_1-logloss:0.54287\n",
      "[30]\tvalidation_0-error:0.15457\tvalidation_0-logloss:0.46175\tvalidation_1-error:0.22900\tvalidation_1-logloss:0.54075\n",
      "[31]\tvalidation_0-error:0.15258\tvalidation_0-logloss:0.45841\tvalidation_1-error:0.22612\tvalidation_1-logloss:0.53703\n",
      "[32]\tvalidation_0-error:0.15201\tvalidation_0-logloss:0.45535\tvalidation_1-error:0.22785\tvalidation_1-logloss:0.53585\n",
      "[33]\tvalidation_0-error:0.15230\tvalidation_0-logloss:0.45224\tvalidation_1-error:0.22727\tvalidation_1-logloss:0.53490\n",
      "[34]\tvalidation_0-error:0.15060\tvalidation_0-logloss:0.44899\tvalidation_1-error:0.22727\tvalidation_1-logloss:0.53317\n",
      "[35]\tvalidation_0-error:0.15060\tvalidation_0-logloss:0.44571\tvalidation_1-error:0.22785\tvalidation_1-logloss:0.53178\n",
      "[36]\tvalidation_0-error:0.14889\tvalidation_0-logloss:0.44322\tvalidation_1-error:0.22957\tvalidation_1-logloss:0.53077\n",
      "[37]\tvalidation_0-error:0.15088\tvalidation_0-logloss:0.43989\tvalidation_1-error:0.23188\tvalidation_1-logloss:0.52893\n",
      "[38]\tvalidation_0-error:0.14776\tvalidation_0-logloss:0.43702\tvalidation_1-error:0.23073\tvalidation_1-logloss:0.52730\n",
      "[39]\tvalidation_0-error:0.14436\tvalidation_0-logloss:0.43413\tvalidation_1-error:0.23015\tvalidation_1-logloss:0.52535\n",
      "[40]\tvalidation_0-error:0.14549\tvalidation_0-logloss:0.43108\tvalidation_1-error:0.23015\tvalidation_1-logloss:0.52455\n",
      "[41]\tvalidation_0-error:0.14322\tvalidation_0-logloss:0.42736\tvalidation_1-error:0.23418\tvalidation_1-logloss:0.52333\n",
      "[42]\tvalidation_0-error:0.14180\tvalidation_0-logloss:0.42447\tvalidation_1-error:0.23648\tvalidation_1-logloss:0.52411\n",
      "[43]\tvalidation_0-error:0.14237\tvalidation_0-logloss:0.42188\tvalidation_1-error:0.23533\tvalidation_1-logloss:0.52306\n",
      "[44]\tvalidation_0-error:0.14067\tvalidation_0-logloss:0.41954\tvalidation_1-error:0.23418\tvalidation_1-logloss:0.52294\n",
      "[45]\tvalidation_0-error:0.13812\tvalidation_0-logloss:0.41648\tvalidation_1-error:0.23130\tvalidation_1-logloss:0.52026\n",
      "[46]\tvalidation_0-error:0.13556\tvalidation_0-logloss:0.41352\tvalidation_1-error:0.22727\tvalidation_1-logloss:0.51858\n",
      "[47]\tvalidation_0-error:0.13415\tvalidation_0-logloss:0.41101\tvalidation_1-error:0.22785\tvalidation_1-logloss:0.51752\n",
      "[48]\tvalidation_0-error:0.13386\tvalidation_0-logloss:0.40847\tvalidation_1-error:0.22612\tvalidation_1-logloss:0.51744\n",
      "[49]\tvalidation_0-error:0.13159\tvalidation_0-logloss:0.40539\tvalidation_1-error:0.22440\tvalidation_1-logloss:0.51653\n",
      "[50]\tvalidation_0-error:0.13074\tvalidation_0-logloss:0.40293\tvalidation_1-error:0.22727\tvalidation_1-logloss:0.51704\n",
      "[51]\tvalidation_0-error:0.13018\tvalidation_0-logloss:0.40050\tvalidation_1-error:0.22209\tvalidation_1-logloss:0.51580\n",
      "[52]\tvalidation_0-error:0.12847\tvalidation_0-logloss:0.39819\tvalidation_1-error:0.22037\tvalidation_1-logloss:0.51496\n",
      "[53]\tvalidation_0-error:0.12734\tvalidation_0-logloss:0.39581\tvalidation_1-error:0.22037\tvalidation_1-logloss:0.51441\n",
      "[54]\tvalidation_0-error:0.12649\tvalidation_0-logloss:0.39342\tvalidation_1-error:0.22152\tvalidation_1-logloss:0.51328\n",
      "[55]\tvalidation_0-error:0.12734\tvalidation_0-logloss:0.39105\tvalidation_1-error:0.22440\tvalidation_1-logloss:0.51129\n",
      "[56]\tvalidation_0-error:0.12592\tvalidation_0-logloss:0.38834\tvalidation_1-error:0.22670\tvalidation_1-logloss:0.50980\n",
      "[57]\tvalidation_0-error:0.12422\tvalidation_0-logloss:0.38605\tvalidation_1-error:0.22785\tvalidation_1-logloss:0.51026\n",
      "[58]\tvalidation_0-error:0.12223\tvalidation_0-logloss:0.38412\tvalidation_1-error:0.22612\tvalidation_1-logloss:0.50944\n",
      "[59]\tvalidation_0-error:0.12025\tvalidation_0-logloss:0.38186\tvalidation_1-error:0.22497\tvalidation_1-logloss:0.50834\n",
      "[60]\tvalidation_0-error:0.11770\tvalidation_0-logloss:0.37992\tvalidation_1-error:0.22555\tvalidation_1-logloss:0.50740\n",
      "[61]\tvalidation_0-error:0.11770\tvalidation_0-logloss:0.37721\tvalidation_1-error:0.22555\tvalidation_1-logloss:0.50675\n",
      "[62]\tvalidation_0-error:0.11713\tvalidation_0-logloss:0.37500\tvalidation_1-error:0.22670\tvalidation_1-logloss:0.50731\n",
      "[63]\tvalidation_0-error:0.11401\tvalidation_0-logloss:0.37319\tvalidation_1-error:0.22555\tvalidation_1-logloss:0.50754\n",
      "[64]\tvalidation_0-error:0.11316\tvalidation_0-logloss:0.37163\tvalidation_1-error:0.22727\tvalidation_1-logloss:0.50764\n",
      "[65]\tvalidation_0-error:0.11316\tvalidation_0-logloss:0.36952\tvalidation_1-error:0.22324\tvalidation_1-logloss:0.50680\n",
      "[66]\tvalidation_0-error:0.11231\tvalidation_0-logloss:0.36798\tvalidation_1-error:0.22497\tvalidation_1-logloss:0.50675\n",
      "[67]\tvalidation_0-error:0.10976\tvalidation_0-logloss:0.36627\tvalidation_1-error:0.22555\tvalidation_1-logloss:0.50667\n",
      "[68]\tvalidation_0-error:0.11032\tvalidation_0-logloss:0.36433\tvalidation_1-error:0.22324\tvalidation_1-logloss:0.50544\n",
      "[69]\tvalidation_0-error:0.10919\tvalidation_0-logloss:0.36309\tvalidation_1-error:0.22785\tvalidation_1-logloss:0.50520\n",
      "[70]\tvalidation_0-error:0.10862\tvalidation_0-logloss:0.36098\tvalidation_1-error:0.22382\tvalidation_1-logloss:0.50467\n"
     ]
    },
    {
     "name": "stdout",
     "output_type": "stream",
     "text": [
      "[71]\tvalidation_0-error:0.10834\tvalidation_0-logloss:0.35907\tvalidation_1-error:0.22382\tvalidation_1-logloss:0.50520\n",
      "[72]\tvalidation_0-error:0.10692\tvalidation_0-logloss:0.35714\tvalidation_1-error:0.22324\tvalidation_1-logloss:0.50470\n",
      "[73]\tvalidation_0-error:0.10579\tvalidation_0-logloss:0.35562\tvalidation_1-error:0.22152\tvalidation_1-logloss:0.50420\n",
      "[74]\tvalidation_0-error:0.10465\tvalidation_0-logloss:0.35394\tvalidation_1-error:0.22209\tvalidation_1-logloss:0.50529\n",
      "[75]\tvalidation_0-error:0.10352\tvalidation_0-logloss:0.35208\tvalidation_1-error:0.22209\tvalidation_1-logloss:0.50501\n",
      "[76]\tvalidation_0-error:0.10210\tvalidation_0-logloss:0.35063\tvalidation_1-error:0.21922\tvalidation_1-logloss:0.50458\n",
      "[77]\tvalidation_0-error:0.10153\tvalidation_0-logloss:0.34891\tvalidation_1-error:0.21979\tvalidation_1-logloss:0.50473\n",
      "[78]\tvalidation_0-error:0.09926\tvalidation_0-logloss:0.34666\tvalidation_1-error:0.21979\tvalidation_1-logloss:0.50325\n",
      "[79]\tvalidation_0-error:0.09841\tvalidation_0-logloss:0.34510\tvalidation_1-error:0.21922\tvalidation_1-logloss:0.50177\n",
      "[80]\tvalidation_0-error:0.09671\tvalidation_0-logloss:0.34379\tvalidation_1-error:0.22037\tvalidation_1-logloss:0.50259\n",
      "[81]\tvalidation_0-error:0.09756\tvalidation_0-logloss:0.34225\tvalidation_1-error:0.22094\tvalidation_1-logloss:0.50329\n",
      "[82]\tvalidation_0-error:0.09501\tvalidation_0-logloss:0.34055\tvalidation_1-error:0.21979\tvalidation_1-logloss:0.50263\n",
      "[83]\tvalidation_0-error:0.09387\tvalidation_0-logloss:0.33893\tvalidation_1-error:0.21979\tvalidation_1-logloss:0.50300\n",
      "[84]\tvalidation_0-error:0.09274\tvalidation_0-logloss:0.33725\tvalidation_1-error:0.21979\tvalidation_1-logloss:0.50206\n",
      "[85]\tvalidation_0-error:0.09331\tvalidation_0-logloss:0.33562\tvalidation_1-error:0.22094\tvalidation_1-logloss:0.50198\n",
      "[86]\tvalidation_0-error:0.09161\tvalidation_0-logloss:0.33424\tvalidation_1-error:0.22094\tvalidation_1-logloss:0.50193\n",
      "[87]\tvalidation_0-error:0.09189\tvalidation_0-logloss:0.33303\tvalidation_1-error:0.22152\tvalidation_1-logloss:0.50252\n",
      "[88]\tvalidation_0-error:0.09217\tvalidation_0-logloss:0.33180\tvalidation_1-error:0.21979\tvalidation_1-logloss:0.50189\n",
      "[89]\tvalidation_0-error:0.08990\tvalidation_0-logloss:0.33027\tvalidation_1-error:0.22094\tvalidation_1-logloss:0.50215\n",
      "[90]\tvalidation_0-error:0.08905\tvalidation_0-logloss:0.32886\tvalidation_1-error:0.22209\tvalidation_1-logloss:0.50200\n",
      "[91]\tvalidation_0-error:0.08735\tvalidation_0-logloss:0.32755\tvalidation_1-error:0.22209\tvalidation_1-logloss:0.50298\n",
      "[92]\tvalidation_0-error:0.08849\tvalidation_0-logloss:0.32622\tvalidation_1-error:0.22440\tvalidation_1-logloss:0.50358\n",
      "[93]\tvalidation_0-error:0.08905\tvalidation_0-logloss:0.32455\tvalidation_1-error:0.22612\tvalidation_1-logloss:0.50306\n",
      "[94]\tvalidation_0-error:0.08905\tvalidation_0-logloss:0.32286\tvalidation_1-error:0.22612\tvalidation_1-logloss:0.50304\n",
      "[95]\tvalidation_0-error:0.09019\tvalidation_0-logloss:0.32145\tvalidation_1-error:0.22612\tvalidation_1-logloss:0.50343\n",
      "[96]\tvalidation_0-error:0.09075\tvalidation_0-logloss:0.31990\tvalidation_1-error:0.22497\tvalidation_1-logloss:0.50240\n",
      "[97]\tvalidation_0-error:0.09019\tvalidation_0-logloss:0.31869\tvalidation_1-error:0.22440\tvalidation_1-logloss:0.50243\n",
      "[98]\tvalidation_0-error:0.09075\tvalidation_0-logloss:0.31666\tvalidation_1-error:0.22785\tvalidation_1-logloss:0.50301\n",
      "[99]\tvalidation_0-error:0.09075\tvalidation_0-logloss:0.31531\tvalidation_1-error:0.22727\tvalidation_1-logloss:0.50267\n"
     ]
    },
    {
     "data": {
      "text/plain": [
       "XGBClassifier(base_score=0.5, booster='gbtree', colsample_bylevel=1,\n",
       "              colsample_bynode=1, colsample_bytree=0.9, gamma=0, gpu_id=-1,\n",
       "              importance_type='gain', interaction_constraints='',\n",
       "              learning_rate=0.26, max_delta_step=0, max_depth=7,\n",
       "              min_child_weight=1, missing=nan, monotone_constraints='()',\n",
       "              n_estimators=100, n_jobs=0, num_parallel_tree=1,\n",
       "              objective='binary:logistic', random_state=13, reg_alpha=0.1,\n",
       "              reg_lambda=0.01, scale_pos_weight=1.336, subsample=0.85,\n",
       "              tree_method='exact', validate_parameters=1, verbosity=None)"
      ]
     },
     "execution_count": 31,
     "metadata": {},
     "output_type": "execute_result"
    }
   ],
   "source": [
    "X_tr, X_val, y_tr, y_val = train_test_split(X_train_tfidf, y_train,\n",
    "                                            test_size=0.33, random_state=7)\n",
    "\n",
    "xgb_2 = XGBClassifier(scale_pos_weight=1.336, learning_rate=0.26,\n",
    "                      max_depth=7, min_child_weight=1, gamma=0,\n",
    "                      colsample_bytree=0.9, subsample=0.85,\n",
    "                      reg_alpha=0.1, reg_lambda=0.01,\n",
    "                      objective='binary:logistic', booster='gbtree', random_state=13)\n",
    "\n",
    "eval_set = [(X_tr, y_tr), (X_val, y_val)]\n",
    "\n",
    "xgb_2.fit(X_tr, y_tr, eval_metric=['error', 'logloss'], eval_set=eval_set, verbose=True)"
   ]
  },
  {
   "cell_type": "markdown",
   "metadata": {},
   "source": [
    "By default for XGBClassifier *eval_metric = 'error'*."
   ]
  },
  {
   "cell_type": "code",
   "execution_count": 32,
   "metadata": {},
   "outputs": [
    {
     "name": "stdout",
     "output_type": "stream",
     "text": [
      "f1_score (train set): 0.85994\n",
      "\n",
      "f1_score (test set):  0.7687\n"
     ]
    }
   ],
   "source": [
    "# make predictions for test data & evaluate predictions\n",
    "\n",
    "print(\"f1_score (train set): {:.5}\".format(\n",
    "            f1_score(y_train, xgb_2.predict(X_train_tfidf), average='macro')\n",
    "))\n",
    "\n",
    "print(\"\\nf1_score (test set):  {:.5}\".format(\n",
    "            f1_score(y_test, xgb_2.predict(X_test_tfidf), average='macro')\n",
    "))"
   ]
  },
  {
   "cell_type": "markdown",
   "metadata": {},
   "source": [
    "**Plot performance metrics.**"
   ]
  },
  {
   "cell_type": "code",
   "execution_count": 33,
   "metadata": {},
   "outputs": [
    {
     "data": {
      "image/png": "[encoded data removed]",
      "text/plain": [
       "<Figure size 1080x504 with 1 Axes>"
      ]
     },
     "metadata": {},
     "output_type": "display_data"
    },
    {
     "data": {
      "image/png": "[encoded data removed]",
      "text/plain": [
       "<Figure size 1080x504 with 1 Axes>"
      ]
     },
     "metadata": {},
     "output_type": "display_data"
    }
   ],
   "source": [
    "results = xgb_2.evals_result()\n",
    "epochs = len(results['validation_0']['error'])\n",
    "x_axis = range(0, epochs)\n",
    "\n",
    "fig, ax = plt.subplots()\n",
    "ax.plot(x_axis, results['validation_0']['logloss'], label='Train')\n",
    "ax.plot(x_axis, results['validation_1']['logloss'], label='Validation')\n",
    "ax.legend()\n",
    "plt.ylabel('Log Loss')\n",
    "plt.title('XGBoost Log Loss')\n",
    "plt.show()\n",
    "\n",
    "fig, ax = plt.subplots()\n",
    "ax.plot(x_axis, results['validation_0']['error'], label='Train')\n",
    "ax.plot(x_axis, results['validation_1']['error'], label='Validation')\n",
    "ax.legend()\n",
    "plt.ylabel('Classification Error')\n",
    "plt.title('XGBoost Classification Error')\n",
    "plt.show()"
   ]
  },
  {
   "cell_type": "markdown",
   "metadata": {},
   "source": [
    "The first plot shows the logarithmic loss of the XGBoost model for each epoch on the training and test datasets.\n",
    "\n",
    "The second plot shows the classification error of the XGBoost model for each epoch on the training and test datasets.\n",
    "\n",
    "From reviewing the logloss plot, it looks like there is an opportunity to stop the learning early, perhaps somewhere around epoch 80 to epoch 100.\n",
    "\n",
    "We see a similar story for classification error, where error appears to go back up at around epoch 30."
   ]
  },
  {
   "cell_type": "markdown",
   "metadata": {},
   "source": [
    "### Final model."
   ]
  },
  {
   "cell_type": "code",
   "execution_count": 34,
   "metadata": {
    "scrolled": true
   },
   "outputs": [
    {
     "name": "stdout",
     "output_type": "stream",
     "text": [
      "[0]\tvalidation_0-error:0.36364\n",
      "Will train until validation_0-error hasn't improved in 10 rounds.\n",
      "[1]\tvalidation_0-error:0.32796\n",
      "[2]\tvalidation_0-error:0.31358\n",
      "[3]\tvalidation_0-error:0.28999\n",
      "[4]\tvalidation_0-error:0.28769\n",
      "[5]\tvalidation_0-error:0.27963\n",
      "[6]\tvalidation_0-error:0.27503\n",
      "[7]\tvalidation_0-error:0.27158\n",
      "[8]\tvalidation_0-error:0.26755\n",
      "[9]\tvalidation_0-error:0.26697\n",
      "[10]\tvalidation_0-error:0.26985\n",
      "[11]\tvalidation_0-error:0.26410\n",
      "[12]\tvalidation_0-error:0.26122\n",
      "[13]\tvalidation_0-error:0.26352\n",
      "[14]\tvalidation_0-error:0.26064\n",
      "[15]\tvalidation_0-error:0.26295\n",
      "[16]\tvalidation_0-error:0.26525\n",
      "[17]\tvalidation_0-error:0.26410\n",
      "[18]\tvalidation_0-error:0.26467\n",
      "[19]\tvalidation_0-error:0.26697\n",
      "[20]\tvalidation_0-error:0.26812\n",
      "[21]\tvalidation_0-error:0.26870\n",
      "[22]\tvalidation_0-error:0.26467\n",
      "[23]\tvalidation_0-error:0.26179\n",
      "[24]\tvalidation_0-error:0.25777\n",
      "[25]\tvalidation_0-error:0.26064\n",
      "[26]\tvalidation_0-error:0.26007\n",
      "[27]\tvalidation_0-error:0.26007\n",
      "[28]\tvalidation_0-error:0.25604\n",
      "[29]\tvalidation_0-error:0.25834\n",
      "[30]\tvalidation_0-error:0.25892\n",
      "[31]\tvalidation_0-error:0.25719\n",
      "[32]\tvalidation_0-error:0.25777\n",
      "[33]\tvalidation_0-error:0.25547\n",
      "[34]\tvalidation_0-error:0.25374\n",
      "[35]\tvalidation_0-error:0.25547\n",
      "[36]\tvalidation_0-error:0.25259\n",
      "[37]\tvalidation_0-error:0.25144\n",
      "[38]\tvalidation_0-error:0.25489\n",
      "[39]\tvalidation_0-error:0.25316\n",
      "[40]\tvalidation_0-error:0.25547\n",
      "[41]\tvalidation_0-error:0.25432\n",
      "[42]\tvalidation_0-error:0.25604\n",
      "[43]\tvalidation_0-error:0.25719\n",
      "[44]\tvalidation_0-error:0.25719\n",
      "[45]\tvalidation_0-error:0.26122\n",
      "[46]\tvalidation_0-error:0.25892\n",
      "[47]\tvalidation_0-error:0.25949\n",
      "Stopping. Best iteration:\n",
      "[37]\tvalidation_0-error:0.25144\n",
      "\n"
     ]
    },
    {
     "data": {
      "text/plain": [
       "XGBClassifier(base_score=0.5, booster='gbtree', colsample_bylevel=1,\n",
       "              colsample_bynode=1, colsample_bytree=0.9, gamma=0, gpu_id=-1,\n",
       "              importance_type='gain', interaction_constraints='',\n",
       "              learning_rate=0.26, max_delta_step=0, max_depth=7,\n",
       "              min_child_weight=1, missing=nan, monotone_constraints='()',\n",
       "              n_estimators=100, n_jobs=0, num_parallel_tree=1,\n",
       "              objective='binary:logistic', random_state=13, reg_alpha=0.1,\n",
       "              reg_lambda=0.01, scale_pos_weight=1.336, subsample=0.85,\n",
       "              tree_method='exact', validate_parameters=1, verbosity=None)"
      ]
     },
     "execution_count": 34,
     "metadata": {},
     "output_type": "execute_result"
    }
   ],
   "source": [
    "X_tr, X_val, y_tr, y_val = train_test_split(X_train_tfidf, y_train,\n",
    "                                            test_size=0.33, random_state=13)\n",
    "\n",
    "xgb_final = XGBClassifier(scale_pos_weight=1.336, learning_rate=0.26,\n",
    "                          max_depth=7, min_child_weight=1, gamma=0,\n",
    "                          colsample_bytree=0.9, subsample=0.85,\n",
    "                          reg_alpha=0.1, reg_lambda=0.01,\n",
    "                          objective='binary:logistic', booster='gbtree', random_state=13)\n",
    "\n",
    "eval_set = [(X_val, y_val)]\n",
    "xgb_final.fit(X_tr, y_tr, early_stopping_rounds=10, eval_metric='error', eval_set=eval_set, verbose=True)"
   ]
  },
  {
   "cell_type": "markdown",
   "metadata": {},
   "source": [
    "**Evaluate model.**"
   ]
  },
  {
   "cell_type": "code",
   "execution_count": 35,
   "metadata": {},
   "outputs": [
    {
     "name": "stdout",
     "output_type": "stream",
     "text": [
      "f1_score (train set): 0.81744\n",
      "\n",
      "f1_score (test set):  0.76263\n"
     ]
    }
   ],
   "source": [
    "print(\"f1_score (train set): {:.5}\".format(\n",
    "            f1_score(y_train, xgb_final.predict(X_train_tfidf), average='macro')\n",
    "))\n",
    "\n",
    "print(\"\\nf1_score (test set):  {:.5}\".format(\n",
    "            f1_score(y_test, xgb_final.predict(X_test_tfidf), average='macro')\n",
    "))"
   ]
  },
  {
   "cell_type": "markdown",
   "metadata": {},
   "source": [
    "We can see that **the model stopped training at epoch 36** (close to what we expected by our manual judgment of learning curves) and that the model with **the best loss was observed at epoch 26**."
   ]
  },
  {
   "cell_type": "code",
   "execution_count": 36,
   "metadata": {},
   "outputs": [
    {
     "data": {
      "image/png": "[encoded data removed]",
      "text/plain": [
       "<Figure size 1080x504 with 1 Axes>"
      ]
     },
     "metadata": {},
     "output_type": "display_data"
    }
   ],
   "source": [
    "plot_cv_with_err(model = xgb_final,\n",
    "                 data_X = X_train_tfidf,\n",
    "                 data_y = y_train,\n",
    "                 parameter_name = 'learning_rate',\n",
    "                 params = [i/100.0 for i in range(1,101,10)],\n",
    "                 cv_score = 'f1_macro')\n",
    "\n",
    "plt.xlabel(\"Learning rate\")\n",
    "plt.ylabel(\"F1-score\")\n",
    "plt.legend(loc='best')\n",
    "plt.grid(True)"
   ]
  },
  {
   "cell_type": "code",
   "execution_count": 37,
   "metadata": {},
   "outputs": [
    {
     "name": "stdout",
     "output_type": "stream",
     "text": [
      "                                    CV scores on Train set\n",
      "================================================================================================\n",
      "  mean_train_score (std_train_score) | mean_valid_score (std_valid_score) |      parameter\n",
      "================================================================================================\n",
      "       0.71316      (  0.0067821   ) |      0.67113      (   0.013909   ) | learning_rate = 0.01\n",
      "       0.85742      (  0.0026365   ) |       0.7638      (  0.0068143   ) | learning_rate = 0.11\n",
      "       0.89174      (  0.0027421   ) |      0.76883      (  0.0036088   ) | learning_rate = 0.21\n",
      "       0.91029      (   0.002269   ) |      0.76756      (   0.005736   ) | learning_rate = 0.31\n",
      "       0.92161      (  0.0027507   ) |      0.76196      (  0.0047396   ) | learning_rate = 0.41\n",
      "       0.93001      (  0.00097014  ) |      0.75946      (  0.0037264   ) | learning_rate = 0.51\n",
      "       0.93566      (  0.0018747   ) |      0.75793      (  0.0057136   ) | learning_rate = 0.61\n",
      "       0.94123      (  0.0013463   ) |      0.74939      (  0.0081738   ) | learning_rate = 0.71\n",
      "       0.94497      (  0.0025587   ) |      0.74633      (  0.0031948   ) | learning_rate = 0.81\n",
      "       0.94738      (  0.0018599   ) |      0.74465      (  0.0051653   ) | learning_rate = 0.91\n"
     ]
    }
   ],
   "source": [
    "cv_output_all(model = xgb_final,\n",
    "              data_X = X_train_tfidf,\n",
    "              data_y = y_train,\n",
    "              parameter_name = 'learning_rate', \n",
    "              params = [i/100.0 for i in range(1,101,10)],\n",
    "              cv_score = 'f1_macro'\n",
    "             )"
   ]
  },
  {
   "cell_type": "markdown",
   "metadata": {},
   "source": [
    "## Results"
   ]
  },
  {
   "cell_type": "code",
   "execution_count": 38,
   "metadata": {},
   "outputs": [],
   "source": [
    "def get_scores(estimator, X, y, name):\n",
    "    y_pred = estimator.predict(X)\n",
    "    y_pred_proba = estimator.predict_proba(X)[:, 1]\n",
    "\n",
    "    accuracy = accuracy_score(y_test, y_pred)\n",
    "    precision = precision_score(y_test, y_pred)\n",
    "    recall = recall_score(y_test, y_pred)\n",
    "    f1 = f1_score(y_test, y_pred, average='macro')\n",
    "    roc_auc = roc_auc_score(y_test, y_pred_proba)\n",
    "    \n",
    "    columns = ['accuracy', 'precision', 'recall', 'F1-macro', 'AUC-ROC']\n",
    "    results = pd.DataFrame([accuracy, precision, recall, f1, roc_auc], index=columns, columns=[name]).T\n",
    "\n",
    "    return results"
   ]
  },
  {
   "cell_type": "code",
   "execution_count": 39,
   "metadata": {},
   "outputs": [],
   "source": [
    "results_lr = get_scores(lr_final, X = X_test_tfidf, y = y_test, name = 'LR')\n",
    "results_xgb = get_scores(xgb_final, X = X_test_tfidf, y = y_test, name = 'XGB')"
   ]
  },
  {
   "cell_type": "code",
   "execution_count": 40,
   "metadata": {},
   "outputs": [
    {
     "data": {
      "text/html": [
       "<div>\n",
       "<style scoped>\n",
       "    .dataframe tbody tr th:only-of-type {\n",
       "        vertical-align: middle;\n",
       "    }\n",
       "\n",
       "    .dataframe tbody tr th {\n",
       "        vertical-align: top;\n",
       "    }\n",
       "\n",
       "    .dataframe thead th {\n",
       "        text-align: right;\n",
       "    }\n",
       "</style>\n",
       "<table border=\"1\" class=\"dataframe\">\n",
       "  <thead>\n",
       "    <tr style=\"text-align: right;\">\n",
       "      <th></th>\n",
       "      <th>accuracy</th>\n",
       "      <th>precision</th>\n",
       "      <th>recall</th>\n",
       "      <th>F1-macro</th>\n",
       "      <th>AUC-ROC</th>\n",
       "    </tr>\n",
       "  </thead>\n",
       "  <tbody>\n",
       "    <tr>\n",
       "      <th>LR</th>\n",
       "      <td>0.795656</td>\n",
       "      <td>0.756098</td>\n",
       "      <td>0.770984</td>\n",
       "      <td>0.791801</td>\n",
       "      <td>0.867187</td>\n",
       "    </tr>\n",
       "    <tr>\n",
       "      <th>XGB</th>\n",
       "      <td>0.772163</td>\n",
       "      <td>0.768772</td>\n",
       "      <td>0.668394</td>\n",
       "      <td>0.762635</td>\n",
       "      <td>0.817116</td>\n",
       "    </tr>\n",
       "  </tbody>\n",
       "</table>\n",
       "</div>"
      ],
      "text/plain": [
       "     accuracy  precision    recall  F1-macro   AUC-ROC\n",
       "LR   0.795656   0.756098  0.770984  0.791801  0.867187\n",
       "XGB  0.772163   0.768772  0.668394  0.762635  0.817116"
      ]
     },
     "execution_count": 40,
     "metadata": {},
     "output_type": "execute_result"
    }
   ],
   "source": [
    "results_lr.append(results_xgb)"
   ]
  },
  {
   "cell_type": "markdown",
   "metadata": {},
   "source": [
    "## CONCLUSIONS\n",
    "\n",
    "1. Logistic Regression and XGBoost machine learning models with tuned hyperparameters were applied to the TF-IDF matrix obtained from the preprocessed texts.\n",
    "2. Our data is a sparse matrix thats why Logistic Regression works better then Boosting algorithm."
   ]
  },
  {
   "cell_type": "code",
   "execution_count": null,
   "metadata": {},
   "outputs": [],
   "source": []
  }
 ],
 "metadata": {
  "kernelspec": {
   "display_name": "Python 3",
   "language": "python",
   "name": "python3"
  },
  "language_info": {
   "codemirror_mode": {
    "name": "ipython",
    "version": 3
   },
   "file_extension": ".py",
   "mimetype": "text/x-python",
   "name": "python",
   "nbconvert_exporter": "python",
   "pygments_lexer": "ipython3",
   "version": "3.7.6"
  }
 },
 "nbformat": 4,
 "nbformat_minor": 2
}
