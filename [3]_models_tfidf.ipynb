{
 "cells": [
  {
   "cell_type": "code",
   "execution_count": 1,
   "metadata": {
    "id": "Xxyz5JDmL2E-"
   },
   "outputs": [],
   "source": [
    "import os\n",
    "from pathlib import Path\n",
    "\n",
    "import numpy as np\n",
    "import pandas as pd\n",
    "from collections import Counter\n",
    "\n",
    "pd.set_option(\"display.max_rows\", 500)\n",
    "pd.set_option(\"display.max_columns\", 500)\n",
    "pd.set_option(\"display.width\", 1000)\n",
    "pd.set_option(\"display.max_colwidth\", 1000)\n",
    "\n",
    "from sklearn.decomposition import TruncatedSVD\n",
    "from sklearn.feature_extraction.text import TfidfVectorizer\n",
    "from sklearn.linear_model import LogisticRegression\n",
    "from sklearn.metrics import (\n",
    "    accuracy_score,\n",
    "    f1_score,\n",
    "    precision_score,\n",
    "    recall_score,\n",
    "    roc_auc_score,\n",
    ")\n",
    "from sklearn.model_selection import (\n",
    "    cross_val_score,\n",
    "    GridSearchCV,\n",
    "    StratifiedKFold,\n",
    "    train_test_split,\n",
    "    validation_curve,\n",
    ")\n",
    "from sklearn.naive_bayes import GaussianNB\n",
    "from sklearn.svm import SVC\n",
    "from xgboost.sklearn import XGBClassifier\n",
    "\n",
    "import matplotlib\n",
    "import matplotlib.patches as mpatches\n",
    "import matplotlib.pyplot as plt\n",
    "import seaborn as sns\n",
    "\n",
    "%matplotlib inline\n",
    "sns.set(rc={\"figure.figsize\": [15, 7]}, style=\"whitegrid\")"
   ]
  },
  {
   "cell_type": "code",
   "execution_count": 2,
   "metadata": {
    "id": "e9OtCUkjL2Gk"
   },
   "outputs": [],
   "source": [
    "DATA_PATH = \"data/\"\n",
    "\n",
    "TRAIN_FEATURES = os.path.join(DATA_PATH, \"train_new_features.csv\")"
   ]
  },
  {
   "cell_type": "code",
   "execution_count": 3,
   "metadata": {
    "id": "7w_-XLP9L2HA"
   },
   "outputs": [],
   "source": [
    "train_df = pd.read_csv(TRAIN_FEATURES, index_col=0, encoding=\"utf-8\")"
   ]
  },
  {
   "cell_type": "code",
   "execution_count": 4,
   "metadata": {
    "colab": {
     "base_uri": "https://localhost:8080/",
     "height": 306
    },
    "id": "g6R92_b4L2HW",
    "outputId": "fd315648-9597-4105-a87d-57e6c95892ce",
    "scrolled": false
   },
   "outputs": [
    {
     "data": {
      "text/html": [
       "<div>\n",
       "<style scoped>\n",
       "    .dataframe tbody tr th:only-of-type {\n",
       "        vertical-align: middle;\n",
       "    }\n",
       "\n",
       "    .dataframe tbody tr th {\n",
       "        vertical-align: top;\n",
       "    }\n",
       "\n",
       "    .dataframe thead th {\n",
       "        text-align: right;\n",
       "    }\n",
       "</style>\n",
       "<table border=\"1\" class=\"dataframe\">\n",
       "  <thead>\n",
       "    <tr style=\"text-align: right;\">\n",
       "      <th></th>\n",
       "      <th>text</th>\n",
       "      <th>target</th>\n",
       "      <th>text_cleaned</th>\n",
       "      <th>preprocessed_text</th>\n",
       "      <th>sentence_count</th>\n",
       "      <th>word_count</th>\n",
       "      <th>stop_word_count</th>\n",
       "      <th>stop_word_share</th>\n",
       "      <th>url_count</th>\n",
       "      <th>mean_word_length</th>\n",
       "      <th>char_count</th>\n",
       "      <th>punctuation_count</th>\n",
       "      <th>hashtag_count</th>\n",
       "      <th>mention_count</th>\n",
       "      <th>polarity_raw</th>\n",
       "      <th>subjectivity_raw</th>\n",
       "      <th>unique_word_count</th>\n",
       "      <th>unique_word_share</th>\n",
       "      <th>polarity</th>\n",
       "      <th>subjectivity</th>\n",
       "      <th>DT</th>\n",
       "      <th>NN</th>\n",
       "      <th>PRP$</th>\n",
       "      <th>NNS</th>\n",
       "      <th>VBP</th>\n",
       "      <th>IN</th>\n",
       "      <th>MD</th>\n",
       "      <th>VB</th>\n",
       "      <th>JJ</th>\n",
       "      <th>PRP</th>\n",
       "      <th>JJS</th>\n",
       "      <th>VBN</th>\n",
       "      <th>VBD</th>\n",
       "      <th>TO</th>\n",
       "      <th>VBG</th>\n",
       "      <th>CC</th>\n",
       "      <th>RB</th>\n",
       "      <th>EX</th>\n",
       "      <th>VBZ</th>\n",
       "      <th>CD</th>\n",
       "      <th>WP</th>\n",
       "      <th>RP</th>\n",
       "      <th>JJR</th>\n",
       "      <th>WRB</th>\n",
       "      <th>FW</th>\n",
       "      <th>WDT</th>\n",
       "      <th>NNP</th>\n",
       "      <th>RBR</th>\n",
       "      <th>RBS</th>\n",
       "      <th>PDT</th>\n",
       "      <th>SYM</th>\n",
       "      <th>UH</th>\n",
       "      <th>WP$</th>\n",
       "    </tr>\n",
       "  </thead>\n",
       "  <tbody>\n",
       "    <tr>\n",
       "      <th>0</th>\n",
       "      <td>Our Deeds are the Reason of this #earthquake May ALLAH Forgive us all</td>\n",
       "      <td>1</td>\n",
       "      <td>our deeds are the reason of this earthquake may allah forgive us all</td>\n",
       "      <td>deed reason earthquake allah forgive</td>\n",
       "      <td>1</td>\n",
       "      <td>13</td>\n",
       "      <td>6</td>\n",
       "      <td>0.461538</td>\n",
       "      <td>0</td>\n",
       "      <td>4.384615</td>\n",
       "      <td>69</td>\n",
       "      <td>1</td>\n",
       "      <td>1</td>\n",
       "      <td>0</td>\n",
       "      <td>0.0</td>\n",
       "      <td>0.0</td>\n",
       "      <td>5</td>\n",
       "      <td>1.0</td>\n",
       "      <td>0.0</td>\n",
       "      <td>0.0</td>\n",
       "      <td>3.0</td>\n",
       "      <td>2.0</td>\n",
       "      <td>1.0</td>\n",
       "      <td>1.0</td>\n",
       "      <td>1.0</td>\n",
       "      <td>1.0</td>\n",
       "      <td>1.0</td>\n",
       "      <td>1.0</td>\n",
       "      <td>1.0</td>\n",
       "      <td>1.0</td>\n",
       "      <td>0.0</td>\n",
       "      <td>0.0</td>\n",
       "      <td>0.0</td>\n",
       "      <td>0.0</td>\n",
       "      <td>0.0</td>\n",
       "      <td>0.0</td>\n",
       "      <td>0.0</td>\n",
       "      <td>0.0</td>\n",
       "      <td>0.0</td>\n",
       "      <td>0.0</td>\n",
       "      <td>0.0</td>\n",
       "      <td>0.0</td>\n",
       "      <td>0.0</td>\n",
       "      <td>0.0</td>\n",
       "      <td>0.0</td>\n",
       "      <td>0.0</td>\n",
       "      <td>0.0</td>\n",
       "      <td>0.0</td>\n",
       "      <td>0.0</td>\n",
       "      <td>0.0</td>\n",
       "      <td>0.0</td>\n",
       "      <td>0.0</td>\n",
       "      <td>0.0</td>\n",
       "    </tr>\n",
       "    <tr>\n",
       "      <th>1</th>\n",
       "      <td>Forest fire near La Ronge Sask. Canada</td>\n",
       "      <td>1</td>\n",
       "      <td>forest fire near la ronge sask canada</td>\n",
       "      <td>forest fire near la ronge sask canada</td>\n",
       "      <td>1</td>\n",
       "      <td>7</td>\n",
       "      <td>0</td>\n",
       "      <td>0.000000</td>\n",
       "      <td>0</td>\n",
       "      <td>4.571429</td>\n",
       "      <td>38</td>\n",
       "      <td>1</td>\n",
       "      <td>0</td>\n",
       "      <td>0</td>\n",
       "      <td>0.1</td>\n",
       "      <td>0.4</td>\n",
       "      <td>7</td>\n",
       "      <td>1.0</td>\n",
       "      <td>0.1</td>\n",
       "      <td>0.4</td>\n",
       "      <td>0.0</td>\n",
       "      <td>4.0</td>\n",
       "      <td>0.0</td>\n",
       "      <td>0.0</td>\n",
       "      <td>0.0</td>\n",
       "      <td>1.0</td>\n",
       "      <td>0.0</td>\n",
       "      <td>0.0</td>\n",
       "      <td>1.0</td>\n",
       "      <td>0.0</td>\n",
       "      <td>1.0</td>\n",
       "      <td>0.0</td>\n",
       "      <td>0.0</td>\n",
       "      <td>0.0</td>\n",
       "      <td>0.0</td>\n",
       "      <td>0.0</td>\n",
       "      <td>0.0</td>\n",
       "      <td>0.0</td>\n",
       "      <td>0.0</td>\n",
       "      <td>0.0</td>\n",
       "      <td>0.0</td>\n",
       "      <td>0.0</td>\n",
       "      <td>0.0</td>\n",
       "      <td>0.0</td>\n",
       "      <td>0.0</td>\n",
       "      <td>0.0</td>\n",
       "      <td>0.0</td>\n",
       "      <td>0.0</td>\n",
       "      <td>0.0</td>\n",
       "      <td>0.0</td>\n",
       "      <td>0.0</td>\n",
       "      <td>0.0</td>\n",
       "      <td>0.0</td>\n",
       "    </tr>\n",
       "  </tbody>\n",
       "</table>\n",
       "</div>"
      ],
      "text/plain": [
       "                                                                    text  target                                                          text_cleaned                      preprocessed_text  sentence_count  word_count  stop_word_count  stop_word_share  url_count  mean_word_length  char_count  punctuation_count  hashtag_count  mention_count  polarity_raw  subjectivity_raw  unique_word_count  unique_word_share  polarity  subjectivity   DT   NN  PRP$  NNS  VBP   IN   MD   VB   JJ  PRP  JJS  VBN  VBD   TO  VBG   CC   RB   EX  VBZ   CD   WP   RP  JJR  WRB   FW  WDT  NNP  RBR  RBS  PDT  SYM   UH  WP$\n",
       "0  Our Deeds are the Reason of this #earthquake May ALLAH Forgive us all       1  our deeds are the reason of this earthquake may allah forgive us all   deed reason earthquake allah forgive               1          13                6         0.461538          0          4.384615          69                  1              1              0           0.0               0.0                  5                1.0       0.0           0.0  3.0  2.0   1.0  1.0  1.0  1.0  1.0  1.0  1.0  1.0  0.0  0.0  0.0  0.0  0.0  0.0  0.0  0.0  0.0  0.0  0.0  0.0  0.0  0.0  0.0  0.0  0.0  0.0  0.0  0.0  0.0  0.0  0.0\n",
       "1                                 Forest fire near La Ronge Sask. Canada       1                                 forest fire near la ronge sask canada  forest fire near la ronge sask canada               1           7                0         0.000000          0          4.571429          38                  1              0              0           0.1               0.4                  7                1.0       0.1           0.4  0.0  4.0   0.0  0.0  0.0  1.0  0.0  0.0  1.0  0.0  1.0  0.0  0.0  0.0  0.0  0.0  0.0  0.0  0.0  0.0  0.0  0.0  0.0  0.0  0.0  0.0  0.0  0.0  0.0  0.0  0.0  0.0  0.0"
      ]
     },
     "execution_count": 4,
     "metadata": {},
     "output_type": "execute_result"
    }
   ],
   "source": [
    "train_df.head(2)"
   ]
  },
  {
   "cell_type": "markdown",
   "metadata": {
    "id": "78xrCvc1L2IB"
   },
   "source": [
    "## Data preparation"
   ]
  },
  {
   "cell_type": "markdown",
   "metadata": {
    "id": "y-zSomr1L2IH"
   },
   "source": [
    "Check for null values and replace them."
   ]
  },
  {
   "cell_type": "code",
   "execution_count": 5,
   "metadata": {
    "colab": {
     "base_uri": "https://localhost:8080/",
     "height": 34
    },
    "id": "nOxjwEYrL2IM",
    "outputId": "f67e8627-2e4a-47ee-84d2-830f200f7140"
   },
   "outputs": [
    {
     "name": "stdout",
     "output_type": "stream",
     "text": [
      "Found missing values in data\n"
     ]
    }
   ],
   "source": [
    "if train_df.isnull().any().any():\n",
    "    print(\"Found missing values in data\")\n",
    "else:\n",
    "    print(\"No missing values in data\")"
   ]
  },
  {
   "cell_type": "code",
   "execution_count": 6,
   "metadata": {
    "colab": {
     "base_uri": "https://localhost:8080/",
     "height": 101
    },
    "id": "0lhhbDxoL2Ib",
    "outputId": "78c86410-9edb-4a5b-8196-ec13f02e3564"
   },
   "outputs": [
    {
     "data": {
      "text/html": [
       "<div>\n",
       "<style scoped>\n",
       "    .dataframe tbody tr th:only-of-type {\n",
       "        vertical-align: middle;\n",
       "    }\n",
       "\n",
       "    .dataframe tbody tr th {\n",
       "        vertical-align: top;\n",
       "    }\n",
       "\n",
       "    .dataframe thead th {\n",
       "        text-align: right;\n",
       "    }\n",
       "</style>\n",
       "<table border=\"1\" class=\"dataframe\">\n",
       "  <thead>\n",
       "    <tr style=\"text-align: right;\">\n",
       "      <th></th>\n",
       "      <th>text</th>\n",
       "      <th>target</th>\n",
       "      <th>text_cleaned</th>\n",
       "      <th>preprocessed_text</th>\n",
       "      <th>sentence_count</th>\n",
       "      <th>word_count</th>\n",
       "      <th>stop_word_count</th>\n",
       "      <th>stop_word_share</th>\n",
       "      <th>url_count</th>\n",
       "      <th>mean_word_length</th>\n",
       "      <th>char_count</th>\n",
       "      <th>punctuation_count</th>\n",
       "      <th>hashtag_count</th>\n",
       "      <th>mention_count</th>\n",
       "      <th>polarity_raw</th>\n",
       "      <th>subjectivity_raw</th>\n",
       "      <th>unique_word_count</th>\n",
       "      <th>unique_word_share</th>\n",
       "      <th>polarity</th>\n",
       "      <th>subjectivity</th>\n",
       "      <th>DT</th>\n",
       "      <th>NN</th>\n",
       "      <th>PRP$</th>\n",
       "      <th>NNS</th>\n",
       "      <th>VBP</th>\n",
       "      <th>IN</th>\n",
       "      <th>MD</th>\n",
       "      <th>VB</th>\n",
       "      <th>JJ</th>\n",
       "      <th>PRP</th>\n",
       "      <th>JJS</th>\n",
       "      <th>VBN</th>\n",
       "      <th>VBD</th>\n",
       "      <th>TO</th>\n",
       "      <th>VBG</th>\n",
       "      <th>CC</th>\n",
       "      <th>RB</th>\n",
       "      <th>EX</th>\n",
       "      <th>VBZ</th>\n",
       "      <th>CD</th>\n",
       "      <th>WP</th>\n",
       "      <th>RP</th>\n",
       "      <th>JJR</th>\n",
       "      <th>WRB</th>\n",
       "      <th>FW</th>\n",
       "      <th>WDT</th>\n",
       "      <th>NNP</th>\n",
       "      <th>RBR</th>\n",
       "      <th>RBS</th>\n",
       "      <th>PDT</th>\n",
       "      <th>SYM</th>\n",
       "      <th>UH</th>\n",
       "      <th>WP$</th>\n",
       "    </tr>\n",
       "  </thead>\n",
       "  <tbody>\n",
       "    <tr>\n",
       "      <th>0</th>\n",
       "      <td>0</td>\n",
       "      <td>0</td>\n",
       "      <td>0</td>\n",
       "      <td>4</td>\n",
       "      <td>0</td>\n",
       "      <td>0</td>\n",
       "      <td>0</td>\n",
       "      <td>0</td>\n",
       "      <td>0</td>\n",
       "      <td>0</td>\n",
       "      <td>0</td>\n",
       "      <td>0</td>\n",
       "      <td>0</td>\n",
       "      <td>0</td>\n",
       "      <td>0</td>\n",
       "      <td>0</td>\n",
       "      <td>0</td>\n",
       "      <td>0</td>\n",
       "      <td>0</td>\n",
       "      <td>0</td>\n",
       "      <td>0</td>\n",
       "      <td>0</td>\n",
       "      <td>0</td>\n",
       "      <td>0</td>\n",
       "      <td>0</td>\n",
       "      <td>0</td>\n",
       "      <td>0</td>\n",
       "      <td>0</td>\n",
       "      <td>0</td>\n",
       "      <td>0</td>\n",
       "      <td>0</td>\n",
       "      <td>0</td>\n",
       "      <td>0</td>\n",
       "      <td>0</td>\n",
       "      <td>0</td>\n",
       "      <td>0</td>\n",
       "      <td>0</td>\n",
       "      <td>0</td>\n",
       "      <td>0</td>\n",
       "      <td>0</td>\n",
       "      <td>0</td>\n",
       "      <td>0</td>\n",
       "      <td>0</td>\n",
       "      <td>0</td>\n",
       "      <td>0</td>\n",
       "      <td>0</td>\n",
       "      <td>0</td>\n",
       "      <td>0</td>\n",
       "      <td>0</td>\n",
       "      <td>0</td>\n",
       "      <td>0</td>\n",
       "      <td>0</td>\n",
       "      <td>0</td>\n",
       "    </tr>\n",
       "  </tbody>\n",
       "</table>\n",
       "</div>"
      ],
      "text/plain": [
       "   text  target  text_cleaned  preprocessed_text  sentence_count  word_count  stop_word_count  stop_word_share  url_count  mean_word_length  char_count  punctuation_count  hashtag_count  mention_count  polarity_raw  subjectivity_raw  unique_word_count  unique_word_share  polarity  subjectivity  DT  NN  PRP$  NNS  VBP  IN  MD  VB  JJ  PRP  JJS  VBN  VBD  TO  VBG  CC  RB  EX  VBZ  CD  WP  RP  JJR  WRB  FW  WDT  NNP  RBR  RBS  PDT  SYM  UH  WP$\n",
       "0     0       0             0                  4               0           0                0                0          0                 0           0                  0              0              0             0                 0                  0                  0         0             0   0   0     0    0    0   0   0   0   0    0    0    0    0   0    0   0   0   0    0   0   0   0    0    0   0    0    0    0    0    0    0   0    0"
      ]
     },
     "execution_count": 6,
     "metadata": {},
     "output_type": "execute_result"
    }
   ],
   "source": [
    "train_isnull_count = pd.DataFrame(train_df.isnull().sum()).T\n",
    "train_isnull_count"
   ]
  },
  {
   "cell_type": "code",
   "execution_count": 7,
   "metadata": {
    "id": "0ZIv3C_NL2JD"
   },
   "outputs": [],
   "source": [
    "train_df.fillna(\"\", inplace=True)"
   ]
  },
  {
   "cell_type": "code",
   "execution_count": 8,
   "metadata": {
    "colab": {
     "base_uri": "https://localhost:8080/",
     "height": 34
    },
    "id": "8cwwPGckL2JM",
    "outputId": "eafb7298-140e-4d24-a058-759a934f8569"
   },
   "outputs": [
    {
     "name": "stdout",
     "output_type": "stream",
     "text": [
      "No missing values in data\n"
     ]
    }
   ],
   "source": [
    "if train_df.isnull().any().any():\n",
    "    print(\"Found missing values in data\")\n",
    "else:\n",
    "    print(\"No missing values in data\")"
   ]
  },
  {
   "cell_type": "code",
   "execution_count": 9,
   "metadata": {
    "id": "yLtLUuQ5L2KA"
   },
   "outputs": [],
   "source": [
    "train = train_df[\"preprocessed_text\"]\n",
    "y = train_df[\"target\"]\n",
    "\n",
    "X_train, X_test, y_train, y_test = train_test_split(\n",
    "    train, y, test_size=0.3, random_state=13, stratify=y\n",
    ")"
   ]
  },
  {
   "cell_type": "code",
   "execution_count": 10,
   "metadata": {
    "colab": {
     "base_uri": "https://localhost:8080/",
     "height": 34
    },
    "id": "aIKQY3_sL2Kq",
    "outputId": "ff242874-e16e-4559-8e6c-314091b9be3d"
   },
   "outputs": [
    {
     "data": {
      "text/plain": [
       "((5264,), (2256,))"
      ]
     },
     "execution_count": 10,
     "metadata": {},
     "output_type": "execute_result"
    }
   ],
   "source": [
    "X_train.shape, X_test.shape"
   ]
  },
  {
   "cell_type": "markdown",
   "metadata": {
    "id": "k2YRaCwdL2K1"
   },
   "source": [
    "## Convert a collection of tweets to a matrix of TF-IDF features"
   ]
  },
  {
   "cell_type": "markdown",
   "metadata": {
    "id": "mU3M4hSFL2K4"
   },
   "source": [
    "First, we will create a dictionary of all the words using TfidfVectorizer.\n",
    "\n",
    "Secondly, we are encoding the sentences from the training set texts with the indexes of incoming words. We will use the sparse format.\n",
    "\n",
    "Third, we will apply the same operations to the test set.\n",
    "\n",
    "We exclude words with low and high document frequency across the corpus, as these words could be misspelled or rare."
   ]
  },
  {
   "cell_type": "code",
   "execution_count": 11,
   "metadata": {
    "id": "8q7isn5mL2K6"
   },
   "outputs": [],
   "source": [
    "vectorizer = TfidfVectorizer(min_df=5, max_df=0.8, ngram_range=(1, 1)) # only unigrams\n",
    "\n",
    "X_train_tfidf = vectorizer.fit_transform(X_train)\n",
    "\n",
    "X_test_tfidf = vectorizer.transform(X_test)"
   ]
  },
  {
   "cell_type": "code",
   "execution_count": 12,
   "metadata": {
    "colab": {
     "base_uri": "https://localhost:8080/",
     "height": 34
    },
    "id": "YTL6AkJSL2LZ",
    "outputId": "fcf86f5d-799b-4831-8471-8944a9291cf0"
   },
   "outputs": [
    {
     "data": {
      "text/plain": [
       "((5264, 1680), (2256, 1680))"
      ]
     },
     "execution_count": 12,
     "metadata": {},
     "output_type": "execute_result"
    }
   ],
   "source": [
    "X_train_tfidf.shape, X_test_tfidf.shape"
   ]
  },
  {
   "cell_type": "markdown",
   "metadata": {
    "id": "kELp4_0BL2Lm"
   },
   "source": [
    "## Dataset visualization\n",
    "\n",
    "We use a singular value decomposition to reduce our dataset to two dimensions. This will allow us to see any inherent linear separability in the data that our model could capitalize on.\n",
    "\n",
    "When truncated SVD is applied to term-document matrixes (as returned by CountVectorizer or TfidfVectorizer), this transformation is known as latent semantic analysis (LSA), because it transforms such matrixes in a “semantic” space of low dimensionality."
   ]
  },
  {
   "cell_type": "code",
   "execution_count": 13,
   "metadata": {
    "colab": {
     "base_uri": "https://localhost:8080/",
     "height": 288
    },
    "id": "t5_mT90fL2Lp",
    "outputId": "7c522fe9-0ba9-49fd-e58e-c0710ebb500d"
   },
   "outputs": [
    {
     "data": {
      "image/png": "[encoded data removed]",
      "text/plain": [
       "<Figure size 1080x504 with 1 Axes>"
      ]
     },
     "metadata": {},
     "output_type": "display_data"
    }
   ],
   "source": [
    "def plot_lsa(text, labels, plot=True):\n",
    "    lsa = TruncatedSVD(n_components=2)\n",
    "    lsa.fit(text)\n",
    "    lsa_scores = lsa.transform(text)\n",
    "    color_dict = {label: idx for idx, label in enumerate(set(labels))}\n",
    "    color_column = [color_dict[label] for label in labels]\n",
    "    colors = [\"green\", \"red\"]\n",
    "    if plot:\n",
    "        plt.scatter(\n",
    "            lsa_scores[:, 0],\n",
    "            lsa_scores[:, 1],\n",
    "            s=8,\n",
    "            c=labels,\n",
    "            cmap=matplotlib.colors.ListedColormap(colors),\n",
    "        )\n",
    "        green_patch = mpatches.Patch(color=\"green\", label=\"Not Disaster\")\n",
    "        red_patch = mpatches.Patch(color=\"red\", label=\"Disaster\")\n",
    "        plt.legend(handles=[red_patch, green_patch], prop={\"size\": 14})\n",
    "        sns.set(rc={\"figure.figsize\": [15, 7]}, style=\"whitegrid\")\n",
    "\n",
    "\n",
    "plot_lsa(X_train_tfidf, y_train)\n",
    "plt.title(\"2D Visualization of Word Frequencies\", size=18)\n",
    "plt.show()"
   ]
  },
  {
   "cell_type": "markdown",
   "metadata": {
    "id": "QIr_mYrzL2Lx"
   },
   "source": [
    "## Approaches\n",
    " - Linear SVM Classifier,\n",
    " - Logistic Regression,\n",
    " - Naive Bayes,\n",
    " - boosting (XGBoost)"
   ]
  },
  {
   "cell_type": "markdown",
   "metadata": {
    "id": "AJ2almMYL2Lz"
   },
   "source": [
    "**Define the evaluation procedure.**\n",
    "\n",
    "We will use repeated cross-validation to evaluate the model, with 5-fold cross-validation."
   ]
  },
  {
   "cell_type": "code",
   "execution_count": 14,
   "metadata": {
    "id": "KLU-pqcIL2L2"
   },
   "outputs": [],
   "source": [
    "kf = StratifiedKFold(n_splits=5, random_state=13, shuffle=True)"
   ]
  },
  {
   "cell_type": "markdown",
   "metadata": {
    "id": "hUc64Gp3L2MD"
   },
   "source": [
    "**Define the functions for reports with numbers and plots.**"
   ]
  },
  {
   "cell_type": "markdown",
   "metadata": {
    "id": "PxCdi1BKL2MF"
   },
   "source": [
    "```The leaderboard is based on Mean F-Score which can be implemented with Macro Average F1 Score.```"
   ]
  },
  {
   "cell_type": "code",
   "execution_count": 15,
   "metadata": {
    "id": "RmHwY1fhL2MI"
   },
   "outputs": [],
   "source": [
    "def plot_cv_with_err(model, data_X, data_y, parameter_name, params, cv_score, **kwargs):\n",
    "\n",
    "    \"\"\"Plot results of cv_output_all\"\"\"\n",
    "\n",
    "    val_train, val_test = validation_curve(\n",
    "        model,\n",
    "        data_X,\n",
    "        data_y,\n",
    "        param_name=parameter_name,\n",
    "        param_range=params,\n",
    "        cv=kf,\n",
    "        scoring=cv_score,\n",
    "    )\n",
    "    means_train = np.mean(val_train, axis=1)\n",
    "    stds_train = np.std(val_train, axis=1)\n",
    "    means_test = np.mean(val_test, axis=1)\n",
    "    stds_test = np.std(val_test, axis=1)\n",
    "    lines_train = plt.plot(\n",
    "        params, means_train, \"-\", label=\"CV training scores on train set\", **kwargs\n",
    "    )\n",
    "    lines_test = plt.plot(\n",
    "        params, means_test, \"-\", label=\"CV validation scores on train set\", **kwargs\n",
    "    )\n",
    "    plt.fill_between(\n",
    "        params,\n",
    "        means_train - stds_train,\n",
    "        means_train + stds_train,\n",
    "        edgecolor=\"none\",\n",
    "        facecolor=lines_train[0].get_color(),\n",
    "        alpha=0.2,\n",
    "    )\n",
    "    plt.fill_between(\n",
    "        params,\n",
    "        means_test - stds_test,\n",
    "        means_test + stds_test,\n",
    "        edgecolor=\"none\",\n",
    "        facecolor=lines_test[0].get_color(),\n",
    "        alpha=0.2,\n",
    "    )\n",
    "    sns.set(rc={\"figure.figsize\": [15, 7]}, style=\"whitegrid\")"
   ]
  },
  {
   "cell_type": "code",
   "execution_count": 16,
   "metadata": {
    "id": "SGDsoCc3L2MR"
   },
   "outputs": [],
   "source": [
    "def cv_output_all(model, data_X, data_y, parameter_name, params, cv_score):\n",
    "\n",
    "    \"\"\"Same as plot_cv_with_err\"\"\"\n",
    "\n",
    "    val_train, val_test = validation_curve(\n",
    "        model,\n",
    "        data_X,\n",
    "        data_y,\n",
    "        param_name=parameter_name,\n",
    "        param_range=params,\n",
    "        cv=kf,\n",
    "        scoring=cv_score,\n",
    "    )\n",
    "    means_train = np.mean(val_train, axis=1)\n",
    "    stds_train = np.std(val_train, axis=1)\n",
    "    means_test = np.mean(val_test, axis=1)\n",
    "    stds_test = np.std(val_test, axis=1)\n",
    "    print(\"                                    CV scores on Train set\")\n",
    "    print(\n",
    "        \"================================================================================================\"\n",
    "    )\n",
    "    print(\n",
    "        \"  mean_train_score (std_train_score) | mean_valid_score (std_valid_score) |      parameter\"\n",
    "    )\n",
    "    print(\n",
    "        \"================================================================================================\"\n",
    "    )\n",
    "    for mean_tr, stdev_tr, mean_te, stdev_te, param in zip(\n",
    "        means_train, stds_train, means_test, stds_test, params\n",
    "    ):\n",
    "        print(\n",
    "            \"    {:^{width}.{prec}}  ({:^{width}.{prec}}) |   {:^{width}.{prec}}  ({:^{width}.{prec}}) | {:{align}} = {:{align}.{prec}}\".format(\n",
    "                mean_tr,\n",
    "                stdev_tr,\n",
    "                mean_te,\n",
    "                stdev_te,\n",
    "                parameter_name,\n",
    "                param,\n",
    "                align=\"<\",\n",
    "                width=\"14\",\n",
    "                prec=5,\n",
    "            )\n",
    "        )"
   ]
  },
  {
   "cell_type": "markdown",
   "metadata": {
    "id": "qyGaXyq6L2MZ"
   },
   "source": [
    "## Linear SVM Classifier"
   ]
  },
  {
   "cell_type": "markdown",
   "metadata": {
    "id": "biuRhkvnL2Ma"
   },
   "source": [
    "### Baseline model."
   ]
  },
  {
   "cell_type": "markdown",
   "metadata": {
    "id": "ljSsCxjUL2Mc"
   },
   "source": [
    "**Define the model.**"
   ]
  },
  {
   "cell_type": "code",
   "execution_count": 17,
   "metadata": {
    "id": "rxzBjNsBL2Mf"
   },
   "outputs": [],
   "source": [
    "svm = SVC(\n",
    "    C=1.0,\n",
    "    kernel=\"linear\",\n",
    "    degree=3,\n",
    "    gamma=\"scale\",\n",
    "    class_weight=\"balanced\",\n",
    "    random_state=13,\n",
    "    probability=True,\n",
    ")"
   ]
  },
  {
   "cell_type": "code",
   "execution_count": 18,
   "metadata": {
    "colab": {
     "base_uri": "https://localhost:8080/",
     "height": 86
    },
    "id": "-PCQ8nuFL2NC",
    "outputId": "570f700d-9d18-4aa7-81e0-8b14724ff922"
   },
   "outputs": [
    {
     "data": {
      "text/plain": [
       "SVC(C=1.0, break_ties=False, cache_size=200, class_weight='balanced', coef0=0.0,\n",
       "    decision_function_shape='ovr', degree=3, gamma='scale', kernel='linear',\n",
       "    max_iter=-1, probability=True, random_state=13, shrinking=True, tol=0.001,\n",
       "    verbose=False)"
      ]
     },
     "execution_count": 18,
     "metadata": {
      "tags": []
     },
     "output_type": "execute_result"
    }
   ],
   "source": [
    "svm.fit(X_train_tfidf, y_train)"
   ]
  },
  {
   "cell_type": "markdown",
   "metadata": {
    "id": "oR2OOJ8dL2NN"
   },
   "source": [
    "**Evaluate the model, establish a baseline.**"
   ]
  },
  {
   "cell_type": "code",
   "execution_count": 19,
   "metadata": {
    "colab": {
     "base_uri": "https://localhost:8080/",
     "height": 69
    },
    "id": "OA_kU3t_L2NO",
    "outputId": "a6d38384-64b8-4f9d-a607-bca35c81f444"
   },
   "outputs": [
    {
     "name": "stdout",
     "output_type": "stream",
     "text": [
      "f1_score (train set): 0.86178\n",
      "\n",
      "f1_score (test set):  0.78138\n"
     ]
    }
   ],
   "source": [
    "print(\n",
    "    \"f1_score (train set): {:.5}\".format(\n",
    "        f1_score(y_train, svm.predict(X_train_tfidf), average=\"macro\")\n",
    "    )\n",
    ")\n",
    "print(\n",
    "    \"\\nf1_score (test set):  {:.5}\".format(\n",
    "        f1_score(y_test, svm.predict(X_test_tfidf), average=\"macro\")\n",
    "    )\n",
    ")"
   ]
  },
  {
   "cell_type": "code",
   "execution_count": 20,
   "metadata": {
    "colab": {
     "base_uri": "https://localhost:8080/",
     "height": 452
    },
    "id": "ukYk2xZjL2NZ",
    "outputId": "cc00f060-8675-4323-ae84-0c56c5144666"
   },
   "outputs": [
    {
     "data": {
      "image/png": "[encoded data removed]",
      "text/plain": [
       "<Figure size 1080x504 with 1 Axes>"
      ]
     },
     "metadata": {
      "tags": []
     },
     "output_type": "display_data"
    }
   ],
   "source": [
    "plot_cv_with_err(\n",
    "    model=svm,\n",
    "    data_X=X_train_tfidf,\n",
    "    data_y=y_train,\n",
    "    parameter_name=\"C\",\n",
    "    params=np.logspace(-2, 2, 10),\n",
    "    cv_score=\"f1_macro\",\n",
    ")\n",
    "plt.xlabel(\"$C$ - coefficient of regularization\")\n",
    "plt.ylabel(\"F1-score\")\n",
    "plt.legend(loc=\"best\")\n",
    "plt.grid(True)"
   ]
  },
  {
   "cell_type": "markdown",
   "metadata": {
    "id": "pmPW7h51L2Ni"
   },
   "source": [
    "### Hyperparameter optimization."
   ]
  },
  {
   "cell_type": "code",
   "execution_count": 21,
   "metadata": {
    "colab": {
     "base_uri": "https://localhost:8080/",
     "height": 86
    },
    "id": "WLqsBz_iL2Nk",
    "outputId": "22b363a3-86d7-4e7b-a5b4-73b7c2f62656"
   },
   "outputs": [
    {
     "name": "stdout",
     "output_type": "stream",
     "text": [
      "CPU times: user 4.14 s, sys: 227 ms, total: 4.37 s\n",
      "Wall time: 7min 29s\n",
      "\n",
      "Best_params: {'C': 0.5137692307692308, 'gamma': 'scale'}, best_score: 0.78755\n"
     ]
    }
   ],
   "source": [
    "svm_grid = {\"C\": np.linspace(0.001, 10, 40), \"gamma\": [\"scale\", \"auto\"]}\n",
    "gs = GridSearchCV(\n",
    "    SVC(\n",
    "        C=1.0, kernel=\"linear\", gamma=\"scale\", class_weight=\"balanced\", random_state=13\n",
    "    ),\n",
    "    svm_grid,\n",
    "    cv=kf,\n",
    "    scoring=\"f1_macro\",\n",
    "    n_jobs=5,\n",
    ")\n",
    "%time  gs.fit(X_train_tfidf, y_train)\n",
    "print(\"\\nBest_params: {}, best_score: {:.5}\".format(gs.best_params_, gs.best_score_))"
   ]
  },
  {
   "cell_type": "markdown",
   "metadata": {
    "id": "dW5te3ruL2Nu"
   },
   "source": [
    "### Final model."
   ]
  },
  {
   "cell_type": "code",
   "execution_count": 22,
   "metadata": {
    "colab": {
     "base_uri": "https://localhost:8080/",
     "height": 121
    },
    "id": "FzQ1vh8rL2Nx",
    "outputId": "b796babb-7b30-4d1f-a76a-90064510af1d"
   },
   "outputs": [
    {
     "name": "stdout",
     "output_type": "stream",
     "text": [
      "CPU times: user 9.1 s, sys: 61.4 ms, total: 9.16 s\n",
      "Wall time: 9.29 s\n"
     ]
    },
    {
     "data": {
      "text/plain": [
       "SVC(C=0.5, break_ties=False, cache_size=200, class_weight='balanced', coef0=0.0,\n",
       "    decision_function_shape='ovr', degree=3, gamma='scale', kernel='linear',\n",
       "    max_iter=-1, probability=True, random_state=13, shrinking=True, tol=0.001,\n",
       "    verbose=False)"
      ]
     },
     "execution_count": 22,
     "metadata": {
      "tags": []
     },
     "output_type": "execute_result"
    }
   ],
   "source": [
    "svm_final = SVC(\n",
    "    C=0.5,\n",
    "    kernel=\"linear\",\n",
    "    gamma=\"scale\",\n",
    "    class_weight=\"balanced\",\n",
    "    random_state=13,\n",
    "    probability=True,\n",
    ")\n",
    "%time svm_final.fit(X_train_tfidf, y_train)"
   ]
  },
  {
   "cell_type": "markdown",
   "metadata": {
    "id": "Yg-DwZE-L2N9"
   },
   "source": [
    "**Evaluate the model.**"
   ]
  },
  {
   "cell_type": "code",
   "execution_count": 23,
   "metadata": {
    "colab": {
     "base_uri": "https://localhost:8080/",
     "height": 69
    },
    "id": "2yf_CHf5L2N_",
    "outputId": "fb261801-bb1e-4bbb-d81b-1362f6c70b3b"
   },
   "outputs": [
    {
     "name": "stdout",
     "output_type": "stream",
     "text": [
      "f1_score (train set): 0.84946\n",
      "\n",
      "f1_score (test set):  0.79136\n"
     ]
    }
   ],
   "source": [
    "print(\n",
    "    \"f1_score (train set): {:.5}\".format(\n",
    "        f1_score(y_train, svm_final.predict(X_train_tfidf), average=\"macro\")\n",
    "    )\n",
    ")\n",
    "print(\n",
    "    \"\\nf1_score (test set):  {:.5}\".format(\n",
    "        f1_score(y_test, svm_final.predict(X_test_tfidf), average=\"macro\")\n",
    "    )\n",
    ")"
   ]
  },
  {
   "cell_type": "code",
   "execution_count": 24,
   "metadata": {
    "colab": {
     "base_uri": "https://localhost:8080/",
     "height": 452
    },
    "id": "Td-Ug8lWL2OM",
    "outputId": "d904f469-fa98-4288-c0df-f87c06777a41"
   },
   "outputs": [
    {
     "data": {
      "image/png": "[encoded data removed]",
      "text/plain": [
       "<Figure size 1080x504 with 1 Axes>"
      ]
     },
     "metadata": {
      "tags": []
     },
     "output_type": "display_data"
    }
   ],
   "source": [
    "plot_cv_with_err(\n",
    "    model=svm_final,\n",
    "    data_X=X_train_tfidf,\n",
    "    data_y=y_train,\n",
    "    parameter_name=\"C\",\n",
    "    params=np.logspace(-2, 2, 10),\n",
    "    cv_score=\"f1_macro\",\n",
    ")\n",
    "plt.xlabel(\"$C$ - coefficient of regularization\")\n",
    "plt.ylabel(\"F1-score\")\n",
    "plt.legend(loc=\"best\")\n",
    "plt.grid(True)"
   ]
  },
  {
   "cell_type": "markdown",
   "metadata": {
    "id": "tGekLxN4L2OR"
   },
   "source": [
    "The trend is quite visible.\n",
    "\n",
    "Training and validation errors differ significantly. This can be explained by **overfitting**. When there are too many parameters or regularization is not strict enough, the algorithm can be \"distracted\" by the noise in the data and lose track of the overall trend."
   ]
  },
  {
   "cell_type": "code",
   "execution_count": 25,
   "metadata": {
    "colab": {
     "base_uri": "https://localhost:8080/",
     "height": 781
    },
    "id": "m_zITpa5L2OS",
    "outputId": "70ca6230-e86f-4d68-a8a1-427ce8f78097"
   },
   "outputs": [
    {
     "name": "stdout",
     "output_type": "stream",
     "text": [
      "                                    CV scores on Train set\n",
      "================================================================================================\n",
      "  mean_train_score (std_train_score) | mean_valid_score (std_valid_score) |      parameter\n",
      "================================================================================================\n",
      "       0.33825      (   0.031413   ) |      0.33805      (   0.031474   ) | C = 0.001\n",
      "        0.8335      (  0.0023558   ) |      0.78167      (  0.0078551   ) | C = 0.12918\n",
      "       0.84454      (  0.0024514   ) |       0.7817      (  0.0096813   ) | C = 0.25736\n",
      "       0.85076      (  0.0038675   ) |      0.78428      (  0.0084936   ) | C = 0.38554\n",
      "       0.85591      (  0.0044955   ) |      0.78776      (   0.006714   ) | C = 0.51372\n",
      "        0.8617      (  0.0035472   ) |      0.78649      (  0.0037871   ) | C = 0.6419\n",
      "       0.86695      (   0.004003   ) |      0.78232      (  0.0032344   ) | C = 0.77008\n",
      "       0.86963      (  0.0039979   ) |      0.77916      (  0.0040988   ) | C = 0.89826\n",
      "       0.87259      (  0.0039005   ) |      0.77712      (  0.0041396   ) | C = 1.0264\n",
      "       0.87421      (  0.0046343   ) |      0.77354      (  0.0054713   ) | C = 1.1546\n",
      "       0.87687      (  0.0051319   ) |      0.77262      (  0.0071163   ) | C = 1.2828\n",
      "       0.87956      (  0.0045427   ) |      0.77082      (  0.0092777   ) | C = 1.411\n",
      "       0.88198      (   0.003856   ) |      0.76995      (  0.0090625   ) | C = 1.5392\n",
      "       0.88468      (   0.004012   ) |      0.76853      (  0.0090165   ) | C = 1.6673\n",
      "       0.88587      (  0.0043404   ) |       0.7678      (  0.0098627   ) | C = 1.7955\n",
      "       0.88705      (  0.0046769   ) |      0.76707      (  0.0092046   ) | C = 1.9237\n",
      "       0.88865      (  0.0042565   ) |      0.76393      (  0.0097405   ) | C = 2.0519\n",
      "       0.88991      (  0.0048808   ) |      0.76251      (   0.011365   ) | C = 2.1801\n",
      "       0.89075      (  0.0049449   ) |      0.76145      (   0.011739   ) | C = 2.3082\n",
      "       0.89139      (  0.0044745   ) |      0.76086      (   0.011458   ) | C = 2.4364\n",
      "       0.89228      (  0.0046226   ) |       0.7618      (   0.012207   ) | C = 2.5646\n",
      "       0.89354      (  0.0044516   ) |      0.76003      (   0.012362   ) | C = 2.6928\n",
      "       0.89476      (  0.0040131   ) |      0.75938      (   0.012102   ) | C = 2.8209\n",
      "       0.89574      (  0.0044335   ) |      0.75906      (   0.010734   ) | C = 2.9491\n",
      "        0.8963      (  0.0047047   ) |      0.75885      (   0.011206   ) | C = 3.0773\n",
      "       0.89685      (  0.0044656   ) |      0.75709      (  0.0096728   ) | C = 3.2055\n",
      "       0.89725      (  0.0045543   ) |      0.75593      (  0.0089347   ) | C = 3.3337\n",
      "       0.89833      (  0.0045995   ) |      0.75522      (   0.011015   ) | C = 3.4618\n",
      "        0.8994      (  0.0044531   ) |      0.75292      (   0.010077   ) | C = 3.59\n",
      "       0.89989      (  0.0040218   ) |      0.75136      (   0.010003   ) | C = 3.7182\n",
      "       0.90057      (  0.0043234   ) |      0.75121      (   0.010658   ) | C = 3.8464\n",
      "       0.90095      (  0.0043314   ) |      0.75127      (   0.010684   ) | C = 3.9746\n",
      "       0.90133      (  0.0042687   ) |      0.75048      (  0.0097998   ) | C = 4.1027\n",
      "       0.90217      (  0.0040941   ) |      0.74984      (   0.010433   ) | C = 4.2309\n",
      "       0.90295      (  0.0038253   ) |      0.74835      (   0.010458   ) | C = 4.3591\n",
      "       0.90353      (  0.0037514   ) |      0.74837      (   0.011665   ) | C = 4.4873\n",
      "       0.90406      (   0.003537   ) |       0.7486      (   0.010909   ) | C = 4.6155\n",
      "       0.90441      (  0.0034731   ) |      0.74785      (   0.012713   ) | C = 4.7436\n",
      "       0.90471      (   0.003308   ) |      0.74675      (   0.01323    ) | C = 4.8718\n",
      "        0.9051      (   0.003318   ) |      0.74652      (   0.01386    ) | C = 5.0\n"
     ]
    }
   ],
   "source": [
    "cv_output_all(\n",
    "    model=svm_final,\n",
    "    data_X=X_train_tfidf,\n",
    "    data_y=y_train,\n",
    "    parameter_name=\"C\",\n",
    "    params=np.linspace(0.001, 5, 40),\n",
    "    cv_score=\"f1_macro\",\n",
    ")"
   ]
  },
  {
   "cell_type": "markdown",
   "metadata": {
    "id": "rMqNC5ZhL2Oa"
   },
   "source": [
    "## Logistic Regression"
   ]
  },
  {
   "cell_type": "markdown",
   "metadata": {
    "id": "kiDq1hjjL2Oc"
   },
   "source": [
    "### Baseline model."
   ]
  },
  {
   "cell_type": "markdown",
   "metadata": {
    "id": "-SClPCxQL2Od"
   },
   "source": [
    "**Define the model.**"
   ]
  },
  {
   "cell_type": "code",
   "execution_count": 26,
   "metadata": {
    "id": "Y7qU1fsGL2Oe"
   },
   "outputs": [],
   "source": [
    "lr = LogisticRegression(\n",
    "    solver=\"liblinear\", penalty=\"l1\", C=1e3, class_weight=\"balanced\", random_state=13\n",
    ")"
   ]
  },
  {
   "cell_type": "code",
   "execution_count": 27,
   "metadata": {
    "colab": {
     "base_uri": "https://localhost:8080/",
     "height": 0
    },
    "id": "9OW2iztSL2O5",
    "outputId": "1c2df57c-a559-411b-e250-c5f96a4ab7c0"
   },
   "outputs": [
    {
     "data": {
      "text/plain": [
       "LogisticRegression(C=1000.0, class_weight='balanced', dual=False,\n",
       "                   fit_intercept=True, intercept_scaling=1, l1_ratio=None,\n",
       "                   max_iter=100, multi_class='auto', n_jobs=None, penalty='l1',\n",
       "                   random_state=13, solver='liblinear', tol=0.0001, verbose=0,\n",
       "                   warm_start=False)"
      ]
     },
     "execution_count": 27,
     "metadata": {
      "tags": []
     },
     "output_type": "execute_result"
    }
   ],
   "source": [
    "lr.fit(X_train_tfidf, y_train)"
   ]
  },
  {
   "cell_type": "markdown",
   "metadata": {
    "id": "LvK99kNaL2PA"
   },
   "source": [
    "**Evaluate the model, establish a baseline.**"
   ]
  },
  {
   "cell_type": "code",
   "execution_count": 28,
   "metadata": {
    "colab": {
     "base_uri": "https://localhost:8080/",
     "height": 0
    },
    "id": "g0caXhY2L2PF",
    "outputId": "e6a66469-e8d0-41bf-ae98-d80eb9ba78cb"
   },
   "outputs": [
    {
     "name": "stdout",
     "output_type": "stream",
     "text": [
      "f1_score (train set): 0.93245\n",
      "\n",
      "f1_score (test set):  0.73363\n"
     ]
    }
   ],
   "source": [
    "print(\n",
    "    \"f1_score (train set): {:.5}\".format(\n",
    "        f1_score(y_train, lr.predict(X_train_tfidf), average=\"macro\")\n",
    "    )\n",
    ")\n",
    "print(\n",
    "    \"\\nf1_score (test set):  {:.5}\".format(\n",
    "        f1_score(y_test, lr.predict(X_test_tfidf), average=\"macro\")\n",
    "    )\n",
    ")"
   ]
  },
  {
   "cell_type": "code",
   "execution_count": 29,
   "metadata": {
    "colab": {
     "base_uri": "https://localhost:8080/",
     "height": 0
    },
    "id": "a9kwMPO4L2PK",
    "outputId": "16110814-0677-4fd1-eaa5-3a1a5aba5299"
   },
   "outputs": [
    {
     "data": {
      "image/png": "[encoded data removed]",
      "text/plain": [
       "<Figure size 1080x504 with 1 Axes>"
      ]
     },
     "metadata": {
      "tags": []
     },
     "output_type": "display_data"
    }
   ],
   "source": [
    "plot_cv_with_err(\n",
    "    model=lr,\n",
    "    data_X=X_train_tfidf,\n",
    "    data_y=y_train,\n",
    "    parameter_name=\"C\",\n",
    "    params=np.logspace(-2, 2, 10),\n",
    "    cv_score=\"f1_macro\",\n",
    ")\n",
    "plt.xlabel(\"$C$ - coefficient of regularization\")\n",
    "plt.ylabel(\"F1-score\")\n",
    "plt.legend(loc=\"best\")\n",
    "plt.grid(True)"
   ]
  },
  {
   "cell_type": "markdown",
   "metadata": {
    "id": "DXHFtpGwL2PQ"
   },
   "source": [
    "### Hyperparameter optimization."
   ]
  },
  {
   "cell_type": "code",
   "execution_count": 30,
   "metadata": {
    "colab": {
     "base_uri": "https://localhost:8080/",
     "height": 0
    },
    "id": "chkeMw8QL2PR",
    "outputId": "aa3f6123-1164-4919-c6c2-c1b664a3b615"
   },
   "outputs": [
    {
     "name": "stdout",
     "output_type": "stream",
     "text": [
      "Fitting 5 folds for each of 20 candidates, totalling 100 fits\n"
     ]
    },
    {
     "name": "stderr",
     "output_type": "stream",
     "text": [
      "[Parallel(n_jobs=5)]: Using backend LokyBackend with 5 concurrent workers.\n",
      "[Parallel(n_jobs=5)]: Done  40 tasks      | elapsed:    3.9s\n"
     ]
    },
    {
     "name": "stdout",
     "output_type": "stream",
     "text": [
      "CPU times: user 451 ms, sys: 81.8 ms, total: 533 ms\n",
      "Wall time: 6.44 s\n",
      "\n",
      "Best_params: {'C': 0.5994842503189409, 'penalty': 'l2'}, best_score: 0.77906\n"
     ]
    },
    {
     "name": "stderr",
     "output_type": "stream",
     "text": [
      "[Parallel(n_jobs=5)]: Done 100 out of 100 | elapsed:    6.4s finished\n"
     ]
    }
   ],
   "source": [
    "lr_1 = LogisticRegression(solver=\"liblinear\", class_weight=\"balanced\", random_state=13)\n",
    "lr_param_grid_1 = {\"penalty\": [\"l1\", \"l2\"], \"C\": np.logspace(-2, 2, 10)}\n",
    "lr_clf_1 = GridSearchCV(\n",
    "    estimator=lr_1,\n",
    "    cv=kf,\n",
    "    param_grid=lr_param_grid_1,\n",
    "    scoring=\"f1_macro\",\n",
    "    verbose=1,\n",
    "    n_jobs=5,\n",
    ")\n",
    "%time  lr_clf_1.fit(X_train_tfidf, y_train)\n",
    "print(\n",
    "    \"\\nBest_params: {}, best_score: {:.5}\".format(\n",
    "        lr_clf_1.best_params_, lr_clf_1.best_score_\n",
    "    )\n",
    ")"
   ]
  },
  {
   "cell_type": "code",
   "execution_count": 31,
   "metadata": {
    "colab": {
     "base_uri": "https://localhost:8080/",
     "height": 0
    },
    "id": "mV6ZsR_8L2PY",
    "outputId": "e968d2cb-440c-4bac-fd2a-cd94e245e1d9"
   },
   "outputs": [
    {
     "name": "stderr",
     "output_type": "stream",
     "text": [
      "[Parallel(n_jobs=5)]: Using backend LokyBackend with 5 concurrent workers.\n"
     ]
    },
    {
     "name": "stdout",
     "output_type": "stream",
     "text": [
      "Fitting 5 folds for each of 40 candidates, totalling 200 fits\n"
     ]
    },
    {
     "name": "stderr",
     "output_type": "stream",
     "text": [
      "[Parallel(n_jobs=5)]: Done 110 tasks      | elapsed:    1.6s\n"
     ]
    },
    {
     "name": "stdout",
     "output_type": "stream",
     "text": [
      "CPU times: user 582 ms, sys: 26 ms, total: 608 ms\n",
      "Wall time: 2.81 s\n",
      "\n",
      "Best_params: {'C': 0.7701538461538461, 'penalty': 'l2'}, best_score: 0.78031\n"
     ]
    },
    {
     "name": "stderr",
     "output_type": "stream",
     "text": [
      "[Parallel(n_jobs=5)]: Done 191 out of 200 | elapsed:    2.7s remaining:    0.1s\n",
      "[Parallel(n_jobs=5)]: Done 200 out of 200 | elapsed:    2.8s finished\n"
     ]
    }
   ],
   "source": [
    "lr_2 = LogisticRegression(solver=\"liblinear\", class_weight=\"balanced\", random_state=13)\n",
    "lr_param_grid_2 = {\"penalty\": [\"l2\"], \"C\": np.linspace(0.001, 10, 40)}\n",
    "lr_clf_2 = GridSearchCV(\n",
    "    estimator=lr_2,\n",
    "    cv=kf,\n",
    "    param_grid=lr_param_grid_2,\n",
    "    scoring=\"f1_macro\",\n",
    "    verbose=1,\n",
    "    n_jobs=5,\n",
    ")\n",
    "%time  lr_clf_2.fit(X_train_tfidf, y_train)\n",
    "print(\n",
    "    \"\\nBest_params: {}, best_score: {:.5}\".format(\n",
    "        lr_clf_2.best_params_, lr_clf_2.best_score_\n",
    "    )\n",
    ")"
   ]
  },
  {
   "cell_type": "markdown",
   "metadata": {
    "id": "tpJlgHupL2Pf"
   },
   "source": [
    "### Final model."
   ]
  },
  {
   "cell_type": "code",
   "execution_count": 32,
   "metadata": {
    "colab": {
     "base_uri": "https://localhost:8080/",
     "height": 0
    },
    "id": "xEWdIbjeL2Ph",
    "outputId": "09c31fa7-6283-4677-9bd8-a92777c5707e"
   },
   "outputs": [
    {
     "name": "stdout",
     "output_type": "stream",
     "text": [
      "CPU times: user 14.6 ms, sys: 2 µs, total: 14.6 ms\n",
      "Wall time: 21.7 ms\n"
     ]
    },
    {
     "data": {
      "text/plain": [
       "LogisticRegression(C=0.8, class_weight='balanced', dual=False,\n",
       "                   fit_intercept=True, intercept_scaling=1, l1_ratio=None,\n",
       "                   max_iter=100, multi_class='auto', n_jobs=None, penalty='l2',\n",
       "                   random_state=13, solver='liblinear', tol=0.0001, verbose=0,\n",
       "                   warm_start=False)"
      ]
     },
     "execution_count": 32,
     "metadata": {
      "tags": []
     },
     "output_type": "execute_result"
    }
   ],
   "source": [
    "lr_final = LogisticRegression(\n",
    "    C=0.8, penalty=\"l2\", solver=\"liblinear\", class_weight=\"balanced\", random_state=13\n",
    ")\n",
    "%time lr_final.fit(X_train_tfidf, y_train)"
   ]
  },
  {
   "cell_type": "markdown",
   "metadata": {
    "id": "tQj7U2BrL2Po"
   },
   "source": [
    "**Evaluate the model.**"
   ]
  },
  {
   "cell_type": "code",
   "execution_count": 33,
   "metadata": {
    "colab": {
     "base_uri": "https://localhost:8080/",
     "height": 0
    },
    "id": "d90iI7mQL2Pq",
    "outputId": "5317bc4b-0be1-4971-e749-c5136b439fe1"
   },
   "outputs": [
    {
     "name": "stdout",
     "output_type": "stream",
     "text": [
      "f1_score (train set): 0.85114\n",
      "\n",
      "f1_score (test set):  0.7911\n"
     ]
    }
   ],
   "source": [
    "print(\n",
    "    \"f1_score (train set): {:.5}\".format(\n",
    "        f1_score(y_train, lr_final.predict(X_train_tfidf), average=\"macro\")\n",
    "    )\n",
    ")\n",
    "print(\n",
    "    \"\\nf1_score (test set):  {:.5}\".format(\n",
    "        f1_score(y_test, lr_final.predict(X_test_tfidf), average=\"macro\")\n",
    "    )\n",
    ")"
   ]
  },
  {
   "cell_type": "code",
   "execution_count": 34,
   "metadata": {
    "colab": {
     "base_uri": "https://localhost:8080/",
     "height": 0
    },
    "id": "nGwO0RpsL2Pv",
    "outputId": "8e660893-54bd-48da-9ea4-a8725d9a6e20"
   },
   "outputs": [
    {
     "data": {
      "image/png": "[encoded data removed]",
      "text/plain": [
       "<Figure size 1080x504 with 1 Axes>"
      ]
     },
     "metadata": {
      "tags": []
     },
     "output_type": "display_data"
    }
   ],
   "source": [
    "plot_cv_with_err(\n",
    "    model=lr_final,\n",
    "    data_X=X_train_tfidf,\n",
    "    data_y=y_train,\n",
    "    parameter_name=\"C\",\n",
    "    params=np.logspace(-2, 2, 10),\n",
    "    cv_score=\"f1_macro\",\n",
    ")\n",
    "plt.xlabel(\"$C$ - coefficient of regularization\")\n",
    "plt.ylabel(\"F1-score\")\n",
    "plt.legend(loc=\"best\")\n",
    "plt.grid(True)"
   ]
  },
  {
   "cell_type": "markdown",
   "metadata": {
    "id": "9HGWysR3L2P0"
   },
   "source": [
    "Training and validation errors differ significantly. Our model tend to be overfitted."
   ]
  },
  {
   "cell_type": "code",
   "execution_count": 35,
   "metadata": {
    "colab": {
     "base_uri": "https://localhost:8080/",
     "height": 0
    },
    "id": "Qycg9N5oL2P3",
    "outputId": "c0f5fef8-3a21-46a7-e68d-38e720c4e027"
   },
   "outputs": [
    {
     "name": "stdout",
     "output_type": "stream",
     "text": [
      "                                    CV scores on Train set\n",
      "================================================================================================\n",
      "  mean_train_score (std_train_score) | mean_valid_score (std_valid_score) |      parameter\n",
      "================================================================================================\n",
      "       0.81429      (   0.00362    ) |      0.76315      (  0.0058776   ) | C = 0.001\n",
      "       0.83138      (  0.0022698   ) |      0.77896      (  0.0057639   ) | C = 0.12918\n",
      "       0.84041      (  0.0021325   ) |      0.77904      (  0.0060278   ) | C = 0.25736\n",
      "        0.8453      (   0.002436   ) |       0.7794      (  0.0066978   ) | C = 0.38554\n",
      "       0.84912      (  0.0028472   ) |      0.77816      (  0.0063946   ) | C = 0.51372\n",
      "       0.85236      (  0.0027581   ) |      0.77963      (  0.0066603   ) | C = 0.6419\n",
      "       0.85513      (  0.0028076   ) |      0.78031      (  0.0058365   ) | C = 0.77008\n",
      "       0.85779      (   0.002839   ) |      0.77992      (  0.0075228   ) | C = 0.89826\n",
      "       0.86089      (  0.0034532   ) |      0.77969      (  0.0079346   ) | C = 1.0264\n",
      "        0.8629      (  0.0033621   ) |      0.77759      (  0.0086441   ) | C = 1.1546\n",
      "       0.86509      (   0.00375    ) |      0.77545      (  0.0086882   ) | C = 1.2828\n",
      "       0.86696      (   0.00329    ) |      0.77684      (  0.0088261   ) | C = 1.411\n",
      "       0.86881      (  0.0030617   ) |      0.77627      (  0.0082205   ) | C = 1.5392\n",
      "       0.87024      (   0.003695   ) |       0.7763      (  0.0086949   ) | C = 1.6673\n",
      "       0.87141      (  0.0035757   ) |      0.77611      (  0.0089191   ) | C = 1.7955\n",
      "       0.87271      (  0.0034286   ) |       0.7761      (  0.0085961   ) | C = 1.9237\n",
      "       0.87392      (  0.0030751   ) |      0.77496      (  0.0070874   ) | C = 2.0519\n",
      "       0.87528      (  0.0025591   ) |      0.77473      (  0.0077631   ) | C = 2.1801\n",
      "       0.87666      (   0.002544   ) |      0.77472      (  0.0074223   ) | C = 2.3082\n",
      "       0.87789      (  0.0030226   ) |      0.77377      (  0.0074033   ) | C = 2.4364\n",
      "       0.87872      (  0.0031626   ) |      0.77316      (  0.0080005   ) | C = 2.5646\n",
      "       0.88006      (  0.0036342   ) |       0.7728      (  0.0083644   ) | C = 2.6928\n",
      "       0.88089      (  0.0037064   ) |      0.77244      (  0.0085459   ) | C = 2.8209\n",
      "       0.88173      (  0.0038875   ) |       0.7721      (  0.0078533   ) | C = 2.9491\n",
      "        0.8833      (  0.0041808   ) |       0.7711      (  0.0081097   ) | C = 3.0773\n",
      "       0.88433      (  0.0043025   ) |      0.77047      (  0.0087265   ) | C = 3.2055\n",
      "       0.88525      (  0.0041011   ) |      0.76954      (  0.0088988   ) | C = 3.3337\n",
      "       0.88614      (   0.00365    ) |      0.76935      (  0.0081561   ) | C = 3.4618\n",
      "       0.88678      (  0.0041431   ) |      0.76976      (  0.0088139   ) | C = 3.59\n",
      "       0.88761      (  0.0040516   ) |      0.76921      (  0.0085793   ) | C = 3.7182\n",
      "       0.88834      (   0.004053   ) |      0.76882      (  0.0083055   ) | C = 3.8464\n",
      "       0.88913      (  0.0040704   ) |      0.76845      (  0.0084629   ) | C = 3.9746\n",
      "       0.88996      (  0.0038166   ) |      0.76941      (  0.0087924   ) | C = 4.1027\n",
      "       0.89065      (  0.0040205   ) |      0.76825      (  0.0093167   ) | C = 4.2309\n",
      "       0.89139      (  0.0040278   ) |      0.76776      (  0.0088728   ) | C = 4.3591\n",
      "        0.8922      (  0.0038004   ) |      0.76743      (  0.0089737   ) | C = 4.4873\n",
      "       0.89269      (  0.0035707   ) |      0.76776      (  0.0097249   ) | C = 4.6155\n",
      "       0.89328      (  0.0035833   ) |      0.76853      (  0.0099361   ) | C = 4.7436\n",
      "       0.89362      (  0.0037761   ) |      0.76794      (   0.01015    ) | C = 4.8718\n",
      "        0.8942      (  0.0034985   ) |      0.76752      (  0.0098919   ) | C = 5.0\n"
     ]
    }
   ],
   "source": [
    "cv_output_all(\n",
    "    model=lr_final,\n",
    "    data_X=X_train_tfidf,\n",
    "    data_y=y_train,\n",
    "    parameter_name=\"C\",\n",
    "    params=np.linspace(0.001, 5, 40),\n",
    "    cv_score=\"f1_macro\",\n",
    ")"
   ]
  },
  {
   "cell_type": "markdown",
   "metadata": {
    "id": "tefOrv_gL2P8"
   },
   "source": [
    "## Naive Bayes Classifier\n",
    "\n",
    "The Naive Bayes algorithm has proven effective for text classification tasks. When the words in a document are encoded as frequency (tf-idf), input vectors Gaussian probability distribution is used."
   ]
  },
  {
   "cell_type": "markdown",
   "metadata": {
    "id": "Gf6V0HmhL2P9"
   },
   "source": [
    "### Baseline model."
   ]
  },
  {
   "cell_type": "markdown",
   "metadata": {
    "id": "TtxlB3POL2P_"
   },
   "source": [
    "**Define the model.**"
   ]
  },
  {
   "cell_type": "code",
   "execution_count": 36,
   "metadata": {
    "id": "dKKmtYwtL2QA"
   },
   "outputs": [],
   "source": [
    "nb = GaussianNB(priors=None, var_smoothing=1e-09)"
   ]
  },
  {
   "cell_type": "code",
   "execution_count": 37,
   "metadata": {
    "colab": {
     "base_uri": "https://localhost:8080/",
     "height": 0
    },
    "id": "cOfRuj3OL2QE",
    "outputId": "bac1f5bc-c418-4705-a5a6-2b50fafea1ed"
   },
   "outputs": [
    {
     "data": {
      "text/plain": [
       "GaussianNB(priors=None, var_smoothing=1e-09)"
      ]
     },
     "execution_count": 37,
     "metadata": {
      "tags": []
     },
     "output_type": "execute_result"
    }
   ],
   "source": [
    "nb.fit(X_train_tfidf.toarray(), y_train)"
   ]
  },
  {
   "cell_type": "markdown",
   "metadata": {
    "id": "xE8xXxm6L2QK"
   },
   "source": [
    "**Evaluate the model, establish a baseline.**"
   ]
  },
  {
   "cell_type": "code",
   "execution_count": 38,
   "metadata": {
    "colab": {
     "base_uri": "https://localhost:8080/",
     "height": 0
    },
    "id": "_gP1FjVlL2QL",
    "outputId": "14e81847-4d66-4b16-ec10-44f1dd4e2bae"
   },
   "outputs": [
    {
     "name": "stdout",
     "output_type": "stream",
     "text": [
      "f1_score (train set): 0.82342\n",
      "\n",
      "f1_score (test set):  0.76367\n"
     ]
    }
   ],
   "source": [
    "print(\n",
    "    \"f1_score (train set): {:.5}\".format(\n",
    "        f1_score(y_train, nb.predict(X_train_tfidf.toarray()), average=\"macro\")\n",
    "    )\n",
    ")\n",
    "print(\n",
    "    \"\\nf1_score (test set):  {:.5}\".format(\n",
    "        f1_score(y_test, nb.predict(X_test_tfidf.toarray()), average=\"macro\")\n",
    "    )\n",
    ")"
   ]
  },
  {
   "cell_type": "markdown",
   "metadata": {
    "id": "6Mtm3oYmL2QP"
   },
   "source": [
    "### Hyperparameter optimization."
   ]
  },
  {
   "cell_type": "code",
   "execution_count": 39,
   "metadata": {
    "colab": {
     "base_uri": "https://localhost:8080/",
     "height": 0
    },
    "id": "7ZRdC9dBL2Q2",
    "outputId": "4a802e62-b0cb-48a0-a479-74720c36e9d9"
   },
   "outputs": [
    {
     "name": "stdout",
     "output_type": "stream",
     "text": [
      "Fitting 5 folds for each of 40 candidates, totalling 200 fits\n"
     ]
    },
    {
     "name": "stderr",
     "output_type": "stream",
     "text": [
      "[Parallel(n_jobs=5)]: Using backend LokyBackend with 5 concurrent workers.\n",
      "[Parallel(n_jobs=5)]: Done  40 tasks      | elapsed:    5.4s\n",
      "[Parallel(n_jobs=5)]: Done 190 tasks      | elapsed:   24.2s\n",
      "[Parallel(n_jobs=5)]: Done 200 out of 200 | elapsed:   25.4s finished\n"
     ]
    },
    {
     "name": "stdout",
     "output_type": "stream",
     "text": [
      "CPU times: user 1.34 s, sys: 79 ms, total: 1.42 s\n",
      "Wall time: 25.6 s\n",
      "\n",
      "Best_params: {'var_smoothing': 2.051282052025641}, best_score: 0.7807\n"
     ]
    }
   ],
   "source": [
    "nb_param_grid = {\"var_smoothing\": np.linspace(1e-09, 8, 40)}\n",
    "nb_clf = GridSearchCV(\n",
    "    estimator=nb,\n",
    "    cv=kf,\n",
    "    param_grid=nb_param_grid,\n",
    "    scoring=\"f1_macro\",\n",
    "    verbose=1,\n",
    "    n_jobs=5,\n",
    ")\n",
    "%time  nb_clf.fit(X_train_tfidf.toarray(), y_train)\n",
    "print(\n",
    "    \"\\nBest_params: {}, best_score: {:.5}\".format(\n",
    "        nb_clf.best_params_, nb_clf.best_score_\n",
    "    )\n",
    ")"
   ]
  },
  {
   "cell_type": "markdown",
   "metadata": {
    "id": "NTFxZZyKL2RD"
   },
   "source": [
    "### Final model."
   ]
  },
  {
   "cell_type": "code",
   "execution_count": 40,
   "metadata": {
    "colab": {
     "base_uri": "https://localhost:8080/",
     "height": 69
    },
    "id": "g2FQNM8BL2RF",
    "outputId": "35b0fc30-54b7-4326-c87d-d629fa541a07"
   },
   "outputs": [
    {
     "name": "stdout",
     "output_type": "stream",
     "text": [
      "CPU times: user 141 ms, sys: 994 µs, total: 142 ms\n",
      "Wall time: 146 ms\n"
     ]
    },
    {
     "data": {
      "text/plain": [
       "GaussianNB(priors=None, var_smoothing=2)"
      ]
     },
     "execution_count": 40,
     "metadata": {
      "tags": []
     },
     "output_type": "execute_result"
    }
   ],
   "source": [
    "nb_final = GaussianNB(priors=None, var_smoothing=2)\n",
    "%time nb_final.fit(X_train_tfidf.toarray(), y_train)"
   ]
  },
  {
   "cell_type": "markdown",
   "metadata": {
    "id": "piTNzC9sL2Rp"
   },
   "source": [
    "**Evaluate the model.**"
   ]
  },
  {
   "cell_type": "code",
   "execution_count": 41,
   "metadata": {
    "colab": {
     "base_uri": "https://localhost:8080/",
     "height": 69
    },
    "id": "r-b08664L2Rr",
    "outputId": "7acc52da-36da-4e53-f5b6-f22a8ae63de2"
   },
   "outputs": [
    {
     "name": "stdout",
     "output_type": "stream",
     "text": [
      "f1_score (train set): 0.82675\n",
      "\n",
      "f1_score (test set):  0.77841\n"
     ]
    }
   ],
   "source": [
    "print(\n",
    "    \"f1_score (train set): {:.5}\".format(\n",
    "        f1_score(y_train, nb_final.predict(X_train_tfidf.toarray()), average=\"macro\")\n",
    "    )\n",
    ")\n",
    "print(\n",
    "    \"\\nf1_score (test set):  {:.5}\".format(\n",
    "        f1_score(y_test, nb_final.predict(X_test_tfidf.toarray()), average=\"macro\")\n",
    "    )\n",
    ")"
   ]
  },
  {
   "cell_type": "code",
   "execution_count": 62,
   "metadata": {
    "colab": {
     "base_uri": "https://localhost:8080/",
     "height": 448
    },
    "id": "kfFcxO7iL2SA",
    "outputId": "047af970-0b39-40b7-8268-23d88ccfb4e2"
   },
   "outputs": [
    {
     "data": {
      "image/png": "[encoded data removed]",
      "text/plain": [
       "<Figure size 1080x504 with 1 Axes>"
      ]
     },
     "metadata": {
      "tags": []
     },
     "output_type": "display_data"
    }
   ],
   "source": [
    "plot_cv_with_err(\n",
    "    model=nb_final,\n",
    "    data_X=X_train_tfidf.toarray(),\n",
    "    data_y=y_train,\n",
    "    parameter_name=\"var_smoothing\",\n",
    "    params=np.linspace(1e-09, 8, 40),\n",
    "    cv_score=\"f1_macro\",\n",
    ")\n",
    "plt.xlabel(\"var_smoothing\")\n",
    "plt.ylabel(\"F1-score\")\n",
    "plt.legend(loc=\"best\")\n",
    "plt.grid(True)"
   ]
  },
  {
   "cell_type": "code",
   "execution_count": 43,
   "metadata": {
    "colab": {
     "base_uri": "https://localhost:8080/",
     "height": 781
    },
    "id": "i6QYKTT0L2SJ",
    "outputId": "37da9529-5e65-49b6-f648-2ea9e5794d0f"
   },
   "outputs": [
    {
     "name": "stdout",
     "output_type": "stream",
     "text": [
      "                                    CV scores on Train set\n",
      "================================================================================================\n",
      "  mean_train_score (std_train_score) | mean_valid_score (std_valid_score) |      parameter\n",
      "================================================================================================\n",
      "       0.84188      (   0.005243   ) |      0.74016      (  0.0065742   ) | var_smoothing = 1e-09\n",
      "        0.8479      (  0.0015735   ) |      0.77682      (  0.0073518   ) | var_smoothing = 0.20513\n",
      "       0.84573      (  0.0015304   ) |      0.77987      (  0.0082466   ) | var_smoothing = 0.41026\n",
      "       0.84344      (  0.0019265   ) |       0.7799      (  0.0065162   ) | var_smoothing = 0.61538\n",
      "       0.84164      (  0.0020097   ) |      0.77773      (  0.0066652   ) | var_smoothing = 0.82051\n",
      "       0.84063      (  0.0030822   ) |       0.7777      (  0.0065001   ) | var_smoothing = 1.0256\n",
      "       0.83913      (  0.0033066   ) |      0.77679      (  0.0060131   ) | var_smoothing = 1.2308\n",
      "       0.83852      (   0.00368    ) |      0.77724      (  0.0057626   ) | var_smoothing = 1.4359\n",
      "       0.83696      (  0.0040484   ) |      0.77766      (  0.0061051   ) | var_smoothing = 1.641\n",
      "       0.83545      (  0.0045219   ) |      0.77866      (  0.0073929   ) | var_smoothing = 1.8462\n",
      "       0.83425      (  0.0037348   ) |       0.7807      (  0.0059863   ) | var_smoothing = 2.0513\n",
      "        0.8328      (  0.0044204   ) |       0.7792      (  0.0044145   ) | var_smoothing = 2.2564\n",
      "       0.83155      (  0.0043822   ) |      0.78004      (  0.0069396   ) | var_smoothing = 2.4615\n",
      "       0.82936      (  0.0041618   ) |      0.77821      (   0.007652   ) | var_smoothing = 2.6667\n",
      "       0.82761      (  0.0037104   ) |      0.77588      (   0.008924   ) | var_smoothing = 2.8718\n",
      "       0.82702      (  0.0043702   ) |      0.77319      (  0.0090378   ) | var_smoothing = 3.0769\n",
      "       0.82442      (  0.0046652   ) |      0.77203      (  0.0098981   ) | var_smoothing = 3.2821\n",
      "       0.82244      (  0.0054467   ) |      0.77128      (   0.010241   ) | var_smoothing = 3.4872\n",
      "       0.81911      (  0.0065551   ) |      0.76918      (   0.011008   ) | var_smoothing = 3.6923\n",
      "       0.81623      (  0.0067676   ) |      0.76478      (  0.0087636   ) | var_smoothing = 3.8974\n",
      "       0.81238      (  0.0082208   ) |      0.76183      (  0.0086308   ) | var_smoothing = 4.1026\n",
      "       0.80824      (  0.0086439   ) |      0.75904      (   0.010051   ) | var_smoothing = 4.3077\n",
      "       0.80385      (  0.0088955   ) |      0.75762      (  0.0089915   ) | var_smoothing = 4.5128\n",
      "       0.79874      (  0.0094717   ) |      0.75188      (   0.009448   ) | var_smoothing = 4.7179\n",
      "       0.79405      (   0.010033   ) |      0.74874      (   0.011265   ) | var_smoothing = 4.9231\n",
      "        0.7899      (   0.010065   ) |      0.74176      (   0.01268    ) | var_smoothing = 5.1282\n",
      "       0.78502      (   0.011477   ) |      0.73708      (   0.013449   ) | var_smoothing = 5.3333\n",
      "       0.77832      (   0.01476    ) |      0.73249      (   0.01527    ) | var_smoothing = 5.5385\n",
      "       0.77233      (   0.016956   ) |      0.72735      (   0.012932   ) | var_smoothing = 5.7436\n",
      "       0.76657      (   0.016921   ) |      0.72012      (   0.012696   ) | var_smoothing = 5.9487\n",
      "       0.76011      (   0.01786    ) |      0.71138      (   0.011438   ) | var_smoothing = 6.1538\n",
      "       0.75354      (   0.018993   ) |      0.70129      (   0.012936   ) | var_smoothing = 6.359\n",
      "       0.74418      (   0.020203   ) |      0.69031      (   0.014452   ) | var_smoothing = 6.5641\n",
      "       0.73551      (   0.020822   ) |      0.68336      (   0.014175   ) | var_smoothing = 6.7692\n",
      "       0.72717      (   0.02199    ) |      0.67506      (   0.01433    ) | var_smoothing = 6.9744\n",
      "       0.71707      (   0.024845   ) |      0.66261      (   0.017024   ) | var_smoothing = 7.1795\n",
      "       0.70674      (   0.026154   ) |      0.65201      (   0.021037   ) | var_smoothing = 7.3846\n",
      "       0.69716      (   0.029138   ) |      0.64379      (   0.02051    ) | var_smoothing = 7.5897\n",
      "       0.68489      (   0.029117   ) |      0.63342      (    0.0197    ) | var_smoothing = 7.7949\n",
      "       0.67294      (   0.03071    ) |      0.62431      (   0.020164   ) | var_smoothing = 8.0\n"
     ]
    }
   ],
   "source": [
    "cv_output_all(\n",
    "    model=nb_final,\n",
    "    data_X=X_train_tfidf.toarray(),\n",
    "    data_y=y_train,\n",
    "    parameter_name=\"var_smoothing\",\n",
    "    params=np.linspace(1e-09, 8, 40),\n",
    "    cv_score=\"f1_macro\",\n",
    ")"
   ]
  },
  {
   "cell_type": "markdown",
   "metadata": {
    "id": "0oJHNLFOL2SU"
   },
   "source": [
    "\n",
    "## XGBoost Classifier"
   ]
  },
  {
   "cell_type": "markdown",
   "metadata": {
    "id": "MoUSzaOjL2SV"
   },
   "source": [
    "### Baseline model."
   ]
  },
  {
   "cell_type": "markdown",
   "metadata": {
    "id": "S-61Bdy3L2SW"
   },
   "source": [
    "Before any modification or tuning is made to the XGBoost algorithm for imbalanced classification, it is important to test the default XGBoost model and **establish a baseline in performance**."
   ]
  },
  {
   "cell_type": "markdown",
   "metadata": {
    "id": "Gvt9JlepL2SY"
   },
   "source": [
    "**Define the model.**"
   ]
  },
  {
   "cell_type": "code",
   "execution_count": 44,
   "metadata": {
    "id": "-eQ0m6YtL2SY"
   },
   "outputs": [],
   "source": [
    "xgb = XGBClassifier(objective=\"binary:logistic\", booster=\"gbtree\", random_state=13)"
   ]
  },
  {
   "cell_type": "markdown",
   "metadata": {
    "id": "pINbR3UzL2Sg"
   },
   "source": [
    "**Fit the model (optimize model loss function).**"
   ]
  },
  {
   "cell_type": "code",
   "execution_count": 45,
   "metadata": {
    "colab": {
     "base_uri": "https://localhost:8080/",
     "height": 0
    },
    "id": "FhlcGervL2Sh",
    "outputId": "93324767-97ed-4cdb-b277-d12b9bf13239"
   },
   "outputs": [
    {
     "data": {
      "text/plain": [
       "XGBClassifier(base_score=0.5, booster='gbtree', colsample_bylevel=1,\n",
       "              colsample_bynode=1, colsample_bytree=1, gamma=0,\n",
       "              learning_rate=0.1, max_delta_step=0, max_depth=3,\n",
       "              min_child_weight=1, missing=None, n_estimators=100, n_jobs=1,\n",
       "              nthread=None, objective='binary:logistic', random_state=13,\n",
       "              reg_alpha=0, reg_lambda=1, scale_pos_weight=1, seed=None,\n",
       "              silent=None, subsample=1, verbosity=1)"
      ]
     },
     "execution_count": 45,
     "metadata": {
      "tags": []
     },
     "output_type": "execute_result"
    }
   ],
   "source": [
    "xgb.fit(X_train_tfidf, y_train)"
   ]
  },
  {
   "cell_type": "markdown",
   "metadata": {
    "id": "9TC_ZUHoL2Sl"
   },
   "source": [
    "**Evaluate the model, establish a baseline.**"
   ]
  },
  {
   "cell_type": "code",
   "execution_count": 46,
   "metadata": {
    "colab": {
     "base_uri": "https://localhost:8080/",
     "height": 0
    },
    "id": "pt4TBhHML2Sm",
    "outputId": "a79b41c5-6347-4338-8d03-ed0e8032c6fc"
   },
   "outputs": [
    {
     "name": "stdout",
     "output_type": "stream",
     "text": [
      "f1_score (train set): 0.72722\n",
      "\n",
      "f1_score (test set):  0.71465\n"
     ]
    }
   ],
   "source": [
    "print(\n",
    "    \"f1_score (train set): {:.5}\".format(\n",
    "        f1_score(y_train, xgb.predict(X_train_tfidf), average=\"macro\")\n",
    "    )\n",
    ")\n",
    "print(\n",
    "    \"\\nf1_score (test set):  {:.5}\".format(\n",
    "        f1_score(y_test, xgb.predict(X_test_tfidf), average=\"macro\")\n",
    "    )\n",
    ")"
   ]
  },
  {
   "cell_type": "markdown",
   "metadata": {
    "id": "FgqoQTKML2Ss"
   },
   "source": [
    "### Hyperparameter optimization."
   ]
  },
  {
   "cell_type": "markdown",
   "metadata": {
    "id": "nkJIYeBTL2St"
   },
   "source": [
    "**Imbalanced Classification.**\n",
    "\n",
    "The *scale_pos_weight* can be used to train a class-weighted or cost-sensitive version of XGBoost for imbalanced classification.\n",
    "\n",
    "- scale_pos_weight = total_negative_examples / total_positive_examples"
   ]
  },
  {
   "cell_type": "code",
   "execution_count": 47,
   "metadata": {
    "colab": {
     "base_uri": "https://localhost:8080/",
     "height": 0
    },
    "id": "L6_uUshqL2Su",
    "outputId": "fb274969-ce74-4d0a-b99d-d170b2c2d127"
   },
   "outputs": [
    {
     "name": "stdout",
     "output_type": "stream",
     "text": [
      "scale_pos_weight: 1.336\n"
     ]
    }
   ],
   "source": [
    "counter = Counter(y_train)\n",
    "estimate = counter[0] / counter[1]\n",
    "print(\"scale_pos_weight: %.3f\" % estimate)"
   ]
  },
  {
   "cell_type": "code",
   "execution_count": 48,
   "metadata": {
    "colab": {
     "base_uri": "https://localhost:8080/",
     "height": 0
    },
    "id": "4hLXQCK9L2S0",
    "outputId": "c86967a0-410e-4174-ce1f-b850db68333f"
   },
   "outputs": [
    {
     "data": {
      "text/plain": [
       "XGBClassifier(base_score=0.5, booster='gbtree', colsample_bylevel=1,\n",
       "              colsample_bynode=1, colsample_bytree=0.9, gamma=0,\n",
       "              learning_rate=0.26, max_delta_step=0, max_depth=7,\n",
       "              min_child_weight=1, missing=None, n_estimators=100, n_jobs=1,\n",
       "              nthread=None, objective='binary:logistic', random_state=13,\n",
       "              reg_alpha=0.1, reg_lambda=0.01, scale_pos_weight=1.336, seed=None,\n",
       "              silent=None, subsample=0.85, verbosity=1)"
      ]
     },
     "execution_count": 48,
     "metadata": {
      "tags": []
     },
     "output_type": "execute_result"
    }
   ],
   "source": [
    "xgb_1 = XGBClassifier(\n",
    "    scale_pos_weight=1.336,\n",
    "    learning_rate=0.26,\n",
    "    max_depth=7,\n",
    "    min_child_weight=1,\n",
    "    gamma=0,\n",
    "    colsample_bytree=0.9,\n",
    "    subsample=0.85,\n",
    "    reg_alpha=0.1,\n",
    "    reg_lambda=0.01,\n",
    "    objective=\"binary:logistic\",\n",
    "    booster=\"gbtree\",\n",
    "    random_state=13,\n",
    ")\n",
    "xgb_1.fit(X_train_tfidf, y_train)"
   ]
  },
  {
   "cell_type": "code",
   "execution_count": 49,
   "metadata": {
    "colab": {
     "base_uri": "https://localhost:8080/",
     "height": 0
    },
    "id": "OJBdLEfvL2S7",
    "outputId": "4fc79766-9692-4aa2-adf2-e6f2407a3565"
   },
   "outputs": [
    {
     "name": "stdout",
     "output_type": "stream",
     "text": [
      "f1_score (train set): 0.883\n",
      "\n",
      "f1_score (test set):  0.78074\n"
     ]
    }
   ],
   "source": [
    "print(\n",
    "    \"f1_score (train set): {:.5}\".format(\n",
    "        f1_score(y_train, xgb_1.predict(X_train_tfidf), average=\"macro\")\n",
    "    )\n",
    ")\n",
    "print(\n",
    "    \"\\nf1_score (test set):  {:.5}\".format(\n",
    "        f1_score(y_test, xgb_1.predict(X_test_tfidf), average=\"macro\")\n",
    "    )\n",
    ")"
   ]
  },
  {
   "cell_type": "markdown",
   "metadata": {
    "id": "Bo76KlPtL2S_"
   },
   "source": [
    "**Early Stopping to Avoid Overfitting.**\n",
    "\n",
    "It avoids overfitting by attempting to automatically select the inflection point, where **performance on the test dataset starts to decrease**, while **performance on the training dataset continues to improve** as the model starts to overfit."
   ]
  },
  {
   "cell_type": "code",
   "execution_count": 50,
   "metadata": {
    "colab": {
     "base_uri": "https://localhost:8080/",
     "height": 0
    },
    "id": "eDbP0mRJL2TB",
    "outputId": "64d24517-25a7-463b-b7cc-aacacde52eff"
   },
   "outputs": [
    {
     "name": "stdout",
     "output_type": "stream",
     "text": [
      "[0]\tvalidation_0-error:0.347419\tvalidation_0-logloss:0.670818\tvalidation_1-error:0.368815\tvalidation_1-logloss:0.677656\n",
      "[1]\tvalidation_0-error:0.317073\tvalidation_0-logloss:0.652814\tvalidation_1-error:0.340621\tvalidation_1-logloss:0.664389\n",
      "[2]\tvalidation_0-error:0.298355\tvalidation_0-logloss:0.640037\tvalidation_1-error:0.324511\tvalidation_1-logloss:0.654833\n",
      "[3]\tvalidation_0-error:0.285593\tvalidation_0-logloss:0.628343\tvalidation_1-error:0.314154\tvalidation_1-logloss:0.647401\n",
      "[4]\tvalidation_0-error:0.268293\tvalidation_0-logloss:0.616455\tvalidation_1-error:0.303222\tvalidation_1-logloss:0.638565\n",
      "[5]\tvalidation_0-error:0.258083\tvalidation_0-logloss:0.60567\tvalidation_1-error:0.288838\tvalidation_1-logloss:0.632085\n",
      "[6]\tvalidation_0-error:0.246739\tvalidation_0-logloss:0.597217\tvalidation_1-error:0.285385\tvalidation_1-logloss:0.627345\n",
      "[7]\tvalidation_0-error:0.239932\tvalidation_0-logloss:0.588743\tvalidation_1-error:0.279632\tvalidation_1-logloss:0.620196\n",
      "[8]\tvalidation_0-error:0.229438\tvalidation_0-logloss:0.581167\tvalidation_1-error:0.270426\tvalidation_1-logloss:0.613778\n",
      "[9]\tvalidation_0-error:0.221781\tvalidation_0-logloss:0.574529\tvalidation_1-error:0.267549\tvalidation_1-logloss:0.609805\n",
      "[10]\tvalidation_0-error:0.217243\tvalidation_0-logloss:0.568129\tvalidation_1-error:0.266398\tvalidation_1-logloss:0.605509\n",
      "[11]\tvalidation_0-error:0.211855\tvalidation_0-logloss:0.562092\tvalidation_1-error:0.264097\tvalidation_1-logloss:0.603605\n",
      "[12]\tvalidation_0-error:0.206466\tvalidation_0-logloss:0.555835\tvalidation_1-error:0.262946\tvalidation_1-logloss:0.600059\n",
      "[13]\tvalidation_0-error:0.201078\tvalidation_0-logloss:0.550054\tvalidation_1-error:0.256617\tvalidation_1-logloss:0.59655\n",
      "[14]\tvalidation_0-error:0.19654\tvalidation_0-logloss:0.544548\tvalidation_1-error:0.254315\tvalidation_1-logloss:0.593662\n",
      "[15]\tvalidation_0-error:0.193704\tvalidation_0-logloss:0.538228\tvalidation_1-error:0.255466\tvalidation_1-logloss:0.589794\n",
      "[16]\tvalidation_0-error:0.190017\tvalidation_0-logloss:0.532879\tvalidation_1-error:0.251438\tvalidation_1-logloss:0.585839\n",
      "[17]\tvalidation_0-error:0.185196\tvalidation_0-logloss:0.527339\tvalidation_1-error:0.249137\tvalidation_1-logloss:0.582824\n",
      "[18]\tvalidation_0-error:0.178389\tvalidation_0-logloss:0.521872\tvalidation_1-error:0.243959\tvalidation_1-logloss:0.579117\n",
      "[19]\tvalidation_0-error:0.176404\tvalidation_0-logloss:0.51704\tvalidation_1-error:0.243383\tvalidation_1-logloss:0.576121\n",
      "[20]\tvalidation_0-error:0.174702\tvalidation_0-logloss:0.51258\tvalidation_1-error:0.246835\tvalidation_1-logloss:0.573325\n",
      "[21]\tvalidation_0-error:0.170164\tvalidation_0-logloss:0.508157\tvalidation_1-error:0.243383\tvalidation_1-logloss:0.570265\n",
      "[22]\tvalidation_0-error:0.16903\tvalidation_0-logloss:0.503471\tvalidation_1-error:0.243959\tvalidation_1-logloss:0.568474\n",
      "[23]\tvalidation_0-error:0.16506\tvalidation_0-logloss:0.498842\tvalidation_1-error:0.252014\tvalidation_1-logloss:0.567239\n",
      "[24]\tvalidation_0-error:0.162791\tvalidation_0-logloss:0.495425\tvalidation_1-error:0.251438\tvalidation_1-logloss:0.56574\n",
      "[25]\tvalidation_0-error:0.160238\tvalidation_0-logloss:0.490675\tvalidation_1-error:0.250288\tvalidation_1-logloss:0.563441\n",
      "[26]\tvalidation_0-error:0.159387\tvalidation_0-logloss:0.487357\tvalidation_1-error:0.249137\tvalidation_1-logloss:0.563113\n",
      "[27]\tvalidation_0-error:0.157969\tvalidation_0-logloss:0.483854\tvalidation_1-error:0.243383\tvalidation_1-logloss:0.560228\n",
      "[28]\tvalidation_0-error:0.159955\tvalidation_0-logloss:0.48006\tvalidation_1-error:0.243383\tvalidation_1-logloss:0.557722\n",
      "[29]\tvalidation_0-error:0.157119\tvalidation_0-logloss:0.476225\tvalidation_1-error:0.239931\tvalidation_1-logloss:0.556426\n",
      "[30]\tvalidation_0-error:0.157119\tvalidation_0-logloss:0.472607\tvalidation_1-error:0.240506\tvalidation_1-logloss:0.554162\n",
      "[31]\tvalidation_0-error:0.15485\tvalidation_0-logloss:0.469543\tvalidation_1-error:0.237629\tvalidation_1-logloss:0.551342\n",
      "[32]\tvalidation_0-error:0.152581\tvalidation_0-logloss:0.466598\tvalidation_1-error:0.235903\tvalidation_1-logloss:0.548968\n",
      "[33]\tvalidation_0-error:0.150879\tvalidation_0-logloss:0.463401\tvalidation_1-error:0.238205\tvalidation_1-logloss:0.546783\n",
      "[34]\tvalidation_0-error:0.150312\tvalidation_0-logloss:0.460156\tvalidation_1-error:0.238205\tvalidation_1-logloss:0.545948\n",
      "[35]\tvalidation_0-error:0.150028\tvalidation_0-logloss:0.456253\tvalidation_1-error:0.237629\tvalidation_1-logloss:0.544813\n",
      "[36]\tvalidation_0-error:0.149461\tvalidation_0-logloss:0.453798\tvalidation_1-error:0.238205\tvalidation_1-logloss:0.543113\n",
      "[37]\tvalidation_0-error:0.146909\tvalidation_0-logloss:0.450415\tvalidation_1-error:0.235903\tvalidation_1-logloss:0.541643\n",
      "[38]\tvalidation_0-error:0.145207\tvalidation_0-logloss:0.447494\tvalidation_1-error:0.235328\tvalidation_1-logloss:0.540085\n",
      "[39]\tvalidation_0-error:0.145491\tvalidation_0-logloss:0.444613\tvalidation_1-error:0.233026\tvalidation_1-logloss:0.539142\n",
      "[40]\tvalidation_0-error:0.142938\tvalidation_0-logloss:0.44162\tvalidation_1-error:0.2313\tvalidation_1-logloss:0.537288\n",
      "[41]\tvalidation_0-error:0.143505\tvalidation_0-logloss:0.439095\tvalidation_1-error:0.233026\tvalidation_1-logloss:0.535351\n",
      "[42]\tvalidation_0-error:0.143505\tvalidation_0-logloss:0.435605\tvalidation_1-error:0.234177\tvalidation_1-logloss:0.534106\n",
      "[43]\tvalidation_0-error:0.143222\tvalidation_0-logloss:0.433046\tvalidation_1-error:0.237054\tvalidation_1-logloss:0.532889\n",
      "[44]\tvalidation_0-error:0.140102\tvalidation_0-logloss:0.430676\tvalidation_1-error:0.236479\tvalidation_1-logloss:0.532377\n",
      "[45]\tvalidation_0-error:0.138684\tvalidation_0-logloss:0.427911\tvalidation_1-error:0.237629\tvalidation_1-logloss:0.53159\n",
      "[46]\tvalidation_0-error:0.1384\tvalidation_0-logloss:0.42513\tvalidation_1-error:0.23878\tvalidation_1-logloss:0.530473\n",
      "[47]\tvalidation_0-error:0.139251\tvalidation_0-logloss:0.42174\tvalidation_1-error:0.240506\tvalidation_1-logloss:0.528776\n",
      "[48]\tvalidation_0-error:0.13755\tvalidation_0-logloss:0.419147\tvalidation_1-error:0.241082\tvalidation_1-logloss:0.528608\n",
      "[49]\tvalidation_0-error:0.135848\tvalidation_0-logloss:0.417488\tvalidation_1-error:0.23878\tvalidation_1-logloss:0.527965\n",
      "[50]\tvalidation_0-error:0.134714\tvalidation_0-logloss:0.41478\tvalidation_1-error:0.237629\tvalidation_1-logloss:0.528359\n",
      "[51]\tvalidation_0-error:0.134146\tvalidation_0-logloss:0.412279\tvalidation_1-error:0.237054\tvalidation_1-logloss:0.527224\n",
      "[52]\tvalidation_0-error:0.133012\tvalidation_0-logloss:0.410782\tvalidation_1-error:0.237629\tvalidation_1-logloss:0.526282\n",
      "[53]\tvalidation_0-error:0.133579\tvalidation_0-logloss:0.408351\tvalidation_1-error:0.238205\tvalidation_1-logloss:0.52515\n",
      "[54]\tvalidation_0-error:0.132728\tvalidation_0-logloss:0.406347\tvalidation_1-error:0.236479\tvalidation_1-logloss:0.523584\n",
      "[55]\tvalidation_0-error:0.133579\tvalidation_0-logloss:0.403803\tvalidation_1-error:0.235903\tvalidation_1-logloss:0.522868\n",
      "[56]\tvalidation_0-error:0.131877\tvalidation_0-logloss:0.401248\tvalidation_1-error:0.233602\tvalidation_1-logloss:0.522693\n",
      "[57]\tvalidation_0-error:0.130176\tvalidation_0-logloss:0.398856\tvalidation_1-error:0.234753\tvalidation_1-logloss:0.521087\n",
      "[58]\tvalidation_0-error:0.129609\tvalidation_0-logloss:0.397049\tvalidation_1-error:0.237054\tvalidation_1-logloss:0.521506\n",
      "[59]\tvalidation_0-error:0.128758\tvalidation_0-logloss:0.395022\tvalidation_1-error:0.234753\tvalidation_1-logloss:0.520676\n",
      "[60]\tvalidation_0-error:0.128191\tvalidation_0-logloss:0.392918\tvalidation_1-error:0.233602\tvalidation_1-logloss:0.519535\n",
      "[61]\tvalidation_0-error:0.127623\tvalidation_0-logloss:0.390718\tvalidation_1-error:0.231876\tvalidation_1-logloss:0.518681\n",
      "[62]\tvalidation_0-error:0.125638\tvalidation_0-logloss:0.388969\tvalidation_1-error:0.233026\tvalidation_1-logloss:0.518773\n",
      "[63]\tvalidation_0-error:0.124787\tvalidation_0-logloss:0.387222\tvalidation_1-error:0.235903\tvalidation_1-logloss:0.519679\n",
      "[64]\tvalidation_0-error:0.124504\tvalidation_0-logloss:0.38558\tvalidation_1-error:0.235903\tvalidation_1-logloss:0.521131\n",
      "[65]\tvalidation_0-error:0.123369\tvalidation_0-logloss:0.383683\tvalidation_1-error:0.234753\tvalidation_1-logloss:0.520366\n",
      "[66]\tvalidation_0-error:0.123369\tvalidation_0-logloss:0.382081\tvalidation_1-error:0.233026\tvalidation_1-logloss:0.519802\n",
      "[67]\tvalidation_0-error:0.121951\tvalidation_0-logloss:0.380206\tvalidation_1-error:0.233602\tvalidation_1-logloss:0.520002\n",
      "[68]\tvalidation_0-error:0.12025\tvalidation_0-logloss:0.378236\tvalidation_1-error:0.237054\tvalidation_1-logloss:0.519505\n",
      "[69]\tvalidation_0-error:0.120533\tvalidation_0-logloss:0.376729\tvalidation_1-error:0.239356\tvalidation_1-logloss:0.520172\n",
      "[70]\tvalidation_0-error:0.119966\tvalidation_0-logloss:0.375226\tvalidation_1-error:0.237054\tvalidation_1-logloss:0.519507\n",
      "[71]\tvalidation_0-error:0.118832\tvalidation_0-logloss:0.373587\tvalidation_1-error:0.235328\tvalidation_1-logloss:0.519876\n",
      "[72]\tvalidation_0-error:0.11713\tvalidation_0-logloss:0.371919\tvalidation_1-error:0.232451\tvalidation_1-logloss:0.517392\n",
      "[73]\tvalidation_0-error:0.117697\tvalidation_0-logloss:0.370425\tvalidation_1-error:0.234177\tvalidation_1-logloss:0.517018\n",
      "[74]\tvalidation_0-error:0.115145\tvalidation_0-logloss:0.368966\tvalidation_1-error:0.234753\tvalidation_1-logloss:0.517469\n",
      "[75]\tvalidation_0-error:0.115995\tvalidation_0-logloss:0.367248\tvalidation_1-error:0.233026\tvalidation_1-logloss:0.515433\n",
      "[76]\tvalidation_0-error:0.114861\tvalidation_0-logloss:0.365552\tvalidation_1-error:0.234177\tvalidation_1-logloss:0.514857\n",
      "[77]\tvalidation_0-error:0.114577\tvalidation_0-logloss:0.363951\tvalidation_1-error:0.234177\tvalidation_1-logloss:0.514508\n",
      "[78]\tvalidation_0-error:0.113159\tvalidation_0-logloss:0.361821\tvalidation_1-error:0.234177\tvalidation_1-logloss:0.513796\n",
      "[79]\tvalidation_0-error:0.112876\tvalidation_0-logloss:0.360363\tvalidation_1-error:0.234177\tvalidation_1-logloss:0.512967\n",
      "[80]\tvalidation_0-error:0.111741\tvalidation_0-logloss:0.359111\tvalidation_1-error:0.234753\tvalidation_1-logloss:0.513561\n",
      "[81]\tvalidation_0-error:0.111741\tvalidation_0-logloss:0.357477\tvalidation_1-error:0.234753\tvalidation_1-logloss:0.51228\n",
      "[82]\tvalidation_0-error:0.112309\tvalidation_0-logloss:0.355713\tvalidation_1-error:0.235903\tvalidation_1-logloss:0.512437\n",
      "[83]\tvalidation_0-error:0.111741\tvalidation_0-logloss:0.354258\tvalidation_1-error:0.235903\tvalidation_1-logloss:0.512688\n",
      "[84]\tvalidation_0-error:0.110607\tvalidation_0-logloss:0.352496\tvalidation_1-error:0.233026\tvalidation_1-logloss:0.513329\n",
      "[85]\tvalidation_0-error:0.109189\tvalidation_0-logloss:0.35091\tvalidation_1-error:0.2313\tvalidation_1-logloss:0.51314\n",
      "[86]\tvalidation_0-error:0.108054\tvalidation_0-logloss:0.349476\tvalidation_1-error:0.233026\tvalidation_1-logloss:0.513322\n",
      "[87]\tvalidation_0-error:0.108338\tvalidation_0-logloss:0.347902\tvalidation_1-error:0.231876\tvalidation_1-logloss:0.513519\n",
      "[88]\tvalidation_0-error:0.107771\tvalidation_0-logloss:0.346623\tvalidation_1-error:0.2313\tvalidation_1-logloss:0.513283\n",
      "[89]\tvalidation_0-error:0.107204\tvalidation_0-logloss:0.345441\tvalidation_1-error:0.230725\tvalidation_1-logloss:0.512563\n",
      "[90]\tvalidation_0-error:0.106636\tvalidation_0-logloss:0.343948\tvalidation_1-error:0.228423\tvalidation_1-logloss:0.510917\n",
      "[91]\tvalidation_0-error:0.106069\tvalidation_0-logloss:0.34252\tvalidation_1-error:0.229574\tvalidation_1-logloss:0.510022\n",
      "[92]\tvalidation_0-error:0.104935\tvalidation_0-logloss:0.341643\tvalidation_1-error:0.226122\tvalidation_1-logloss:0.509342\n",
      "[93]\tvalidation_0-error:0.105502\tvalidation_0-logloss:0.340213\tvalidation_1-error:0.228423\tvalidation_1-logloss:0.508841\n",
      "[94]\tvalidation_0-error:0.104935\tvalidation_0-logloss:0.338836\tvalidation_1-error:0.228423\tvalidation_1-logloss:0.508644\n",
      "[95]\tvalidation_0-error:0.102666\tvalidation_0-logloss:0.337518\tvalidation_1-error:0.229574\tvalidation_1-logloss:0.508786\n",
      "[96]\tvalidation_0-error:0.101815\tvalidation_0-logloss:0.336322\tvalidation_1-error:0.2313\tvalidation_1-logloss:0.508388\n",
      "[97]\tvalidation_0-error:0.101248\tvalidation_0-logloss:0.335239\tvalidation_1-error:0.229574\tvalidation_1-logloss:0.508233\n",
      "[98]\tvalidation_0-error:0.100113\tvalidation_0-logloss:0.333882\tvalidation_1-error:0.2313\tvalidation_1-logloss:0.507568\n",
      "[99]\tvalidation_0-error:0.098412\tvalidation_0-logloss:0.332323\tvalidation_1-error:0.232451\tvalidation_1-logloss:0.506862\n"
     ]
    },
    {
     "data": {
      "text/plain": [
       "XGBClassifier(base_score=0.5, booster='gbtree', colsample_bylevel=1,\n",
       "              colsample_bynode=1, colsample_bytree=0.9, gamma=0,\n",
       "              learning_rate=0.26, max_delta_step=0, max_depth=7,\n",
       "              min_child_weight=1, missing=None, n_estimators=100, n_jobs=1,\n",
       "              nthread=None, objective='binary:logistic', random_state=13,\n",
       "              reg_alpha=0.1, reg_lambda=0.01, scale_pos_weight=1.336, seed=None,\n",
       "              silent=None, subsample=0.85, verbosity=1)"
      ]
     },
     "execution_count": 50,
     "metadata": {
      "tags": []
     },
     "output_type": "execute_result"
    }
   ],
   "source": [
    "X_tr, X_val, y_tr, y_val = train_test_split(\n",
    "    X_train_tfidf, y_train, test_size=0.33, random_state=7\n",
    ")\n",
    "xgb_2 = XGBClassifier(\n",
    "    scale_pos_weight=1.336,\n",
    "    learning_rate=0.26,\n",
    "    max_depth=7,\n",
    "    min_child_weight=1,\n",
    "    gamma=0,\n",
    "    colsample_bytree=0.9,\n",
    "    subsample=0.85,\n",
    "    reg_alpha=0.1,\n",
    "    reg_lambda=0.01,\n",
    "    objective=\"binary:logistic\",\n",
    "    booster=\"gbtree\",\n",
    "    random_state=13,\n",
    ")\n",
    "eval_set = [(X_tr, y_tr), (X_val, y_val)]\n",
    "xgb_2.fit(X_tr, y_tr, eval_metric=[\"error\", \"logloss\"], eval_set=eval_set, verbose=True)"
   ]
  },
  {
   "cell_type": "markdown",
   "metadata": {
    "id": "GJQv-PrDL2TF"
   },
   "source": [
    "By default for XGBClassifier *eval_metric = 'error'*."
   ]
  },
  {
   "cell_type": "code",
   "execution_count": 51,
   "metadata": {
    "colab": {
     "base_uri": "https://localhost:8080/",
     "height": 0
    },
    "id": "81x0VvpvL2TG",
    "outputId": "d0ff94c6-aec3-4f25-f074-13090c6b9712"
   },
   "outputs": [
    {
     "name": "stdout",
     "output_type": "stream",
     "text": [
      "f1_score (train set): 0.85289\n",
      "\n",
      "f1_score (test set):  0.76742\n"
     ]
    }
   ],
   "source": [
    "print(\n",
    "    \"f1_score (train set): {:.5}\".format(\n",
    "        f1_score(y_train, xgb_2.predict(X_train_tfidf), average=\"macro\")\n",
    "    )\n",
    ")\n",
    "print(\n",
    "    \"\\nf1_score (test set):  {:.5}\".format(\n",
    "        f1_score(y_test, xgb_2.predict(X_test_tfidf), average=\"macro\")\n",
    "    )\n",
    ")"
   ]
  },
  {
   "cell_type": "markdown",
   "metadata": {
    "id": "4C_RSw7pL2TL"
   },
   "source": [
    "**Plot performance metrics.**"
   ]
  },
  {
   "cell_type": "code",
   "execution_count": 52,
   "metadata": {
    "colab": {
     "base_uri": "https://localhost:8080/",
     "height": 0
    },
    "id": "cvYKsMV3L2TN",
    "outputId": "ea2a3682-3a96-4adb-c428-869e8c4d4275"
   },
   "outputs": [
    {
     "data": {
      "image/png": "[encoded data removed]",
      "text/plain": [
       "<Figure size 1080x504 with 1 Axes>"
      ]
     },
     "metadata": {
      "tags": []
     },
     "output_type": "display_data"
    },
    {
     "data": {
      "image/png": "[encoded data removed]",
      "text/plain": [
       "<Figure size 1080x504 with 1 Axes>"
      ]
     },
     "metadata": {
      "tags": []
     },
     "output_type": "display_data"
    }
   ],
   "source": [
    "results = xgb_2.evals_result()\n",
    "epochs = len(results[\"validation_0\"][\"error\"])\n",
    "x_axis = range(0, epochs)\n",
    "\n",
    "fig, ax = plt.subplots()\n",
    "ax.plot(x_axis, results[\"validation_0\"][\"logloss\"], label=\"Train\")\n",
    "ax.plot(x_axis, results[\"validation_1\"][\"logloss\"], label=\"Validation\")\n",
    "ax.legend()\n",
    "plt.ylabel(\"Log Loss\")\n",
    "plt.title(\"XGBoost Log Loss\")\n",
    "plt.show()\n",
    "\n",
    "fig, ax = plt.subplots()\n",
    "ax.plot(x_axis, results[\"validation_0\"][\"error\"], label=\"Train\")\n",
    "ax.plot(x_axis, results[\"validation_1\"][\"error\"], label=\"Validation\")\n",
    "ax.legend()\n",
    "plt.ylabel(\"Classification Error\")\n",
    "plt.title(\"XGBoost Classification Error\")\n",
    "plt.show()"
   ]
  },
  {
   "cell_type": "markdown",
   "metadata": {
    "id": "c47K8n-ML2TV"
   },
   "source": [
    "The first plot shows the logarithmic loss of the XGBoost model for each epoch on the training and test datasets.\n",
    "\n",
    "The second plot shows the classification error of the XGBoost model for each epoch on the training and test datasets.\n",
    "\n",
    "From reviewing the logloss plot, it looks like there is an opportunity to stop the learning early, perhaps somewhere around epoch 90 to epoch 100.\n",
    "\n",
    "We see a similar story for classification error, where the error appears to go back up at around epoch 80."
   ]
  },
  {
   "cell_type": "markdown",
   "metadata": {
    "id": "Tv0jxS0jL2TY"
   },
   "source": [
    "### Final model."
   ]
  },
  {
   "cell_type": "code",
   "execution_count": 53,
   "metadata": {
    "colab": {
     "base_uri": "https://localhost:8080/",
     "height": 0
    },
    "id": "pnxNKEHVL2Ta",
    "outputId": "8468863d-2ad9-4c12-f64a-def807aaccce",
    "scrolled": true
   },
   "outputs": [
    {
     "name": "stdout",
     "output_type": "stream",
     "text": [
      "[0]\tvalidation_0-error:0.360759\n",
      "Will train until validation_0-error hasn't improved in 30 rounds.\n",
      "[1]\tvalidation_0-error:0.350978\n",
      "[2]\tvalidation_0-error:0.3458\n",
      "[3]\tvalidation_0-error:0.31473\n",
      "[4]\tvalidation_0-error:0.297468\n",
      "[5]\tvalidation_0-error:0.291139\n",
      "[6]\tvalidation_0-error:0.28481\n",
      "[7]\tvalidation_0-error:0.282509\n",
      "[8]\tvalidation_0-error:0.272152\n",
      "[9]\tvalidation_0-error:0.275029\n",
      "[10]\tvalidation_0-error:0.273303\n",
      "[11]\tvalidation_0-error:0.265823\n",
      "[12]\tvalidation_0-error:0.263521\n",
      "[13]\tvalidation_0-error:0.26122\n",
      "[14]\tvalidation_0-error:0.254891\n",
      "[15]\tvalidation_0-error:0.252589\n",
      "[16]\tvalidation_0-error:0.256041\n",
      "[17]\tvalidation_0-error:0.257192\n",
      "[18]\tvalidation_0-error:0.257192\n",
      "[19]\tvalidation_0-error:0.25374\n",
      "[20]\tvalidation_0-error:0.254315\n",
      "[21]\tvalidation_0-error:0.250863\n",
      "[22]\tvalidation_0-error:0.25374\n",
      "[23]\tvalidation_0-error:0.258343\n",
      "[24]\tvalidation_0-error:0.256617\n",
      "[25]\tvalidation_0-error:0.255466\n",
      "[26]\tvalidation_0-error:0.250863\n",
      "[27]\tvalidation_0-error:0.249137\n",
      "[28]\tvalidation_0-error:0.247986\n",
      "[29]\tvalidation_0-error:0.24626\n",
      "[30]\tvalidation_0-error:0.246835\n",
      "[31]\tvalidation_0-error:0.247986\n",
      "[32]\tvalidation_0-error:0.244534\n",
      "[33]\tvalidation_0-error:0.242808\n",
      "[34]\tvalidation_0-error:0.243383\n",
      "[35]\tvalidation_0-error:0.243383\n",
      "[36]\tvalidation_0-error:0.243383\n",
      "[37]\tvalidation_0-error:0.243383\n",
      "[38]\tvalidation_0-error:0.242232\n",
      "[39]\tvalidation_0-error:0.239931\n",
      "[40]\tvalidation_0-error:0.242808\n",
      "[41]\tvalidation_0-error:0.240506\n",
      "[42]\tvalidation_0-error:0.242232\n",
      "[43]\tvalidation_0-error:0.243383\n",
      "[44]\tvalidation_0-error:0.242232\n",
      "[45]\tvalidation_0-error:0.241082\n",
      "[46]\tvalidation_0-error:0.241657\n",
      "[47]\tvalidation_0-error:0.241657\n",
      "[48]\tvalidation_0-error:0.244534\n",
      "[49]\tvalidation_0-error:0.242808\n",
      "[50]\tvalidation_0-error:0.243383\n",
      "[51]\tvalidation_0-error:0.244534\n",
      "[52]\tvalidation_0-error:0.241657\n",
      "[53]\tvalidation_0-error:0.245109\n",
      "[54]\tvalidation_0-error:0.241082\n",
      "[55]\tvalidation_0-error:0.240506\n",
      "[56]\tvalidation_0-error:0.235903\n",
      "[57]\tvalidation_0-error:0.234753\n",
      "[58]\tvalidation_0-error:0.235328\n",
      "[59]\tvalidation_0-error:0.233026\n",
      "[60]\tvalidation_0-error:0.235328\n",
      "[61]\tvalidation_0-error:0.234753\n",
      "[62]\tvalidation_0-error:0.233026\n",
      "[63]\tvalidation_0-error:0.2313\n",
      "[64]\tvalidation_0-error:0.232451\n",
      "[65]\tvalidation_0-error:0.232451\n",
      "[66]\tvalidation_0-error:0.232451\n",
      "[67]\tvalidation_0-error:0.235903\n",
      "[68]\tvalidation_0-error:0.236479\n",
      "[69]\tvalidation_0-error:0.234177\n",
      "[70]\tvalidation_0-error:0.235328\n",
      "[71]\tvalidation_0-error:0.234177\n",
      "[72]\tvalidation_0-error:0.235328\n",
      "[73]\tvalidation_0-error:0.234753\n",
      "[74]\tvalidation_0-error:0.233602\n",
      "[75]\tvalidation_0-error:0.234177\n",
      "[76]\tvalidation_0-error:0.234753\n",
      "[77]\tvalidation_0-error:0.237054\n",
      "[78]\tvalidation_0-error:0.239356\n",
      "[79]\tvalidation_0-error:0.239356\n",
      "[80]\tvalidation_0-error:0.239356\n",
      "[81]\tvalidation_0-error:0.238205\n",
      "[82]\tvalidation_0-error:0.23878\n",
      "[83]\tvalidation_0-error:0.239931\n",
      "[84]\tvalidation_0-error:0.239356\n",
      "[85]\tvalidation_0-error:0.237054\n",
      "[86]\tvalidation_0-error:0.236479\n",
      "[87]\tvalidation_0-error:0.238205\n",
      "[88]\tvalidation_0-error:0.235328\n",
      "[89]\tvalidation_0-error:0.234753\n",
      "[90]\tvalidation_0-error:0.237629\n",
      "[91]\tvalidation_0-error:0.239356\n",
      "[92]\tvalidation_0-error:0.239931\n",
      "[93]\tvalidation_0-error:0.241657\n",
      "Stopping. Best iteration:\n",
      "[63]\tvalidation_0-error:0.2313\n",
      "\n"
     ]
    },
    {
     "data": {
      "text/plain": [
       "XGBClassifier(base_score=0.5, booster='gbtree', colsample_bylevel=1,\n",
       "              colsample_bynode=1, colsample_bytree=0.9, gamma=0,\n",
       "              learning_rate=0.26, max_delta_step=0, max_depth=7,\n",
       "              min_child_weight=1, missing=None, n_estimators=100, n_jobs=1,\n",
       "              nthread=None, objective='binary:logistic', random_state=13,\n",
       "              reg_alpha=0.1, reg_lambda=0.01, scale_pos_weight=1.336, seed=None,\n",
       "              silent=None, subsample=0.85, verbosity=1)"
      ]
     },
     "execution_count": 53,
     "metadata": {
      "tags": []
     },
     "output_type": "execute_result"
    }
   ],
   "source": [
    "X_tr, X_val, y_tr, y_val = train_test_split(\n",
    "    X_train_tfidf, y_train, test_size=0.33, random_state=13\n",
    ")\n",
    "xgb_final = XGBClassifier(\n",
    "    scale_pos_weight=1.336,\n",
    "    learning_rate=0.26,\n",
    "    max_depth=7,\n",
    "    min_child_weight=1,\n",
    "    gamma=0,\n",
    "    colsample_bytree=0.9,\n",
    "    subsample=0.85,\n",
    "    reg_alpha=0.1,\n",
    "    reg_lambda=0.01,\n",
    "    objective=\"binary:logistic\",\n",
    "    booster=\"gbtree\",\n",
    "    random_state=13,\n",
    ")\n",
    "eval_set = [(X_val, y_val)]\n",
    "xgb_final.fit(\n",
    "    X_tr,\n",
    "    y_tr,\n",
    "    early_stopping_rounds=30,\n",
    "    eval_metric=\"error\",\n",
    "    eval_set=eval_set,\n",
    "    verbose=True,\n",
    ")"
   ]
  },
  {
   "cell_type": "markdown",
   "metadata": {
    "id": "0aJquMCHL2Th"
   },
   "source": [
    "**Evaluate the model.**"
   ]
  },
  {
   "cell_type": "code",
   "execution_count": 54,
   "metadata": {
    "colab": {
     "base_uri": "https://localhost:8080/",
     "height": 0
    },
    "id": "SlSMR8S8L2Tj",
    "outputId": "964ac39f-5b3f-439b-96aa-830f4e85a638"
   },
   "outputs": [
    {
     "name": "stdout",
     "output_type": "stream",
     "text": [
      "f1_score (train set): 0.83336\n",
      "\n",
      "f1_score (test set):  0.77346\n"
     ]
    }
   ],
   "source": [
    "print(\n",
    "    \"f1_score (train set): {:.5}\".format(\n",
    "        f1_score(y_train, xgb_final.predict(X_train_tfidf), average=\"macro\")\n",
    "    )\n",
    ")\n",
    "print(\n",
    "    \"\\nf1_score (test set):  {:.5}\".format(\n",
    "        f1_score(y_test, xgb_final.predict(X_test_tfidf), average=\"macro\")\n",
    "    )\n",
    ")"
   ]
  },
  {
   "cell_type": "markdown",
   "metadata": {
    "id": "dL0L28H9L2Tm"
   },
   "source": [
    "We can see that **the model stopped training at epoch 67** (close to what we expected by our manual judgment of learning curves) and that the model with **the best loss was observed at epoch 37**."
   ]
  },
  {
   "cell_type": "code",
   "execution_count": 55,
   "metadata": {
    "colab": {
     "base_uri": "https://localhost:8080/",
     "height": 0
    },
    "id": "8Vxfse_AL2Tn",
    "outputId": "deca12f1-f6d3-41b3-eabe-e1eb5f50bddd"
   },
   "outputs": [
    {
     "data": {
      "image/png": "[encoded data removed]",
      "text/plain": [
       "<Figure size 1080x504 with 1 Axes>"
      ]
     },
     "metadata": {
      "tags": []
     },
     "output_type": "display_data"
    }
   ],
   "source": [
    "plot_cv_with_err(\n",
    "    model=xgb_final,\n",
    "    data_X=X_train_tfidf,\n",
    "    data_y=y_train,\n",
    "    parameter_name=\"learning_rate\",\n",
    "    params=[i / 100.0 for i in range(1, 101, 10)],\n",
    "    cv_score=\"f1_macro\",\n",
    ")\n",
    "plt.xlabel(\"Learning rate\")\n",
    "plt.ylabel(\"F1-score\")\n",
    "plt.legend(loc=\"best\")\n",
    "plt.grid(True)"
   ]
  },
  {
   "cell_type": "code",
   "execution_count": 56,
   "metadata": {
    "colab": {
     "base_uri": "https://localhost:8080/",
     "height": 0
    },
    "id": "_dWnK741L2Ts",
    "outputId": "a4887b99-9a29-4578-a48b-95e8f58b5db7"
   },
   "outputs": [
    {
     "name": "stdout",
     "output_type": "stream",
     "text": [
      "                                    CV scores on Train set\n",
      "================================================================================================\n",
      "  mean_train_score (std_train_score) | mean_valid_score (std_valid_score) |      parameter\n",
      "================================================================================================\n",
      "       0.69431      (  0.0068612   ) |      0.65968      (  0.0086867   ) | learning_rate = 0.01\n",
      "       0.85304      (   0.001774   ) |      0.76156      (   0.006974   ) | learning_rate = 0.11\n",
      "       0.88374      (  0.0029717   ) |      0.76424      (   0.006738   ) | learning_rate = 0.21\n",
      "       0.90227      (  0.0023417   ) |      0.76307      (   0.011592   ) | learning_rate = 0.31\n",
      "       0.91417      (  0.0028615   ) |      0.75561      (  0.0093455   ) | learning_rate = 0.41\n",
      "       0.92352      (  0.0014993   ) |      0.75601      (   0.012467   ) | learning_rate = 0.51\n",
      "       0.92913      (  0.0019539   ) |      0.74796      (  0.0080078   ) | learning_rate = 0.61\n",
      "        0.9338      (  0.0018844   ) |      0.73743      (  0.0076839   ) | learning_rate = 0.71\n",
      "       0.93838      (  0.0013096   ) |      0.74504      (  0.0070732   ) | learning_rate = 0.81\n",
      "       0.94185      (   0.002728   ) |      0.73819      (  0.0037296   ) | learning_rate = 0.91\n"
     ]
    }
   ],
   "source": [
    "cv_output_all(\n",
    "    model=xgb_final,\n",
    "    data_X=X_train_tfidf,\n",
    "    data_y=y_train,\n",
    "    parameter_name=\"learning_rate\",\n",
    "    params=[i / 100.0 for i in range(1, 101, 10)],\n",
    "    cv_score=\"f1_macro\",\n",
    ")"
   ]
  },
  {
   "cell_type": "markdown",
   "metadata": {
    "id": "T0HAhsTrL2Tx"
   },
   "source": [
    "## Results"
   ]
  },
  {
   "cell_type": "code",
   "execution_count": 57,
   "metadata": {
    "id": "qHd1t92BL2Tz"
   },
   "outputs": [],
   "source": [
    "def get_scores(estimator, X, y, name):\n",
    "    y_pred = estimator.predict(X)\n",
    "    y_pred_proba = estimator.predict_proba(X)[:, 1]\n",
    "    accuracy = accuracy_score(y_test, y_pred)\n",
    "    precision = precision_score(y_test, y_pred)\n",
    "    recall = recall_score(y_test, y_pred)\n",
    "    f1 = f1_score(y_test, y_pred, average=\"macro\")\n",
    "    roc_auc = roc_auc_score(y_test, y_pred_proba)\n",
    "    columns = [\"accuracy\", \"precision\", \"recall\", \"F1-macro\", \"AUC-ROC\"]\n",
    "    results = pd.DataFrame(\n",
    "        [accuracy, precision, recall, f1, roc_auc], index=columns, columns=[name]\n",
    "    ).T\n",
    "    return results"
   ]
  },
  {
   "cell_type": "code",
   "execution_count": 58,
   "metadata": {
    "id": "XYmVIyJnL2T7"
   },
   "outputs": [],
   "source": [
    "results_svm = get_scores(svm_final, X=X_test_tfidf, y=y_test, name=\"SVC\")\n",
    "results_lr = get_scores(lr_final, X=X_test_tfidf, y=y_test, name=\"LR\")\n",
    "results_nb = get_scores(nb_final, X=X_test_tfidf.toarray(), y=y_test, name=\"NB\")\n",
    "results_xgb = get_scores(xgb_final, X=X_test_tfidf, y=y_test, name=\"XGB\")"
   ]
  },
  {
   "cell_type": "code",
   "execution_count": 59,
   "metadata": {
    "colab": {
     "base_uri": "https://localhost:8080/",
     "height": 175
    },
    "id": "FzSJTtK-L2T_",
    "outputId": "bd056149-1b55-45f3-f001-e873ca4cec39"
   },
   "outputs": [
    {
     "data": {
      "text/html": [
       "<div>\n",
       "<style scoped>\n",
       "    .dataframe tbody tr th:only-of-type {\n",
       "        vertical-align: middle;\n",
       "    }\n",
       "\n",
       "    .dataframe tbody tr th {\n",
       "        vertical-align: top;\n",
       "    }\n",
       "\n",
       "    .dataframe thead th {\n",
       "        text-align: right;\n",
       "    }\n",
       "</style>\n",
       "<table border=\"1\" class=\"dataframe\">\n",
       "  <thead>\n",
       "    <tr style=\"text-align: right;\">\n",
       "      <th></th>\n",
       "      <th>accuracy</th>\n",
       "      <th>precision</th>\n",
       "      <th>recall</th>\n",
       "      <th>F1-macro</th>\n",
       "      <th>AUC-ROC</th>\n",
       "    </tr>\n",
       "  </thead>\n",
       "  <tbody>\n",
       "    <tr>\n",
       "      <th>SVC</th>\n",
       "      <td>0.796099</td>\n",
       "      <td>0.765510</td>\n",
       "      <td>0.754404</td>\n",
       "      <td>0.791360</td>\n",
       "      <td>0.865433</td>\n",
       "    </tr>\n",
       "    <tr>\n",
       "      <th>LR</th>\n",
       "      <td>0.794770</td>\n",
       "      <td>0.753024</td>\n",
       "      <td>0.774093</td>\n",
       "      <td>0.791100</td>\n",
       "      <td>0.866395</td>\n",
       "    </tr>\n",
       "    <tr>\n",
       "      <th>NB</th>\n",
       "      <td>0.785904</td>\n",
       "      <td>0.775114</td>\n",
       "      <td>0.703627</td>\n",
       "      <td>0.778406</td>\n",
       "      <td>0.851116</td>\n",
       "    </tr>\n",
       "    <tr>\n",
       "      <th>XGB</th>\n",
       "      <td>0.782358</td>\n",
       "      <td>0.780806</td>\n",
       "      <td>0.682902</td>\n",
       "      <td>0.773465</td>\n",
       "      <td>0.827551</td>\n",
       "    </tr>\n",
       "  </tbody>\n",
       "</table>\n",
       "</div>"
      ],
      "text/plain": [
       "     accuracy  precision    recall  F1-macro   AUC-ROC\n",
       "SVC  0.796099   0.765510  0.754404  0.791360  0.865433\n",
       "LR   0.794770   0.753024  0.774093  0.791100  0.866395\n",
       "NB   0.785904   0.775114  0.703627  0.778406  0.851116\n",
       "XGB  0.782358   0.780806  0.682902  0.773465  0.827551"
      ]
     },
     "execution_count": 59,
     "metadata": {
      "tags": []
     },
     "output_type": "execute_result"
    }
   ],
   "source": [
    "results_svm.append([results_lr, results_nb, results_xgb])"
   ]
  },
  {
   "cell_type": "markdown",
   "metadata": {
    "id": "1cZPwsGxL2UH"
   },
   "source": [
    "## Mispredicted tweets with SVM Classifier with linear kernel"
   ]
  },
  {
   "cell_type": "markdown",
   "metadata": {
    "id": "uYH8KC-DL2UJ"
   },
   "source": [
    "**Predicted Neg/Actual Pos**"
   ]
  },
  {
   "cell_type": "code",
   "execution_count": 60,
   "metadata": {
    "colab": {
     "base_uri": "https://localhost:8080/",
     "height": 990
    },
    "id": "fD5mDCJVL2UK",
    "outputId": "213b26da-1bee-45a3-ae3e-f4feb4dafd80"
   },
   "outputs": [
    {
     "name": "stdout",
     "output_type": "stream",
     "text": [
      "Number of False Negatives (Predicted Not Disaster/Actual Disaster):  (237,) \n",
      "\n"
     ]
    },
    {
     "data": {
      "text/html": [
       "<div>\n",
       "<style scoped>\n",
       "    .dataframe tbody tr th:only-of-type {\n",
       "        vertical-align: middle;\n",
       "    }\n",
       "\n",
       "    .dataframe tbody tr th {\n",
       "        vertical-align: top;\n",
       "    }\n",
       "\n",
       "    .dataframe thead th {\n",
       "        text-align: right;\n",
       "    }\n",
       "</style>\n",
       "<table border=\"1\" class=\"dataframe\">\n",
       "  <thead>\n",
       "    <tr style=\"text-align: right;\">\n",
       "      <th></th>\n",
       "      <th>text</th>\n",
       "      <th>target</th>\n",
       "      <th>text_cleaned</th>\n",
       "      <th>preprocessed_text</th>\n",
       "      <th>sentence_count</th>\n",
       "      <th>word_count</th>\n",
       "      <th>stop_word_count</th>\n",
       "      <th>stop_word_share</th>\n",
       "      <th>url_count</th>\n",
       "      <th>mean_word_length</th>\n",
       "      <th>char_count</th>\n",
       "      <th>punctuation_count</th>\n",
       "      <th>hashtag_count</th>\n",
       "      <th>mention_count</th>\n",
       "      <th>polarity_raw</th>\n",
       "      <th>subjectivity_raw</th>\n",
       "      <th>unique_word_count</th>\n",
       "      <th>unique_word_share</th>\n",
       "      <th>polarity</th>\n",
       "      <th>subjectivity</th>\n",
       "      <th>DT</th>\n",
       "      <th>NN</th>\n",
       "      <th>PRP$</th>\n",
       "      <th>NNS</th>\n",
       "      <th>VBP</th>\n",
       "      <th>IN</th>\n",
       "      <th>MD</th>\n",
       "      <th>VB</th>\n",
       "      <th>JJ</th>\n",
       "      <th>PRP</th>\n",
       "      <th>JJS</th>\n",
       "      <th>VBN</th>\n",
       "      <th>VBD</th>\n",
       "      <th>TO</th>\n",
       "      <th>VBG</th>\n",
       "      <th>CC</th>\n",
       "      <th>RB</th>\n",
       "      <th>EX</th>\n",
       "      <th>VBZ</th>\n",
       "      <th>CD</th>\n",
       "      <th>WP</th>\n",
       "      <th>RP</th>\n",
       "      <th>JJR</th>\n",
       "      <th>WRB</th>\n",
       "      <th>FW</th>\n",
       "      <th>WDT</th>\n",
       "      <th>NNP</th>\n",
       "      <th>RBR</th>\n",
       "      <th>RBS</th>\n",
       "      <th>PDT</th>\n",
       "      <th>SYM</th>\n",
       "      <th>UH</th>\n",
       "      <th>WP$</th>\n",
       "    </tr>\n",
       "  </thead>\n",
       "  <tbody>\n",
       "    <tr>\n",
       "      <th>1817</th>\n",
       "      <td>This guy bought my car on Tuesday police knocked my door yday cos he crashed n ran &amp;amp; 2day he text me asking not to send the log book????????</td>\n",
       "      <td>1</td>\n",
       "      <td>this guy bought my car on tuesday police knocked my door yday cos he crashed n ran day he text me asking not to send the log book</td>\n",
       "      <td>guy buy car tuesday police knock door yday cos crash n run day text ask send log book</td>\n",
       "      <td>1</td>\n",
       "      <td>29</td>\n",
       "      <td>10</td>\n",
       "      <td>0.344828</td>\n",
       "      <td>0</td>\n",
       "      <td>4.000000</td>\n",
       "      <td>144</td>\n",
       "      <td>10</td>\n",
       "      <td>0</td>\n",
       "      <td>0</td>\n",
       "      <td>0.000000</td>\n",
       "      <td>0.000000</td>\n",
       "      <td>18</td>\n",
       "      <td>1.0</td>\n",
       "      <td>0.000</td>\n",
       "      <td>0.00</td>\n",
       "      <td>2.0</td>\n",
       "      <td>7.0</td>\n",
       "      <td>2.0</td>\n",
       "      <td>0.0</td>\n",
       "      <td>0.0</td>\n",
       "      <td>1.0</td>\n",
       "      <td>0.0</td>\n",
       "      <td>1.0</td>\n",
       "      <td>3.0</td>\n",
       "      <td>3.0</td>\n",
       "      <td>0.0</td>\n",
       "      <td>0.0</td>\n",
       "      <td>4.0</td>\n",
       "      <td>1.0</td>\n",
       "      <td>1.0</td>\n",
       "      <td>0.0</td>\n",
       "      <td>2.0</td>\n",
       "      <td>0.0</td>\n",
       "      <td>1.0</td>\n",
       "      <td>0.0</td>\n",
       "      <td>0.0</td>\n",
       "      <td>0.0</td>\n",
       "      <td>0.0</td>\n",
       "      <td>0.0</td>\n",
       "      <td>0.0</td>\n",
       "      <td>0.0</td>\n",
       "      <td>0.0</td>\n",
       "      <td>0.0</td>\n",
       "      <td>0.0</td>\n",
       "      <td>0.0</td>\n",
       "      <td>0.0</td>\n",
       "      <td>0.0</td>\n",
       "      <td>0.0</td>\n",
       "    </tr>\n",
       "    <tr>\n",
       "      <th>6820</th>\n",
       "      <td>@lucysforsale funny cause my dumb ass was the young one to get n trouble the most lol</td>\n",
       "      <td>1</td>\n",
       "      <td>funny cause my dumb ass was the young one to get n trouble the most lol</td>\n",
       "      <td>funny cause dumb ass young n trouble lol</td>\n",
       "      <td>1</td>\n",
       "      <td>17</td>\n",
       "      <td>6</td>\n",
       "      <td>0.352941</td>\n",
       "      <td>0</td>\n",
       "      <td>4.058824</td>\n",
       "      <td>85</td>\n",
       "      <td>1</td>\n",
       "      <td>0</td>\n",
       "      <td>1</td>\n",
       "      <td>0.179167</td>\n",
       "      <td>0.550000</td>\n",
       "      <td>8</td>\n",
       "      <td>1.0</td>\n",
       "      <td>0.115</td>\n",
       "      <td>0.56</td>\n",
       "      <td>2.0</td>\n",
       "      <td>4.0</td>\n",
       "      <td>1.0</td>\n",
       "      <td>0.0</td>\n",
       "      <td>0.0</td>\n",
       "      <td>0.0</td>\n",
       "      <td>0.0</td>\n",
       "      <td>1.0</td>\n",
       "      <td>4.0</td>\n",
       "      <td>0.0</td>\n",
       "      <td>0.0</td>\n",
       "      <td>0.0</td>\n",
       "      <td>1.0</td>\n",
       "      <td>1.0</td>\n",
       "      <td>0.0</td>\n",
       "      <td>0.0</td>\n",
       "      <td>0.0</td>\n",
       "      <td>0.0</td>\n",
       "      <td>0.0</td>\n",
       "      <td>1.0</td>\n",
       "      <td>0.0</td>\n",
       "      <td>0.0</td>\n",
       "      <td>0.0</td>\n",
       "      <td>0.0</td>\n",
       "      <td>0.0</td>\n",
       "      <td>0.0</td>\n",
       "      <td>0.0</td>\n",
       "      <td>0.0</td>\n",
       "      <td>1.0</td>\n",
       "      <td>0.0</td>\n",
       "      <td>0.0</td>\n",
       "      <td>0.0</td>\n",
       "      <td>0.0</td>\n",
       "    </tr>\n",
       "    <tr>\n",
       "      <th>1606</th>\n",
       "      <td>Why did I come to work today.. Literally wanna collapse of exhaustion</td>\n",
       "      <td>1</td>\n",
       "      <td>why did i come to work today literally want to collapse of exhaustion</td>\n",
       "      <td>come work today literally want collapse exhaustion</td>\n",
       "      <td>1</td>\n",
       "      <td>12</td>\n",
       "      <td>5</td>\n",
       "      <td>0.416667</td>\n",
       "      <td>0</td>\n",
       "      <td>4.833333</td>\n",
       "      <td>69</td>\n",
       "      <td>2</td>\n",
       "      <td>0</td>\n",
       "      <td>0</td>\n",
       "      <td>0.000000</td>\n",
       "      <td>0.000000</td>\n",
       "      <td>7</td>\n",
       "      <td>1.0</td>\n",
       "      <td>0.000</td>\n",
       "      <td>0.00</td>\n",
       "      <td>0.0</td>\n",
       "      <td>3.0</td>\n",
       "      <td>0.0</td>\n",
       "      <td>0.0</td>\n",
       "      <td>1.0</td>\n",
       "      <td>1.0</td>\n",
       "      <td>0.0</td>\n",
       "      <td>3.0</td>\n",
       "      <td>0.0</td>\n",
       "      <td>0.0</td>\n",
       "      <td>0.0</td>\n",
       "      <td>0.0</td>\n",
       "      <td>1.0</td>\n",
       "      <td>2.0</td>\n",
       "      <td>0.0</td>\n",
       "      <td>0.0</td>\n",
       "      <td>1.0</td>\n",
       "      <td>0.0</td>\n",
       "      <td>0.0</td>\n",
       "      <td>0.0</td>\n",
       "      <td>0.0</td>\n",
       "      <td>0.0</td>\n",
       "      <td>0.0</td>\n",
       "      <td>1.0</td>\n",
       "      <td>0.0</td>\n",
       "      <td>0.0</td>\n",
       "      <td>0.0</td>\n",
       "      <td>0.0</td>\n",
       "      <td>0.0</td>\n",
       "      <td>0.0</td>\n",
       "      <td>0.0</td>\n",
       "      <td>0.0</td>\n",
       "      <td>0.0</td>\n",
       "    </tr>\n",
       "    <tr>\n",
       "      <th>4327</th>\n",
       "      <td>The Murderous Story Of AmericaÛªs First Hijacking: Earnest PletchÛªs cold-blooded killing ofÛ_ http://t.co/B9JAxx0vCf</td>\n",
       "      <td>1</td>\n",
       "      <td>the murderous story of americas first hijacking earnest pletchs cold blooded killing of</td>\n",
       "      <td>murderous story americas hijack earnest pletchs cold blooded killing</td>\n",
       "      <td>1</td>\n",
       "      <td>13</td>\n",
       "      <td>2</td>\n",
       "      <td>0.153846</td>\n",
       "      <td>1</td>\n",
       "      <td>8.307692</td>\n",
       "      <td>120</td>\n",
       "      <td>8</td>\n",
       "      <td>0</td>\n",
       "      <td>0</td>\n",
       "      <td>0.250000</td>\n",
       "      <td>0.333333</td>\n",
       "      <td>9</td>\n",
       "      <td>1.0</td>\n",
       "      <td>-0.600</td>\n",
       "      <td>1.00</td>\n",
       "      <td>1.0</td>\n",
       "      <td>5.0</td>\n",
       "      <td>0.0</td>\n",
       "      <td>0.0</td>\n",
       "      <td>0.0</td>\n",
       "      <td>2.0</td>\n",
       "      <td>0.0</td>\n",
       "      <td>0.0</td>\n",
       "      <td>1.0</td>\n",
       "      <td>0.0</td>\n",
       "      <td>1.0</td>\n",
       "      <td>0.0</td>\n",
       "      <td>1.0</td>\n",
       "      <td>0.0</td>\n",
       "      <td>1.0</td>\n",
       "      <td>0.0</td>\n",
       "      <td>1.0</td>\n",
       "      <td>0.0</td>\n",
       "      <td>0.0</td>\n",
       "      <td>0.0</td>\n",
       "      <td>0.0</td>\n",
       "      <td>0.0</td>\n",
       "      <td>0.0</td>\n",
       "      <td>0.0</td>\n",
       "      <td>0.0</td>\n",
       "      <td>0.0</td>\n",
       "      <td>0.0</td>\n",
       "      <td>0.0</td>\n",
       "      <td>0.0</td>\n",
       "      <td>0.0</td>\n",
       "      <td>0.0</td>\n",
       "      <td>0.0</td>\n",
       "      <td>0.0</td>\n",
       "    </tr>\n",
       "    <tr>\n",
       "      <th>5621</th>\n",
       "      <td>Three beached whales rescued in Kerry - http://t.co/rQbsPUCjDF</td>\n",
       "      <td>1</td>\n",
       "      <td>three beached whales rescued in kerry</td>\n",
       "      <td>beach whale rescue kerry</td>\n",
       "      <td>1</td>\n",
       "      <td>8</td>\n",
       "      <td>1</td>\n",
       "      <td>0.125000</td>\n",
       "      <td>1</td>\n",
       "      <td>6.875000</td>\n",
       "      <td>62</td>\n",
       "      <td>6</td>\n",
       "      <td>0</td>\n",
       "      <td>0</td>\n",
       "      <td>0.000000</td>\n",
       "      <td>0.000000</td>\n",
       "      <td>4</td>\n",
       "      <td>1.0</td>\n",
       "      <td>0.000</td>\n",
       "      <td>0.00</td>\n",
       "      <td>0.0</td>\n",
       "      <td>1.0</td>\n",
       "      <td>0.0</td>\n",
       "      <td>1.0</td>\n",
       "      <td>0.0</td>\n",
       "      <td>1.0</td>\n",
       "      <td>0.0</td>\n",
       "      <td>0.0</td>\n",
       "      <td>0.0</td>\n",
       "      <td>0.0</td>\n",
       "      <td>0.0</td>\n",
       "      <td>1.0</td>\n",
       "      <td>1.0</td>\n",
       "      <td>0.0</td>\n",
       "      <td>0.0</td>\n",
       "      <td>0.0</td>\n",
       "      <td>0.0</td>\n",
       "      <td>0.0</td>\n",
       "      <td>0.0</td>\n",
       "      <td>1.0</td>\n",
       "      <td>0.0</td>\n",
       "      <td>0.0</td>\n",
       "      <td>0.0</td>\n",
       "      <td>0.0</td>\n",
       "      <td>0.0</td>\n",
       "      <td>0.0</td>\n",
       "      <td>0.0</td>\n",
       "      <td>0.0</td>\n",
       "      <td>0.0</td>\n",
       "      <td>0.0</td>\n",
       "      <td>0.0</td>\n",
       "      <td>0.0</td>\n",
       "      <td>0.0</td>\n",
       "    </tr>\n",
       "  </tbody>\n",
       "</table>\n",
       "</div>"
      ],
      "text/plain": [
       "                                                                                                                                                  text  target                                                                                                                       text_cleaned                                                                      preprocessed_text  sentence_count  word_count  stop_word_count  stop_word_share  url_count  mean_word_length  char_count  punctuation_count  hashtag_count  mention_count  polarity_raw  subjectivity_raw  unique_word_count  unique_word_share  polarity  subjectivity   DT   NN  PRP$  NNS  VBP   IN   MD   VB   JJ  PRP  JJS  VBN  VBD   TO  VBG   CC   RB   EX  VBZ   CD   WP   RP  JJR  WRB   FW  WDT  NNP  RBR  RBS  PDT  SYM   UH  WP$\n",
       "1817  This guy bought my car on Tuesday police knocked my door yday cos he crashed n ran &amp; 2day he text me asking not to send the log book????????       1  this guy bought my car on tuesday police knocked my door yday cos he crashed n ran day he text me asking not to send the log book  guy buy car tuesday police knock door yday cos crash n run day text ask send log book               1          29               10         0.344828          0          4.000000         144                 10              0              0      0.000000          0.000000                 18                1.0     0.000          0.00  2.0  7.0   2.0  0.0  0.0  1.0  0.0  1.0  3.0  3.0  0.0  0.0  4.0  1.0  1.0  0.0  2.0  0.0  1.0  0.0  0.0  0.0  0.0  0.0  0.0  0.0  0.0  0.0  0.0  0.0  0.0  0.0  0.0\n",
       "6820                                                             @lucysforsale funny cause my dumb ass was the young one to get n trouble the most lol       1                                                            funny cause my dumb ass was the young one to get n trouble the most lol                                               funny cause dumb ass young n trouble lol               1          17                6         0.352941          0          4.058824          85                  1              0              1      0.179167          0.550000                  8                1.0     0.115          0.56  2.0  4.0   1.0  0.0  0.0  0.0  0.0  1.0  4.0  0.0  0.0  0.0  1.0  1.0  0.0  0.0  0.0  0.0  0.0  1.0  0.0  0.0  0.0  0.0  0.0  0.0  0.0  0.0  1.0  0.0  0.0  0.0  0.0\n",
       "1606                                                                             Why did I come to work today.. Literally wanna collapse of exhaustion       1                                                              why did i come to work today literally want to collapse of exhaustion                                     come work today literally want collapse exhaustion               1          12                5         0.416667          0          4.833333          69                  2              0              0      0.000000          0.000000                  7                1.0     0.000          0.00  0.0  3.0   0.0  0.0  1.0  1.0  0.0  3.0  0.0  0.0  0.0  0.0  1.0  2.0  0.0  0.0  1.0  0.0  0.0  0.0  0.0  0.0  0.0  1.0  0.0  0.0  0.0  0.0  0.0  0.0  0.0  0.0  0.0\n",
       "4327                          The Murderous Story Of AmericaÛªs First Hijacking: Earnest PletchÛªs cold-blooded killing ofÛ_ http://t.co/B9JAxx0vCf       1                                           the murderous story of americas first hijacking earnest pletchs cold blooded killing of                    murderous story americas hijack earnest pletchs cold blooded killing               1          13                2         0.153846          1          8.307692         120                  8              0              0      0.250000          0.333333                  9                1.0    -0.600          1.00  1.0  5.0   0.0  0.0  0.0  2.0  0.0  0.0  1.0  0.0  1.0  0.0  1.0  0.0  1.0  0.0  1.0  0.0  0.0  0.0  0.0  0.0  0.0  0.0  0.0  0.0  0.0  0.0  0.0  0.0  0.0  0.0  0.0\n",
       "5621                                                                                    Three beached whales rescued in Kerry - http://t.co/rQbsPUCjDF       1                                                                                              three beached whales rescued in kerry                                                               beach whale rescue kerry               1           8                1         0.125000          1          6.875000          62                  6              0              0      0.000000          0.000000                  4                1.0     0.000          0.00  0.0  1.0   0.0  1.0  0.0  1.0  0.0  0.0  0.0  0.0  0.0  1.0  1.0  0.0  0.0  0.0  0.0  0.0  0.0  1.0  0.0  0.0  0.0  0.0  0.0  0.0  0.0  0.0  0.0  0.0  0.0  0.0  0.0"
      ]
     },
     "execution_count": 60,
     "metadata": {
      "tags": []
     },
     "output_type": "execute_result"
    }
   ],
   "source": [
    "def find_fn(ypred, ytrue):\n",
    "    y_fn = X_test[(ypred == 0) & (ypred != ytrue)]\n",
    "    return y_fn\n",
    "\n",
    "\n",
    "y_pred_model = svm_final.predict(X_test_tfidf)\n",
    "fn = find_fn(y_pred_model, y_test)\n",
    "print(\n",
    "    \"Number of False Negatives (Predicted Not Disaster/Actual Disaster): \",\n",
    "    fn.shape,\n",
    "    \"\\n\",\n",
    ")\n",
    "train_df.loc[fn.index[:5], :]"
   ]
  },
  {
   "cell_type": "markdown",
   "metadata": {
    "id": "z30qNrcRL2VI"
   },
   "source": [
    "**Predicted Pos/ Actual Neg**"
   ]
  },
  {
   "cell_type": "code",
   "execution_count": 61,
   "metadata": {
    "colab": {
     "base_uri": "https://localhost:8080/",
     "height": 956
    },
    "id": "6cDILx-QL2VI",
    "outputId": "db7bbe7d-c46e-4392-c6ac-3a7dc27603c0"
   },
   "outputs": [
    {
     "name": "stdout",
     "output_type": "stream",
     "text": [
      "Number of False Positives (Predicted Disaster/Actual Not Disaster)):  (223,) \n",
      "\n"
     ]
    },
    {
     "data": {
      "text/html": [
       "<div>\n",
       "<style scoped>\n",
       "    .dataframe tbody tr th:only-of-type {\n",
       "        vertical-align: middle;\n",
       "    }\n",
       "\n",
       "    .dataframe tbody tr th {\n",
       "        vertical-align: top;\n",
       "    }\n",
       "\n",
       "    .dataframe thead th {\n",
       "        text-align: right;\n",
       "    }\n",
       "</style>\n",
       "<table border=\"1\" class=\"dataframe\">\n",
       "  <thead>\n",
       "    <tr style=\"text-align: right;\">\n",
       "      <th></th>\n",
       "      <th>text</th>\n",
       "      <th>target</th>\n",
       "      <th>text_cleaned</th>\n",
       "      <th>preprocessed_text</th>\n",
       "      <th>sentence_count</th>\n",
       "      <th>word_count</th>\n",
       "      <th>stop_word_count</th>\n",
       "      <th>stop_word_share</th>\n",
       "      <th>url_count</th>\n",
       "      <th>mean_word_length</th>\n",
       "      <th>char_count</th>\n",
       "      <th>punctuation_count</th>\n",
       "      <th>hashtag_count</th>\n",
       "      <th>mention_count</th>\n",
       "      <th>polarity_raw</th>\n",
       "      <th>subjectivity_raw</th>\n",
       "      <th>unique_word_count</th>\n",
       "      <th>unique_word_share</th>\n",
       "      <th>polarity</th>\n",
       "      <th>subjectivity</th>\n",
       "      <th>DT</th>\n",
       "      <th>NN</th>\n",
       "      <th>PRP$</th>\n",
       "      <th>NNS</th>\n",
       "      <th>VBP</th>\n",
       "      <th>IN</th>\n",
       "      <th>MD</th>\n",
       "      <th>VB</th>\n",
       "      <th>JJ</th>\n",
       "      <th>PRP</th>\n",
       "      <th>JJS</th>\n",
       "      <th>VBN</th>\n",
       "      <th>VBD</th>\n",
       "      <th>TO</th>\n",
       "      <th>VBG</th>\n",
       "      <th>CC</th>\n",
       "      <th>RB</th>\n",
       "      <th>EX</th>\n",
       "      <th>VBZ</th>\n",
       "      <th>CD</th>\n",
       "      <th>WP</th>\n",
       "      <th>RP</th>\n",
       "      <th>JJR</th>\n",
       "      <th>WRB</th>\n",
       "      <th>FW</th>\n",
       "      <th>WDT</th>\n",
       "      <th>NNP</th>\n",
       "      <th>RBR</th>\n",
       "      <th>RBS</th>\n",
       "      <th>PDT</th>\n",
       "      <th>SYM</th>\n",
       "      <th>UH</th>\n",
       "      <th>WP$</th>\n",
       "    </tr>\n",
       "  </thead>\n",
       "  <tbody>\n",
       "    <tr>\n",
       "      <th>2786</th>\n",
       "      <td>The @rbcinsurance quote website = disaster. Tried 3 browsers &amp;amp; 3 machines. Always get 'Missing Info' error due to a non-existant drop down.</td>\n",
       "      <td>0</td>\n",
       "      <td>the quote website disaster tried browsers machines always get missing info error due to a non existant drop down</td>\n",
       "      <td>quote website disaster try browser machine miss info error non existant drop</td>\n",
       "      <td>1</td>\n",
       "      <td>23</td>\n",
       "      <td>3</td>\n",
       "      <td>0.130435</td>\n",
       "      <td>0</td>\n",
       "      <td>5.260870</td>\n",
       "      <td>143</td>\n",
       "      <td>10</td>\n",
       "      <td>0</td>\n",
       "      <td>1</td>\n",
       "      <td>-0.160185</td>\n",
       "      <td>0.237963</td>\n",
       "      <td>12</td>\n",
       "      <td>1.0</td>\n",
       "      <td>0.0000</td>\n",
       "      <td>0.0000</td>\n",
       "      <td>2.0</td>\n",
       "      <td>5.0</td>\n",
       "      <td>0.0</td>\n",
       "      <td>2.0</td>\n",
       "      <td>1.0</td>\n",
       "      <td>0.0</td>\n",
       "      <td>0.0</td>\n",
       "      <td>0.0</td>\n",
       "      <td>4.0</td>\n",
       "      <td>0.0</td>\n",
       "      <td>0.0</td>\n",
       "      <td>0.0</td>\n",
       "      <td>1.0</td>\n",
       "      <td>1.0</td>\n",
       "      <td>1.0</td>\n",
       "      <td>0.0</td>\n",
       "      <td>1.0</td>\n",
       "      <td>0.0</td>\n",
       "      <td>0.0</td>\n",
       "      <td>0.0</td>\n",
       "      <td>0.0</td>\n",
       "      <td>1.0</td>\n",
       "      <td>0.0</td>\n",
       "      <td>0.0</td>\n",
       "      <td>0.0</td>\n",
       "      <td>0.0</td>\n",
       "      <td>0.0</td>\n",
       "      <td>0.0</td>\n",
       "      <td>0.0</td>\n",
       "      <td>0.0</td>\n",
       "      <td>0.0</td>\n",
       "      <td>0.0</td>\n",
       "      <td>0.0</td>\n",
       "    </tr>\n",
       "    <tr>\n",
       "      <th>1052</th>\n",
       "      <td>beforeitsnews : Global Derivatives: $1.5 Quadrillion Time Bomb http://t.co/GhmmUj7GbE (vÛ_ http://t.co/u9LvvLzhYe) http://t.co/LyJ57pq3yX</td>\n",
       "      <td>0</td>\n",
       "      <td>beforeitsnews global derivatives quadrillion time bomb v</td>\n",
       "      <td>beforeitsnews global derivative quadrillion time bomb v</td>\n",
       "      <td>1</td>\n",
       "      <td>12</td>\n",
       "      <td>0</td>\n",
       "      <td>0.000000</td>\n",
       "      <td>3</td>\n",
       "      <td>10.583333</td>\n",
       "      <td>138</td>\n",
       "      <td>22</td>\n",
       "      <td>0</td>\n",
       "      <td>0</td>\n",
       "      <td>0.000000</td>\n",
       "      <td>0.000000</td>\n",
       "      <td>7</td>\n",
       "      <td>1.0</td>\n",
       "      <td>0.0000</td>\n",
       "      <td>0.0000</td>\n",
       "      <td>0.0</td>\n",
       "      <td>4.0</td>\n",
       "      <td>0.0</td>\n",
       "      <td>2.0</td>\n",
       "      <td>0.0</td>\n",
       "      <td>0.0</td>\n",
       "      <td>0.0</td>\n",
       "      <td>0.0</td>\n",
       "      <td>1.0</td>\n",
       "      <td>0.0</td>\n",
       "      <td>0.0</td>\n",
       "      <td>0.0</td>\n",
       "      <td>0.0</td>\n",
       "      <td>0.0</td>\n",
       "      <td>0.0</td>\n",
       "      <td>0.0</td>\n",
       "      <td>0.0</td>\n",
       "      <td>0.0</td>\n",
       "      <td>0.0</td>\n",
       "      <td>0.0</td>\n",
       "      <td>0.0</td>\n",
       "      <td>0.0</td>\n",
       "      <td>0.0</td>\n",
       "      <td>0.0</td>\n",
       "      <td>0.0</td>\n",
       "      <td>0.0</td>\n",
       "      <td>0.0</td>\n",
       "      <td>0.0</td>\n",
       "      <td>0.0</td>\n",
       "      <td>0.0</td>\n",
       "      <td>0.0</td>\n",
       "      <td>0.0</td>\n",
       "      <td>0.0</td>\n",
       "    </tr>\n",
       "    <tr>\n",
       "      <th>2782</th>\n",
       "      <td>@cncpts @SOLELINKS what a disaster - can't say I'm surprised</td>\n",
       "      <td>0</td>\n",
       "      <td>what a disaster cannot say i am surprised</td>\n",
       "      <td>disaster surprised</td>\n",
       "      <td>1</td>\n",
       "      <td>10</td>\n",
       "      <td>2</td>\n",
       "      <td>0.200000</td>\n",
       "      <td>0</td>\n",
       "      <td>5.100000</td>\n",
       "      <td>60</td>\n",
       "      <td>5</td>\n",
       "      <td>0</td>\n",
       "      <td>2</td>\n",
       "      <td>0.100000</td>\n",
       "      <td>0.900000</td>\n",
       "      <td>2</td>\n",
       "      <td>1.0</td>\n",
       "      <td>0.1000</td>\n",
       "      <td>0.9000</td>\n",
       "      <td>1.0</td>\n",
       "      <td>2.0</td>\n",
       "      <td>0.0</td>\n",
       "      <td>0.0</td>\n",
       "      <td>1.0</td>\n",
       "      <td>0.0</td>\n",
       "      <td>1.0</td>\n",
       "      <td>1.0</td>\n",
       "      <td>0.0</td>\n",
       "      <td>0.0</td>\n",
       "      <td>0.0</td>\n",
       "      <td>1.0</td>\n",
       "      <td>0.0</td>\n",
       "      <td>0.0</td>\n",
       "      <td>0.0</td>\n",
       "      <td>0.0</td>\n",
       "      <td>1.0</td>\n",
       "      <td>0.0</td>\n",
       "      <td>0.0</td>\n",
       "      <td>0.0</td>\n",
       "      <td>1.0</td>\n",
       "      <td>0.0</td>\n",
       "      <td>0.0</td>\n",
       "      <td>0.0</td>\n",
       "      <td>0.0</td>\n",
       "      <td>0.0</td>\n",
       "      <td>0.0</td>\n",
       "      <td>0.0</td>\n",
       "      <td>0.0</td>\n",
       "      <td>0.0</td>\n",
       "      <td>0.0</td>\n",
       "      <td>0.0</td>\n",
       "      <td>0.0</td>\n",
       "    </tr>\n",
       "    <tr>\n",
       "      <th>5556</th>\n",
       "      <td>Captain Abbott must go down with LNP boat #refugees #christianvalues https://t.co/Kp5dpOaF58</td>\n",
       "      <td>0</td>\n",
       "      <td>captain abbott must go down with lnp boat refugees christianvalues</td>\n",
       "      <td>captain abbott lnp boat refugee christianvalue</td>\n",
       "      <td>1</td>\n",
       "      <td>11</td>\n",
       "      <td>2</td>\n",
       "      <td>0.181818</td>\n",
       "      <td>1</td>\n",
       "      <td>7.454545</td>\n",
       "      <td>92</td>\n",
       "      <td>7</td>\n",
       "      <td>2</td>\n",
       "      <td>0</td>\n",
       "      <td>-0.155556</td>\n",
       "      <td>0.288889</td>\n",
       "      <td>6</td>\n",
       "      <td>1.0</td>\n",
       "      <td>0.0000</td>\n",
       "      <td>0.0000</td>\n",
       "      <td>0.0</td>\n",
       "      <td>3.0</td>\n",
       "      <td>0.0</td>\n",
       "      <td>2.0</td>\n",
       "      <td>0.0</td>\n",
       "      <td>1.0</td>\n",
       "      <td>1.0</td>\n",
       "      <td>1.0</td>\n",
       "      <td>1.0</td>\n",
       "      <td>0.0</td>\n",
       "      <td>0.0</td>\n",
       "      <td>0.0</td>\n",
       "      <td>0.0</td>\n",
       "      <td>0.0</td>\n",
       "      <td>0.0</td>\n",
       "      <td>0.0</td>\n",
       "      <td>0.0</td>\n",
       "      <td>0.0</td>\n",
       "      <td>0.0</td>\n",
       "      <td>0.0</td>\n",
       "      <td>0.0</td>\n",
       "      <td>1.0</td>\n",
       "      <td>0.0</td>\n",
       "      <td>0.0</td>\n",
       "      <td>0.0</td>\n",
       "      <td>0.0</td>\n",
       "      <td>0.0</td>\n",
       "      <td>0.0</td>\n",
       "      <td>0.0</td>\n",
       "      <td>0.0</td>\n",
       "      <td>0.0</td>\n",
       "      <td>0.0</td>\n",
       "      <td>0.0</td>\n",
       "    </tr>\n",
       "    <tr>\n",
       "      <th>1624</th>\n",
       "      <td>+ DID YOU SAY TO HIM!!?!?!?!' and phil actually collapsed on the gravel sobbing endlessly with a crowd watching him confused angry mad+</td>\n",
       "      <td>0</td>\n",
       "      <td>did you say to him and phil actually collapsed on the gravel sobbing endlessly with a crowd watching him confused angry mad</td>\n",
       "      <td>phil actually collapse gravel sob endlessly crowd watch confuse angry mad</td>\n",
       "      <td>1</td>\n",
       "      <td>23</td>\n",
       "      <td>9</td>\n",
       "      <td>0.391304</td>\n",
       "      <td>0</td>\n",
       "      <td>4.913043</td>\n",
       "      <td>135</td>\n",
       "      <td>11</td>\n",
       "      <td>0</td>\n",
       "      <td>0</td>\n",
       "      <td>-0.330000</td>\n",
       "      <td>0.710000</td>\n",
       "      <td>11</td>\n",
       "      <td>1.0</td>\n",
       "      <td>-0.3125</td>\n",
       "      <td>0.7125</td>\n",
       "      <td>2.0</td>\n",
       "      <td>3.0</td>\n",
       "      <td>0.0</td>\n",
       "      <td>0.0</td>\n",
       "      <td>1.0</td>\n",
       "      <td>2.0</td>\n",
       "      <td>0.0</td>\n",
       "      <td>1.0</td>\n",
       "      <td>2.0</td>\n",
       "      <td>3.0</td>\n",
       "      <td>0.0</td>\n",
       "      <td>1.0</td>\n",
       "      <td>2.0</td>\n",
       "      <td>1.0</td>\n",
       "      <td>1.0</td>\n",
       "      <td>1.0</td>\n",
       "      <td>2.0</td>\n",
       "      <td>0.0</td>\n",
       "      <td>0.0</td>\n",
       "      <td>0.0</td>\n",
       "      <td>0.0</td>\n",
       "      <td>0.0</td>\n",
       "      <td>0.0</td>\n",
       "      <td>0.0</td>\n",
       "      <td>0.0</td>\n",
       "      <td>0.0</td>\n",
       "      <td>0.0</td>\n",
       "      <td>0.0</td>\n",
       "      <td>0.0</td>\n",
       "      <td>0.0</td>\n",
       "      <td>0.0</td>\n",
       "      <td>0.0</td>\n",
       "      <td>0.0</td>\n",
       "    </tr>\n",
       "  </tbody>\n",
       "</table>\n",
       "</div>"
      ],
      "text/plain": [
       "                                                                                                                                                 text  target                                                                                                                   text_cleaned                                                             preprocessed_text  sentence_count  word_count  stop_word_count  stop_word_share  url_count  mean_word_length  char_count  punctuation_count  hashtag_count  mention_count  polarity_raw  subjectivity_raw  unique_word_count  unique_word_share  polarity  subjectivity   DT   NN  PRP$  NNS  VBP   IN   MD   VB   JJ  PRP  JJS  VBN  VBD   TO  VBG   CC   RB   EX  VBZ   CD   WP   RP  JJR  WRB   FW  WDT  NNP  RBR  RBS  PDT  SYM   UH  WP$\n",
       "2786  The @rbcinsurance quote website = disaster. Tried 3 browsers &amp; 3 machines. Always get 'Missing Info' error due to a non-existant drop down.       0               the quote website disaster tried browsers machines always get missing info error due to a non existant drop down  quote website disaster try browser machine miss info error non existant drop               1          23                3         0.130435          0          5.260870         143                 10              0              1     -0.160185          0.237963                 12                1.0    0.0000        0.0000  2.0  5.0   0.0  2.0  1.0  0.0  0.0  0.0  4.0  0.0  0.0  0.0  1.0  1.0  1.0  0.0  1.0  0.0  0.0  0.0  0.0  1.0  0.0  0.0  0.0  0.0  0.0  0.0  0.0  0.0  0.0  0.0  0.0\n",
       "1052       beforeitsnews : Global Derivatives: $1.5 Quadrillion Time Bomb http://t.co/GhmmUj7GbE (vÛ_ http://t.co/u9LvvLzhYe) http://t.co/LyJ57pq3yX       0                                                                      beforeitsnews global derivatives quadrillion time bomb v                        beforeitsnews global derivative quadrillion time bomb v               1          12                0         0.000000          3         10.583333         138                 22              0              0      0.000000          0.000000                  7                1.0    0.0000        0.0000  0.0  4.0   0.0  2.0  0.0  0.0  0.0  0.0  1.0  0.0  0.0  0.0  0.0  0.0  0.0  0.0  0.0  0.0  0.0  0.0  0.0  0.0  0.0  0.0  0.0  0.0  0.0  0.0  0.0  0.0  0.0  0.0  0.0\n",
       "2782                                                                                     @cncpts @SOLELINKS what a disaster - can't say I'm surprised       0                                                                                      what a disaster cannot say i am surprised                                                            disaster surprised               1          10                2         0.200000          0          5.100000          60                  5              0              2      0.100000          0.900000                  2                1.0    0.1000        0.9000  1.0  2.0   0.0  0.0  1.0  0.0  1.0  1.0  0.0  0.0  0.0  1.0  0.0  0.0  0.0  0.0  1.0  0.0  0.0  0.0  1.0  0.0  0.0  0.0  0.0  0.0  0.0  0.0  0.0  0.0  0.0  0.0  0.0\n",
       "5556                                                     Captain Abbott must go down with LNP boat #refugees #christianvalues https://t.co/Kp5dpOaF58       0                                                             captain abbott must go down with lnp boat refugees christianvalues                                captain abbott lnp boat refugee christianvalue               1          11                2         0.181818          1          7.454545          92                  7              2              0     -0.155556          0.288889                  6                1.0    0.0000        0.0000  0.0  3.0   0.0  2.0  0.0  1.0  1.0  1.0  1.0  0.0  0.0  0.0  0.0  0.0  0.0  0.0  0.0  0.0  0.0  0.0  0.0  1.0  0.0  0.0  0.0  0.0  0.0  0.0  0.0  0.0  0.0  0.0  0.0\n",
       "1624          + DID YOU SAY TO HIM!!?!?!?!' and phil actually collapsed on the gravel sobbing endlessly with a crowd watching him confused angry mad+       0   did you say to him and phil actually collapsed on the gravel sobbing endlessly with a crowd watching him confused angry mad      phil actually collapse gravel sob endlessly crowd watch confuse angry mad               1          23                9         0.391304          0          4.913043         135                 11              0              0     -0.330000          0.710000                 11                1.0   -0.3125        0.7125  2.0  3.0   0.0  0.0  1.0  2.0  0.0  1.0  2.0  3.0  0.0  1.0  2.0  1.0  1.0  1.0  2.0  0.0  0.0  0.0  0.0  0.0  0.0  0.0  0.0  0.0  0.0  0.0  0.0  0.0  0.0  0.0  0.0"
      ]
     },
     "execution_count": 61,
     "metadata": {
      "tags": []
     },
     "output_type": "execute_result"
    }
   ],
   "source": [
    "def find_fp(ypred, ytrue):\n",
    "    y_fp = X_test[(ypred == 1) & (ypred != ytrue)]\n",
    "    return y_fp\n",
    "\n",
    "\n",
    "fp = find_fp(y_pred_model, y_test)\n",
    "print(\n",
    "    \"Number of False Positives (Predicted Disaster/Actual Not Disaster)): \",\n",
    "    fp.shape,\n",
    "    \"\\n\",\n",
    ")\n",
    "train_df.loc[fp.index[:5], :]"
   ]
  },
  {
   "cell_type": "markdown",
   "metadata": {
    "id": "SGG5Z2dRL2V3"
   },
   "source": [
    "## Conclusions\n",
    "\n",
    "1. Linear SVC, Logistic Regression, Naive Bayes and XGBoost machine learning models with tuned hyperparameters were applied to the TF-IDF matrix obtained from the preprocessed texts.\n",
    "2. We have less than 100K samples, that is why SVM and Naive Bayes algorithms were executed.\n",
    "3. Our data is a sparse matrix, that is why Linear SVC and Logistic Regression work better than Boosting and Naive Bayes algorithms.\n",
    "4. We noticed that there are some tweets with incorrect class identification. In this case, it would be better to use SVC, rather than Logistic Regression model."
   ]
  },
  {
   "cell_type": "code",
   "execution_count": 61,
   "metadata": {
    "id": "JsfV08XHL2V3"
   },
   "outputs": [],
   "source": []
  }
 ],
 "metadata": {
  "accelerator": "TPU",
  "colab": {
   "name": "6_models_tfidf+SVM+Bayes.ipynb",
   "provenance": [],
   "toc_visible": true
  },
  "kernelspec": {
   "display_name": "Python 3",
   "language": "python",
   "name": "python3"
  },
  "language_info": {
   "codemirror_mode": {
    "name": "ipython",
    "version": 3
   },
   "file_extension": ".py",
   "mimetype": "text/x-python",
   "name": "python",
   "nbconvert_exporter": "python",
   "pygments_lexer": "ipython3",
   "version": "3.7.6"
  },
  "toc": {
   "base_numbering": 1,
   "nav_menu": {},
   "number_sections": true,
   "sideBar": true,
   "skip_h1_title": false,
   "title_cell": "Table of Contents",
   "title_sidebar": "Contents",
   "toc_cell": false,
   "toc_position": {
    "height": "calc(100% - 180px)",
    "left": "10px",
    "top": "150px",
    "width": "273.2px"
   },
   "toc_section_display": true,
   "toc_window_display": true
  }
 },
 "nbformat": 4,
 "nbformat_minor": 1
}
