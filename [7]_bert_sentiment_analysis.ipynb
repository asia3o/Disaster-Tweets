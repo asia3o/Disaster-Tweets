{
 "cells": [
  {
   "cell_type": "code",
   "execution_count": 1,
   "metadata": {
    "colab": {
     "base_uri": "https://localhost:8080/"
    },
    "id": "0NmMdkZO8R6q",
    "outputId": "b01eb682-097d-4e3e-b317-4671bee46764"
   },
   "outputs": [
    {
     "name": "stdout",
     "output_type": "stream",
     "text": [
      "Requirement already satisfied: transformers in /usr/local/lib/python3.6/dist-packages (3.5.1)\n",
      "Requirement already satisfied: packaging in /usr/local/lib/python3.6/dist-packages (from transformers) (20.4)\n",
      "Requirement already satisfied: requests in /usr/local/lib/python3.6/dist-packages (from transformers) (2.23.0)\n",
      "Requirement already satisfied: sacremoses in /usr/local/lib/python3.6/dist-packages (from transformers) (0.0.43)\n",
      "Requirement already satisfied: filelock in /usr/local/lib/python3.6/dist-packages (from transformers) (3.0.12)\n",
      "Requirement already satisfied: regex!=2019.12.17 in /usr/local/lib/python3.6/dist-packages (from transformers) (2019.12.20)\n",
      "Requirement already satisfied: numpy in /usr/local/lib/python3.6/dist-packages (from transformers) (1.18.5)\n",
      "Requirement already satisfied: tokenizers==0.9.3 in /usr/local/lib/python3.6/dist-packages (from transformers) (0.9.3)\n",
      "Requirement already satisfied: protobuf in /usr/local/lib/python3.6/dist-packages (from transformers) (3.12.4)\n",
      "Requirement already satisfied: tqdm>=4.27 in /usr/local/lib/python3.6/dist-packages (from transformers) (4.41.1)\n",
      "Requirement already satisfied: sentencepiece==0.1.91 in /usr/local/lib/python3.6/dist-packages (from transformers) (0.1.91)\n",
      "Requirement already satisfied: dataclasses; python_version < \"3.7\" in /usr/local/lib/python3.6/dist-packages (from transformers) (0.7)\n",
      "Requirement already satisfied: six in /usr/local/lib/python3.6/dist-packages (from packaging->transformers) (1.15.0)\n",
      "Requirement already satisfied: pyparsing>=2.0.2 in /usr/local/lib/python3.6/dist-packages (from packaging->transformers) (2.4.7)\n",
      "Requirement already satisfied: certifi>=2017.4.17 in /usr/local/lib/python3.6/dist-packages (from requests->transformers) (2020.6.20)\n",
      "Requirement already satisfied: chardet<4,>=3.0.2 in /usr/local/lib/python3.6/dist-packages (from requests->transformers) (3.0.4)\n",
      "Requirement already satisfied: idna<3,>=2.5 in /usr/local/lib/python3.6/dist-packages (from requests->transformers) (2.10)\n",
      "Requirement already satisfied: urllib3!=1.25.0,!=1.25.1,<1.26,>=1.21.1 in /usr/local/lib/python3.6/dist-packages (from requests->transformers) (1.24.3)\n",
      "Requirement already satisfied: joblib in /usr/local/lib/python3.6/dist-packages (from sacremoses->transformers) (0.17.0)\n",
      "Requirement already satisfied: click in /usr/local/lib/python3.6/dist-packages (from sacremoses->transformers) (7.1.2)\n",
      "Requirement already satisfied: setuptools in /usr/local/lib/python3.6/dist-packages (from protobuf->transformers) (50.3.2)\n"
     ]
    }
   ],
   "source": [
    "!pip install transformers"
   ]
  },
  {
   "cell_type": "code",
   "execution_count": 2,
   "metadata": {
    "id": "Ok002ceNB8E7"
   },
   "outputs": [],
   "source": [
    "from keras.preprocessing.sequence import pad_sequences\n",
    "import torch\n",
    "from torch.utils.data import TensorDataset, DataLoader, RandomSampler, SequentialSampler\n",
    "from transformers import BertTokenizer, BertConfig\n",
    "from transformers import AdamW, BertForSequenceClassification\n",
    "from tqdm import tqdm, trange"
   ]
  },
  {
   "cell_type": "code",
   "execution_count": 3,
   "metadata": {
    "id": "D-03W3sySDMA"
   },
   "outputs": [],
   "source": [
    "from IPython.display import clear_output\n",
    "import os\n",
    "from pathlib import Path\n",
    "\n",
    "import numpy as np\n",
    "import pandas as pd\n",
    "\n",
    "pd.set_option(\"display.max_rows\", 500)\n",
    "pd.set_option(\"display.max_columns\", 500)\n",
    "pd.set_option(\"display.width\", 1000)\n",
    "pd.set_option(\"display.max_colwidth\", 1000)\n",
    "\n",
    "from sklearn.metrics import (\n",
    "    accuracy_score,\n",
    "    f1_score,\n",
    "    precision_score,\n",
    "    recall_score,\n",
    "    roc_auc_score,\n",
    ")\n",
    "from sklearn.model_selection import (\n",
    "    StratifiedKFold,\n",
    "    StratifiedShuffleSplit,\n",
    "    train_test_split,\n",
    ")\n",
    "import matplotlib.pyplot as plt"
   ]
  },
  {
   "cell_type": "code",
   "execution_count": 4,
   "metadata": {
    "colab": {
     "base_uri": "https://localhost:8080/"
    },
    "id": "oYsV4H8fCpZ-",
    "outputId": "2985d2a5-4b8e-48e8-e14d-1662684fb0e9"
   },
   "outputs": [
    {
     "name": "stdout",
     "output_type": "stream",
     "text": [
      "Tesla T4\n"
     ]
    }
   ],
   "source": [
    "device = torch.device(\"cuda\" if torch.cuda.is_available() else \"cpu\")\n",
    "if device == \"cpu\":\n",
    "    print(\"cpu\")\n",
    "else:\n",
    "    n_gpu = torch.cuda.device_count()\n",
    "    print(torch.cuda.get_device_name(0))"
   ]
  },
  {
   "cell_type": "markdown",
   "metadata": {
    "id": "guw6ZNtaswKc"
   },
   "source": [
    "## Data preparation"
   ]
  },
  {
   "cell_type": "markdown",
   "metadata": {
    "id": "kCkGpvMLSDMg"
   },
   "source": [
    "In our dataset we have 3218 disaster tweets and 4302 not disaster tweets.    "
   ]
  },
  {
   "cell_type": "code",
   "execution_count": 5,
   "metadata": {
    "id": "y7YtFtEySDMv"
   },
   "outputs": [],
   "source": [
    "DATA_PATH = \"sample_data/\"\n",
    "TRAIN_FEATURES = os.path.join(DATA_PATH, \"train_new_features.csv\")"
   ]
  },
  {
   "cell_type": "code",
   "execution_count": 6,
   "metadata": {
    "id": "XgZ74C8uSDM6"
   },
   "outputs": [],
   "source": [
    "train_df = pd.read_csv(\n",
    "    TRAIN_FEATURES, index_col=0, encoding=\"utf-8\"\n",
    ")"
   ]
  },
  {
   "cell_type": "code",
   "execution_count": 7,
   "metadata": {
    "colab": {
     "base_uri": "https://localhost:8080/",
     "height": 306
    },
    "id": "vS9hs-oFSDNF",
    "outputId": "dd2c7405-372e-430b-db04-b9a7526211b6"
   },
   "outputs": [
    {
     "data": {
      "text/html": [
       "<div>\n",
       "<style scoped>\n",
       "    .dataframe tbody tr th:only-of-type {\n",
       "        vertical-align: middle;\n",
       "    }\n",
       "\n",
       "    .dataframe tbody tr th {\n",
       "        vertical-align: top;\n",
       "    }\n",
       "\n",
       "    .dataframe thead th {\n",
       "        text-align: right;\n",
       "    }\n",
       "</style>\n",
       "<table border=\"1\" class=\"dataframe\">\n",
       "  <thead>\n",
       "    <tr style=\"text-align: right;\">\n",
       "      <th></th>\n",
       "      <th>text</th>\n",
       "      <th>target</th>\n",
       "      <th>text_cleaned</th>\n",
       "      <th>preprocessed_text</th>\n",
       "      <th>sentence_count</th>\n",
       "      <th>word_count</th>\n",
       "      <th>stop_word_count</th>\n",
       "      <th>stop_word_share</th>\n",
       "      <th>url_count</th>\n",
       "      <th>mean_word_length</th>\n",
       "      <th>char_count</th>\n",
       "      <th>punctuation_count</th>\n",
       "      <th>hashtag_count</th>\n",
       "      <th>mention_count</th>\n",
       "      <th>polarity_raw</th>\n",
       "      <th>subjectivity_raw</th>\n",
       "      <th>unique_word_count</th>\n",
       "      <th>unique_word_share</th>\n",
       "      <th>polarity</th>\n",
       "      <th>subjectivity</th>\n",
       "      <th>DT</th>\n",
       "      <th>NN</th>\n",
       "      <th>PRP$</th>\n",
       "      <th>NNS</th>\n",
       "      <th>VBP</th>\n",
       "      <th>IN</th>\n",
       "      <th>MD</th>\n",
       "      <th>VB</th>\n",
       "      <th>JJ</th>\n",
       "      <th>PRP</th>\n",
       "      <th>JJS</th>\n",
       "      <th>VBN</th>\n",
       "      <th>VBD</th>\n",
       "      <th>TO</th>\n",
       "      <th>VBG</th>\n",
       "      <th>CC</th>\n",
       "      <th>RB</th>\n",
       "      <th>EX</th>\n",
       "      <th>VBZ</th>\n",
       "      <th>CD</th>\n",
       "      <th>WP</th>\n",
       "      <th>RP</th>\n",
       "      <th>JJR</th>\n",
       "      <th>WRB</th>\n",
       "      <th>FW</th>\n",
       "      <th>WDT</th>\n",
       "      <th>NNP</th>\n",
       "      <th>RBR</th>\n",
       "      <th>RBS</th>\n",
       "      <th>PDT</th>\n",
       "      <th>SYM</th>\n",
       "      <th>UH</th>\n",
       "      <th>WP$</th>\n",
       "    </tr>\n",
       "  </thead>\n",
       "  <tbody>\n",
       "    <tr>\n",
       "      <th>0</th>\n",
       "      <td>Our Deeds are the Reason of this #earthquake May ALLAH Forgive us all</td>\n",
       "      <td>1</td>\n",
       "      <td>our deeds are the reason of this earthquake may allah forgive us all</td>\n",
       "      <td>deed reason earthquake allah forgive</td>\n",
       "      <td>1</td>\n",
       "      <td>13</td>\n",
       "      <td>6</td>\n",
       "      <td>0.461538</td>\n",
       "      <td>0</td>\n",
       "      <td>4.384615</td>\n",
       "      <td>69</td>\n",
       "      <td>1</td>\n",
       "      <td>1</td>\n",
       "      <td>0</td>\n",
       "      <td>0.0</td>\n",
       "      <td>0.0</td>\n",
       "      <td>5</td>\n",
       "      <td>1.0</td>\n",
       "      <td>0.0</td>\n",
       "      <td>0.0</td>\n",
       "      <td>3.0</td>\n",
       "      <td>2.0</td>\n",
       "      <td>1.0</td>\n",
       "      <td>1.0</td>\n",
       "      <td>1.0</td>\n",
       "      <td>1.0</td>\n",
       "      <td>1.0</td>\n",
       "      <td>1.0</td>\n",
       "      <td>1.0</td>\n",
       "      <td>1.0</td>\n",
       "      <td>0.0</td>\n",
       "      <td>0.0</td>\n",
       "      <td>0.0</td>\n",
       "      <td>0.0</td>\n",
       "      <td>0.0</td>\n",
       "      <td>0.0</td>\n",
       "      <td>0.0</td>\n",
       "      <td>0.0</td>\n",
       "      <td>0.0</td>\n",
       "      <td>0.0</td>\n",
       "      <td>0.0</td>\n",
       "      <td>0.0</td>\n",
       "      <td>0.0</td>\n",
       "      <td>0.0</td>\n",
       "      <td>0.0</td>\n",
       "      <td>0.0</td>\n",
       "      <td>0.0</td>\n",
       "      <td>0.0</td>\n",
       "      <td>0.0</td>\n",
       "      <td>0.0</td>\n",
       "      <td>0.0</td>\n",
       "      <td>0.0</td>\n",
       "      <td>0.0</td>\n",
       "    </tr>\n",
       "    <tr>\n",
       "      <th>1</th>\n",
       "      <td>Forest fire near La Ronge Sask. Canada</td>\n",
       "      <td>1</td>\n",
       "      <td>forest fire near la ronge sask canada</td>\n",
       "      <td>forest fire near la ronge sask canada</td>\n",
       "      <td>1</td>\n",
       "      <td>7</td>\n",
       "      <td>0</td>\n",
       "      <td>0.000000</td>\n",
       "      <td>0</td>\n",
       "      <td>4.571429</td>\n",
       "      <td>38</td>\n",
       "      <td>1</td>\n",
       "      <td>0</td>\n",
       "      <td>0</td>\n",
       "      <td>0.1</td>\n",
       "      <td>0.4</td>\n",
       "      <td>7</td>\n",
       "      <td>1.0</td>\n",
       "      <td>0.1</td>\n",
       "      <td>0.4</td>\n",
       "      <td>0.0</td>\n",
       "      <td>4.0</td>\n",
       "      <td>0.0</td>\n",
       "      <td>0.0</td>\n",
       "      <td>0.0</td>\n",
       "      <td>1.0</td>\n",
       "      <td>0.0</td>\n",
       "      <td>0.0</td>\n",
       "      <td>1.0</td>\n",
       "      <td>0.0</td>\n",
       "      <td>1.0</td>\n",
       "      <td>0.0</td>\n",
       "      <td>0.0</td>\n",
       "      <td>0.0</td>\n",
       "      <td>0.0</td>\n",
       "      <td>0.0</td>\n",
       "      <td>0.0</td>\n",
       "      <td>0.0</td>\n",
       "      <td>0.0</td>\n",
       "      <td>0.0</td>\n",
       "      <td>0.0</td>\n",
       "      <td>0.0</td>\n",
       "      <td>0.0</td>\n",
       "      <td>0.0</td>\n",
       "      <td>0.0</td>\n",
       "      <td>0.0</td>\n",
       "      <td>0.0</td>\n",
       "      <td>0.0</td>\n",
       "      <td>0.0</td>\n",
       "      <td>0.0</td>\n",
       "      <td>0.0</td>\n",
       "      <td>0.0</td>\n",
       "      <td>0.0</td>\n",
       "    </tr>\n",
       "  </tbody>\n",
       "</table>\n",
       "</div>"
      ],
      "text/plain": [
       "                                                                    text  target                                                          text_cleaned                      preprocessed_text  sentence_count  word_count  stop_word_count  stop_word_share  url_count  mean_word_length  char_count  punctuation_count  hashtag_count  mention_count  polarity_raw  subjectivity_raw  unique_word_count  unique_word_share  polarity  subjectivity   DT   NN  PRP$  NNS  VBP   IN   MD   VB   JJ  PRP  JJS  VBN  VBD   TO  VBG   CC   RB   EX  VBZ   CD   WP   RP  JJR  WRB   FW  WDT  NNP  RBR  RBS  PDT  SYM   UH  WP$\n",
       "0  Our Deeds are the Reason of this #earthquake May ALLAH Forgive us all       1  our deeds are the reason of this earthquake may allah forgive us all   deed reason earthquake allah forgive               1          13                6         0.461538          0          4.384615          69                  1              1              0           0.0               0.0                  5                1.0       0.0           0.0  3.0  2.0   1.0  1.0  1.0  1.0  1.0  1.0  1.0  1.0  0.0  0.0  0.0  0.0  0.0  0.0  0.0  0.0  0.0  0.0  0.0  0.0  0.0  0.0  0.0  0.0  0.0  0.0  0.0  0.0  0.0  0.0  0.0\n",
       "1                                 Forest fire near La Ronge Sask. Canada       1                                 forest fire near la ronge sask canada  forest fire near la ronge sask canada               1           7                0         0.000000          0          4.571429          38                  1              0              0           0.1               0.4                  7                1.0       0.1           0.4  0.0  4.0   0.0  0.0  0.0  1.0  0.0  0.0  1.0  0.0  1.0  0.0  0.0  0.0  0.0  0.0  0.0  0.0  0.0  0.0  0.0  0.0  0.0  0.0  0.0  0.0  0.0  0.0  0.0  0.0  0.0  0.0  0.0"
      ]
     },
     "execution_count": 7,
     "metadata": {
      "tags": []
     },
     "output_type": "execute_result"
    }
   ],
   "source": [
    "train_df.head(2)"
   ]
  },
  {
   "cell_type": "code",
   "execution_count": 8,
   "metadata": {
    "colab": {
     "base_uri": "https://localhost:8080/"
    },
    "id": "Zj0H619gSDNR",
    "outputId": "f5b0a291-1972-4dd3-cdad-b1822c16948f"
   },
   "outputs": [
    {
     "data": {
      "text/plain": [
       "(7520, 53)"
      ]
     },
     "execution_count": 8,
     "metadata": {
      "tags": []
     },
     "output_type": "execute_result"
    }
   ],
   "source": [
    "train_df.shape"
   ]
  },
  {
   "cell_type": "markdown",
   "metadata": {
    "id": "Hluc8z5A8DRZ"
   },
   "source": [
    "An input sentence for a classification task should go through the following steps before being fed into the BERT model:\n",
    "\n",
    "- Adding the [CLS] token at the beginning of the sentence\n",
    "- Adding the [SEP] token at the end of the sentence\n",
    "- Tokenization: breaking down of the sentence into tokens\n",
    "- Converting each token into their corresponding IDs in the model\n",
    "- Padding the sentence with [PAD] tokens so that the total length equals to the maximum length"
   ]
  },
  {
   "cell_type": "markdown",
   "metadata": {
    "id": "xxTFY7iZ8DRa"
   },
   "source": [
    "### Adding the [CLS] and [SEP] tokens"
   ]
  },
  {
   "cell_type": "code",
   "execution_count": 9,
   "metadata": {
    "id": "XXT69QlnSDNx"
   },
   "outputs": [],
   "source": [
    "text = train_df[\"text\"].values\n",
    "\n",
    "sentences = [\"[CLS] \" + sentence + \" [SEP]\" for sentence in text]\n",
    "labels = train_df[\"target\"].values"
   ]
  },
  {
   "cell_type": "code",
   "execution_count": 10,
   "metadata": {
    "id": "c_Yja9SUSDN7"
   },
   "outputs": [],
   "source": [
    "assert len(sentences) == len(labels) == train_df.shape[0]"
   ]
  },
  {
   "cell_type": "code",
   "execution_count": 11,
   "metadata": {
    "colab": {
     "base_uri": "https://localhost:8080/"
    },
    "id": "WlDaSXuDSDOJ",
    "outputId": "40021bfd-ecd9-4e59-b924-3e971e2a4790"
   },
   "outputs": [
    {
     "name": "stdout",
     "output_type": "stream",
     "text": [
      "[CLS] @Drake is body bagging meek meanwhile he's on tour with Nicki all hush hush...he's put 2 diss tracks out and meek 0 but dude started it lol [SEP]\n"
     ]
    }
   ],
   "source": [
    "print(sentences[1000])"
   ]
  },
  {
   "cell_type": "markdown",
   "metadata": {
    "id": "BvuzVFyJ8DRb"
   },
   "source": [
    "### Holdout set split"
   ]
  },
  {
   "cell_type": "markdown",
   "metadata": {
    "id": "ANTFIfRh8DRb"
   },
   "source": [
    "Let's split our samples to make a holdout set."
   ]
  },
  {
   "cell_type": "code",
   "execution_count": 12,
   "metadata": {
    "id": "dMLzduRVSDOU"
   },
   "outputs": [],
   "source": [
    "train_sentences, test_sentences, train_gt, test_gt = train_test_split(\n",
    "    sentences, labels, test_size=0.3\n",
    ")"
   ]
  },
  {
   "cell_type": "markdown",
   "metadata": {
    "id": "pbtIJgDVSDOb"
   },
   "source": [
    "We have 5264 samples in train set and 2256 in test set."
   ]
  },
  {
   "cell_type": "code",
   "execution_count": 13,
   "metadata": {
    "colab": {
     "base_uri": "https://localhost:8080/"
    },
    "id": "jPty919-SDOc",
    "outputId": "ef9e86cb-3b02-44bc-dea2-f29e74ae8ca4"
   },
   "outputs": [
    {
     "name": "stdout",
     "output_type": "stream",
     "text": [
      "5264 2256\n"
     ]
    }
   ],
   "source": [
    "print(len(train_gt), len(test_gt))"
   ]
  },
  {
   "cell_type": "markdown",
   "metadata": {
    "id": "ex5O1eV-Pfct"
   },
   "source": [
    "### Tokenization"
   ]
  },
  {
   "cell_type": "markdown",
   "metadata": {
    "id": "Pag7VK_i8DRc"
   },
   "source": [
    "Let's use tokenizer for pretrained model BERT Base presents 12 layers (transformers blocks), hidden size of 768, 12 self-attention heads and a final number of parameters of 110 million.\n",
    "This model is trained on lower-cased English text."
   ]
  },
  {
   "cell_type": "code",
   "execution_count": 14,
   "metadata": {
    "colab": {
     "base_uri": "https://localhost:8080/"
    },
    "id": "Z474sSC6oe7A",
    "outputId": "3991816e-7601-4df2-9ef8-774f9b4e8143"
   },
   "outputs": [
    {
     "name": "stdout",
     "output_type": "stream",
     "text": [
      "['[CLS]', 'spot', 'flood', 'combo', '53', '##in', '##ch', '300', '##w', 'curved', 'cree', 'led', 'work', 'light', 'bar', '4', '##x', '##4', 'off', '##ro', '##ad', 'fog', 'lamp', '-', 'full', 're', '##u', '_', 'http', ':', '/', '/', 't', '.', 'co', '/', 'xx', '##kh', '##j', '##ys', '##n', '##0', '##p', 'http', ':', '/', '/', 't', '.', 'co', '/', 'je', '##v', '##h', '##k', '##n', '##j', '##gb', '##x', '[SEP]']\n"
     ]
    }
   ],
   "source": [
    "tokenizer = BertTokenizer.from_pretrained(\"bert-base-uncased\", do_lower_case=True)\n",
    "\n",
    "tokenized_texts = [tokenizer.tokenize(sent) for sent in train_sentences]\n",
    "print(tokenized_texts[0])"
   ]
  },
  {
   "cell_type": "markdown",
   "metadata": {
    "id": "bdelmqkW8DRd"
   },
   "source": [
    "### Input IDs"
   ]
  },
  {
   "cell_type": "code",
   "execution_count": 15,
   "metadata": {
    "id": "Cp9BPRd1tMIo"
   },
   "outputs": [],
   "source": [
    "input_ids = [tokenizer.convert_tokens_to_ids(x) for x in tokenized_texts]"
   ]
  },
  {
   "cell_type": "markdown",
   "metadata": {
    "id": "YRcsBULj8DRd"
   },
   "source": [
    "### Padding the sentence"
   ]
  },
  {
   "cell_type": "code",
   "execution_count": 17,
   "metadata": {
    "id": "g0yM1vhQ8DRd"
   },
   "outputs": [],
   "source": [
    "input_ids = pad_sequences(\n",
    "    input_ids,\n",
    "    maxlen=250,\n",
    "    dtype=\"long\",\n",
    "    truncating=\"post\",\n",
    "    padding=\"post\",\n",
    ")\n",
    "attention_masks = [[float(i>0) for i in seq] for seq in input_ids]"
   ]
  },
  {
   "cell_type": "markdown",
   "metadata": {
    "id": "d72S7qo-8DRd"
   },
   "source": [
    "### Train - validation set split"
   ]
  },
  {
   "cell_type": "code",
   "execution_count": 18,
   "metadata": {
    "id": "aFbE-UHvsb7-"
   },
   "outputs": [],
   "source": [
    "train_inputs, validation_inputs, train_labels, validation_labels = train_test_split(\n",
    "    input_ids, train_gt, \n",
    "    random_state=42,\n",
    "    test_size=0.1\n",
    ")\n",
    "\n",
    "train_masks, validation_masks, _, _ = train_test_split(\n",
    "    attention_masks,\n",
    "    input_ids,\n",
    "    random_state=42,\n",
    "    test_size=0.1,\n",
    ")"
   ]
  },
  {
   "cell_type": "markdown",
   "metadata": {
    "id": "6W8qcaiE8DRd"
   },
   "source": [
    "### Prepare model input"
   ]
  },
  {
   "cell_type": "code",
   "execution_count": 19,
   "metadata": {
    "id": "jw5K2A5Ko1RF"
   },
   "outputs": [],
   "source": [
    "train_inputs = torch.tensor(train_inputs)\n",
    "train_labels = torch.tensor(train_labels)\n",
    "train_masks = torch.tensor(train_masks)"
   ]
  },
  {
   "cell_type": "code",
   "execution_count": 20,
   "metadata": {
    "id": "AxNNvlmcSDPP"
   },
   "outputs": [],
   "source": [
    "validation_inputs = torch.tensor(validation_inputs)\n",
    "validation_labels = torch.tensor(validation_labels)\n",
    "validation_masks = torch.tensor(validation_masks)"
   ]
  },
  {
   "cell_type": "code",
   "execution_count": 21,
   "metadata": {
    "colab": {
     "base_uri": "https://localhost:8080/"
    },
    "id": "9aZAOBGTSDPY",
    "outputId": "3548e5aa-bf8d-4310-d70d-76b9c14796a9"
   },
   "outputs": [
    {
     "data": {
      "text/plain": [
       "tensor([1, 1, 0,  ..., 0, 0, 1])"
      ]
     },
     "execution_count": 21,
     "metadata": {
      "tags": []
     },
     "output_type": "execute_result"
    }
   ],
   "source": [
    "train_labels"
   ]
  },
  {
   "cell_type": "code",
   "execution_count": 22,
   "metadata": {
    "colab": {
     "base_uri": "https://localhost:8080/"
    },
    "id": "mUqp6xDJeQaT",
    "outputId": "47929089-973b-4373-9743-bec48ffaa0c0"
   },
   "outputs": [
    {
     "data": {
      "text/plain": [
       "tensor([[  101,  4040,  4053,  ...,     0,     0,     0],\n",
       "        [  101,  5729,  8505,  ...,     0,     0,     0],\n",
       "        [  101,  1005, 14976,  ...,     0,     0,     0],\n",
       "        ...,\n",
       "        [  101,  1045,  1005,  ...,     0,     0,     0],\n",
       "        [  101,  1998,  2059,  ...,     0,     0,     0],\n",
       "        [  101,  2149,  5620,  ...,     0,     0,     0]])"
      ]
     },
     "execution_count": 22,
     "metadata": {
      "tags": []
     },
     "output_type": "execute_result"
    }
   ],
   "source": [
    "train_inputs"
   ]
  },
  {
   "cell_type": "markdown",
   "metadata": {
    "id": "uYEF8fFo8DRh"
   },
   "source": [
    "To make our data generated in parallel by the CPU, which can then be fed to the GPU for neural network computations, we will use DataLoader iterator."
   ]
  },
  {
   "cell_type": "code",
   "execution_count": 23,
   "metadata": {
    "id": "GEgLpFVlo1Z-"
   },
   "outputs": [],
   "source": [
    "train_data = TensorDataset(train_inputs, train_masks, train_labels)\n",
    "train_dataloader = DataLoader(\n",
    "    train_data,\n",
    "    sampler=RandomSampler(train_data),\n",
    "    batch_size=32,\n",
    ")"
   ]
  },
  {
   "cell_type": "code",
   "execution_count": 24,
   "metadata": {
    "id": "tlTgLAKhSDPo"
   },
   "outputs": [],
   "source": [
    "validation_data = TensorDataset(validation_inputs, validation_masks, validation_labels)\n",
    "validation_dataloader = DataLoader(\n",
    "    validation_data,\n",
    "    sampler=SequentialSampler(validation_data),\n",
    "    batch_size=32,\n",
    ")"
   ]
  },
  {
   "cell_type": "markdown",
   "metadata": {
    "id": "pNl8khAhPYju"
   },
   "source": [
    "## Fine-tuning a BERT model"
   ]
  },
  {
   "cell_type": "markdown",
   "metadata": {
    "id": "Y5-MWXgb8DRh"
   },
   "source": [
    "For this task, we first want to modify the pre-trained BERT model to give outputs for classification.\n",
    "\n",
    "We’ll be using BertForSequenceClassification. This is the normal BERT model with an added single linear layer on top for classification that we will use as a sentence classifier. As we feed input data, the entire pre-trained BERT model and the additional untrained classification layer is trained on our specific task."
   ]
  },
  {
   "cell_type": "code",
   "execution_count": 25,
   "metadata": {
    "colab": {
     "base_uri": "https://localhost:8080/"
    },
    "id": "gFsCTp_mporB",
    "outputId": "78c3e0c9-d07a-421d-ecad-9f6e81c68da3"
   },
   "outputs": [
    {
     "name": "stderr",
     "output_type": "stream",
     "text": [
      "Some weights of the model checkpoint at bert-base-uncased were not used when initializing BertForSequenceClassification: ['cls.predictions.bias', 'cls.predictions.transform.dense.weight', 'cls.predictions.transform.dense.bias', 'cls.predictions.decoder.weight', 'cls.seq_relationship.weight', 'cls.seq_relationship.bias', 'cls.predictions.transform.LayerNorm.weight', 'cls.predictions.transform.LayerNorm.bias']\n",
      "- This IS expected if you are initializing BertForSequenceClassification from the checkpoint of a model trained on another task or with another architecture (e.g. initializing a BertForSequenceClassification model from a BertForPreTraining model).\n",
      "- This IS NOT expected if you are initializing BertForSequenceClassification from the checkpoint of a model that you expect to be exactly identical (initializing a BertForSequenceClassification model from a BertForSequenceClassification model).\n",
      "Some weights of BertForSequenceClassification were not initialized from the model checkpoint at bert-base-uncased and are newly initialized: ['classifier.weight', 'classifier.bias']\n",
      "You should probably TRAIN this model on a down-stream task to be able to use it for predictions and inference.\n"
     ]
    },
    {
     "data": {
      "text/plain": [
       "BertForSequenceClassification(\n",
       "  (bert): BertModel(\n",
       "    (embeddings): BertEmbeddings(\n",
       "      (word_embeddings): Embedding(30522, 768, padding_idx=0)\n",
       "      (position_embeddings): Embedding(512, 768)\n",
       "      (token_type_embeddings): Embedding(2, 768)\n",
       "      (LayerNorm): LayerNorm((768,), eps=1e-12, elementwise_affine=True)\n",
       "      (dropout): Dropout(p=0.1, inplace=False)\n",
       "    )\n",
       "    (encoder): BertEncoder(\n",
       "      (layer): ModuleList(\n",
       "        (0): BertLayer(\n",
       "          (attention): BertAttention(\n",
       "            (self): BertSelfAttention(\n",
       "              (query): Linear(in_features=768, out_features=768, bias=True)\n",
       "              (key): Linear(in_features=768, out_features=768, bias=True)\n",
       "              (value): Linear(in_features=768, out_features=768, bias=True)\n",
       "              (dropout): Dropout(p=0.1, inplace=False)\n",
       "            )\n",
       "            (output): BertSelfOutput(\n",
       "              (dense): Linear(in_features=768, out_features=768, bias=True)\n",
       "              (LayerNorm): LayerNorm((768,), eps=1e-12, elementwise_affine=True)\n",
       "              (dropout): Dropout(p=0.1, inplace=False)\n",
       "            )\n",
       "          )\n",
       "          (intermediate): BertIntermediate(\n",
       "            (dense): Linear(in_features=768, out_features=3072, bias=True)\n",
       "          )\n",
       "          (output): BertOutput(\n",
       "            (dense): Linear(in_features=3072, out_features=768, bias=True)\n",
       "            (LayerNorm): LayerNorm((768,), eps=1e-12, elementwise_affine=True)\n",
       "            (dropout): Dropout(p=0.1, inplace=False)\n",
       "          )\n",
       "        )\n",
       "        (1): BertLayer(\n",
       "          (attention): BertAttention(\n",
       "            (self): BertSelfAttention(\n",
       "              (query): Linear(in_features=768, out_features=768, bias=True)\n",
       "              (key): Linear(in_features=768, out_features=768, bias=True)\n",
       "              (value): Linear(in_features=768, out_features=768, bias=True)\n",
       "              (dropout): Dropout(p=0.1, inplace=False)\n",
       "            )\n",
       "            (output): BertSelfOutput(\n",
       "              (dense): Linear(in_features=768, out_features=768, bias=True)\n",
       "              (LayerNorm): LayerNorm((768,), eps=1e-12, elementwise_affine=True)\n",
       "              (dropout): Dropout(p=0.1, inplace=False)\n",
       "            )\n",
       "          )\n",
       "          (intermediate): BertIntermediate(\n",
       "            (dense): Linear(in_features=768, out_features=3072, bias=True)\n",
       "          )\n",
       "          (output): BertOutput(\n",
       "            (dense): Linear(in_features=3072, out_features=768, bias=True)\n",
       "            (LayerNorm): LayerNorm((768,), eps=1e-12, elementwise_affine=True)\n",
       "            (dropout): Dropout(p=0.1, inplace=False)\n",
       "          )\n",
       "        )\n",
       "        (2): BertLayer(\n",
       "          (attention): BertAttention(\n",
       "            (self): BertSelfAttention(\n",
       "              (query): Linear(in_features=768, out_features=768, bias=True)\n",
       "              (key): Linear(in_features=768, out_features=768, bias=True)\n",
       "              (value): Linear(in_features=768, out_features=768, bias=True)\n",
       "              (dropout): Dropout(p=0.1, inplace=False)\n",
       "            )\n",
       "            (output): BertSelfOutput(\n",
       "              (dense): Linear(in_features=768, out_features=768, bias=True)\n",
       "              (LayerNorm): LayerNorm((768,), eps=1e-12, elementwise_affine=True)\n",
       "              (dropout): Dropout(p=0.1, inplace=False)\n",
       "            )\n",
       "          )\n",
       "          (intermediate): BertIntermediate(\n",
       "            (dense): Linear(in_features=768, out_features=3072, bias=True)\n",
       "          )\n",
       "          (output): BertOutput(\n",
       "            (dense): Linear(in_features=3072, out_features=768, bias=True)\n",
       "            (LayerNorm): LayerNorm((768,), eps=1e-12, elementwise_affine=True)\n",
       "            (dropout): Dropout(p=0.1, inplace=False)\n",
       "          )\n",
       "        )\n",
       "        (3): BertLayer(\n",
       "          (attention): BertAttention(\n",
       "            (self): BertSelfAttention(\n",
       "              (query): Linear(in_features=768, out_features=768, bias=True)\n",
       "              (key): Linear(in_features=768, out_features=768, bias=True)\n",
       "              (value): Linear(in_features=768, out_features=768, bias=True)\n",
       "              (dropout): Dropout(p=0.1, inplace=False)\n",
       "            )\n",
       "            (output): BertSelfOutput(\n",
       "              (dense): Linear(in_features=768, out_features=768, bias=True)\n",
       "              (LayerNorm): LayerNorm((768,), eps=1e-12, elementwise_affine=True)\n",
       "              (dropout): Dropout(p=0.1, inplace=False)\n",
       "            )\n",
       "          )\n",
       "          (intermediate): BertIntermediate(\n",
       "            (dense): Linear(in_features=768, out_features=3072, bias=True)\n",
       "          )\n",
       "          (output): BertOutput(\n",
       "            (dense): Linear(in_features=3072, out_features=768, bias=True)\n",
       "            (LayerNorm): LayerNorm((768,), eps=1e-12, elementwise_affine=True)\n",
       "            (dropout): Dropout(p=0.1, inplace=False)\n",
       "          )\n",
       "        )\n",
       "        (4): BertLayer(\n",
       "          (attention): BertAttention(\n",
       "            (self): BertSelfAttention(\n",
       "              (query): Linear(in_features=768, out_features=768, bias=True)\n",
       "              (key): Linear(in_features=768, out_features=768, bias=True)\n",
       "              (value): Linear(in_features=768, out_features=768, bias=True)\n",
       "              (dropout): Dropout(p=0.1, inplace=False)\n",
       "            )\n",
       "            (output): BertSelfOutput(\n",
       "              (dense): Linear(in_features=768, out_features=768, bias=True)\n",
       "              (LayerNorm): LayerNorm((768,), eps=1e-12, elementwise_affine=True)\n",
       "              (dropout): Dropout(p=0.1, inplace=False)\n",
       "            )\n",
       "          )\n",
       "          (intermediate): BertIntermediate(\n",
       "            (dense): Linear(in_features=768, out_features=3072, bias=True)\n",
       "          )\n",
       "          (output): BertOutput(\n",
       "            (dense): Linear(in_features=3072, out_features=768, bias=True)\n",
       "            (LayerNorm): LayerNorm((768,), eps=1e-12, elementwise_affine=True)\n",
       "            (dropout): Dropout(p=0.1, inplace=False)\n",
       "          )\n",
       "        )\n",
       "        (5): BertLayer(\n",
       "          (attention): BertAttention(\n",
       "            (self): BertSelfAttention(\n",
       "              (query): Linear(in_features=768, out_features=768, bias=True)\n",
       "              (key): Linear(in_features=768, out_features=768, bias=True)\n",
       "              (value): Linear(in_features=768, out_features=768, bias=True)\n",
       "              (dropout): Dropout(p=0.1, inplace=False)\n",
       "            )\n",
       "            (output): BertSelfOutput(\n",
       "              (dense): Linear(in_features=768, out_features=768, bias=True)\n",
       "              (LayerNorm): LayerNorm((768,), eps=1e-12, elementwise_affine=True)\n",
       "              (dropout): Dropout(p=0.1, inplace=False)\n",
       "            )\n",
       "          )\n",
       "          (intermediate): BertIntermediate(\n",
       "            (dense): Linear(in_features=768, out_features=3072, bias=True)\n",
       "          )\n",
       "          (output): BertOutput(\n",
       "            (dense): Linear(in_features=3072, out_features=768, bias=True)\n",
       "            (LayerNorm): LayerNorm((768,), eps=1e-12, elementwise_affine=True)\n",
       "            (dropout): Dropout(p=0.1, inplace=False)\n",
       "          )\n",
       "        )\n",
       "        (6): BertLayer(\n",
       "          (attention): BertAttention(\n",
       "            (self): BertSelfAttention(\n",
       "              (query): Linear(in_features=768, out_features=768, bias=True)\n",
       "              (key): Linear(in_features=768, out_features=768, bias=True)\n",
       "              (value): Linear(in_features=768, out_features=768, bias=True)\n",
       "              (dropout): Dropout(p=0.1, inplace=False)\n",
       "            )\n",
       "            (output): BertSelfOutput(\n",
       "              (dense): Linear(in_features=768, out_features=768, bias=True)\n",
       "              (LayerNorm): LayerNorm((768,), eps=1e-12, elementwise_affine=True)\n",
       "              (dropout): Dropout(p=0.1, inplace=False)\n",
       "            )\n",
       "          )\n",
       "          (intermediate): BertIntermediate(\n",
       "            (dense): Linear(in_features=768, out_features=3072, bias=True)\n",
       "          )\n",
       "          (output): BertOutput(\n",
       "            (dense): Linear(in_features=3072, out_features=768, bias=True)\n",
       "            (LayerNorm): LayerNorm((768,), eps=1e-12, elementwise_affine=True)\n",
       "            (dropout): Dropout(p=0.1, inplace=False)\n",
       "          )\n",
       "        )\n",
       "        (7): BertLayer(\n",
       "          (attention): BertAttention(\n",
       "            (self): BertSelfAttention(\n",
       "              (query): Linear(in_features=768, out_features=768, bias=True)\n",
       "              (key): Linear(in_features=768, out_features=768, bias=True)\n",
       "              (value): Linear(in_features=768, out_features=768, bias=True)\n",
       "              (dropout): Dropout(p=0.1, inplace=False)\n",
       "            )\n",
       "            (output): BertSelfOutput(\n",
       "              (dense): Linear(in_features=768, out_features=768, bias=True)\n",
       "              (LayerNorm): LayerNorm((768,), eps=1e-12, elementwise_affine=True)\n",
       "              (dropout): Dropout(p=0.1, inplace=False)\n",
       "            )\n",
       "          )\n",
       "          (intermediate): BertIntermediate(\n",
       "            (dense): Linear(in_features=768, out_features=3072, bias=True)\n",
       "          )\n",
       "          (output): BertOutput(\n",
       "            (dense): Linear(in_features=3072, out_features=768, bias=True)\n",
       "            (LayerNorm): LayerNorm((768,), eps=1e-12, elementwise_affine=True)\n",
       "            (dropout): Dropout(p=0.1, inplace=False)\n",
       "          )\n",
       "        )\n",
       "        (8): BertLayer(\n",
       "          (attention): BertAttention(\n",
       "            (self): BertSelfAttention(\n",
       "              (query): Linear(in_features=768, out_features=768, bias=True)\n",
       "              (key): Linear(in_features=768, out_features=768, bias=True)\n",
       "              (value): Linear(in_features=768, out_features=768, bias=True)\n",
       "              (dropout): Dropout(p=0.1, inplace=False)\n",
       "            )\n",
       "            (output): BertSelfOutput(\n",
       "              (dense): Linear(in_features=768, out_features=768, bias=True)\n",
       "              (LayerNorm): LayerNorm((768,), eps=1e-12, elementwise_affine=True)\n",
       "              (dropout): Dropout(p=0.1, inplace=False)\n",
       "            )\n",
       "          )\n",
       "          (intermediate): BertIntermediate(\n",
       "            (dense): Linear(in_features=768, out_features=3072, bias=True)\n",
       "          )\n",
       "          (output): BertOutput(\n",
       "            (dense): Linear(in_features=3072, out_features=768, bias=True)\n",
       "            (LayerNorm): LayerNorm((768,), eps=1e-12, elementwise_affine=True)\n",
       "            (dropout): Dropout(p=0.1, inplace=False)\n",
       "          )\n",
       "        )\n",
       "        (9): BertLayer(\n",
       "          (attention): BertAttention(\n",
       "            (self): BertSelfAttention(\n",
       "              (query): Linear(in_features=768, out_features=768, bias=True)\n",
       "              (key): Linear(in_features=768, out_features=768, bias=True)\n",
       "              (value): Linear(in_features=768, out_features=768, bias=True)\n",
       "              (dropout): Dropout(p=0.1, inplace=False)\n",
       "            )\n",
       "            (output): BertSelfOutput(\n",
       "              (dense): Linear(in_features=768, out_features=768, bias=True)\n",
       "              (LayerNorm): LayerNorm((768,), eps=1e-12, elementwise_affine=True)\n",
       "              (dropout): Dropout(p=0.1, inplace=False)\n",
       "            )\n",
       "          )\n",
       "          (intermediate): BertIntermediate(\n",
       "            (dense): Linear(in_features=768, out_features=3072, bias=True)\n",
       "          )\n",
       "          (output): BertOutput(\n",
       "            (dense): Linear(in_features=3072, out_features=768, bias=True)\n",
       "            (LayerNorm): LayerNorm((768,), eps=1e-12, elementwise_affine=True)\n",
       "            (dropout): Dropout(p=0.1, inplace=False)\n",
       "          )\n",
       "        )\n",
       "        (10): BertLayer(\n",
       "          (attention): BertAttention(\n",
       "            (self): BertSelfAttention(\n",
       "              (query): Linear(in_features=768, out_features=768, bias=True)\n",
       "              (key): Linear(in_features=768, out_features=768, bias=True)\n",
       "              (value): Linear(in_features=768, out_features=768, bias=True)\n",
       "              (dropout): Dropout(p=0.1, inplace=False)\n",
       "            )\n",
       "            (output): BertSelfOutput(\n",
       "              (dense): Linear(in_features=768, out_features=768, bias=True)\n",
       "              (LayerNorm): LayerNorm((768,), eps=1e-12, elementwise_affine=True)\n",
       "              (dropout): Dropout(p=0.1, inplace=False)\n",
       "            )\n",
       "          )\n",
       "          (intermediate): BertIntermediate(\n",
       "            (dense): Linear(in_features=768, out_features=3072, bias=True)\n",
       "          )\n",
       "          (output): BertOutput(\n",
       "            (dense): Linear(in_features=3072, out_features=768, bias=True)\n",
       "            (LayerNorm): LayerNorm((768,), eps=1e-12, elementwise_affine=True)\n",
       "            (dropout): Dropout(p=0.1, inplace=False)\n",
       "          )\n",
       "        )\n",
       "        (11): BertLayer(\n",
       "          (attention): BertAttention(\n",
       "            (self): BertSelfAttention(\n",
       "              (query): Linear(in_features=768, out_features=768, bias=True)\n",
       "              (key): Linear(in_features=768, out_features=768, bias=True)\n",
       "              (value): Linear(in_features=768, out_features=768, bias=True)\n",
       "              (dropout): Dropout(p=0.1, inplace=False)\n",
       "            )\n",
       "            (output): BertSelfOutput(\n",
       "              (dense): Linear(in_features=768, out_features=768, bias=True)\n",
       "              (LayerNorm): LayerNorm((768,), eps=1e-12, elementwise_affine=True)\n",
       "              (dropout): Dropout(p=0.1, inplace=False)\n",
       "            )\n",
       "          )\n",
       "          (intermediate): BertIntermediate(\n",
       "            (dense): Linear(in_features=768, out_features=3072, bias=True)\n",
       "          )\n",
       "          (output): BertOutput(\n",
       "            (dense): Linear(in_features=3072, out_features=768, bias=True)\n",
       "            (LayerNorm): LayerNorm((768,), eps=1e-12, elementwise_affine=True)\n",
       "            (dropout): Dropout(p=0.1, inplace=False)\n",
       "          )\n",
       "        )\n",
       "      )\n",
       "    )\n",
       "    (pooler): BertPooler(\n",
       "      (dense): Linear(in_features=768, out_features=768, bias=True)\n",
       "      (activation): Tanh()\n",
       "    )\n",
       "  )\n",
       "  (dropout): Dropout(p=0.1, inplace=False)\n",
       "  (classifier): Linear(in_features=768, out_features=2, bias=True)\n",
       ")"
      ]
     },
     "execution_count": 25,
     "metadata": {
      "tags": []
     },
     "output_type": "execute_result"
    }
   ],
   "source": [
    "model = BertForSequenceClassification.from_pretrained(\"bert-base-uncased\", num_labels=2)\n",
    "model.cuda()"
   ]
  },
  {
   "cell_type": "markdown",
   "metadata": {
    "id": "D70T4lDY8DRj"
   },
   "source": [
    "For the purposes of fine-tuning, the it is recommended choosing from the following values (from Appendix A.3 of the BERT paper):\n",
    "\n",
    "        Batch size: 16, 32\n",
    "        Learning rate (Adam): 5e-5, 3e-5, 2e-5\n",
    "        Number of epochs: 2, 3, 4"
   ]
  },
  {
   "cell_type": "code",
   "execution_count": 26,
   "metadata": {
    "id": "QxSMw0FrptiL"
   },
   "outputs": [],
   "source": [
    "param_optimizer = list(model.named_parameters())\n",
    "no_decay = [\"bias\", \"gamma\", \"beta\"]\n",
    "optimizer_grouped_parameters = [\n",
    "    {\n",
    "        \"params\": [\n",
    "            p for n, p in param_optimizer if not any(nd in n for nd in no_decay)\n",
    "        ],\n",
    "        \"weight_decay_rate\": 0.01,\n",
    "    },\n",
    "    {\n",
    "        \"params\": [p for n, p in param_optimizer if any(nd in n for nd in no_decay)],\n",
    "        \"weight_decay_rate\": 0.0,\n",
    "    },\n",
    "]\n",
    "\n",
    "optimizer = AdamW(optimizer_grouped_parameters, lr=2e-5)"
   ]
  },
  {
   "cell_type": "markdown",
   "metadata": {
    "id": "gJYz4mtFSDQW"
   },
   "source": [
    "We chose to run for 1 epoch. Below is our training loop."
   ]
  },
  {
   "cell_type": "code",
   "execution_count": 27,
   "metadata": {
    "colab": {
     "base_uri": "https://localhost:8080/",
     "height": 312
    },
    "id": "6J-FYdx6nFE_",
    "outputId": "b3bc6c78-bf3d-4078-fc5a-0957b7a69403"
   },
   "outputs": [
    {
     "data": {
      "image/png": "[encoded data removed]",
      "text/plain": [
       "<Figure size 432x288 with 1 Axes>"
      ]
     },
     "metadata": {
      "needs_background": "light",
      "tags": []
     },
     "output_type": "display_data"
    },
    {
     "name": "stdout",
     "output_type": "stream",
     "text": [
      "Loss on Training set: 0.46973\n"
     ]
    }
   ],
   "source": [
    "train_loss_set = []\n",
    "train_loss = 0\n",
    "\n",
    "model.train()\n",
    "\n",
    "for step, batch in enumerate(train_dataloader):\n",
    "    batch = tuple(t.to(device) for t in batch)\n",
    "    b_input_ids, b_input_mask, b_labels = batch\n",
    "    optimizer.zero_grad()\n",
    "    \n",
    "    # Forward pass\n",
    "    loss = model(\n",
    "        b_input_ids, token_type_ids=None, attention_mask=b_input_mask, labels=b_labels\n",
    "    )\n",
    "    train_loss_set.append(loss[0].item())\n",
    "\n",
    "    # Backward pass\n",
    "    loss[0].backward()\n",
    "\n",
    "    optimizer.step()\n",
    "    train_loss += loss[0].item()\n",
    "\n",
    "    clear_output(True)\n",
    "    plt.plot(train_loss_set)\n",
    "    plt.title(\"Training loss\")\n",
    "    plt.xlabel(\"Batch\")\n",
    "    plt.ylabel(\"Loss\")\n",
    "    plt.show()\n",
    "\n",
    "print(\"Loss on Training set: {0:.5f}\".format(train_loss / len(train_dataloader)))"
   ]
  },
  {
   "cell_type": "markdown",
   "metadata": {
    "id": "FNVf8J7fSDQh"
   },
   "source": [
    "Put the model in evaluation mode."
   ]
  },
  {
   "cell_type": "code",
   "execution_count": 28,
   "metadata": {
    "id": "y-pjuyCnSDQk"
   },
   "outputs": [],
   "source": [
    "model.eval()\n",
    "\n",
    "valid_preds, valid_labels = [], []\n",
    "\n",
    "for batch in validation_dataloader:\n",
    "    batch = tuple(t.to(device) for t in batch)\n",
    "    b_input_ids, b_input_mask, b_labels = batch\n",
    "    with torch.no_grad():\n",
    "        logits = model(b_input_ids, token_type_ids=None, attention_mask=b_input_mask)\n",
    "    logits = logits[0].detach().cpu().numpy()\n",
    "    label_ids = b_labels.to(\"cpu\").numpy()\n",
    "\n",
    "    batch_preds = np.argmax(logits, axis=1)\n",
    "    batch_labels = np.concatenate([label_ids])\n",
    "    valid_preds.extend(batch_preds)\n",
    "    valid_labels.extend(batch_labels)"
   ]
  },
  {
   "cell_type": "markdown",
   "metadata": {
    "id": "l3cXKnx7SDQr"
   },
   "source": [
    "Report the final F1-score for this validation run."
   ]
  },
  {
   "cell_type": "code",
   "execution_count": 29,
   "metadata": {
    "colab": {
     "base_uri": "https://localhost:8080/"
    },
    "id": "cLcKLXdb8DRm",
    "outputId": "02b5e9f6-40c0-4f49-bb1c-9314c52dbb37"
   },
   "outputs": [
    {
     "name": "stdout",
     "output_type": "stream",
     "text": [
      "\n",
      "f1_score:  0.84\n"
     ]
    }
   ],
   "source": [
    "print(\n",
    "    \"\\nf1_score:  {:.2f}\".format(\n",
    "        f1_score(valid_labels, valid_preds, average=\"macro\")\n",
    "    )\n",
    ")"
   ]
  },
  {
   "cell_type": "markdown",
   "metadata": {
    "id": "mkyubuJSOzg3"
   },
   "source": [
    "## Performance on test set"
   ]
  },
  {
   "cell_type": "markdown",
   "metadata": {
    "id": "icFxXGelSDQ1"
   },
   "source": [
    "**Data preparation.**"
   ]
  },
  {
   "cell_type": "code",
   "execution_count": 30,
   "metadata": {
    "id": "mAN0LZBOOPVh"
   },
   "outputs": [],
   "source": [
    "tokenized_texts = [tokenizer.tokenize(sent) for sent in test_sentences]\n",
    "input_ids = [tokenizer.convert_tokens_to_ids(x) for x in tokenized_texts]\n",
    "\n",
    "input_ids = pad_sequences(\n",
    "    input_ids,\n",
    "    maxlen=250,\n",
    "    dtype=\"long\",\n",
    "    truncating=\"post\",\n",
    "    padding=\"post\",\n",
    ")"
   ]
  },
  {
   "cell_type": "code",
   "execution_count": 31,
   "metadata": {
    "id": "_xhf6qvYSDQ8"
   },
   "outputs": [],
   "source": [
    "attention_masks = [[float(i>0) for i in seq] for seq in input_ids]\n",
    "\n",
    "prediction_inputs = torch.tensor(input_ids)\n",
    "prediction_masks = torch.tensor(attention_masks)\n",
    "prediction_labels = torch.tensor(test_gt)\n",
    "\n",
    "prediction_data = TensorDataset(\n",
    "    prediction_inputs,\n",
    "    prediction_masks,\n",
    "    prediction_labels,\n",
    ")\n",
    "\n",
    "prediction_dataloader = DataLoader(\n",
    "    prediction_data, \n",
    "    sampler=SequentialSampler(prediction_data),\n",
    "    batch_size=32,\n",
    ")"
   ]
  },
  {
   "cell_type": "code",
   "execution_count": 32,
   "metadata": {
    "id": "Hba10sXR7Xi6"
   },
   "outputs": [],
   "source": [
    "model.eval()\n",
    "test_preds, test_labels = [], []\n",
    "\n",
    "for batch in prediction_dataloader:\n",
    "    batch = tuple(t.to(device) for t in batch)\n",
    "    b_input_ids, b_input_mask, b_labels = batch\n",
    "    with torch.no_grad():\n",
    "        logits = model(b_input_ids, token_type_ids=None, attention_mask=b_input_mask)\n",
    "    logits = logits[0].detach().cpu().numpy()\n",
    "    label_ids = b_labels.to(\"cpu\").numpy()\n",
    "    batch_preds = np.argmax(logits, axis=1)\n",
    "    batch_labels = np.concatenate([label_ids])\n",
    "    test_preds.extend(batch_preds)\n",
    "    test_labels.extend(batch_labels)"
   ]
  },
  {
   "cell_type": "code",
   "execution_count": 33,
   "metadata": {
    "id": "m5VSBTE18DRo"
   },
   "outputs": [],
   "source": [
    "def get_scores(y_test, y_pred, name):\n",
    "    accuracy = accuracy_score(y_test, y_pred)\n",
    "    precision = precision_score(y_test, y_pred)\n",
    "    recall = recall_score(y_test, y_pred)\n",
    "    f1 = f1_score(y_test, y_pred, average=\"macro\")\n",
    "    roc_auc = roc_auc_score(y_test, y_pred)\n",
    "    columns = [\"accuracy\", \"precision\", \"recall\", \"F1-macro\", \"AUC-ROC\"]\n",
    "    results = pd.DataFrame(\n",
    "        [accuracy, precision, recall, f1, roc_auc], index=columns, columns=[name]\n",
    "    ).T\n",
    "    return results"
   ]
  },
  {
   "cell_type": "code",
   "execution_count": 34,
   "metadata": {
    "colab": {
     "base_uri": "https://localhost:8080/",
     "height": 81
    },
    "id": "Of3LVvWg8DRo",
    "outputId": "75fafa91-007e-4144-f54a-6f8a18f3d73f"
   },
   "outputs": [
    {
     "data": {
      "text/html": [
       "<div>\n",
       "<style scoped>\n",
       "    .dataframe tbody tr th:only-of-type {\n",
       "        vertical-align: middle;\n",
       "    }\n",
       "\n",
       "    .dataframe tbody tr th {\n",
       "        vertical-align: top;\n",
       "    }\n",
       "\n",
       "    .dataframe thead th {\n",
       "        text-align: right;\n",
       "    }\n",
       "</style>\n",
       "<table border=\"1\" class=\"dataframe\">\n",
       "  <thead>\n",
       "    <tr style=\"text-align: right;\">\n",
       "      <th></th>\n",
       "      <th>accuracy</th>\n",
       "      <th>precision</th>\n",
       "      <th>recall</th>\n",
       "      <th>F1-macro</th>\n",
       "      <th>AUC-ROC</th>\n",
       "    </tr>\n",
       "  </thead>\n",
       "  <tbody>\n",
       "    <tr>\n",
       "      <th>BERT</th>\n",
       "      <td>0.837766</td>\n",
       "      <td>0.824044</td>\n",
       "      <td>0.786236</td>\n",
       "      <td>0.832977</td>\n",
       "      <td>0.831052</td>\n",
       "    </tr>\n",
       "  </tbody>\n",
       "</table>\n",
       "</div>"
      ],
      "text/plain": [
       "      accuracy  precision    recall  F1-macro   AUC-ROC\n",
       "BERT  0.837766   0.824044  0.786236  0.832977  0.831052"
      ]
     },
     "execution_count": 34,
     "metadata": {
      "tags": []
     },
     "output_type": "execute_result"
    }
   ],
   "source": [
    "results_bert = get_scores(test_labels, test_preds, name=\"BERT\")\n",
    "results_bert"
   ]
  },
  {
   "cell_type": "markdown",
   "metadata": {
    "id": "UtYqQfFOSDRM"
   },
   "source": [
    "F1-score on holdout set equal to 0.83 is not so different from the result on validation set (0.84).\n",
    "Without doing any hyperparameter tuning (adjusting the learning rate, epochs, batch size, ADAM properties, etc.) we are able to get a good score."
   ]
  },
  {
   "cell_type": "markdown",
   "metadata": {
    "id": "BfjZVuIu8DRp"
   },
   "source": [
    "## Mispredicted tweets"
   ]
  },
  {
   "cell_type": "code",
   "execution_count": 35,
   "metadata": {
    "colab": {
     "base_uri": "https://localhost:8080/"
    },
    "id": "Vh0C0GkeSDRN",
    "outputId": "17bb3522-8dec-4ca1-90ff-97e6726af989"
   },
   "outputs": [
    {
     "name": "stdout",
     "output_type": "stream",
     "text": [
      "Number of mispredicted tweets: 366/2256\n"
     ]
    }
   ],
   "source": [
    "print(\n",
    "    \"Number of mispredicted tweets: {0}/{1}\".format(\n",
    "        sum([z[0] != z[1] for z in zip(test_labels, test_preds)]),\n",
    "        len(test_labels),\n",
    "    )\n",
    ")"
   ]
  },
  {
   "cell_type": "markdown",
   "metadata": {
    "id": "4bjgiUW9oVK8"
   },
   "source": [
    "**Predicted Neg/Actual Pos**"
   ]
  },
  {
   "cell_type": "code",
   "execution_count": 36,
   "metadata": {
    "id": "bS4X-8V1Kw0z"
   },
   "outputs": [],
   "source": [
    "def find_fn(ypred, ytrue):\n",
    "    z = [(i == 0) & (i != j) for i, j in zip(ypred, ytrue)]\n",
    "    index_list = [index for index, element in enumerate(z, start=1) if element]\n",
    "    y_fn = [test_sentences[i] for i in index_list]\n",
    "    return y_fn\n",
    "\n",
    "\n",
    "fn = find_fn(test_preds, test_labels)"
   ]
  },
  {
   "cell_type": "code",
   "execution_count": 37,
   "metadata": {
    "colab": {
     "base_uri": "https://localhost:8080/"
    },
    "id": "59jTSlsZSDRl",
    "outputId": "99562036-b367-49b9-cebc-220832d25d7d"
   },
   "outputs": [
    {
     "name": "stdout",
     "output_type": "stream",
     "text": [
      "Number of False Negatives (Predicted Not Disaster/Actual Disaster):  205 \n",
      "\n"
     ]
    },
    {
     "data": {
      "text/plain": [
       "['[CLS] #what #tribal Olap #world pres: http://t.co/Jw6FNnsSxT How To Recognize A Hazardous Waste And The Multidimensi http://t.co/4zAzTB19qE [SEP]',\n",
       " '[CLS] In Lies We Trust #dvd CIA Hollywood and Bioterrorism Len Horowitz Vaccines Nwo http://t.co/6PAGJqfbzK http://t.co/qzizElxbyr [SEP]',\n",
       " '[CLS] @suelinflower there is no words to describe the physical painthey ripped you apart while you screamed for dear lifeits like been engulfed [SEP]',\n",
       " '[CLS] No #news of #hostages in #Libya\\n\\nhttp://t.co/k9FBtcCU58\\n\\n#India #terrorism #Africa #AP #TS #NRI #News #TRS #TDP #BJP http://t.co/XYj0rPsAI2 [SEP]',\n",
       " \"[CLS] @susanj357 @msnbc @allinwithchris it's like watching a hostage video sometimes ... But not always ( at least not yet) [SEP]\",\n",
       " \"[CLS] Sadly How Windows 10 Reveals Microsoft's Ethics Armageddon http://t.co/sTfTjCrjEa [SEP]\",\n",
       " '[CLS] #Glaucoma occurs when fluid builds up pressure inside #eye to a level that may damage optic nerve #eyefacts [SEP]',\n",
       " '[CLS] 70 years ago today 1945 #Hiroshima was the first nuclear atomic bomb leaving a major disaster in the wake. http://t.co/oW4GeXyNbH [SEP]',\n",
       " '[CLS] @billy_hodge Aurora theater shooting trial: Gunman expected notoriety for mass murder and nothing else  http://t.co/1RPCHRu72C [SEP]',\n",
       " '[CLS] Save the upset and stress of upheaval and let us help keep #elderly people independent! #companionship #care #Chester @chestertweetsuk [SEP]',\n",
       " \"[CLS] @emaaalay thank you. ?? now I don't have a city wide curfew. ???? [SEP]\",\n",
       " '[CLS] Reddit Will Now Quarantine Offensive Content http://t.co/cNsHlNjUqX [SEP]',\n",
       " '[CLS] @chowtaxis of Newport a big thanks for the emergency run to pick Jackie up from Bristol temple messages much appreciated [SEP]',\n",
       " '[CLS] @Snazzychipz OMG... WHAT IS THE SUB WEAPON [SEP]',\n",
       " '[CLS] hermancranston: #atk #LetsFootball RT SkanndTyagi: #letsFootball #atk WIRED : All these fires are burning through \\x89Û_ http://t.co/DmTab6g7j7 [SEP]',\n",
       " '[CLS] I concur. The longer you spend with your child the more harm?  Mmk https://t.co/dxwfX56pWh [SEP]',\n",
       " '[CLS] The Latest: More Homes Razed by Northern California Wildfire - ABC News http://t.co/6AcSWzo7cw [SEP]',\n",
       " \"[CLS] 'It looks like a mudslide!' And #GBBO is back with a belter! [SEP]\",\n",
       " '[CLS] Live updates: Boyd gets out of trouble in 5th http://t.co/3ugfpwMY2x via @detroitnews [SEP]',\n",
       " '[CLS] @Jenniferarri_ comeeeee! ...but why is it bout to storm tho [SEP]',\n",
       " '[CLS] IT STARTS A FOREST FIRE THAT CANNOT BE PUT OUT. http://t.co/3STfmN26r9 [SEP]',\n",
       " '[CLS] Some crazy lightning outside [SEP]',\n",
       " '[CLS] California is battling its scariest 2015 wildfire so far - the Rocky Fire http://t.co/sPT54KfA9Q [SEP]',\n",
       " '[CLS] #hot  C-130 specially modified to land in a stadium and rescue hostages in Iran in 1980 http://t.co/fQWTSxLkrZ #prebreak #best [SEP]',\n",
       " \"[CLS] think i'll become a businessman a demolish a community centre and build condos on it but foiled by a troupe of multi-racial breakdancers . [SEP]\",\n",
       " '[CLS] # handbags Genuine Mulberry Antony Cross Body Messenger Bag Dark Oak Soft Buffalo Leather:  å£279.00End Date: W... http://t.co/FTM4RKl8mN [SEP]',\n",
       " '[CLS] @gideonstrumpet Have you been held hostage? [SEP]',\n",
       " \"[CLS] don't get on I77 south... huge wreck and airlift and maybe some deaths interstate is completely blocked [SEP]\",\n",
       " '[CLS] so paulista injured wilshere [SEP]',\n",
       " \"[CLS] I came up with an idea of a fragrance concept for a bath bomb called The Blood of my Enemies. So you can say that's what you bathe in. [SEP]\",\n",
       " '[CLS] someone: mentions gansey on fire\\nme busting through the brick walls of seven different buildings: [SEP]',\n",
       " '[CLS] Manuel hoping for an early Buffalo snowstorm so his accuracy improves. [SEP]',\n",
       " \"[CLS] @MrTophyPup it's bloody sexy *drools* [SEP]\",\n",
       " '[CLS] I liked a @YouTube video http://t.co/YdgiUYdqgb Mini Pony packs a punch. Live report from the Salem County Fair on CBS3 Eyewitness [SEP]',\n",
       " '[CLS] Its like I never left. I just sunk to the background [SEP]',\n",
       " '[CLS] Several wild fires have burned a lot of land in California. Here is one of the larger fires. http://t.co/2M1gNeaiFl http://t.co/UQh85MiP0v [SEP]',\n",
       " '[CLS] @biggangVH1 looks like George was having a panic attack. LOL. [SEP]',\n",
       " '[CLS] Zodiac Girl feat Trey Dupree (Produced By Sparkz Beatz) | Chuck Da Arsonist http://t.co/HDKd9J2lw0 [SEP]',\n",
       " \"[CLS] .\\n.@Colts get demolished by #Patriots like 500-7 and whine to @nfl about 'integrity' #CantMakeItUp #PatriotsNation http://t.co/tpW5gPmhQ4 [SEP]\",\n",
       " '[CLS] Great one time deal on all Avalanche music and with purchase get a Neal Rigga shirt http://t.co/4VIRXkgMpC [SEP]',\n",
       " '[CLS] @Michael5SOS haha so would you say its so hot your balls are burning off???? [SEP]',\n",
       " '[CLS] @JakeGint the mass murder got her hot and bothered but at heart she was always a traditionalist. [SEP]',\n",
       " '[CLS] #news Britons rescued amid Himalaya floods http://t.co/kEPznhXHXd [SEP]',\n",
       " '[CLS] The forest service now spends &gt;50% of its budget fighting fires http://t.co/SrSLCxHc2T [SEP]',\n",
       " '[CLS] Dublin I580 E / I580 E North Flynn Rd Onr **Trfc Collision-No Inj** http://t.co/in8LyS7v5l [SEP]',\n",
       " '[CLS] Telnet attacked from 124.13.172.40 (STREAMYX-HOME-SOUTHERN MY) [SEP]',\n",
       " '[CLS] (OFFICIAL VID) &gt; #DoubleCups &gt;&gt; https://t.co/lfKMTZaEkk &gt;&gt; @TrubGME Prod @THISIZBWRIGHT &gt;&gt; #ARMAGEDDON                 . [SEP]',\n",
       " \"[CLS] I'm about to be obliterated [SEP]\",\n",
       " '[CLS] Parker Ridge Fact Sheet Aug 6 2015 (Parker Ridge Wildfire): Information Phone: 208-267-6773 Email: pa... http://t.co/ezEIsaSm0C #IDFire [SEP]',\n",
       " '[CLS] @UN No more #GujaratRiot &amp; #MumbaiRiot92-93 which devastated 1000&amp;1000 Indianperpetrated by #Modi &amp; #ChawalChorbjp @UN_Women  @UNNewsTeam [SEP]',\n",
       " '[CLS] A change in the State fire code prohibits grills on decks at condos and apartment buildings.  Check with your... http://t.co/KE1ZS6NAml [SEP]',\n",
       " \"[CLS] Did you know @lilithsaintcrow had a new release this week? BLOOD CALL  'An ancient evil has been trapped...' http://t.co/eSwNSetFtf \\x89Û_ [SEP]\",\n",
       " \"[CLS] California man facing manslaughter charge in Sunday's wrong-way fatal crash in ... - http://t.co/1vz3RmjHy4: Ca... http://t.co/xevUEEfQBZ [SEP]\",\n",
       " '[CLS] Skinny Jeans are Hazardous for Your Health! #socialnews http://t.co/LTMa9xQXpx [SEP]',\n",
       " \"[CLS] @ZXAThetis 'Are you okay?! I electrocute you TOO badly right?' [SEP]\",\n",
       " '[CLS] The MF Life is a vocal and lyrical bomb. Saw her live this summer. AMAZING vocalist. RT @THEmale_madonna: Melanie Fiona is so slept on ?? [SEP]',\n",
       " '[CLS] Crptotech tsunami and banks.\\n http://t.co/KHzTeVeDja #Banking #tech #bitcoing #blockchain [SEP]',\n",
       " '[CLS] #greatbritishbakeoff love to know where I was when all this nice weather happened! Did miss the heat wave ?? ?? [SEP]',\n",
       " '[CLS] MP train derailment: Village youth saved many lives\\nhttp://t.co/lTYeFJdM3A #IndiaTV http://t.co/0La1aw9uUd [SEP]',\n",
       " '[CLS] Investigators have said a Virgin Galactic spaceship crash was caused by structural failure after the co-pilot ... http://t.co/PnhPLJHo8E [SEP]',\n",
       " '[CLS] Severe Thunderstorm Warning including Russellville AR Clarksville AR Dardanelle AR until 10:15 PM CDT http://t.co/n844h1ASPj [SEP]',\n",
       " '[CLS] @aria_ahrary @TheTawniest The out of control wild fires in California even in the Northern part of the state. Very troubling. [SEP]',\n",
       " '[CLS] We have overrun a Natural Disaster Survival server! [SEP]',\n",
       " '[CLS] sorry-I built a fire by my desk already. RT@irishirr\\n@MChapmanWSAZ @WSAZ_Brittany @kellyannwx ..please maintain that snowstorm til I arrive. [SEP]',\n",
       " \"[CLS] Have to laughtraders panicking over market down 1%. Some see these as positive capitulation. THAT'S A JOKE. More to come may be ugly [SEP]\",\n",
       " '[CLS] Plains All American Pipeline company may have spilled 40% more crude oil than previously estimated #KSBYNews @lilitan http://t.co/PegibIqk2w [SEP]',\n",
       " '[CLS] Nothing like a good fire https://t.co/ItFbBz9xYC [SEP]',\n",
       " '[CLS] Investigators rule catastrophic structural failure resulted in 2014 ... http://t.co/QU1IUg3E9r [SEP]',\n",
       " \"[CLS] @Kiwi_Karyn Check out what's in my parking lot!! He said that until last year it was an ambulance in St Johns. http://t.co/hPvOdUD7iP [SEP]\",\n",
       " '[CLS] Reid Lake fire prompts campground evacuation order http://t.co/jBODKM6rBU [SEP]',\n",
       " \"[CLS] If I'm also not mistaken we're sitting right next 2 a nuclear reactor. Not smart when we have a cataclysmic event &amp; that reator melts down. [SEP]\",\n",
       " \"[CLS] Parents are taking their kids to Burning Man and one 11 year old thinks it's 'better than... http://t.co/wp6V1BHhoQ [SEP]\",\n",
       " '[CLS] I scored 111020 points in PUNCH QUEST stopped when a squeaky bat collided into my skull. http://t.co/aEtgbxm1pL [SEP]',\n",
       " '[CLS] FOOTBALL IS BACK THIS WEEKEND ITS JUST SUNK IN ?????? [SEP]',\n",
       " '[CLS] Devil May Cry 4 Special Edition Vergil Vs Agnus [Window] Mission 6 - DMD - No Damage By LeedStraiF\\nhttps://t.co/ZhRTcVU0Ff [SEP]',\n",
       " '[CLS] Check out Ameribag Healthy Back Bag Shoulder Cross Body Backpack Khaki Tan Beige Nylon http://t.co/r4k7TyLofJ @eBay [SEP]',\n",
       " '[CLS] 70 Years After Atomic Bombs Japan Still Struggles With War Past: The anniversary of the devastation wrought b... http://t.co/Targ56iGBZ [SEP]',\n",
       " \"[CLS] Attempting Delany's Dhalgren in beastly NY heat. Downing hot coffee amongst descriptions of buildings burning for days without ruin. [SEP]\",\n",
       " '[CLS] Well as I was chaning an iPad screen it fucking exploded and glass went all over the place. Looks like my job is going to need a new one. [SEP]',\n",
       " '[CLS] Gaping sinkhole opens up in Brooklyn New York http://t.co/0xA6FCjyec [SEP]',\n",
       " \"[CLS] Do babies actually get electrocuted from wall sockets? I'm wondering how I and those before me survived childhood. [SEP]\",\n",
       " \"[CLS] When the waves are flooding the shore\\nAnd I can't find my way home anymore\\nThat's when I look at you http://t.co/TDAKtGlU5p [SEP]\",\n",
       " '[CLS] to whomever is hijacking my wifi hotspot. I have a very specific skill set. I will create a character and perform a one-man show about you [SEP]',\n",
       " '[CLS] #IDFire Cherokee Road and Road 22 (Three Sisters Wildfire): There are two roads closed to the general public: ... http://t.co/UORXfF0NfX [SEP]',\n",
       " '[CLS] If it\\x89Ûªs a war you came to see you will never see a waved white flag in front me.\\nI can\\x89Ûªt end up dead I wont be misled. [SEP]',\n",
       " '[CLS] Dont even come if you worried about curfew #BC19 [SEP]',\n",
       " '[CLS] @Uptown_Jorge head up like yo nose bleeding [SEP]',\n",
       " '[CLS] Survivors remorse is good [SEP]',\n",
       " \"[CLS] Jeff Locke. Train wreck. F'in disaster. Fortunately the Pirates acquired a top quality starter in J.A... Oh wait. #Blowltan [SEP]\",\n",
       " \"[CLS] @BenAffleck  i respected you and liked you for your talent. i guess i stil do but as a human being you've sunk low Mr.Affleck! [SEP]\",\n",
       " '[CLS] Omg if Cain dies i will be an emotional wreck #emmerdale [SEP]',\n",
       " '[CLS] Woodlawn Shooting Wounds 79-Year-Old Woman Teen - Woodlawn - http://t.co/nu3XXn55vS Chicago http://t.co/XNGrfNQSx3 [SEP]',\n",
       " \"[CLS] Buddha was 'man for his time' - massive urbanisation and social upheaval also challenged Brahmans dominance ('Genius of the Ancient World'). [SEP]\",\n",
       " '[CLS] Bicycle-SUV accident in Mesick: Police say that the bicyclist entered onto West M-115 and collided with a boat... http://t.co/A9gtOPyZK8 [SEP]',\n",
       " '[CLS] MH370: Intact part lifts odds plane glided not crashed into sea http://t.co/8pdnHH6tzH [SEP]',\n",
       " '[CLS] Gas leak forces evacuation in east Saint John http://t.co/E1vkc2efsT #NB http://t.co/BeUa507Iug [SEP]',\n",
       " \"[CLS] 'Go too Ibiza Pop ah Pill Get DRUNK &amp; Fall off a Cliff'. (Real Talk) @DannyJohnJules @Spencer_Fearon @ChristieLinford [SEP]\",\n",
       " '[CLS] Acquire your postexistence straight a elevation in addition to upheaval ideas yet perquisite: bRZjc [SEP]',\n",
       " '[CLS] Aftershock https://t.co/xMWODFMtUI [SEP]',\n",
       " \"[CLS] nside a Dragon's belly. Or an ice cave under\\na volcano in Kamchatka | Photography by\\nå©Daniel Korzhonov\\nhttp://t.co/8T36HWgoqd [SEP]\",\n",
       " '[CLS] Christian Attacked by Muslims at the Temple Mount after Waving Israeli Flag via Pamela Geller - ... http://t.co/1pDJoq4Jc1 [SEP]',\n",
       " \"[CLS] Lol The real issue is the the way the NFL is trying to ruin this guy's legacy. https://t.co/s107ee7CYC [SEP]\",\n",
       " '[CLS] #ModiMinistry Madhya Pradesh Train Derailment: Village Youth Saved Many Lives http://t.co/YvMpHd0z9X [SEP]',\n",
       " '[CLS] Hear @DrFriedenCDC talk on how to avoid thousands of resistant infections/deaths in next 5 yrs: http://t.co/niV8x5Tbe0 #AdiosSuperBacterias [SEP]',\n",
       " '[CLS] #Autoinsurance industry clueless on #driverlesscars : #Markets : #Money Times http://t.co/YdEtWgRibk [SEP]',\n",
       " \"[CLS] UPDATE 1-Russian 'food crematoria' provoke outrage amid crisis famine memories: * Russian society still recal... http://t.co/J2erZbMjQD [SEP]\",\n",
       " '[CLS] this is ridiculous.... [SEP]',\n",
       " '[CLS] Watch This Airport Get Swallowed Up By A Sandstorm In Under A Minute http://t.co/Rm50vCVjsh [SEP]',\n",
       " '[CLS] @TheDailyShow Mahalo nui loa for making my 20s. My generation could not have survived the (W.) Bush years without you. #JonVoyage #holomua [SEP]',\n",
       " '[CLS] I wrecked my stomach help [SEP]',\n",
       " '[CLS] Excited for Cyclone football https://t.co/Xqv6gzZMmN [SEP]',\n",
       " '[CLS] Louis Vuitton Monogram Sophie Limited Edition Clutch Cross body Bag - Full read by eBay http://t.co/GGgFVO5Pb4 http://t.co/NlFr8t3xqm [SEP]',\n",
       " '[CLS] @whvholst @leashless And this is a structural problem rather than just a failure of competence by traditional soc democratic parties. [SEP]',\n",
       " \"[CLS] the road to success is paved with pennies that I flattened on the train tracks you're welcome. [SEP]\",\n",
       " \"[CLS] Posted a new song: 'Earthquake' http://t.co/RfTyyZ4GwJ http://t.co/lau0Ay7ahV [SEP]\",\n",
       " '[CLS] illegal alien released by Obama/DHS 4 times Charged With Rape &amp; Murder of Santa Maria CA Woman Had Prior Offenses  http://t.co/MqP4hF9GpO [SEP]',\n",
       " \"[CLS] @NeanderRebel If you take the suit off him I wouldn't be surprised to hear this is the face that belonged to another democrat mass-murderer [SEP]\",\n",
       " \"[CLS] @DoctorFluxx @StefanEJones @spinnellii @themermacorn  No burning buildings and rob during a riot. That's embarrassing &amp; ruining this nation. [SEP]\",\n",
       " '[CLS] @parksboardfacts first off it is the #ZippoLine as no one wants to use it and the community never asked for this blight on the park #moveit [SEP]',\n",
       " '[CLS] @DArchambau THX for your great encouragement and for RT of NEW VIDEO http://t.co/cybKsXHF7d The Coming Apocalyptic US Earthquake &amp; Tsunami [SEP]',\n",
       " \"[CLS] I feel like if MKayla and Cee ever got in the same room everyone should evacuate because it would be so petty and childish I couldn't deal [SEP]\",\n",
       " \"[CLS] There's an emergency evacuation happening now in the building across the street [SEP]\",\n",
       " '[CLS] SoloQuiero Maryland mansion fire that killed 6 caused by damaged plug under Christmas tree report says - Into the flames: Firefighte... [SEP]',\n",
       " '[CLS] Reddit Will Now Quarantine Offensive Content http://t.co/u9BkQt6XHR [SEP]',\n",
       " '[CLS] Criminals Who Hijack Lorries And Buses Arrested In Enugu (PHOTO) @DONJAZZY @PoliceNG #HumanRights  https://t.co/XyFl8wy62g [SEP]',\n",
       " '[CLS] Sure - take them away from fire fighting for King Stevie &amp; Crusty to have a photo-op ! http://t.co/epeX4axG4b [SEP]',\n",
       " \"[CLS] @ArianaGrande  Girl you still lickin' public donuts???  Health hazard....u should be in jail. [SEP]\",\n",
       " '[CLS] RT @Ophiuchus2613: #Love #TrueLove #romance lith  #Voodoo #seduction #Astrology #RTRRT #LOTZ 9-11 #apocalypse #Armageddon #1008pla\\x89Û_ [SEP]',\n",
       " \"[CLS] Warne shocked over Australia's epic collapse at Trent Bridge: Johannesburg Aug 06 (ANI): Legendary Australian... http://t.co/LwwoJXtTIV [SEP]\",\n",
       " '[CLS] BOOM! Your country was just entirely annihilated by a h\\x89Û_ \\x89ÛÓ Britain https://t.co/IrFCn71sZv [SEP]',\n",
       " \"[CLS] CommoditiesåÊAre Crashing Like It's 2008 All Over Again http://t.co/nJD1N5TxXe via @business [SEP]\",\n",
       " \"[CLS] VIDEO: 'We're picking up bodies from water': Rescuers are searching for hundreds of migrants in the Mediterran... http://t.co/zG1YddywA5 [SEP]\",\n",
       " \"[CLS] Reddit's new content policy goes into effect many horrible subreddits banned or quarantined http://t.co/4oNvxncz8w http://t.co/tnggXNm6k8 [SEP]\",\n",
       " \"[CLS] NIggas playing in the thunderstorm.. 'HOPE THE LORR BLESS EM' ???? [SEP]\",\n",
       " '[CLS] 320 [IR] ICEMOON [AFTERSHOCK] | http://t.co/e14EPzhotH | @djicemoon | #Dubstep #TrapMusic #DnB #EDM #Dance #Ices\\x89Û_ http://t.co/22a9D5DO6q [SEP]',\n",
       " '[CLS] Brain twister let drop up telly structuring cast: EDcXO [SEP]',\n",
       " \"[CLS] I still don't know how 8 hours of physical activity in the blazing sun isn't a sport. [SEP]\",\n",
       " '[CLS] Indian Govt. &amp; Media should take serious concern about their safety. They are in danger now. https://t.co/YX1UKbmTqB [SEP]',\n",
       " '[CLS] The Latest: More Homes Razed by Northern California Wildfire - ABC News http://t.co/d1VjOYg52A [SEP]',\n",
       " '[CLS] Evacuation order lifted for town of Roosevelt: http://t.co/EDyfo6E2PU http://t.co/M5KxLPKFA1 [SEP]',\n",
       " '[CLS] @Sweet2Young -runs at her for setting my forest on fire and bites the shit out of her neck- [SEP]',\n",
       " '[CLS] @AshGhebranious civil rights continued in the 60s. And what about trans-generational trauma? if anything we should listen to the Americans. [SEP]',\n",
       " '[CLS] Severe Thunderstorm Warnings have been cancelled in central Oklahoma. Still expect 50 mph winds penny sized hail [SEP]',\n",
       " '[CLS] when you burp and smoke comes out [SEP]',\n",
       " '[CLS] Louis Vuitton Monogram Sophie Limited Edition Clutch Cross body Bag - Full read by eBay http://t.co/JrxgoLnPqw http://t.co/Lin16KvZbn [SEP]',\n",
       " '[CLS] Cleared:  Accident with property damage on #NY35 EB at NY 100 [SEP]',\n",
       " '[CLS] We found a sunflower explosion on our walk. http://t.co/vLNmkLWWby http://t.co/P769eo49Fj [SEP]',\n",
       " '[CLS] @2for1Lapdances For the people who died in Human Experiments by Unit 731 of Japanese military http://t.co/vVPLFQv58P http://t.co/yOMPxJpPTV [SEP]',\n",
       " '[CLS] Watch This Airport Get Swallowed Up By A Sandstorm In Under A Minute http://t.co/bgM4cSrbVd [SEP]',\n",
       " '[CLS] #Russian food crematoria provokes outrage amid crisis famine memories http://t.co/FjeaFgbZfJ [SEP]',\n",
       " '[CLS] The Latest: More Homes Razed by Northern California Wildfire - ABC News http://t.co/Rg9yaybOSA [SEP]',\n",
       " '[CLS] The date for the release of EP03 DESOLATION is set. Stay tuned for more info while we finalise the schedule. #alt #electro #rock #comingsoon [SEP]',\n",
       " \"[CLS] Looks like a war zone outside. What's going on? [SEP]\",\n",
       " \"[CLS] Still no plans? Don't worry we got you covered. Plenty of Seismic IPA and Seismic Squeeze Radler to help... http://t.co/A8nMdkd3rV [SEP]\",\n",
       " '[CLS] SEISMIC AUDIO SA-15T SA15T Padded Black Speaker COVERS (2) - Qty of 1 = 1 Pair! http://t.co/2jbIbeib9G http://t.co/p5KtaqW5QG [SEP]',\n",
       " \"[CLS] I'm liable to sound like a wounded animal during sex if the ?? is good lol [SEP]\",\n",
       " '[CLS] Oh my god that\\x89Ûªs the biggest #gbbo catastrophe I have EVER seen. \\n\\nNot that I watch the show or am into it at all ?? [SEP]',\n",
       " '[CLS] So today I fell off a rock scraped my whole butt and nearly drowned #summer2k15 [SEP]',\n",
       " \"[CLS] We just happened to get on the same road right behind the buses I'm dead serious [SEP]\",\n",
       " \"[CLS] Hasn't quite sunk in that I saw Johnny Marr and Primal Scream all in the space of a few hours on Sunday [SEP]\",\n",
       " '[CLS] Though serious #natural #disaster increased in #Japanjapan #Nuclear safety standard is far inferior to #US standard.#anonymous #Nytimes [SEP]',\n",
       " '[CLS] Check these out: http://t.co/rOI2NSmEJJ http://t.co/3Tj8ZjiN21 http://t.co/YDUiXEfIpE http://t.co/LxTjc87KLS #nsfw [SEP]',\n",
       " '[CLS] MEGALPOLIS Area Petting Party Shiver \\nFear Instant .... GLOBAL Inundation OVERFLOW\\nWAS Commencement WRITE ?? ? [SEP]',\n",
       " \"[CLS] Home2 Suites offices are coming to Salvi's Bistro site: The former Salvi's Bistro will soon be demolished to make\\x89Û_ http://t.co/PAObgHv3C7 [SEP]\",\n",
       " '[CLS] Explosion at chemical site leads to building collapse near Krefeld Germany. Emergency crews on scene; avoid the area. #iJETalerts [SEP]',\n",
       " \"[CLS] Hinton city officials confirm multiple buildings on fire currently evacuating people on Main Street. We're on our way @OKCFOX [SEP]\",\n",
       " '[CLS] #golf McIlroy fuels PGA speculation after video: Injured world number one Rory McIlroy fueled speculatio... http://t.co/dCyYJVmXHR #news [SEP]',\n",
       " '[CLS] An indepth look at the new world of work and how young people businesses and economies are coping with huge upheaval http://t.co/aYP6zVHm2A [SEP]',\n",
       " \"[CLS] Railways caught unawares by MP tragedy; Accident spot never marked as 'vulnerable' - Times of\\x89Û_ http://t.co/cEdCUgEuWs #News [SEP]\",\n",
       " '[CLS] At least 180 dead a million displaced in India floods - India | ReliefWeb http://t.co/0abgFgLH7X [SEP]',\n",
       " '[CLS] Pandemonium In Aba As Woman Delivers Baby Without Face (Photos) - http://t.co/c5u9qsySeJ [SEP]',\n",
       " \"[CLS] https://t.co/oIfN28HpCS @ArianaGrande @ScreamQueens \\nKatherine's death [SEP]\",\n",
       " \"[CLS] @JaydenNotJared I can't help it. Hope you're ok. Text me if you need to talk. Sending hugs your way. PS no bleeding to death allowed [SEP]\",\n",
       " '[CLS] Could a drone cause an airplane accident? Pilots worried about use of drones esp. in close vicinity of airports http://t.co/kz35rGngJF # [SEP]',\n",
       " '[CLS] Udhampur terror attack: NIA takes over probe Pakistani terrorist quizzed; Pak denies link  http://t.co/ogZJOkd7Sv  #Elections #AcheDin #\\x89Û_ [SEP]',\n",
       " '[CLS] #SBNation #Flames What Makes a Good Penalty Killer? http://t.co/xYi5fDacxO http://t.co/SjtvzgGcXU [SEP]',\n",
       " \"[CLS] I'm my own woman crush ???? [SEP]\",\n",
       " '[CLS] cancel the fucking show. Evacuate MetLife  https://t.co/SkQ8oUcM3R [SEP]',\n",
       " '[CLS] Civilian casualties rise as Afghan war intensifies in 2015-- http://t.co/NnylXhInPx [SEP]',\n",
       " '[CLS] @Captainn_Morgan car wreck ?? [SEP]',\n",
       " '[CLS] I love The body shop\\x89Ûªs bags??\\n\\n#cutekitten #catsofinstagram #summerinsweden #katt #katterpÌ´instagram #dumle #dagens\\x89Û_ http://t.co/p4ZFXdnbcH [SEP]',\n",
       " \"[CLS] 'A Nightmare On Elm Street' Is Getting Remade... Again - http://t.co/HvwkJQXXyT [SEP]\",\n",
       " '[CLS] Truth...\\nhttps://t.co/h6amECX5K7\\n#News\\n#BBC\\n#CNN\\n#Islam\\n#Truth\\n#god\\n#ISIS\\n#terrorism\\n#Quran\\n#Lies http://t.co/B8iWRdxcm0 [SEP]',\n",
       " \"[CLS] @SophieWisey I couldn't. #mudslide [SEP]\",\n",
       " '[CLS] Traffic Collision - No Injury: I5 S at I5 S 43rd Ave offramp South Sac http://t.co/cT9ejXoLpu [SEP]',\n",
       " '[CLS] #Lifestyle \\x89Û÷It makes me sick\\x89Ûª: Baby clothes deemed a \\x89Û÷hazard\\x89Ûª http://t.co/0XrfVidxA2 http://t.co/oIHwgEZDCk [SEP]',\n",
       " '[CLS] Roosevelt Wash. under evacuation order due to wildfire http://t.co/FiJAPxyKRQ [SEP]',\n",
       " '[CLS] Fresh encounter in Pulwama of J&amp;amp;K one terrorist killed others holed up inside a house http://t.co/oEf123l5Rc [SEP]',\n",
       " \"[CLS] @Ayshun_Tornado then don't [SEP]\",\n",
       " '[CLS] @freddiedeboer @Thucydiplease then you have rise of Coates Charleston massacre Walter Scott and black twitter more broadly as well. [SEP]',\n",
       " '[CLS] Pilot Dies In Plane Crash At Car Festival https://t.co/kQ9aE6AP2B via @YouTube #Crash #Aircraft #Airplane #Pilot #Death #Accident #CarFest [SEP]',\n",
       " '[CLS] beforeitsnews : Global Derivatives: $1.5 Quadrillion Time Bomb http://t.co/GhmmUj7GbE (v\\x89Û_ http://t.co/u9LvvLzhYe) http://t.co/LyJ57pq3yX [SEP]',\n",
       " '[CLS] Property losses from northern California wildfire nearly double http://t.co/oTfW5SEkD7 via @YahooNews [SEP]',\n",
       " \"[CLS] RT twit_san_diego 'Possible sinkhole disrupts trolley service: A depression in a portion of asphalt in downtown Sa\\x89Û_ http://t.co/ANrIOMbHQN' [SEP]\",\n",
       " '[CLS] Twitter is just here to destroy your childhood [SEP]',\n",
       " '[CLS] @eac4AU You can now PRE-ORDER the film on ITUNES &amp; watch 9/15!! YAY! http://t.co/fVP3Wnid4L http://t.co/bwdhIBtiKs http://t.co/qelROcI7by [SEP]',\n",
       " '[CLS] three episodes left the end is nigh [SEP]',\n",
       " '[CLS] FedEx no longer will ship potential bioterror pathogens http://t.co/CHORr2XOVp via @AtlBizChron [SEP]',\n",
       " '[CLS] you wrecked my whole world [SEP]',\n",
       " '[CLS] School Of Seven Bells - Windstorm  http://t.co/E1kbluDwh5 #nowplaying [SEP]',\n",
       " '[CLS] Man crushed to death by own car http://t.co/CrPO9DkW9v [SEP]',\n",
       " \"[CLS] @AndyGilder Channel 5 have been doing the same for the RSPCA with Dog Rescuers.....'The Infomercial' has crept in the back door. [SEP]\",\n",
       " '[CLS] @WoundedPigeon http://t.co/s9soAeVcVo Detonate by @ApolloBrown ft. M.O.P. [SEP]',\n",
       " '[CLS] *New!* Stretcher in 5 min https://t.co/q5MDsNbCMh (by FUJIWARA Shunichiro 2015-08-05) [Technology] [SEP]',\n",
       " '[CLS] http://t.co/FhI4qBpwFH @FredOlsenCruise Please take the #FaroeIslands off your itinerary until the mass murder of dolphins &amp; whales stops. [SEP]']"
      ]
     },
     "execution_count": 37,
     "metadata": {
      "tags": []
     },
     "output_type": "execute_result"
    }
   ],
   "source": [
    "print(\n",
    "    \"Number of False Negatives (Predicted Not Disaster/Actual Disaster): \",\n",
    "    len(fn),\n",
    "    \"\\n\",\n",
    ")\n",
    "fn"
   ]
  },
  {
   "cell_type": "markdown",
   "metadata": {
    "id": "KYKlb3Qg8DRp"
   },
   "source": [
    "**Predicted Pos/ Actual Neg**"
   ]
  },
  {
   "cell_type": "code",
   "execution_count": 38,
   "metadata": {
    "id": "Fhc5_iwlKw00"
   },
   "outputs": [],
   "source": [
    "def find_fp(ypred, ytrue):\n",
    "    z = [(i == 1) & (i != j) for i, j in zip(ypred, ytrue)]\n",
    "    index_list = [index for index, element in enumerate(z, start=1) if element]\n",
    "    y_fp = [test_sentences[i] for i in index_list]\n",
    "    return y_fp\n",
    "\n",
    "\n",
    "fp = find_fp(test_preds, test_labels)"
   ]
  },
  {
   "cell_type": "code",
   "execution_count": 39,
   "metadata": {
    "colab": {
     "base_uri": "https://localhost:8080/"
    },
    "id": "BKY8EMYfMozh",
    "outputId": "a13531bf-3dcc-45da-f0f9-5b4832082cfd"
   },
   "outputs": [
    {
     "name": "stdout",
     "output_type": "stream",
     "text": [
      "Number of False Negatives (Predicted Not Disaster/Actual Disaster):  161 \n",
      "\n"
     ]
    },
    {
     "data": {
      "text/plain": [
       "['[CLS] Severe weather and a rare hailstorm pummel Boston - http://t.co/jkYM9EdOfc [SEP]',\n",
       " '[CLS] Traffic Collision - Ambulance Enroute: Elkhorn Blvd at Walerga Rd Sacramento http://t.co/5qHQo6eJtu [SEP]',\n",
       " '[CLS] @BubblyCuteOne ?????????? ok ok okayyyyyy Ima act right ....bout to get this blizzard tho [SEP]',\n",
       " '[CLS] Newlyweds feed thousands of Syrian refugees instead of hosting a banquet wedding dinner -  http://t.co/XZV0lT9ZZk via @smh [SEP]',\n",
       " '[CLS] @ChristophersZen @HunterLove1995 @tblack yeah man..... That movie BOMBED hard [SEP]',\n",
       " '[CLS] REPORTED: HIT &amp; RUN-IN ROADWAY-PROPERTY DAMAGE at 15901 STATESVILLE RD [SEP]',\n",
       " '[CLS] @Flow397 Coming atcha from Boston. Had golfball sized hail yesterday sunny amazing skies today! #ParkChat [SEP]',\n",
       " '[CLS] #stormchase Violent Record Breaking EF-5 El Reno Oklahoma Tornado Nearly Runs Over ... - http://t.co/3SICroAaNz http://t.co/I27Oa0HISp [SEP]',\n",
       " '[CLS] #love #food #fun Malaysian Prime Minister Najib Razak confirmed that the aircraft debris found on RÌ©union Isla...  http://t.co/FK1L4noziG [SEP]',\n",
       " '[CLS] 11-Year-Old Boy Charged With Manslaughter of Toddler: Report: An 11-year-old boy has been charged with manslaughter over the fatal sh... [SEP]',\n",
       " '[CLS] collapsed the moment i got home last night lol [SEP]',\n",
       " '[CLS] people with a #tattoo out there.. Are u allowed to donate blood and receive blood as well or not? [SEP]',\n",
       " '[CLS] Sadly the tent fly did not survive this hailstorm and now I have tears in the roof and water in the tent.  Only... http://t.co/zCt5cchOJ0 [SEP]',\n",
       " '[CLS] @_301DC @Cloudy_goldrush i hate white people mo [SEP]',\n",
       " \"[CLS] Feel like I've got no control of anything that goes on in my life at the minute. #whirlwind #drained [SEP]\",\n",
       " '[CLS] beforeitsnews : 3 former executives to be prosecuted in Fukushima nuclear disaster \\x89Û_ http://t.co/FgVN2vCrrX) http://t.co/kftVNU7nvf [SEP]',\n",
       " '[CLS] Reality Training: Train falls off elevated tracks during windstorm http://t.co/qzRciNaF5z [SEP]',\n",
       " '[CLS] As of 2010 there were 17 Beluga deaths reported at #SeaWorld their average age 15 1/2 years #OpSeaWorld http://t.co/MZk5UjlFCV [SEP]',\n",
       " '[CLS] POV footage captures violent landing from inside plane during storm http://t.co/kxewlHH7Uw [SEP]',\n",
       " \"[CLS] @Flames_Nation that's the optimistic side of me. No doubt it's tough. But it can be done. I feel like the games will pivot on defense. [SEP]\",\n",
       " '[CLS] @JewhadiTM It is almost amazing to think someone thought suicide bombing would actually be a good idea. [SEP]',\n",
       " '[CLS] The annihilation of Jeb Christie &amp; Kasich is less than 24 hours away..\\nPlease God allow me at least one more full day... [SEP]',\n",
       " \"[CLS] It's okay I welcome the rain. \\nGave you all the storm that you could weather. [SEP]\",\n",
       " '[CLS] Heard #SKH on the radio for the first time. Almost crashed the car. @5SOS @Ashton5SOS @Luke5SOS @Michael5SOS @Calum5SOS [SEP]',\n",
       " '[CLS] @binellithresa TY for the follow Go To http://t.co/UAN05TNkSW BRUTALLY ABUSED+DESOLATE&amp;LOST + HER LOVELY MUM DIES..Is it Murder? [SEP]',\n",
       " \"[CLS] @Rebelmage2 I'm glad you got away XD But My 'be safe' was in reference to a tornado near calgary and drum heller at around 4 :O [SEP]\",\n",
       " \"[CLS] STERLING-SCOTT on the Red Carpet at a fundraiser for 'OSO Mudslide' https://t.co/mA4ra7AtqL http://t.co/cg579wlDnE [SEP]\",\n",
       " \"[CLS] Drunk Meals 101: What To Cook When You're Totally Obliterated http://t.co/QvS7O10bG3 [SEP]\",\n",
       " \"[CLS] It's Time To Reduce Gun Deaths http://t.co/ilADQEBxPn [SEP]\",\n",
       " '[CLS] Reminder: Mass murderer and white supremacist Anders Breivik was also unsurprisingly an anti-feminist.\\nhttp://t.co/1lXnJVl8TR [SEP]',\n",
       " '[CLS] #Tanzania elephant population declined by 60% in five years census reveals http://t.co/YxtZbTVMhm http://t.co/7jGgqwbv6S [SEP]',\n",
       " '[CLS] The Latest: More homes razed by Northern California wildfire - http://t.co/IrqUjaEsck http://t.co/qDwEknRMi9 [SEP]',\n",
       " '[CLS] @themagickidraps not upset with a rally upset with burning buildings businesses executing cops that have nothing to do with it etc [SEP]',\n",
       " '[CLS] BODY BAGS! https://t.co/0McXc68GZD [SEP]',\n",
       " \"[CLS] OMEGA MEN Writer Explores Terrorism Religion In an 'Epic KYLE RAYNER Story' http://t.co/Hr88CWxPGz #Newsarama [SEP]\",\n",
       " '[CLS] Mango juice with crushed ice&gt;&gt;&gt;&gt;?? [SEP]',\n",
       " \"[CLS] Don't tell the bride gives me the fear [SEP]\",\n",
       " '[CLS] A Warcraft 3-inspired mode is likely coming to Heroes of the Storm http://t.co/wz55NBYAO3 http://t.co/L7pMDmeJs1 http://t.co/mDP2nI1pQU [SEP]',\n",
       " '[CLS] This is set to become a huge one month wonder. (And then Pornhub will be inundated....) http://t.co/gghfx8PzMh [SEP]',\n",
       " \"[CLS] @comcastcares hey it's happing again. Any trouble shooting steps for when this happens? [SEP]\",\n",
       " '[CLS] Currently want to drive my car off a cliff and fall to my death. [SEP]',\n",
       " '[CLS] Deliver Value: A Cash Source Crash Course http://t.co/st5fGBLsYe #course http://t.co/0uK0H9hOzn [SEP]',\n",
       " '[CLS] @TeamHendrick @TeamHendrick @RIRInsider Fingers crossed that there will be a driver from Hendricks in Military Hospitality w/ @neanea2724! [SEP]',\n",
       " '[CLS] Reddit Will Now Quarantine Offensive Content http://t.co/FEIkC9FxED #onlinecommunities #reddit /via @wired [SEP]',\n",
       " '[CLS] Stay cautious. http://t.co/JeJC9XcTMp [SEP]',\n",
       " '[CLS] I always tell my mom to bring me food or I will hold her cat hostage?? [SEP]',\n",
       " \"[CLS] @GerryConnolly @RepDonBeyer @timkaine Today's #Metro commute debacle w/derailed non-passenger train shows clearly we need a Rail MGR CEO! [SEP]\",\n",
       " '[CLS] the pastor was not in the scene of the accident......who was the owner of the range rover ? [SEP]',\n",
       " '[CLS] SCREAMS AT MY OWN MOTHER http://t.co/gBEpdi0WzT [SEP]',\n",
       " '[CLS] Sinkhole on west side damaging cars via @WEWS http://t.co/S7grbZNwlr [SEP]',\n",
       " '[CLS] @BV Bloomberg will publish anything negative to try and derail public support in favor of the #IranDeal. [SEP]',\n",
       " '[CLS] Hollywood Movie About Trapped Miners Released in Chile http://t.co/EXQKmlg4NJ [SEP]',\n",
       " \"[CLS] . @VELDFest announces refunds after Day two's extreme weather evacuation: http://t.co/PP05eTlK7t http://t.co/3Ol8MhhPMa [SEP]\",\n",
       " '[CLS] https://t.co/4i0rKcbK1D\\nSON OF SAVIOR LAVA VIDEO [SEP]',\n",
       " '[CLS] Apollo Brown - Detonate (feat. M.O.P.) by Mello Music Group via #soundcloud https://t.co/PRojeAvG8T [SEP]',\n",
       " '[CLS] Child Shoulder Bags PVC Shoulder Book Bag Cartoon Cross Body Bags for Girls http://t.co/7l9qAzLjVg http://t.co/Q0hSyfrwEC [SEP]',\n",
       " '[CLS] @dmassa5 Definite triple crown threat. Him and Harper both. [SEP]',\n",
       " '[CLS] Estimated damage and fatalities of an Hiroshima-sized atomic bomb dropped on your hometown - http://t.co/BSrERJbY0I  #Hiroshima70 [SEP]',\n",
       " '[CLS] @GuiltyGearXXACP yeah I know but blaze blue dont have a twitter lol I drew this a few weeks ago http://t.co/sk3l74FLzZ [SEP]',\n",
       " \"[CLS] cause i know every man has a fear of a strong-minded woman but I say she's a keeper if she got it on her own and keeps it runnin [SEP]\",\n",
       " '[CLS] US wants future first responders to be more high-tech - http://t.co/1VI2RNbK2i [SEP]',\n",
       " \"[CLS] We are so arrogant in our destruction that we think the Earth needs us. She doesn't. [SEP]\",\n",
       " '[CLS] Warfighting Robots Could Reduce Civilian Casualties So Calling for a... http://t.co/9DVU1RidZ3 [SEP]',\n",
       " '[CLS] RaÌ¼l sends a message of condolence to Vietnam following natural disaster: On behalf of the Cuban government an... http://t.co/EmrZiCb004 [SEP]',\n",
       " \"[CLS] First responders would never be sent to the wrong address again w/ #SmartTek's GPS-based panic button #mPERS #safety http://t.co/3OionqlFQL [SEP]\",\n",
       " '[CLS] This Attempted Mass Murder brought to You by the Obama Administration http://t.co/jbrK8ZsrY6 [SEP]',\n",
       " '[CLS] @realDonaldTrump to obliterate notion &amp; pattern political style seemly lead voter beliefs Sarcasm Narcissism #RichHomeyDon #Swag #USA #LIKES [SEP]',\n",
       " '[CLS] Rainstorm downtown Gloucester\\n#gloucester #capeann #seagulls #triciaoneill #triciaoneillphoto https://t.co/oLS6qdi9Um [SEP]',\n",
       " \"[CLS] LRT refer to the lyrics to hear Big Boi explain why he\\x89Ûªs as cool as \\x89ÛÏsippin\\x89Ûª a milkshake in a snowstorm' lame bars but effective at the time [SEP]\",\n",
       " '[CLS] Cyclist who collided with runner on Roanoke greenway wins $300000 civil verdict - Roanoke Times: Cyclist who c... http://t.co/E2WfGp8JHk [SEP]',\n",
       " \"[CLS] kesabaran membuahkan hasil indah pada saat tepat! life isn't about waiting for the storm to pass it's about learning to dance in the rain. [SEP]\",\n",
       " \"[CLS] @SenateMajLdr let's try to do our best to prevent another outbreak of violence by talking to each other both the people and the politics [SEP]\",\n",
       " \"[CLS] @stupid_niggr I'm telling your mom your up past curfew oth [SEP]\",\n",
       " '[CLS] Rather violent storm. Possibility of no stream tonight. [SEP]',\n",
       " '[CLS] Soap and education are not as sudden as a massacre but they are more deadly in the long run. -- Mark Twain [SEP]',\n",
       " '[CLS] Sprinklers: FAQ About Lawn Inundation Systems Answered eBb [SEP]',\n",
       " '[CLS] Outdoor Siren Test 2pm :: The FGCU Siren will be tested at 2pm today. Another message will be sent when the test is concluded. [SEP]',\n",
       " '[CLS] on town of salem i just melted ice cube bc im the arsonist :D [SEP]',\n",
       " '[CLS] When ur friend and u are talking about forest fires in a forest and he tells u to drop ur mix tape out there... #straightfire [SEP]',\n",
       " '[CLS] We always try to bring the heavy. #metal #RT http://t.co/YAo1e0xngw [SEP]',\n",
       " '[CLS] Panoramic Resources cuts jobs after seismic event http://t.co/mUwmfJGzYh [SEP]',\n",
       " '[CLS] Repulsive! Refugees-Victimiser-#Dutton Evangelical-Liar-#Abbott c/o #LNP on a dupe the press overdrive; #CHOPPERGATE!#BRONWYNBISHOP!#AUSPOL [SEP]',\n",
       " '[CLS] EE recalls Power Bar phone chargers after explosion burns woman \\x89ÛÒ The Register http://t.co/lhTvKcoISo [SEP]',\n",
       " \"[CLS] @rodarmer21 10 dolla says wicked twister won't be running [SEP]\",\n",
       " '[CLS] Four Technologies That Could Let Humans Survive Environmental Disaster - http://t.co/4RTpJrHsqe [SEP]',\n",
       " '[CLS] Tube strike = absolute pandemonium [SEP]',\n",
       " '[CLS] The thing with rules is break it once it becomes easier the next time.\\nhttp://t.co/hGb1mc3IRk  https://t.co/6ysXGhc8gz [SEP]',\n",
       " '[CLS] BREAKING: Terror Attack On\\nPolice Post #Udhampur [SEP]',\n",
       " '[CLS] New roof and hardy up..Windstorm inspection tomorrow http://t.co/kKeH8qCgc3 [SEP]',\n",
       " '[CLS] This is how we know #AllLivesMatter people are incredibly racist and only care to derail necessary conversations [SEP]',\n",
       " '[CLS] Various issues fail to derail homes bid http://t.co/zhsLl7swBh [SEP]',\n",
       " '[CLS] We happily support mydrought  a project bringing awareness to the LA drought. Track your water\\x89Û_ https://t.co/2ZvhX41I9v [SEP]',\n",
       " '[CLS] DUST IN THE WIND: @82ndABNDIV paratroopers move to a loading zone during a dust storm in support of Operation Fury: http://t.co/uGesKLCn8M [SEP]',\n",
       " '[CLS] Central Mass. fruit trees escape heavy damage after wind hail http://t.co/VbFfodtP6M [SEP]',\n",
       " '[CLS] CTD arrest three vital criminals from Orangi: KARACHI: Counter-Terrorism Department (CTD) of the Sindh Police ... http://t.co/Le4brduau9 [SEP]',\n",
       " '[CLS] I hope they fall off a cliff. [SEP]',\n",
       " '[CLS] @Blizzard_Gamin ight [SEP]',\n",
       " '[CLS] 2 pple have been confirmed dead and over 20 rescued while many went missing after a ferry carrying 200 collided with a fishing boat.#News [SEP]',\n",
       " '[CLS] @Erker Again?? Eep! Thought of you yesterday when I saw that hella scary hail. #armageddon? [SEP]',\n",
       " \"[CLS] Reading for work has collided with reading for pleasure. Huzzah. Don't miss @molly_the_tanz's Vermilion! http://t.co/83bMprwH7W [SEP]\",\n",
       " '[CLS] Author Interview Michele Rosenthal-author of Your Life After Trauma. [SEP]',\n",
       " \"[CLS] @ahhtheenikki And from what I can tell- they responded to today's gunman quickly and were able to evacuate all the ppl so no one was shot. [SEP]\",\n",
       " '[CLS] FCO Minister @Tobias_Ellwood condemns attack at a mosque in Saudi Arabia that has resulted in at least 15 deaths http://t.co/c3W95h0ozZ [SEP]',\n",
       " '[CLS] The mixtape is coming i promise. We goin in right now http://t.co/uUNGRqoUgn [SEP]',\n",
       " '[CLS] OMG OMG OMG #JustinBieber and #HarryStyles have collided in a nuclear accident at #Cern ^oo^\\n\\n#HarryBeCareful http://t.co/p4huQUNDQi [SEP]',\n",
       " \"[CLS] Ashes 4th Test: 10 Hilarious Twitter Reactions to Australia's collapse http://t.co/6DznEjuVD3 by @Absolut_Sumya15 [SEP]\",\n",
       " '[CLS] #USGS M 1.2 - 23km S of Twentynine Palms California: Time2015-08-05 23:54:09 UTC2015-08-05 16:54:09 -07:0... http://t.co/kF0QYBKZOL #SM [SEP]',\n",
       " '[CLS] Barbados #Bridgetown JAMAICA \\x89ÛÒ Two cars set ablaze: SANTA CRUZ \\x89ÛÓ Head of the St Elizabeth Police Superintende...  http://t.co/wDUEaj8Q4J [SEP]',\n",
       " '[CLS] .@NorwayMFA #Bahrain police had previously died in a road accident they were not killed by explosion https://t.co/gFJfgTodad [SEP]',\n",
       " '[CLS] Windstorm lastingness perquisite - acquiesce in a twister retreat: ZiUW http://t.co/iRt4kkgsJx [SEP]',\n",
       " '[CLS] ?Ìü New Ladies Shoulder Tote #Handbag Faux Leather Hobo Purse Cross Body Bag #Womens http://t.co/UooZXauS26 http://t.co/Pw78nblJKy RT en\\x89Û_ [SEP]',\n",
       " '[CLS] Time to obliterate this sin! [SEP]',\n",
       " \"[CLS] Neighbor kids stopped to watch me play Disney's I Lava You song on my uke. Left as I got into Journey's Don't Stop Believing #kidsthesedays [SEP]\",\n",
       " '[CLS] Thank You Senator @timkaine for your Leadership on #IranDeal \\nOur Military deserves nothing less. THANK YOU!!\\n\\nhttps://t.co/578GUNP8t9 [SEP]',\n",
       " '[CLS] Cross-border terrorism: Pakistan caught red-handed again - The Times of India http://t.co/uiqsfgZoOx [SEP]',\n",
       " '[CLS] Do you feel deluged by low self-image? Take the quiz: http://t.co/QN4ZYISsPO http://t.co/3VWp7wD56W [SEP]',\n",
       " '[CLS] #saudiarabia 13 confirmed dead as suicide bomber attacks Saudi Arabian mosque - The I... http://t.co/LwAnE9vupg - http://t.co/CpQguFZB28 [SEP]',\n",
       " '[CLS] @mattmosley post a pic of your wounds please [SEP]',\n",
       " '[CLS] DTN Brazil: Experts in France begin examining airplane debris found on Reunion Island: French air accident exp... http://t.co/M9IG3WQ8Lq [SEP]',\n",
       " \"[CLS] Just realized my dude @_OnlyFTF was on that 'What Are Those' way before it blew up @ the tusky ?? game @robsimss @CantMissKid [SEP]\",\n",
       " '[CLS] Dc I love you but please obliterate power girl [SEP]',\n",
       " '[CLS] The number of people denying climate change on the polar bear article makes me fear for the future of the US but also humanity in general. [SEP]',\n",
       " '[CLS] (  the abomination that maketh desolate: The antichrist desecrates the Jerusalem temple - Dan 9:27 Matt 24:1  ) [SEP]',\n",
       " '[CLS] GOP debate tonight but no Jon Stewart next week to obliterate them ?? #JonVoyage [SEP]',\n",
       " '[CLS] Debris confirmed from MH370; relatives hope for discovery of crash site: Malaysian officials confirm a breakth... http://t.co/MGYVGlENKS [SEP]',\n",
       " '[CLS] @MichaelWestBiz standard damage control [SEP]',\n",
       " \"[CLS] 'The Reagan Administration had arranged for Israeli weapons to be sent to the Guatemalan Army  http://t.co/4fYNQ1hWWb [SEP]\",\n",
       " \"[CLS] mentions of 'theatre +shooting' on Twitter spike 30min prior to $ckec collapse http://t.co/uuBOvy9GQI [SEP]\",\n",
       " '[CLS] The end! [SEP]',\n",
       " '[CLS] #ROH3 #JFB #TFB #alrasyid448ItuRasya Correction: Tent Collapse Story http://t.co/iZJToojzKp #US ROH3 SmantiBatam #ROH3SmantiBatam [SEP]',\n",
       " \"[CLS] @ThatRussianMan you're too busy finishing those weapon designs [SEP]\",\n",
       " \"[CLS] @Zak_Bagans this is Sabrina my dad rescued her from some dude who kept her in a cage. We've had her since I was 4 http://t.co/1k2PhQcuW8 [SEP]\",\n",
       " '[CLS] Landslide in Italian Alps kills three: ROME (Reuters) - Three people were killed when a severe rainstorm in th... http://t.co/SmKZnF52Za [SEP]',\n",
       " '[CLS] Last time I checked Lots of injuries over the course of time = injury prone. \\n\\n@Calum36Chambers am I wrong? [SEP]',\n",
       " '[CLS] RÌ©union Debris Is Almost Surely From Flight 370 Officials Say - New York Times http://t.co/VFbW3NyO9L [SEP]',\n",
       " \"[CLS] @Lolly_Knickers It's a mudslide. \\nIt's like chewing on a rubber tyre.\\nAnd with those I'm DONE.\\n#vaginaorcake #GBBO [SEP]\",\n",
       " '[CLS] @nagel_ashley @Vicken52 @BasedLaRock @goonc1ty rip the world... its burning [SEP]',\n",
       " '[CLS] Bloody insomnia again! Grrrr!! #Insomnia [SEP]',\n",
       " '[CLS] Russian #ushanka #winter #military fur hat (xl61-62) with soviet badge LINK:\\nhttp://t.co/74YFQxvAK0 http://t.co/KXrEHVt6hL [SEP]',\n",
       " '[CLS] SCREAMING IN 22 DIFFERENT LANGUAGES http://t.co/rDfaAKKbNJ [SEP]',\n",
       " \"[CLS] Wreckage 'conclusively confirmed' as from missing flight MH370 via @YahooNewsDigest [SEP]\",\n",
       " '[CLS] #WorldWatchesFerguson #Florida @GovJayNixon @clairecmc How dare you turn our streets into a war zone -a war against CITIZENS? [SEP]',\n",
       " '[CLS] RT_America: RT RT_com: Eye of Super Typhoon Soudelor seen from space (TIME-LAPSE) https://t.co/FC3BxRtHPG http://t.co/BIU4koWGlz [SEP]',\n",
       " '[CLS] #news Twelve feared killed in Pakistani air ambulance helicopter crash http://t.co/bFeS5tWBzt #til_now #DNA [SEP]',\n",
       " \"[CLS] @sarahmcpants @JustJon I'll give him a titty twister [SEP]\",\n",
       " '[CLS] @DavisKawalya I know @Mauryn143 will be saying her final goodbyes to grandpa as seen on news RiP Me? always open to ideas but may ve curfew [SEP]',\n",
       " '[CLS] @Sport_EN Just being linked to Arsenal causes injury. [SEP]',\n",
       " '[CLS] The chick I work with chews chewing gum so loud ?? feel to bang her [SEP]',\n",
       " '[CLS] @czallstarwes more like demolition derby ?? [SEP]',\n",
       " '[CLS] Two cranes restoring a bridge in the central Dutch town of Alphen aan den Rijn collapse on to buildings with rescuers searching for [SEP]',\n",
       " '[CLS] Dear @CanonUSAimaging I brought it ;) #CanonBringIt #Fire  #CanonTattoo #MN #TheresMoreWhereThatCameFrom http://t.co/tCXxHdJAs6 [SEP]',\n",
       " '[CLS] This just-married Turkish couple gave 4000 Syrian refugees an incredible gift http://t.co/ibeD3xG7fy Fed them instead of family &amp; friends. [SEP]',\n",
       " '[CLS] That day remember the nuclear weapon power......Hiroshima 70th [SEP]',\n",
       " '[CLS] @MikeParrActor devastated!! ???? [SEP]',\n",
       " '[CLS] #cum explosion!\\n\\n@begforcum \\n@allday_cumshots \\n@cumcovered \\n@sexycumshots \\n@Cumtown\\n@BJ_Nutt\\n@cumslut_2\\n@GirlsLoveCum http://t.co/2CX1yjjoZ9 [SEP]',\n",
       " \"[CLS] @peterjukes But there are good grounds to believe that 'political military catastrophe' was a crime planned and committed by individuals. [SEP]\",\n",
       " '[CLS] @Im2aD I was going to tell him but you were body bagging him [SEP]',\n",
       " '[CLS] 70 Years After Atomic Bombs Japan Still Struggles With War Past: The anniversary of the devastation wrought b... http://t.co/o6AA0nWLha [SEP]',\n",
       " \"[CLS] It's my senior year I just wanna go all out [SEP]\",\n",
       " \"[CLS] 'Food crematoria' provoke outrage amid crisis famine memories... http://t.co/fABVlvN5MS [SEP]\",\n",
       " '[CLS] #?? #???? #??? #??? MH370: Aircraft debris found on La Reunion is from missing Malaysia Airlines ...  http://t.co/hHWv0EUDFv [SEP]']"
      ]
     },
     "execution_count": 39,
     "metadata": {
      "tags": []
     },
     "output_type": "execute_result"
    }
   ],
   "source": [
    "print(\n",
    "    \"Number of False Negatives (Predicted Not Disaster/Actual Disaster): \",\n",
    "    len(fp),\n",
    "    \"\\n\",\n",
    ")\n",
    "fp"
   ]
  },
  {
   "cell_type": "markdown",
   "metadata": {},
   "source": [
    "## Conclusions\n",
    "\n",
    "We used BERT to train a text classifier. Specifically, we took the pre-trained BERT model, added an untrained layer of neurons on the end, and trained the new model for our classification task.\n",
    "The result showed the superiority of BERT in comparison to traditional methods based on tf-idf and feature engineering with machine learning algoritms. "
   ]
  },
  {
   "cell_type": "code",
   "execution_count": null,
   "metadata": {},
   "outputs": [],
   "source": []
  }
 ],
 "metadata": {
  "accelerator": "GPU",
  "colab": {
   "collapsed_sections": [],
   "name": "10_bert_sentiment_analysis.ipynb",
   "provenance": [],
   "toc_visible": true
  },
  "kernelspec": {
   "display_name": "Python 3",
   "language": "python",
   "name": "python3"
  },
  "language_info": {
   "codemirror_mode": {
    "name": "ipython",
    "version": 3
   },
   "file_extension": ".py",
   "mimetype": "text/x-python",
   "name": "python",
   "nbconvert_exporter": "python",
   "pygments_lexer": "ipython3",
   "version": "3.7.6"
  },
  "toc": {
   "base_numbering": 1,
   "nav_menu": {},
   "number_sections": true,
   "sideBar": true,
   "skip_h1_title": false,
   "title_cell": "Table of Contents",
   "title_sidebar": "Contents",
   "toc_cell": false,
   "toc_position": {
    "height": "calc(100% - 180px)",
    "left": "10px",
    "top": "150px",
    "width": "273.2px"
   },
   "toc_section_display": true,
   "toc_window_display": true
  }
 },
 "nbformat": 4,
 "nbformat_minor": 1
}
